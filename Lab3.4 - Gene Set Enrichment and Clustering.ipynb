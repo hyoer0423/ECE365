{
 "cells": [
  {
   "cell_type": "markdown",
   "metadata": {},
   "source": [
    "# Lab 3.4: Gene Set Enrichment Analysis and Co-Expression Clustering \n",
    "\n",
    "## Name:Katherine Yun (myun7)\n",
    "\n",
    "### Due: Wednesday, May 1st , 2019 at 11:59 PM\n",
    "\n",
    "**Logistics and Lab Submission**\n",
    "\n",
    "See the [course website](https://courses.engr.illinois.edu/ece365/sp2019/labsHernaez.html). Submit your completed Jupyter notebook (name it netid.ipynb) on Compass. If your code depends on any files not provided for the lab, then also upload those (in netid.zip file). Be sure to fill in your name + netid at the top of the lab. **Do not submit the data sets!**\n",
    "\n",
    "**What You Will Need To Know For This Lab**\n",
    "\n",
    "This lab covers the topics:\n",
    "- Linear Model Formulation to Differential Expression\n",
    "- Gene Set Enrichment Tests\n",
    "- Clustering Genes by Co-Expression (*Bonus*)\n",
    "\n",
    "There are some problems that have short answer questions. <b>Do not write an essay -- a few (1-2) complete sentences will suffice.</b>\n",
    "\n",
    "### Package installations\n",
    "The following packages will need to be installed for this lab. These should install only the first time you run this cell and not in future runs. If the packages have never been installed before, this cell will take many minutes to run, be patient."
   ]
  },
  {
   "cell_type": "code",
   "execution_count": 1,
   "metadata": {},
   "outputs": [],
   "source": [
    "# install missing packages from CRAN\n",
    "#remove.packages(\"htmlwidgets\")\n",
    "options(repos=structure(c(CRAN=\"https://cran.r-project.org\")))\n",
    "new_cran_packages <- c(\"devtools\", \"tidyverse\", \"htmlwidgets\")\n",
    "existing_packages <- installed.packages()[,\"Package\"]\n",
    "missing_packages <- new_cran_packages[!(new_cran_packages %in% existing_packages)]\n",
    "if(length(missing_packages)){\n",
    "    install.packages(missing_packages)\n",
    "}\n",
    "\n",
    "# install missing packages from Bioconductor\n",
    "new_bioc_packages <- c(\"biomaRt\", \"org.Hs.eg.db\", \"topGO\", \"WGCNA\", \"Rgraphviz\")\n",
    "existing_packages <- installed.packages()[,\"Package\"]\n",
    "missing_packages <- new_bioc_packages[!(new_bioc_packages %in% existing_packages)]\n",
    "if(length(missing_packages)){\n",
    "    source(\"http://www.bioconductor.org/biocLite.R\")\n",
    "    biocLite(missing_packages)\n",
    "}"
   ]
  },
  {
   "cell_type": "markdown",
   "metadata": {},
   "source": [
    "### Problem 1: Linear Models for Differential Expression (30 points)\n",
    "In this problem, we will attempt to recreate part of Bio Lectures 6 and 7 and show how fitted linear regression models can be used to find *differentially expressed* (DE) genes. Differentially expressed genes are important to researchers because it identifies statistically significant changes in the amount of mRNA present between two or more conditions.\n",
    "\n",
    "For this lab, we are again going to use our TCGA-GBM glioblastoma expression dataset from Problem 2 of the last lab.  However, I have simplified the data by performing the normalization described in lecture and asked about in Question 2.3 of the last lab.  I have also removed any genes that had multiple transcripts and mapped our Ensembl based gene identifers to Entrez identifiers. \n",
    "\n",
    "So let's load the data:"
   ]
  },
  {
   "cell_type": "code",
   "execution_count": 2,
   "metadata": {},
   "outputs": [
    {
     "data": {
      "text/html": [
       "<ol class=list-inline>\n",
       "\t<li>2492</li>\n",
       "\t<li>155</li>\n",
       "</ol>\n"
      ],
      "text/latex": [
       "\\begin{enumerate*}\n",
       "\\item 2492\n",
       "\\item 155\n",
       "\\end{enumerate*}\n"
      ],
      "text/markdown": [
       "1. 2492\n",
       "2. 155\n",
       "\n",
       "\n"
      ],
      "text/plain": [
       "[1] 2492  155"
      ]
     },
     "metadata": {},
     "output_type": "display_data"
    },
    {
     "data": {
      "text/html": [
       "<table>\n",
       "<thead><tr><th></th><th scope=col>TCGA-02-2483</th><th scope=col>TCGA-06-2558</th><th scope=col>TCGA-06-5413</th><th scope=col>TCGA-06-0744</th><th scope=col>TCGA-41-2572</th></tr></thead>\n",
       "<tbody>\n",
       "\t<tr><th scope=row>4340</th><td> 5.86707</td><td>10.20860</td><td>12.52460</td><td> 7.01528</td><td> 9.73468</td></tr>\n",
       "\t<tr><th scope=row>3119</th><td> 8.12704</td><td>11.59350</td><td>14.06810</td><td> 9.04885</td><td>12.23580</td></tr>\n",
       "\t<tr><th scope=row>4747</th><td> 5.77170</td><td>12.40060</td><td> 8.37827</td><td>10.25210</td><td> 9.86113</td></tr>\n",
       "\t<tr><th scope=row>1293</th><td> 5.97804</td><td>11.71670</td><td> 9.04709</td><td> 9.48972</td><td> 8.59887</td></tr>\n",
       "\t<tr><th scope=row>5653</th><td>10.69530</td><td> 7.80236</td><td>11.48920</td><td>11.91510</td><td> 6.84002</td></tr>\n",
       "</tbody>\n",
       "</table>\n"
      ],
      "text/latex": [
       "\\begin{tabular}{r|lllll}\n",
       "  & TCGA-02-2483 & TCGA-06-2558 & TCGA-06-5413 & TCGA-06-0744 & TCGA-41-2572\\\\\n",
       "\\hline\n",
       "\t4340 &  5.86707 & 10.20860 & 12.52460 &  7.01528 &  9.73468\\\\\n",
       "\t3119 &  8.12704 & 11.59350 & 14.06810 &  9.04885 & 12.23580\\\\\n",
       "\t4747 &  5.77170 & 12.40060 &  8.37827 & 10.25210 &  9.86113\\\\\n",
       "\t1293 &  5.97804 & 11.71670 &  9.04709 &  9.48972 &  8.59887\\\\\n",
       "\t5653 & 10.69530 &  7.80236 & 11.48920 & 11.91510 &  6.84002\\\\\n",
       "\\end{tabular}\n"
      ],
      "text/markdown": [
       "\n",
       "| <!--/--> | TCGA-02-2483 | TCGA-06-2558 | TCGA-06-5413 | TCGA-06-0744 | TCGA-41-2572 | \n",
       "|---|---|---|---|---|\n",
       "| 4340 |  5.86707 | 10.20860 | 12.52460 |  7.01528 |  9.73468 | \n",
       "| 3119 |  8.12704 | 11.59350 | 14.06810 |  9.04885 | 12.23580 | \n",
       "| 4747 |  5.77170 | 12.40060 |  8.37827 | 10.25210 |  9.86113 | \n",
       "| 1293 |  5.97804 | 11.71670 |  9.04709 |  9.48972 |  8.59887 | \n",
       "| 5653 | 10.69530 |  7.80236 | 11.48920 | 11.91510 |  6.84002 | \n",
       "\n",
       "\n"
      ],
      "text/plain": [
       "     TCGA-02-2483 TCGA-06-2558 TCGA-06-5413 TCGA-06-0744 TCGA-41-2572\n",
       "4340  5.86707     10.20860     12.52460      7.01528      9.73468    \n",
       "3119  8.12704     11.59350     14.06810      9.04885     12.23580    \n",
       "4747  5.77170     12.40060      8.37827     10.25210      9.86113    \n",
       "1293  5.97804     11.71670      9.04709      9.48972      8.59887    \n",
       "5653 10.69530      7.80236     11.48920     11.91510      6.84002    "
      ]
     },
     "metadata": {},
     "output_type": "display_data"
    }
   ],
   "source": [
    "expr_file <- \"TCGA-GBM.log2norm.2492genes.entrez.txt\"\n",
    "log2NormExpr <- read.table(expr_file, sep = \"\\t\", header = T, row.names = 1,\n",
    "                           stringsAsFactors = F)\n",
    "# fix patient names\n",
    "colnames(log2NormExpr) <- gsub(\"\\\\.\", \"-\", colnames(log2NormExpr))\n",
    "\n",
    "dim(log2NormExpr)    #2492 by 155 patients\n",
    "log2NormExpr[1:5, 1:5]"
   ]
  },
  {
   "cell_type": "markdown",
   "metadata": {},
   "source": [
    "We see this matrix has 155 patient samples as columns, and 2492 Entrez gene identifiers (integer valued) as rows.  The expression values of the matrix have been normalized with the procedure we described previously with the counts scaled by the sample medians of the geometric mean normalized counts, a 0.5 psuedocount added, and finally transformed with the log2() function (Note: using this base of the log was not necessary for the last lab). \n",
    "\n",
    "Now that we understand the values of the matrix, we will attempt to gather a little more data on the Entrez gene identifiers for future reference. It may take tens of seconds to extract the data from BioMart."
   ]
  },
  {
   "cell_type": "code",
   "execution_count": 3,
   "metadata": {},
   "outputs": [
    {
     "data": {
      "text/html": [
       "<ol class=list-inline>\n",
       "\t<li>59056</li>\n",
       "\t<li>2</li>\n",
       "</ol>\n"
      ],
      "text/latex": [
       "\\begin{enumerate*}\n",
       "\\item 59056\n",
       "\\item 2\n",
       "\\end{enumerate*}\n"
      ],
      "text/markdown": [
       "1. 59056\n",
       "2. 2\n",
       "\n",
       "\n"
      ],
      "text/plain": [
       "[1] 59056     2"
      ]
     },
     "metadata": {},
     "output_type": "display_data"
    },
    {
     "data": {
      "text/html": [
       "<ol class=list-inline>\n",
       "\t<li>2494</li>\n",
       "\t<li>2</li>\n",
       "</ol>\n"
      ],
      "text/latex": [
       "\\begin{enumerate*}\n",
       "\\item 2494\n",
       "\\item 2\n",
       "\\end{enumerate*}\n"
      ],
      "text/markdown": [
       "1. 2494\n",
       "2. 2\n",
       "\n",
       "\n"
      ],
      "text/plain": [
       "[1] 2494    2"
      ]
     },
     "metadata": {},
     "output_type": "display_data"
    },
    {
     "data": {
      "text/html": [
       "<ol class=list-inline>\n",
       "\t<li>2492</li>\n",
       "\t<li>2</li>\n",
       "</ol>\n"
      ],
      "text/latex": [
       "\\begin{enumerate*}\n",
       "\\item 2492\n",
       "\\item 2\n",
       "\\end{enumerate*}\n"
      ],
      "text/markdown": [
       "1. 2492\n",
       "2. 2\n",
       "\n",
       "\n"
      ],
      "text/plain": [
       "[1] 2492    2"
      ]
     },
     "metadata": {},
     "output_type": "display_data"
    },
    {
     "data": {
      "text/html": [
       "<table>\n",
       "<thead><tr><th></th><th scope=col>entrezgene</th><th scope=col>external_gene_name</th></tr></thead>\n",
       "<tbody>\n",
       "\t<tr><th scope=row>10634</th><td>10634  </td><td>GAS2L1 </td></tr>\n",
       "\t<tr><th scope=row>1398</th><td> 1398  </td><td>CRK    </td></tr>\n",
       "\t<tr><th scope=row>6456</th><td> 6456  </td><td>SH3GL2 </td></tr>\n",
       "\t<tr><th scope=row>9920</th><td> 9920  </td><td>KBTBD11</td></tr>\n",
       "\t<tr><th scope=row>2098</th><td> 2098  </td><td>ESD    </td></tr>\n",
       "\t<tr><th scope=row>9107</th><td> 9107  </td><td>MTMR6  </td></tr>\n",
       "</tbody>\n",
       "</table>\n"
      ],
      "text/latex": [
       "\\begin{tabular}{r|ll}\n",
       "  & entrezgene & external\\_gene\\_name\\\\\n",
       "\\hline\n",
       "\t10634 & 10634   & GAS2L1 \\\\\n",
       "\t1398 &  1398   & CRK    \\\\\n",
       "\t6456 &  6456   & SH3GL2 \\\\\n",
       "\t9920 &  9920   & KBTBD11\\\\\n",
       "\t2098 &  2098   & ESD    \\\\\n",
       "\t9107 &  9107   & MTMR6  \\\\\n",
       "\\end{tabular}\n"
      ],
      "text/markdown": [
       "\n",
       "| <!--/--> | entrezgene | external_gene_name | \n",
       "|---|---|---|---|---|---|\n",
       "| 10634 | 10634   | GAS2L1  | \n",
       "| 1398 |  1398   | CRK     | \n",
       "| 6456 |  6456   | SH3GL2  | \n",
       "| 9920 |  9920   | KBTBD11 | \n",
       "| 2098 |  2098   | ESD     | \n",
       "| 9107 |  9107   | MTMR6   | \n",
       "\n",
       "\n"
      ],
      "text/plain": [
       "      entrezgene external_gene_name\n",
       "10634 10634      GAS2L1            \n",
       "1398   1398      CRK               \n",
       "6456   6456      SH3GL2            \n",
       "9920   9920      KBTBD11           \n",
       "2098   2098      ESD               \n",
       "9107   9107      MTMR6             "
      ]
     },
     "metadata": {},
     "output_type": "display_data"
    }
   ],
   "source": [
    "library(\"biomaRt\")\n",
    "ensembl <- useMart(\"ensembl\", dataset = \"hsapiens_gene_ensembl\")\n",
    "\n",
    "# grab all entrez to gene name mapping\n",
    "all_entrez_gene_info  <- getBM(attributes = c(\"entrezgene\",\n",
    "                                              \"external_gene_name\"),\n",
    "                               mart = ensembl)\n",
    "dim(all_entrez_gene_info)\n",
    "\n",
    "# filter to info rows that have genes in out log2NormExpr matrix\n",
    "expr_gene_info <- all_entrez_gene_info[all_entrez_gene_info$entrezgene\n",
    "                                             %in% rownames(log2NormExpr), ]\n",
    "dim(expr_gene_info)\n",
    "\n",
    "# remove rows that have a second external name for a single entrez id\n",
    "uniq_entrez_gene_info <- expr_gene_info[!duplicated(expr_gene_info$entrezgene), ]\n",
    "rownames(uniq_entrez_gene_info) <- uniq_entrez_gene_info$entrezgene\n",
    "\n",
    "dim(uniq_entrez_gene_info)\n",
    "head(uniq_entrez_gene_info)"
   ]
  },
  {
   "cell_type": "markdown",
   "metadata": {},
   "source": [
    "You can see that `our uniq_entrez_gene_info` data.frame contains the Entrez gene identifiers and the common name for our 2492 genes.\n",
    "\n",
    "Finally, we will prepare the clinical data.  Unlike last lab, this time I will just remove patients that we are not interested in for this problem."
   ]
  },
  {
   "cell_type": "code",
   "execution_count": 4,
   "metadata": {},
   "outputs": [
    {
     "data": {
      "text/html": [
       "<ol class=list-inline>\n",
       "\t<li>606</li>\n",
       "\t<li>51</li>\n",
       "</ol>\n"
      ],
      "text/latex": [
       "\\begin{enumerate*}\n",
       "\\item 606\n",
       "\\item 51\n",
       "\\end{enumerate*}\n"
      ],
      "text/markdown": [
       "1. 606\n",
       "2. 51\n",
       "\n",
       "\n"
      ],
      "text/plain": [
       "[1] 606  51"
      ]
     },
     "metadata": {},
     "output_type": "display_data"
    },
    {
     "data": {
      "text/html": [
       "<ol class=list-inline>\n",
       "\t<li>155</li>\n",
       "\t<li>51</li>\n",
       "</ol>\n"
      ],
      "text/latex": [
       "\\begin{enumerate*}\n",
       "\\item 155\n",
       "\\item 51\n",
       "\\end{enumerate*}\n"
      ],
      "text/markdown": [
       "1. 155\n",
       "2. 51\n",
       "\n",
       "\n"
      ],
      "text/plain": [
       "[1] 155  51"
      ]
     },
     "metadata": {},
     "output_type": "display_data"
    },
    {
     "data": {
      "text/html": [
       "<ol class=list-inline>\n",
       "\t<li>152</li>\n",
       "\t<li>51</li>\n",
       "</ol>\n"
      ],
      "text/latex": [
       "\\begin{enumerate*}\n",
       "\\item 152\n",
       "\\item 51\n",
       "\\end{enumerate*}\n"
      ],
      "text/markdown": [
       "1. 152\n",
       "2. 51\n",
       "\n",
       "\n"
      ],
      "text/plain": [
       "[1] 152  51"
      ]
     },
     "metadata": {},
     "output_type": "display_data"
    },
    {
     "data": {
      "text/html": [
       "<table>\n",
       "<thead><tr><th></th><th scope=col>patient</th><th scope=col>Tissue.source.site</th><th scope=col>Study</th><th scope=col>BCR</th><th scope=col>Whole.exome</th></tr></thead>\n",
       "<tbody>\n",
       "\t<tr><th scope=row>TCGA-02-2483</th><td>TCGA-02-2483             </td><td>MD Anderson Cancer Center</td><td>Glioblastoma multiforme  </td><td>IGC                      </td><td>Yes                      </td></tr>\n",
       "\t<tr><th scope=row>TCGA-06-2558</th><td>TCGA-06-2558             </td><td>Henry Ford Hospital      </td><td>Glioblastoma multiforme  </td><td>IGC                      </td><td>Yes                      </td></tr>\n",
       "\t<tr><th scope=row>TCGA-06-5413</th><td>TCGA-06-5413             </td><td>Henry Ford Hospital      </td><td>Glioblastoma multiforme  </td><td>IGC                      </td><td>Yes                      </td></tr>\n",
       "\t<tr><th scope=row>TCGA-06-0744</th><td>TCGA-06-0744             </td><td>Henry Ford Hospital      </td><td>Glioblastoma multiforme  </td><td>IGC                      </td><td>Yes                      </td></tr>\n",
       "\t<tr><th scope=row>TCGA-41-2572</th><td>TCGA-41-2572             </td><td>Christiana Healthcare    </td><td>Glioblastoma multiforme  </td><td>IGC                      </td><td>Yes                      </td></tr>\n",
       "</tbody>\n",
       "</table>\n"
      ],
      "text/latex": [
       "\\begin{tabular}{r|lllll}\n",
       "  & patient & Tissue.source.site & Study & BCR & Whole.exome\\\\\n",
       "\\hline\n",
       "\tTCGA-02-2483 & TCGA-02-2483              & MD Anderson Cancer Center & Glioblastoma multiforme   & IGC                       & Yes                      \\\\\n",
       "\tTCGA-06-2558 & TCGA-06-2558              & Henry Ford Hospital       & Glioblastoma multiforme   & IGC                       & Yes                      \\\\\n",
       "\tTCGA-06-5413 & TCGA-06-5413              & Henry Ford Hospital       & Glioblastoma multiforme   & IGC                       & Yes                      \\\\\n",
       "\tTCGA-06-0744 & TCGA-06-0744              & Henry Ford Hospital       & Glioblastoma multiforme   & IGC                       & Yes                      \\\\\n",
       "\tTCGA-41-2572 & TCGA-41-2572              & Christiana Healthcare     & Glioblastoma multiforme   & IGC                       & Yes                      \\\\\n",
       "\\end{tabular}\n"
      ],
      "text/markdown": [
       "\n",
       "| <!--/--> | patient | Tissue.source.site | Study | BCR | Whole.exome | \n",
       "|---|---|---|---|---|\n",
       "| TCGA-02-2483 | TCGA-02-2483              | MD Anderson Cancer Center | Glioblastoma multiforme   | IGC                       | Yes                       | \n",
       "| TCGA-06-2558 | TCGA-06-2558              | Henry Ford Hospital       | Glioblastoma multiforme   | IGC                       | Yes                       | \n",
       "| TCGA-06-5413 | TCGA-06-5413              | Henry Ford Hospital       | Glioblastoma multiforme   | IGC                       | Yes                       | \n",
       "| TCGA-06-0744 | TCGA-06-0744              | Henry Ford Hospital       | Glioblastoma multiforme   | IGC                       | Yes                       | \n",
       "| TCGA-41-2572 | TCGA-41-2572              | Christiana Healthcare     | Glioblastoma multiforme   | IGC                       | Yes                       | \n",
       "\n",
       "\n"
      ],
      "text/plain": [
       "             patient      Tissue.source.site        Study                   BCR\n",
       "TCGA-02-2483 TCGA-02-2483 MD Anderson Cancer Center Glioblastoma multiforme IGC\n",
       "TCGA-06-2558 TCGA-06-2558 Henry Ford Hospital       Glioblastoma multiforme IGC\n",
       "TCGA-06-5413 TCGA-06-5413 Henry Ford Hospital       Glioblastoma multiforme IGC\n",
       "TCGA-06-0744 TCGA-06-0744 Henry Ford Hospital       Glioblastoma multiforme IGC\n",
       "TCGA-41-2572 TCGA-41-2572 Christiana Healthcare     Glioblastoma multiforme IGC\n",
       "             Whole.exome\n",
       "TCGA-02-2483 Yes        \n",
       "TCGA-06-2558 Yes        \n",
       "TCGA-06-5413 Yes        \n",
       "TCGA-06-0744 Yes        \n",
       "TCGA-41-2572 Yes        "
      ]
     },
     "metadata": {},
     "output_type": "display_data"
    }
   ],
   "source": [
    "clinical_file <- \"TCGA-GBM.clinical.txt\"\n",
    "clinical_data <- read.delim(clinical_file, sep = \"\\t\",\n",
    "                            header = T, stringsAsFactors = F, quote = \"\\\"\")\n",
    "rownames(clinical_data) <- clinical_data$patient\n",
    "dim(clinical_data)\n",
    "\n",
    "# filter clinical data to only those that have expression data in our log2NormExpr\n",
    "filtered_clinical <- clinical_data[intersect(colnames(log2NormExpr),\n",
    "                                             rownames(clinical_data)), ]\n",
    "dim(filtered_clinical)\n",
    "\n",
    "# further filter clinical data to those samples which do not have NA as subtype\n",
    "filtered_clinical <- filtered_clinical[which(!is.na(filtered_clinical$Original.Subtype)), ]\n",
    "dim(filtered_clinical)\n",
    "filtered_clinical[1:5, 1:5]"
   ]
  },
  {
   "cell_type": "markdown",
   "metadata": {},
   "source": [
    "This above commands shrinks the clinical data from the 606 original patient information to the 152 samples that have expression data and also are annotated with one of five `Original.Subtype`s.  We can check the distribution of those subtypes below and create and extract column, `IsMesenchymal`, that is 1 when the `Original.Subtype` is `Mesenchymal` and 0 when it is another type. "
   ]
  },
  {
   "cell_type": "code",
   "execution_count": 5,
   "metadata": {},
   "outputs": [
    {
     "data": {
      "text/plain": [
       "\n",
       "  Classical      G-CIMP Mesenchymal      Neural   Proneural \n",
       "         39           8          50          26          29 "
      ]
     },
     "metadata": {},
     "output_type": "display_data"
    },
    {
     "data": {
      "text/plain": [
       "\n",
       "  0   1 \n",
       "102  50 "
      ]
     },
     "metadata": {},
     "output_type": "display_data"
    }
   ],
   "source": [
    "# find out what subtypes our remaining patients have\n",
    "table(filtered_clinical$Original.Subtype)\n",
    "\n",
    "# create new column with our differential expression variable\n",
    "filtered_clinical$IsMesenchymal <- 0\n",
    "filtered_clinical[filtered_clinical$Original.Subtype == \"Mesenchymal\", \"IsMesenchymal\"] <- 1\n",
    "table(filtered_clinical$IsMesenchymal)"
   ]
  },
  {
   "cell_type": "markdown",
   "metadata": {},
   "source": [
    "So again we see 50 `Mesenchymal` type patients and 102 other type patients.  We will reorder the columns of the expression matrix so it contains the same patients in the same order as the clinical data. `numSamps` is the filtered number of samples that our differential expression analysis will be performed on."
   ]
  },
  {
   "cell_type": "code",
   "execution_count": 6,
   "metadata": {},
   "outputs": [],
   "source": [
    "# extract patient tumor sample order from clinical data\n",
    "ordered_samples <- rownames(filtered_clinical)\n",
    "numSamps <- length(ordered_samples)\n",
    "filtered_log2NormExpr <- log2NormExpr[, ordered_samples]"
   ]
  },
  {
   "cell_type": "markdown",
   "metadata": {},
   "source": [
    "As an explicit example, we will now create a design matrix that fits our differential expression problem.  Remember, we are trying to find which genes have significantly different expression values between the `Mesenchymal` and `other` subtypes.  For each gene, we are trying to predict the `numSamps` gene expression values, $d_t$, using a two column design matrix, $X$, multiplied by a length two $\\beta_t$ parameter vector. Roughly speaking, $$d_t = X \\times \\beta_t + \\epsilon_t$$ where $\\epsilon_t$ captures the \"biological\" and \"inferential\" noise of the data.  More details about the model can be found in the lectures and supplementary [materials](https://courses.engr.illinois.edu/ece365/sp2019/secure/nmeth.4324-S1.pdf).  \n",
    "\n",
    "So in creating our design matrix $X$, we specify how the expression for each patient sample is modeled. I will give each column the name of the corresponding $\\beta$ parameter."
   ]
  },
  {
   "cell_type": "code",
   "execution_count": 7,
   "metadata": {},
   "outputs": [
    {
     "data": {
      "text/html": [
       "<ol class=list-inline>\n",
       "\t<li>152</li>\n",
       "\t<li>2</li>\n",
       "</ol>\n"
      ],
      "text/latex": [
       "\\begin{enumerate*}\n",
       "\\item 152\n",
       "\\item 2\n",
       "\\end{enumerate*}\n"
      ],
      "text/markdown": [
       "1. 152\n",
       "2. 2\n",
       "\n",
       "\n"
      ],
      "text/plain": [
       "[1] 152   2"
      ]
     },
     "metadata": {},
     "output_type": "display_data"
    },
    {
     "data": {
      "text/html": [
       "<table>\n",
       "<thead><tr><th></th><th scope=col>beta0</th><th scope=col>beta1</th></tr></thead>\n",
       "<tbody>\n",
       "\t<tr><th scope=row>TCGA-02-2483</th><td>1</td><td>0</td></tr>\n",
       "\t<tr><th scope=row>TCGA-06-2558</th><td>1</td><td>0</td></tr>\n",
       "\t<tr><th scope=row>TCGA-06-5413</th><td>1</td><td>0</td></tr>\n",
       "\t<tr><th scope=row>TCGA-06-0744</th><td>1</td><td>0</td></tr>\n",
       "\t<tr><th scope=row>TCGA-41-2572</th><td>1</td><td>0</td></tr>\n",
       "\t<tr><th scope=row>TCGA-14-0871</th><td>1</td><td>1</td></tr>\n",
       "</tbody>\n",
       "</table>\n"
      ],
      "text/latex": [
       "\\begin{tabular}{r|ll}\n",
       "  & beta0 & beta1\\\\\n",
       "\\hline\n",
       "\tTCGA-02-2483 & 1 & 0\\\\\n",
       "\tTCGA-06-2558 & 1 & 0\\\\\n",
       "\tTCGA-06-5413 & 1 & 0\\\\\n",
       "\tTCGA-06-0744 & 1 & 0\\\\\n",
       "\tTCGA-41-2572 & 1 & 0\\\\\n",
       "\tTCGA-14-0871 & 1 & 1\\\\\n",
       "\\end{tabular}\n"
      ],
      "text/markdown": [
       "\n",
       "| <!--/--> | beta0 | beta1 | \n",
       "|---|---|---|---|---|---|\n",
       "| TCGA-02-2483 | 1 | 0 | \n",
       "| TCGA-06-2558 | 1 | 0 | \n",
       "| TCGA-06-5413 | 1 | 0 | \n",
       "| TCGA-06-0744 | 1 | 0 | \n",
       "| TCGA-41-2572 | 1 | 0 | \n",
       "| TCGA-14-0871 | 1 | 1 | \n",
       "\n",
       "\n"
      ],
      "text/plain": [
       "             beta0 beta1\n",
       "TCGA-02-2483 1     0    \n",
       "TCGA-06-2558 1     0    \n",
       "TCGA-06-5413 1     0    \n",
       "TCGA-06-0744 1     0    \n",
       "TCGA-41-2572 1     0    \n",
       "TCGA-14-0871 1     1    "
      ]
     },
     "metadata": {},
     "output_type": "display_data"
    }
   ],
   "source": [
    "beta0 <- rep(1, numSamps)\n",
    "beta1 <- filtered_clinical$IsMesenchymal\n",
    "design_matrix <- cbind(beta0, beta1)\n",
    "rownames(design_matrix) <- ordered_samples\n",
    "dim(design_matrix)\n",
    "head(design_matrix)"
   ]
  },
  {
   "cell_type": "markdown",
   "metadata": {},
   "source": [
    "The first column of the design matrix is all ones, so $\\beta_0$ will be added to all predicted gene expression values.  The second column of the design matrix is only one where the sample is of subtype `Mesenchymal`.  So the value $\\beta_1$ will only be added to the predicted gene expression of patients of that subtype.  I have created a little summary function that will calculate the length, population mean, and variance of a vector.  We can see that the second column of the design matrix is 1 only 32.9% of the time."
   ]
  },
  {
   "cell_type": "code",
   "execution_count": 8,
   "metadata": {},
   "outputs": [
    {
     "data": {
      "text/html": [
       "<dl class=dl-horizontal>\n",
       "\t<dt>len</dt>\n",
       "\t\t<dd>152</dd>\n",
       "\t<dt>mean</dt>\n",
       "\t\t<dd>0.328947368421053</dd>\n",
       "\t<dt>var</dt>\n",
       "\t\t<dd>0.220740997229917</dd>\n",
       "</dl>\n"
      ],
      "text/latex": [
       "\\begin{description*}\n",
       "\\item[len] 152\n",
       "\\item[mean] 0.328947368421053\n",
       "\\item[var] 0.220740997229917\n",
       "\\end{description*}\n"
      ],
      "text/markdown": [
       "len\n",
       ":   152mean\n",
       ":   0.328947368421053var\n",
       ":   0.220740997229917\n",
       "\n"
      ],
      "text/plain": [
       "        len        mean         var \n",
       "152.0000000   0.3289474   0.2207410 "
      ]
     },
     "metadata": {},
     "output_type": "display_data"
    }
   ],
   "source": [
    "vStats <- function(vec){\n",
    "  vLen <- length(vec)\n",
    "  vMean <- mean(vec)\n",
    "  vVar <- sum( (vec - vMean) ^ 2) / vLen\n",
    "  ret <- c(vLen, vMean, vVar)\n",
    "  names(ret) <- c(\"len\", \"mean\", \"var\")\n",
    "  return(ret)\n",
    "}\n",
    "\n",
    "beta1Stats <- vStats(design_matrix[,2])\n",
    "beta1Stats"
   ]
  },
  {
   "cell_type": "markdown",
   "metadata": {},
   "source": [
    "Ok, we are now ready to perform differential expression analysis for a gene in our dataset.  I will start with the \"STC2\" gene with Entrez gene identifier of `8614`.  We first grab the gene's expression for the 152 patients."
   ]
  },
  {
   "cell_type": "code",
   "execution_count": 9,
   "metadata": {},
   "outputs": [
    {
     "data": {
      "text/html": [
       "'STC2'"
      ],
      "text/latex": [
       "'STC2'"
      ],
      "text/markdown": [
       "'STC2'"
      ],
      "text/plain": [
       "[1] \"STC2\""
      ]
     },
     "metadata": {},
     "output_type": "display_data"
    },
    {
     "data": {
      "text/html": [
       "<ol class=list-inline>\n",
       "\t<li>11.5513</li>\n",
       "\t<li>12.4505</li>\n",
       "\t<li>11.5124</li>\n",
       "\t<li>13.0954</li>\n",
       "\t<li>11.2784</li>\n",
       "\t<li>8.70349</li>\n",
       "</ol>\n"
      ],
      "text/latex": [
       "\\begin{enumerate*}\n",
       "\\item 11.5513\n",
       "\\item 12.4505\n",
       "\\item 11.5124\n",
       "\\item 13.0954\n",
       "\\item 11.2784\n",
       "\\item 8.70349\n",
       "\\end{enumerate*}\n"
      ],
      "text/markdown": [
       "1. 11.5513\n",
       "2. 12.4505\n",
       "3. 11.5124\n",
       "4. 13.0954\n",
       "5. 11.2784\n",
       "6. 8.70349\n",
       "\n",
       "\n"
      ],
      "text/plain": [
       "[1] 11.55130 12.45050 11.51240 13.09540 11.27840  8.70349"
      ]
     },
     "metadata": {},
     "output_type": "display_data"
    }
   ],
   "source": [
    "# extract gene\n",
    "mygene_entrez <- \"8614\"\n",
    "uniq_entrez_gene_info[mygene_entrez, \"external_gene_name\"]\n",
    "\n",
    "# extract log normalized expression values for selected gene\n",
    "gene_expr <- as.numeric(filtered_log2NormExpr[mygene_entrez, ])\n",
    "head(gene_expr)\n"
   ]
  },
  {
   "cell_type": "markdown",
   "metadata": {},
   "source": [
    "Next, I want to calculate some statistics about the gene expression over all 152 samples, the 50 `Mesenchymal` samples, and the 102 `other` samples."
   ]
  },
  {
   "cell_type": "code",
   "execution_count": 10,
   "metadata": {},
   "outputs": [
    {
     "data": {
      "text/html": [
       "<dl class=dl-horizontal>\n",
       "\t<dt>len</dt>\n",
       "\t\t<dd>152</dd>\n",
       "\t<dt>mean</dt>\n",
       "\t\t<dd>10.9717401315789</dd>\n",
       "\t<dt>var</dt>\n",
       "\t\t<dd>3.49960395703946</dd>\n",
       "</dl>\n"
      ],
      "text/latex": [
       "\\begin{description*}\n",
       "\\item[len] 152\n",
       "\\item[mean] 10.9717401315789\n",
       "\\item[var] 3.49960395703946\n",
       "\\end{description*}\n"
      ],
      "text/markdown": [
       "len\n",
       ":   152mean\n",
       ":   10.9717401315789var\n",
       ":   3.49960395703946\n",
       "\n"
      ],
      "text/plain": [
       "       len       mean        var \n",
       "152.000000  10.971740   3.499604 "
      ]
     },
     "metadata": {},
     "output_type": "display_data"
    },
    {
     "data": {
      "text/html": [
       "<dl class=dl-horizontal>\n",
       "\t<dt>len</dt>\n",
       "\t\t<dd>102</dd>\n",
       "\t<dt>mean</dt>\n",
       "\t\t<dd>11.757055</dd>\n",
       "\t<dt>var</dt>\n",
       "\t\t<dd>1.53937394358774</dd>\n",
       "</dl>\n"
      ],
      "text/latex": [
       "\\begin{description*}\n",
       "\\item[len] 102\n",
       "\\item[mean] 11.757055\n",
       "\\item[var] 1.53937394358774\n",
       "\\end{description*}\n"
      ],
      "text/markdown": [
       "len\n",
       ":   102mean\n",
       ":   11.757055var\n",
       ":   1.53937394358774\n",
       "\n"
      ],
      "text/plain": [
       "       len       mean        var \n",
       "102.000000  11.757055   1.539374 "
      ]
     },
     "metadata": {},
     "output_type": "display_data"
    },
    {
     "data": {
      "text/html": [
       "<dl class=dl-horizontal>\n",
       "\t<dt>len</dt>\n",
       "\t\t<dd>50</dd>\n",
       "\t<dt>mean</dt>\n",
       "\t\t<dd>9.3696978</dd>\n",
       "\t<dt>var</dt>\n",
       "\t\t<dd>3.67382588948116</dd>\n",
       "</dl>\n"
      ],
      "text/latex": [
       "\\begin{description*}\n",
       "\\item[len] 50\n",
       "\\item[mean] 9.3696978\n",
       "\\item[var] 3.67382588948116\n",
       "\\end{description*}\n"
      ],
      "text/markdown": [
       "len\n",
       ":   50mean\n",
       ":   9.3696978var\n",
       ":   3.67382588948116\n",
       "\n"
      ],
      "text/plain": [
       "      len      mean       var \n",
       "50.000000  9.369698  3.673826 "
      ]
     },
     "metadata": {},
     "output_type": "display_data"
    }
   ],
   "source": [
    "allStats <- vStats(as.numeric(gene_expr))\n",
    "allStats\n",
    "otherStats <- vStats(as.numeric(gene_expr[which(beta1 == 0)]))\n",
    "otherStats\n",
    "mesenStats <- vStats(as.numeric(gene_expr[which(beta1 == 1)]))\n",
    "mesenStats\n"
   ]
  },
  {
   "cell_type": "markdown",
   "metadata": {},
   "source": [
    "We can see the average expression in the `Mesenchymal` subtype is less, but is it significantly differentially expressed?  To answer this question, we will fit a linear model to our data and design matrix using the generalized linear model function `glm()`. The `glm()` expects `data=`, a data.frame that contains our `gene_expr`/$d_t$ and our `design_matrix`/$X$ data, a formula (first argument) that shows how the `gene_expr` variable depends on the `design_matrix` columns, and finally the `family=` of distributions that the values are assumed sampled from.  Note, I will not specifify our `beta0` column, beause the `glm()` implicitly assumes a column of all ones in the design matrix that it calls the `(Intercept)`."
   ]
  },
  {
   "cell_type": "code",
   "execution_count": 11,
   "metadata": {
    "scrolled": true
   },
   "outputs": [
    {
     "data": {
      "text/plain": [
       "\n",
       "Call:  glm(formula = gene_expr ~ beta1, family = gaussian, data = data.frame(gene_expr = gene_expr, \n",
       "    beta1 = beta1))\n",
       "\n",
       "Coefficients:\n",
       "(Intercept)        beta1  \n",
       "     11.757       -2.387  \n",
       "\n",
       "Degrees of Freedom: 151 Total (i.e. Null);  150 Residual\n",
       "Null Deviance:\t    531.9 \n",
       "Residual Deviance: 340.7 \tAIC: 560"
      ]
     },
     "metadata": {},
     "output_type": "display_data"
    }
   ],
   "source": [
    "model_fit <- glm(gene_expr ~ beta1, family = gaussian,\n",
    "    data = data.frame(gene_expr = gene_expr, beta1 = beta1))\n",
    "model_fit"
   ]
  },
  {
   "cell_type": "markdown",
   "metadata": {},
   "source": [
    "The coefficients of the fitted model are the learned $\\beta$ parameters we are interested in.  \n",
    "**Question 1.1 [6 points]**: What are the two $\\beta$ parameters for our gene \"STC2\".  Describe with the simplest language possibly the interpretation of each of these two values?  Which one of these values will give us information about whether STC2 is differentially expressed between the `Mesenchymal` and `other` subtype? How will we know?"
   ]
  },
  {
   "cell_type": "markdown",
   "metadata": {},
   "source": [
    "#### Answer:\n",
    "beta0 is 11.757 and beta1 is -2.387 for gene \"STC2\". beta0 should be contained in every gene expression, while beta1 is only contained in mesen class. These two values will provide information on whether STC2 is differently expressed: if beta1 is close to zero, then we accept the null (gene is not differentially expressed) and vice versa."
   ]
  },
  {
   "cell_type": "markdown",
   "metadata": {},
   "source": [
    "The `residuals` of the model, show the difference between the actual expression values and the expression values predicted by the model.  We can use the total variance of the data and the variance of the residuals to calculate the percentage of the variance described by the model, `rSquared`. Learn more [here](https://en.wikipedia.org/wiki/Coefficient_of_determination)."
   ]
  },
  {
   "cell_type": "code",
   "execution_count": 12,
   "metadata": {},
   "outputs": [
    {
     "data": {
      "text/html": [
       "<dl class=dl-horizontal>\n",
       "\t<dt>len</dt>\n",
       "\t\t<dd>152</dd>\n",
       "\t<dt>mean</dt>\n",
       "\t\t<dd>-4.62768194390185e-15</dd>\n",
       "\t<dt>var</dt>\n",
       "\t\t<dd>2.24149629421058</dd>\n",
       "</dl>\n"
      ],
      "text/latex": [
       "\\begin{description*}\n",
       "\\item[len] 152\n",
       "\\item[mean] -4.62768194390185e-15\n",
       "\\item[var] 2.24149629421058\n",
       "\\end{description*}\n"
      ],
      "text/markdown": [
       "len\n",
       ":   152mean\n",
       ":   -4.62768194390185e-15var\n",
       ":   2.24149629421058\n",
       "\n"
      ],
      "text/plain": [
       "          len          mean           var \n",
       " 1.520000e+02 -4.627682e-15  2.241496e+00 "
      ]
     },
     "metadata": {},
     "output_type": "display_data"
    },
    {
     "data": {
      "text/html": [
       "<strong>var:</strong> 0.359500011507929"
      ],
      "text/latex": [
       "\\textbf{var:} 0.359500011507929"
      ],
      "text/markdown": [
       "**var:** 0.359500011507929"
      ],
      "text/plain": [
       "   var \n",
       "0.3595 "
      ]
     },
     "metadata": {},
     "output_type": "display_data"
    }
   ],
   "source": [
    "# calculate statistics on the 152 residual values\n",
    "residStats <- vStats(as.numeric(model_fit$residuals))\n",
    "residStats\n",
    "\n",
    "# quick estimate of rSquared (assumes the residual mean is basically 0)\n",
    "rSquared <- 1 - residStats[\"var\"] / allStats[\"var\"]\n",
    "rSquared"
   ]
  },
  {
   "cell_type": "markdown",
   "metadata": {},
   "source": [
    "**Question 1.2 [5 points]**: What is the range of the rSquared value?  Do you think our calculated rSquare value indicates that our model has a great fit or not? Why?"
   ]
  },
  {
   "cell_type": "markdown",
   "metadata": {},
   "source": [
    "#### Answer:\n",
    "-2~2 approximately. Yes, because rSquare value should be of a normal distribution with a mean centered around zero. This applies to the rsquare value we got, which indicates a great fit."
   ]
  },
  {
   "cell_type": "markdown",
   "metadata": {},
   "source": [
    "Next, we example the significance of the `beta1` coefficient parameter using a variation of the Wald test that accompanies the glm() function.  In order to do that, we will divide the coefficient by its standard error, `seB1`, and then ask if the resulting statistic is significant in a Student's t-distribution with `numSamp`-2 degrees of freedom.  I will calculate the standard error and test statistic below, and then plot the test statistic as a vertical line in the appropriate distribution."
   ]
  },
  {
   "cell_type": "code",
   "execution_count": 13,
   "metadata": {},
   "outputs": [
    {
     "data": {
      "text/html": [
       "<strong>beta1:</strong> -2.3873572"
      ],
      "text/latex": [
       "\\textbf{beta1:} -2.3873572"
      ],
      "text/markdown": [
       "**beta1:** -2.3873572"
      ],
      "text/plain": [
       "    beta1 \n",
       "-2.387357 "
      ]
     },
     "metadata": {},
     "output_type": "display_data"
    },
    {
     "data": {
      "text/html": [
       "0.260184776929156"
      ],
      "text/latex": [
       "0.260184776929156"
      ],
      "text/markdown": [
       "0.260184776929156"
      ],
      "text/plain": [
       "[1] 0.2601848"
      ]
     },
     "metadata": {},
     "output_type": "display_data"
    },
    {
     "data": {
      "text/html": [
       "-9.17562214122172"
      ],
      "text/latex": [
       "-9.17562214122172"
      ],
      "text/markdown": [
       "-9.17562214122172"
      ],
      "text/plain": [
       "[1] -9.175622"
      ]
     },
     "metadata": {},
     "output_type": "display_data"
    },
    {
     "data": {
      "image/png": "[encoded data removed]",
      "text/plain": [
       "plot without title"
      ]
     },
     "metadata": {},
     "output_type": "display_data"
    }
   ],
   "source": [
    "# extract the coefficient for beta1\n",
    "coeff <- model_fit$coefficients[2]\n",
    "coeff  #beta1\n",
    "\n",
    "# calculate the standard error for beta1\n",
    "seB1 <- (sqrt(sum( (model_fit$residuals) ^ 2) / (numSamps - 2))\n",
    "         / sqrt(beta1Stats[\"var\"] * numSamps))\n",
    "as.numeric(seB1) #e\n",
    "\n",
    "# find the corresponding t-statistic \n",
    "tvalue <- coeff / seB1\n",
    "as.numeric(tvalue) #t-value\n",
    "\n",
    "# plot the t-distribtion with 150 degrees of freedom and add a vertical \n",
    "# at our calculated t-statistic\n",
    "xvals <- -100:100 / 10\n",
    "plot(xvals, dt(xvals, df = (numSamps - 2)))\n",
    "abline(v = tvalue, col = \"red\")"
   ]
  },
  {
   "cell_type": "markdown",
   "metadata": {},
   "source": [
    "**Question 1.3 [5 points]**: From visual inspection of the plot, would you say that SCT2 is significantly differentially expressed? How would we calculate this significance value from the distribution?  What is the null hypothesis that the distribution represents? "
   ]
  },
  {
   "cell_type": "markdown",
   "metadata": {},
   "source": [
    "#### Answer:\n",
    "yes SCT2 is significantly differentially expressed. We would calculate the proportion of area under the curve that is more extreme than x. The null hypothesis is that the gene is not differently expressed. (beta1 = 0)"
   ]
  },
  {
   "cell_type": "markdown",
   "metadata": {},
   "source": [
    "To calculate the significance, we can use the following command:"
   ]
  },
  {
   "cell_type": "code",
   "execution_count": 14,
   "metadata": {},
   "outputs": [
    {
     "data": {
      "text/html": [
       "<strong>beta1:</strong> 3.30601119641071e-16"
      ],
      "text/latex": [
       "\\textbf{beta1:} 3.30601119641071e-16"
      ],
      "text/markdown": [
       "**beta1:** 3.30601119641071e-16"
      ],
      "text/plain": [
       "       beta1 \n",
       "3.306011e-16 "
      ]
     },
     "metadata": {},
     "output_type": "display_data"
    }
   ],
   "source": [
    "pvalue <- 2 * pt(-abs(tvalue), numSamps - 2)\n",
    "pvalue"
   ]
  },
  {
   "cell_type": "markdown",
   "metadata": {},
   "source": [
    "We also can have the `glm()` function return all of these significance related values by using the `summary()` function. "
   ]
  },
  {
   "cell_type": "code",
   "execution_count": 15,
   "metadata": {},
   "outputs": [
    {
     "data": {
      "text/plain": [
       "\n",
       "Call:\n",
       "glm(formula = gene_expr ~ beta1, family = gaussian, data = data.frame(gene_expr = gene_expr, \n",
       "    beta1 = beta1))\n",
       "\n",
       "Deviance Residuals: \n",
       "    Min       1Q   Median       3Q      Max  \n",
       "-4.6139  -0.8303   0.1965   1.0135   3.6981  \n",
       "\n",
       "Coefficients:\n",
       "            Estimate Std. Error t value Pr(>|t|)    \n",
       "(Intercept)  11.7571     0.1492  78.787  < 2e-16 ***\n",
       "beta1        -2.3874     0.2602  -9.176 3.31e-16 ***\n",
       "---\n",
       "Signif. codes:  0 '***' 0.001 '**' 0.01 '*' 0.05 '.' 0.1 ' ' 1\n",
       "\n",
       "(Dispersion parameter for gaussian family taken to be 2.271383)\n",
       "\n",
       "    Null deviance: 531.94  on 151  degrees of freedom\n",
       "Residual deviance: 340.71  on 150  degrees of freedom\n",
       "AIC: 560.04\n",
       "\n",
       "Number of Fisher Scoring iterations: 2\n"
      ]
     },
     "metadata": {},
     "output_type": "display_data"
    },
    {
     "data": {
      "text/html": [
       "3.30601119641071e-16"
      ],
      "text/latex": [
       "3.30601119641071e-16"
      ],
      "text/markdown": [
       "3.30601119641071e-16"
      ],
      "text/plain": [
       "[1] 3.306011e-16"
      ]
     },
     "metadata": {},
     "output_type": "display_data"
    }
   ],
   "source": [
    "model_summ <- summary(model_fit)\n",
    "model_summ\n",
    "\n",
    "# to extract only the beta1 pvalue from the summary result\n",
    "model_summ$coefficients[\"beta1\", \"Pr(>|t|)\"]"
   ]
  },
  {
   "cell_type": "markdown",
   "metadata": {},
   "source": [
    "Alright, so we have gone through the process of assessing whether one gene, STC2, is differentially expressed.  But there are still 2491 other genes remaining.  "
   ]
  },
  {
   "cell_type": "markdown",
   "metadata": {},
   "source": [
    "**Question 1.4 [8 points]**: Calculate the pvalue of differential expression for all 2491 genes in the expression matrix.  Save the 100 most significant Entrez gene names into a vector `topDE`.  What is the most significant and least significant of those top 100 genes. Note: it takes about 15 seconds for me to run this cell using mostly built in R functions, so if it is taking much longer for you, you might have several unnecessary steps. **Also:** you may want to read **Question 1.5** before starting your implementation here."
   ]
  },
  {
   "cell_type": "code",
   "execution_count": 16,
   "metadata": {},
   "outputs": [],
   "source": [
    "### Insert Your Code Here ###\n",
    "# extract gene\n",
    "# numeric()\n",
    "# mygene_entrez <- \"8614\"\n",
    "# uniq_entrez_gene_info[mygene_entrez, \"external_gene_name\"]\n",
    "\n",
    "\n",
    "gene_num = length(filtered_log2NormExpr[ , 1])\n",
    "beta1_v <- numeric(gene_num)\n",
    "beta1_p <- numeric(gene_num)\n",
    "#names(beta1_p) = row.names(filtered_log2NormExpr)\n",
    "name_p = row.names(filtered_log2NormExpr)\n",
    "name_store = row.names(filtered_log2NormExpr)\n",
    "\n",
    "for (i in 1:length(filtered_log2NormExpr[, 1])){\n",
    "    gene_expr <- as.numeric(filtered_log2NormExpr[i, ])\n",
    "    model_fit <- glm(gene_expr ~ beta1, family = gaussian, data = data.frame(gene_expr = gene_expr, beta1 = beta1))\n",
    "\n",
    "    model_summ <- summary(model_fit)\n",
    "\n",
    "    # to extract only the beta1 pvalue from the summary result\n",
    "    beta1_p[i] = model_summ$coefficients[\"beta1\", \"Pr(>|t|)\"]\n",
    "    beta1_v[i] = model_summ$coefficients[\"beta1\", \"Estimate\"]\n",
    "    temp_top = row.names(filtered_log2NormExpr[i, ])\n",
    "    \n",
    "    name_p[i] <- uniq_entrez_gene_info[temp_top, \"external_gene_name\"]\n",
    "    name_store[i] <- temp_top \n",
    "}\n",
    "\n",
    "\n"
   ]
  },
  {
   "cell_type": "code",
   "execution_count": 17,
   "metadata": {},
   "outputs": [
    {
     "data": {
      "text/html": [
       "'ABL2'"
      ],
      "text/latex": [
       "'ABL2'"
      ],
      "text/markdown": [
       "'ABL2'"
      ],
      "text/plain": [
       "[1] \"ABL2\""
      ]
     },
     "metadata": {},
     "output_type": "display_data"
    },
    {
     "data": {
      "text/html": [
       "'SCD'"
      ],
      "text/latex": [
       "'SCD'"
      ],
      "text/markdown": [
       "'SCD'"
      ],
      "text/plain": [
       "[1] \"SCD\""
      ]
     },
     "metadata": {},
     "output_type": "display_data"
    }
   ],
   "source": [
    "names(beta1_p) <- name_p\n",
    "sorted_p = beta1_p[order(beta1_p)][1:100]\n",
    "topDE <- names(sorted_p)\n",
    "topDE[1]\n",
    "topDE[100]\n",
    "names(beta1_p) <- name_store\n",
    "name_store = names(beta1_p[order(beta1_p)][1:100])\n"
   ]
  },
  {
   "cell_type": "markdown",
   "metadata": {},
   "source": [
    "#### Answer:\n",
    "The most significant gene is \"ABL2\" and the least significant gene is \"SCD\"."
   ]
  },
  {
   "cell_type": "markdown",
   "metadata": {},
   "source": [
    "**Question 1.5 [6 points]**: Create a scatterplot with 2492 points, one for each gene. Make the y-axis the `beta1` value fitted for that gene.  Make the x-axis the $-1*log10()$ of the gene's differential expression pvalue.  Plot a red vertical line showing the p.value of the 100th most significant gene.  What do you observe from this plot?  Why would some genes with larger `beta1` values not be as significant as our top 100 genes?"
   ]
  },
  {
   "cell_type": "code",
   "execution_count": 18,
   "metadata": {},
   "outputs": [
    {
     "data": {
      "image/png": "[encoded data removed]",
      "text/plain": [
       "plot without title"
      ]
     },
     "metadata": {},
     "output_type": "display_data"
    }
   ],
   "source": [
    "### Insert Your Code Here ###\n",
    "plot(x = −1*log10(beta1_p)  , y = beta1_v)\n",
    "\n",
    "abline(v = −1*log10(sorted_p[100]), col = \"red\")"
   ]
  },
  {
   "cell_type": "markdown",
   "metadata": {},
   "source": [
    "#### Answer:\n",
    "Data points to the right of the vertical line should be the 100 most significant genes. Sometimes, even beta1 values are bigger, this does not necessary indicate a lower p-value. Because the intercepts might be different as well as value of w."
   ]
  },
  {
   "cell_type": "markdown",
   "metadata": {},
   "source": [
    "### Problem 2: Gene Set Enrichment Analysis with the Fisher's Exact Test (45 points)\n",
    "In the last problem, we created a set of 100 genes that were the most differentially expressed between the `Mesenchymal` and the `other` subtypes of glioblastoma tumors.  However, lists of genes are hard for biologists to interpret because it is difficult to memorize the function of tens of thousands of different genes. So, an extremely common paradigm in biological research is to subject these gene lists to enrichment analysis.  This involves finding a global collection of annotations that already relate genes to known functions.  When your gene list significantly enriches in a list of genes with known function, then you may choose to assume that the known function is also related to your genes as well.  This assumption can lead to new hypotheses to experimentally test or possible insights into the molecular mechanisms underlying your observations.\n",
    "\n",
    "For this problem, we are going to use one of the largest, most common collection of global gene annotations, called [Gene Ontology](http://geneontology.org/). Gene Ontology (GO) is a community effort to annotate genes/proteins for their function.  They have built a hierarchy of standardized annotation terms that is used across human and many other model organisms.  Their teams relate genes to each standardized annotation using careful manual curation of research literature and advanced computational inference techniques.  We will start by downloading the Gene Ontology annotations for human genes from an Bioconductor Annotation Database [org.Hs.eg.db](https://bioconductor.org/packages/release/data/annotation/manuals/org.Hs.eg.db/man/org.Hs.eg.db.pdf). "
   ]
  },
  {
   "cell_type": "code",
   "execution_count": 19,
   "metadata": {},
   "outputs": [
    {
     "name": "stderr",
     "output_type": "stream",
     "text": [
      "Loading required package: AnnotationDbi\n",
      "Loading required package: stats4\n",
      "Loading required package: BiocGenerics\n",
      "Loading required package: parallel\n",
      "\n",
      "Attaching package: 'BiocGenerics'\n",
      "\n",
      "The following objects are masked from 'package:parallel':\n",
      "\n",
      "    clusterApply, clusterApplyLB, clusterCall, clusterEvalQ,\n",
      "    clusterExport, clusterMap, parApply, parCapply, parLapply,\n",
      "    parLapplyLB, parRapply, parSapply, parSapplyLB\n",
      "\n",
      "The following objects are masked from 'package:stats':\n",
      "\n",
      "    IQR, mad, sd, var, xtabs\n",
      "\n",
      "The following objects are masked from 'package:base':\n",
      "\n",
      "    anyDuplicated, append, as.data.frame, basename, cbind, colMeans,\n",
      "    colnames, colSums, dirname, do.call, duplicated, eval, evalq,\n",
      "    Filter, Find, get, grep, grepl, intersect, is.unsorted, lapply,\n",
      "    lengths, Map, mapply, match, mget, order, paste, pmax, pmax.int,\n",
      "    pmin, pmin.int, Position, rank, rbind, Reduce, rowMeans, rownames,\n",
      "    rowSums, sapply, setdiff, sort, table, tapply, union, unique,\n",
      "    unsplit, which, which.max, which.min\n",
      "\n",
      "Loading required package: Biobase\n",
      "Welcome to Bioconductor\n",
      "\n",
      "    Vignettes contain introductory material; view with\n",
      "    'browseVignettes()'. To cite Bioconductor, see\n",
      "    'citation(\"Biobase\")', and for packages 'citation(\"pkgname\")'.\n",
      "\n",
      "Loading required package: IRanges\n",
      "Loading required package: S4Vectors\n",
      "\n",
      "Attaching package: 'S4Vectors'\n",
      "\n",
      "The following object is masked from 'package:base':\n",
      "\n",
      "    expand.grid\n",
      "\n",
      "\n",
      "Attaching package: 'IRanges'\n",
      "\n",
      "The following object is masked from 'package:grDevices':\n",
      "\n",
      "    windows\n",
      "\n",
      "\n"
     ]
    },
    {
     "data": {
      "text/html": [
       "<ol class=list-inline>\n",
       "\t<li>313493</li>\n",
       "\t<li>4</li>\n",
       "</ol>\n"
      ],
      "text/latex": [
       "\\begin{enumerate*}\n",
       "\\item 313493\n",
       "\\item 4\n",
       "\\end{enumerate*}\n"
      ],
      "text/markdown": [
       "1. 313493\n",
       "2. 4\n",
       "\n",
       "\n"
      ],
      "text/plain": [
       "[1] 313493      4"
      ]
     },
     "metadata": {},
     "output_type": "display_data"
    },
    {
     "data": {
      "text/html": [
       "<table>\n",
       "<thead><tr><th scope=col>gene_id</th><th scope=col>go_id</th><th scope=col>Evidence</th><th scope=col>Ontology</th></tr></thead>\n",
       "<tbody>\n",
       "\t<tr><td>1         </td><td>GO:0002576</td><td>TAS       </td><td>BP        </td></tr>\n",
       "\t<tr><td>1         </td><td>GO:0008150</td><td>ND        </td><td>BP        </td></tr>\n",
       "\t<tr><td>1         </td><td>GO:0043312</td><td>TAS       </td><td>BP        </td></tr>\n",
       "\t<tr><td>2         </td><td>GO:0001869</td><td>IDA       </td><td>BP        </td></tr>\n",
       "\t<tr><td>2         </td><td>GO:0002576</td><td>TAS       </td><td>BP        </td></tr>\n",
       "\t<tr><td>2         </td><td>GO:0007597</td><td>TAS       </td><td>BP        </td></tr>\n",
       "</tbody>\n",
       "</table>\n"
      ],
      "text/latex": [
       "\\begin{tabular}{r|llll}\n",
       " gene\\_id & go\\_id & Evidence & Ontology\\\\\n",
       "\\hline\n",
       "\t 1          & GO:0002576 & TAS        & BP        \\\\\n",
       "\t 1          & GO:0008150 & ND         & BP        \\\\\n",
       "\t 1          & GO:0043312 & TAS        & BP        \\\\\n",
       "\t 2          & GO:0001869 & IDA        & BP        \\\\\n",
       "\t 2          & GO:0002576 & TAS        & BP        \\\\\n",
       "\t 2          & GO:0007597 & TAS        & BP        \\\\\n",
       "\\end{tabular}\n"
      ],
      "text/markdown": [
       "\n",
       "gene_id | go_id | Evidence | Ontology | \n",
       "|---|---|---|---|---|---|\n",
       "| 1          | GO:0002576 | TAS        | BP         | \n",
       "| 1          | GO:0008150 | ND         | BP         | \n",
       "| 1          | GO:0043312 | TAS        | BP         | \n",
       "| 2          | GO:0001869 | IDA        | BP         | \n",
       "| 2          | GO:0002576 | TAS        | BP         | \n",
       "| 2          | GO:0007597 | TAS        | BP         | \n",
       "\n",
       "\n"
      ],
      "text/plain": [
       "  gene_id go_id      Evidence Ontology\n",
       "1 1       GO:0002576 TAS      BP      \n",
       "2 1       GO:0008150 ND       BP      \n",
       "3 1       GO:0043312 TAS      BP      \n",
       "4 2       GO:0001869 IDA      BP      \n",
       "5 2       GO:0002576 TAS      BP      \n",
       "6 2       GO:0007597 TAS      BP      "
      ]
     },
     "metadata": {},
     "output_type": "display_data"
    }
   ],
   "source": [
    "# load annotation database\n",
    "library(org.Hs.eg.db)\n",
    "\n",
    "# convert GO annotations to dataframe\n",
    "go_annots <- as.data.frame(org.Hs.egGO)\n",
    "dim(go_annots)\n",
    "head(go_annots)"
   ]
  },
  {
   "cell_type": "markdown",
   "metadata": {},
   "source": [
    "We find that there are 313493 annotations relating Entrez gene identifiers (first column) to Gene Ontology term identifiers (second column). Gene Ontology divides their hierarchy of standardized annotation terms into three distinct trees. The `Ontology` column of our go_annot data.frame shows to which tree each `go_id` term belongs, either \n",
    "- biological process (BP),\n",
    "- cellular component (CC), or\n",
    "- molecular function (MF)."
   ]
  },
  {
   "cell_type": "code",
   "execution_count": 20,
   "metadata": {},
   "outputs": [
    {
     "data": {
      "text/plain": [
       "\n",
       "    BP     CC     MF \n",
       "149928  89069  74496 "
      ]
     },
     "metadata": {},
     "output_type": "display_data"
    }
   ],
   "source": [
    "sort(table(go_annots$Ontology), decreasing = T)"
   ]
  },
  {
   "cell_type": "markdown",
   "metadata": {},
   "source": [
    "The third column of our table describes the type of evidence that supports the association between the gene and the Gene Ontology Term. These include evidence types such as:\n",
    " - IEA: inferred from electronic annotation\n",
    " - IDA: inferred from direct assay\n",
    " - IBA: inferred from biological aspect of ancestor\n",
    " - TAS: traceable author statement\n",
    " - ISS: inferred from sequence similarity\n",
    " - IMP: inferred from mutant phenotype\n",
    " - IPI: inferred from physical interaction"
   ]
  },
  {
   "cell_type": "code",
   "execution_count": 21,
   "metadata": {},
   "outputs": [
    {
     "data": {
      "text/plain": [
       "\n",
       "  IEA   IDA   IBA   TAS   ISS   IMP   IPI   NAS   HDA    ND   IGI    IC   IEP \n",
       "78701 59962 50630 46983 21629 18567 15044  7720  7173  1913  1359  1323   872 \n",
       "  ISM   EXP   HMP   HEP   ISA \n",
       "  772   653   120    70     2 "
      ]
     },
     "metadata": {},
     "output_type": "display_data"
    }
   ],
   "source": [
    "sort(table(go_annots$Evidence), decreasing = T)"
   ]
  },
  {
   "cell_type": "markdown",
   "metadata": {},
   "source": [
    "As we can see below, the Gene Ontology annotations cover 19456 genes annotated with anywhere from 1 to 237 separate Gene Ontology terms and cover 17669 Gene Ontology term gene sets containing anywhere from 1 to 9510 genes."
   ]
  },
  {
   "cell_type": "code",
   "execution_count": 22,
   "metadata": {},
   "outputs": [
    {
     "data": {
      "text/html": [
       "19456"
      ],
      "text/latex": [
       "19456"
      ],
      "text/markdown": [
       "19456"
      ],
      "text/plain": [
       "[1] 19456"
      ]
     },
     "metadata": {},
     "output_type": "display_data"
    },
    {
     "data": {
      "text/plain": [
       "   Min. 1st Qu.  Median    Mean 3rd Qu.    Max. \n",
       "   1.00    6.00   12.00   16.11   20.00  237.00 "
      ]
     },
     "metadata": {},
     "output_type": "display_data"
    },
    {
     "data": {
      "text/html": [
       "17669"
      ],
      "text/latex": [
       "17669"
      ],
      "text/markdown": [
       "17669"
      ],
      "text/plain": [
       "[1] 17669"
      ]
     },
     "metadata": {},
     "output_type": "display_data"
    },
    {
     "data": {
      "text/plain": [
       "   Min. 1st Qu.  Median    Mean 3rd Qu.    Max. \n",
       "   1.00    1.00    3.00   17.74    9.00 9510.00 "
      ]
     },
     "metadata": {},
     "output_type": "display_data"
    }
   ],
   "source": [
    "geneids <- sort(table(go_annots$gene_id), decreasing = T)\n",
    "length(geneids)\n",
    "summary(as.integer(geneids))\n",
    "\n",
    "goids <- sort(table(go_annots$go_id), decreasing = T)\n",
    "length(goids)\n",
    "summary(as.integer(goids))"
   ]
  },
  {
   "cell_type": "markdown",
   "metadata": {},
   "source": [
    "We will use these Gene Ontology annotation term gene sets and look for overlap between them and our own gene set of interest.  To begin this problem, we will create a set of random genes (that we will pretend were differentially expressed (DE)) from our GBM expression data, `geneList`, to compare to Gene Ontology sets.  This `geneList` object will have a particular structure which will make it compatible with Bioconductor packages later on."
   ]
  },
  {
   "cell_type": "code",
   "execution_count": 23,
   "metadata": {},
   "outputs": [
    {
     "data": {
      "text/html": [
       "2492"
      ],
      "text/latex": [
       "2492"
      ],
      "text/markdown": [
       "2492"
      ],
      "text/plain": [
       "[1] 2492"
      ]
     },
     "metadata": {},
     "output_type": "display_data"
    },
    {
     "data": {
      "text/html": [
       "100"
      ],
      "text/latex": [
       "100"
      ],
      "text/markdown": [
       "100"
      ],
      "text/plain": [
       "[1] 100"
      ]
     },
     "metadata": {},
     "output_type": "display_data"
    }
   ],
   "source": [
    "# record how many genes there are in our expression data\n",
    "nGenes <- dim(filtered_log2NormExpr)[1]\n",
    "\n",
    "# create a empty gene list of that length with the Entrez gene identifiers as names\n",
    "geneList <- rep(0, nGenes)\n",
    "names(geneList) <- rownames(filtered_log2NormExpr)\n",
    "\n",
    "# create a gene set of 100 random genes by setting 100 elements to 1\n",
    "set.seed(1)\n",
    "geneList[sample(1:dim(filtered_log2NormExpr)[2], 100)] <- 1\n",
    "\n",
    "# turn geneList into factor for future functions\n",
    "geneList <- as.factor(geneList)\n",
    "length(geneList)\n",
    "sum(geneList == 1)"
   ]
  },
  {
   "cell_type": "markdown",
   "metadata": {},
   "source": [
    "There is a library called `topGO` that we will use in this Problem to aid in the calculation of the significance of enrichment between the Gene Ontology gene sets and our GeneList.  The following command builds the topGOdata [object](https://bioconductor.org/packages/release/bioc/vignettes/topGO/inst/doc/topGO.pdf) ( I have commented on some of the arguments inline."
   ]
  },
  {
   "cell_type": "code",
   "execution_count": 24,
   "metadata": {},
   "outputs": [
    {
     "name": "stderr",
     "output_type": "stream",
     "text": [
      "Loading required package: graph\n",
      "Loading required package: GO.db\n",
      "\n",
      "Loading required package: SparseM\n",
      "Warning message:\n",
      "\"package 'SparseM' was built under R version 3.5.2\"\n",
      "Attaching package: 'SparseM'\n",
      "\n",
      "The following object is masked from 'package:base':\n",
      "\n",
      "    backsolve\n",
      "\n",
      "\n",
      "groupGOTerms: \tGOBPTerm, GOMFTerm, GOCCTerm environments built.\n",
      "\n",
      "Attaching package: 'topGO'\n",
      "\n",
      "The following object is masked from 'package:IRanges':\n",
      "\n",
      "    members\n",
      "\n",
      "\n",
      "Building most specific GOs .....\n",
      "\t( 1960 GO terms found. )\n",
      "\n",
      "Build GO DAG topology ..........\n",
      "\t( 2486 GO terms and 3265 relations. )\n",
      "\n",
      "Annotating nodes ...............\n",
      "\t( 2446 genes annotated to the GO terms. )\n"
     ]
    },
    {
     "data": {
      "text/plain": [
       "\n",
       "------------------------- topGOdata object -------------------------\n",
       "\n",
       " Description:\n",
       "   -   \n",
       "\n",
       " Ontology:\n",
       "   -  MF \n",
       "\n",
       " 2492 available genes (all genes from the array):\n",
       "   - symbol:  4340 3119 4747 1293 5653  ...\n",
       "   - 100  significant genes. \n",
       "\n",
       " 2446 feasible genes (genes that can be used in the analysis):\n",
       "   - symbol:  4340 3119 4747 1293 5653  ...\n",
       "   - 95  significant genes. \n",
       "\n",
       " GO graph (nodes with at least  10  genes):\n",
       "   - a graph with directed edges\n",
       "   - number of nodes = 488 \n",
       "   - number of edges = 632 \n",
       "\n",
       "------------------------- topGOdata object -------------------------\n"
      ]
     },
     "metadata": {},
     "output_type": "display_data"
    }
   ],
   "source": [
    "library(topGO)\n",
    "GOdata <- new(\"topGOdata\",\n",
    "              ontology = \"MF\", # one of the three `Ontology` trees, this one is \"Molecular Function\"\n",
    "              allGenes = geneList, # a factor containing the 'universe' of genes with the genes of the gene set having the score of 1\n",
    "              annotationFun = annFUN.org,\n",
    "              mapping = \"org.Hs.eg.db\", # with the above line, the annotation database to extract GO annotations\n",
    "              nodeSize = 10 # the minimum gene set size for a GO annotation term gene set\n",
    "              )\n",
    "GOdata"
   ]
  },
  {
   "cell_type": "markdown",
   "metadata": {},
   "source": [
    "From the output, we see that of the 2492 genes in our dataset, only 2446 of them were mapped in the GO annotations.  Of the 100 genes of our random gene set, only 95 were mapped in the GO annotations.  We will do all further analysis using the 2446 genes as our gene universe because these were the ones that had both expression data and annotations in GO.  We also see from the output, there are 488 annotation term gene sets from Gene Ontology that had at least 10 annotated genes in our universe and were in the \"Molecular Function\" ontology tree.\n",
    "\n",
    "We can extract these kept/feasible genes in our universe, our random gene set, and a GO term gene set like GO:0008289, \"lipid binding\", using the following commands:"
   ]
  },
  {
   "cell_type": "code",
   "execution_count": 25,
   "metadata": {},
   "outputs": [
    {
     "data": {
      "text/html": [
       "2446"
      ],
      "text/latex": [
       "2446"
      ],
      "text/markdown": [
       "2446"
      ],
      "text/plain": [
       "[1] 2446"
      ]
     },
     "metadata": {},
     "output_type": "display_data"
    },
    {
     "data": {
      "text/html": [
       "95"
      ],
      "text/latex": [
       "95"
      ],
      "text/markdown": [
       "95"
      ],
      "text/plain": [
       "[1] 95"
      ]
     },
     "metadata": {},
     "output_type": "display_data"
    },
    {
     "data": {
      "text/html": [
       "129"
      ],
      "text/latex": [
       "129"
      ],
      "text/markdown": [
       "129"
      ],
      "text/plain": [
       "[1] 129"
      ]
     },
     "metadata": {},
     "output_type": "display_data"
    }
   ],
   "source": [
    "# genes kept in the universe\n",
    "gene.universe <- genes(GOdata)\n",
    "length(gene.universe)\n",
    "# gene kept from random DE genes\n",
    "sig.genes <- sigGenes(GOdata)\n",
    "length(sig.genes)\n",
    "# genes kept from lipid binding term set\n",
    "go.genes <- genesInTerm(GOdata, \"GO:0008289\")[[1]]\n",
    "length(go.genes)"
   ]
  },
  {
   "cell_type": "markdown",
   "metadata": {},
   "source": [
    "The way basic enrichment tests work is that they look for a significant overlap between the user gene list (our random 100) and the annotation term gene list.  They represent this overlap information as a contingency matrix.  We can create an empty continguency matrix below:"
   ]
  },
  {
   "cell_type": "code",
   "execution_count": 26,
   "metadata": {},
   "outputs": [
    {
     "data": {
      "text/html": [
       "<table>\n",
       "<thead><tr><th></th><th scope=col>sig</th><th scope=col>notSig</th></tr></thead>\n",
       "<tbody>\n",
       "\t<tr><th scope=row>anno</th><td>NA</td><td>NA</td></tr>\n",
       "\t<tr><th scope=row>notAnno</th><td>NA</td><td>NA</td></tr>\n",
       "</tbody>\n",
       "</table>\n"
      ],
      "text/latex": [
       "\\begin{tabular}{r|ll}\n",
       "  & sig & notSig\\\\\n",
       "\\hline\n",
       "\tanno & NA & NA\\\\\n",
       "\tnotAnno & NA & NA\\\\\n",
       "\\end{tabular}\n"
      ],
      "text/markdown": [
       "\n",
       "| <!--/--> | sig | notSig | \n",
       "|---|---|\n",
       "| anno | NA | NA | \n",
       "| notAnno | NA | NA | \n",
       "\n",
       "\n"
      ],
      "text/plain": [
       "        sig notSig\n",
       "anno    NA  NA    \n",
       "notAnno NA  NA    "
      ]
     },
     "metadata": {},
     "output_type": "display_data"
    }
   ],
   "source": [
    "contTable <- matrix(NA, 2, 2, dimnames = list(c(\"anno\", \"notAnno\"),\n",
    "                                              c(\"sig\", \"notSig\")))\n",
    "contTable"
   ]
  },
  {
   "cell_type": "markdown",
   "metadata": {},
   "source": [
    "**Question 2.1 [8 points]**: If 129 out of our universe of 2446 genes have the annotation for \"lipid binding\", what is the expectation for the number of our 95 `sig.genes` to have that annotation by random chance?  For our `gene.universe`, `sig.genes`, and `go.genes` lists, fill out the four NA values in the contingency table, `contTable`.  For this particular problem, I used the `intersect()` and `setdiff()` functions to find the overlaps between the different combinations of the gene sets and their negations. To check that your numbers make sense, the sum(contTable) should equal all 2446 genes that were kept. How does your observations in `contTable` compare to the expected values you estimated in the first part?"
   ]
  },
  {
   "cell_type": "code",
   "execution_count": 27,
   "metadata": {},
   "outputs": [
    {
     "data": {
      "text/html": [
       "2446"
      ],
      "text/latex": [
       "2446"
      ],
      "text/markdown": [
       "2446"
      ],
      "text/plain": [
       "[1] 2446"
      ]
     },
     "metadata": {},
     "output_type": "display_data"
    },
    {
     "data": {
      "text/html": [
       "<table>\n",
       "<thead><tr><th></th><th scope=col>sig</th><th scope=col>notSig</th></tr></thead>\n",
       "<tbody>\n",
       "\t<tr><th scope=row>anno</th><td>10  </td><td> 119</td></tr>\n",
       "\t<tr><th scope=row>notAnno</th><td>85  </td><td>2232</td></tr>\n",
       "</tbody>\n",
       "</table>\n"
      ],
      "text/latex": [
       "\\begin{tabular}{r|ll}\n",
       "  & sig & notSig\\\\\n",
       "\\hline\n",
       "\tanno & 10   &  119\\\\\n",
       "\tnotAnno & 85   & 2232\\\\\n",
       "\\end{tabular}\n"
      ],
      "text/markdown": [
       "\n",
       "| <!--/--> | sig | notSig | \n",
       "|---|---|\n",
       "| anno | 10   |  119 | \n",
       "| notAnno | 85   | 2232 | \n",
       "\n",
       "\n"
      ],
      "text/plain": [
       "        sig notSig\n",
       "anno    10   119  \n",
       "notAnno 85  2232  "
      ]
     },
     "metadata": {},
     "output_type": "display_data"
    }
   ],
   "source": [
    "### Insert Your Code Here ###\n",
    "\n",
    "\n",
    "contTable[\"anno\", \"sig\"] <-  length(intersect(go.genes,sig.genes))     ### Insert Your Code Here ###\n",
    "\n",
    "contTable[\"notAnno\", \"sig\"] <-  length(intersect(setdiff(gene.universe, go.genes),sig.genes))    ### Insert Your Code Here ###\n",
    "\n",
    "contTable[\"anno\", \"notSig\"] <- length(intersect(go.genes,setdiff(gene.universe, sig.genes) ))  ### Insert Your Code Here ###\n",
    "                                            \n",
    "contTable[\"notAnno\", \"notSig\"] <- length( intersect(setdiff(gene.universe, go.genes),setdiff(gene.universe, sig.genes) ))  ### Insert Your Code Here ###\n",
    "                                                  \n",
    "sum(contTable)\n",
    "contTable\n",
    "\n",
    "### Insert Your Code Here ###"
   ]
  },
  {
   "cell_type": "markdown",
   "metadata": {},
   "source": [
    "#### Answer:\n",
    "95*129/2446 = 5 genes are expected to have that annotation. As shown in the table above, 10 genes are annotated, which is close to our estimation."
   ]
  },
  {
   "cell_type": "markdown",
   "metadata": {},
   "source": [
    "Once we have built the contingency table, we can use a statistical test called the Fisher's exact [test](https://en.wikipedia.org/wiki/Fisher%27s_exact_test) to calculate the significance of the overlap."
   ]
  },
  {
   "cell_type": "code",
   "execution_count": 28,
   "metadata": {},
   "outputs": [
    {
     "data": {
      "text/plain": [
       "\n",
       "\tFisher's Exact Test for Count Data\n",
       "\n",
       "data:  contTable\n",
       "p-value = 0.0257\n",
       "alternative hypothesis: true odds ratio is greater than 1\n",
       "95 percent confidence interval:\n",
       " 1.132782      Inf\n",
       "sample estimates:\n",
       "odds ratio \n",
       "  2.205562 \n"
      ]
     },
     "metadata": {},
     "output_type": "display_data"
    }
   ],
   "source": [
    "fisher_result <- fisher.test(x = contTable, alternative = \"greater\")\n",
    "fisher_result"
   ]
  },
  {
   "cell_type": "markdown",
   "metadata": {},
   "source": [
    "**Question 2.2 [5 points]**: What is significance of the enrichment between our random DE gene set and our lipid binding GO gene set?  What is the null hypothesis of the Fisher's exact test?  What would it mean if we set the `alternative=` alternative hypothesis to `less` or `two.sided`?  "
   ]
  },
  {
   "cell_type": "markdown",
   "metadata": {},
   "source": [
    "#### Answer:\n",
    "1. p-value is 0.0257\n",
    "2. The null hypothesis is the two sets are independent\n",
    "3. two sided means a two-sided fisher test. less means the odds ratio is less than one."
   ]
  },
  {
   "cell_type": "markdown",
   "metadata": {},
   "source": [
    "So we have done one enrichment test, but if you remember back to when we created the `GOdata` object, there are 488 Gene Ontology sets in the Molecular Function ontology that are of a reasonable size.  Rather than relying directly on the `fisher.test()` call for each of these, we can use the `topGO` library functions.  The `runTest()` runs the Fisher's exact test on each of the GO terms (\"Nontrivial nodes\" are GO terms that have at least 1 of our random DE genes in them.)"
   ]
  },
  {
   "cell_type": "code",
   "execution_count": 29,
   "metadata": {},
   "outputs": [
    {
     "name": "stderr",
     "output_type": "stream",
     "text": [
      "\n",
      "\t\t\t -- Classic Algorithm -- \n",
      "\n",
      "\t\t the algorithm is scoring 317 nontrivial nodes\n",
      "\t\t parameters: \n",
      "\t\t\t test statistic: fisher\n"
     ]
    },
    {
     "data": {
      "text/plain": [
       "\n",
       "Description:  \n",
       "Ontology: MF \n",
       "'classic' algorithm with the 'fisher' test\n",
       "488 GO terms scored: 11 terms with p < 0.01\n",
       "Annotation data:\n",
       "    Annotated genes: 2446 \n",
       "    Significant genes: 95 \n",
       "    Min. no. of genes annotated to a GO: 10 \n",
       "    Nontrivial nodes: 317 "
      ]
     },
     "metadata": {},
     "output_type": "display_data"
    }
   ],
   "source": [
    "# runs all tests for all GO terms\n",
    "resultFisher <- runTest(GOdata, algorithm = \"classic\", statistic = \"fisher\")\n",
    "resultFisher"
   ]
  },
  {
   "cell_type": "markdown",
   "metadata": {},
   "source": [
    "The `GenTable()` function summarizes the results in a sorted table. We can control the number of returned results by setting the `topNodes=` argument."
   ]
  },
  {
   "cell_type": "code",
   "execution_count": 30,
   "metadata": {},
   "outputs": [
    {
     "data": {
      "text/html": [
       "<table>\n",
       "<thead><tr><th scope=col>GO.ID</th><th scope=col>Term</th><th scope=col>Annotated</th><th scope=col>Significant</th><th scope=col>Expected</th><th scope=col>classicFisher</th></tr></thead>\n",
       "<tbody>\n",
       "\t<tr><td>GO:0005509                                 </td><td>calcium ion binding                        </td><td>  95                                       </td><td>13                                         </td><td> 3.69                                      </td><td>5e-05                                      </td></tr>\n",
       "\t<tr><td>GO:0031406                                 </td><td>carboxylic acid binding                    </td><td>  37                                       </td><td> 7                                         </td><td> 1.44                                      </td><td>0.00042                                    </td></tr>\n",
       "\t<tr><td>GO:0043177                                 </td><td>organic acid binding                       </td><td>  38                                       </td><td> 7                                         </td><td> 1.48                                      </td><td>0.00050                                    </td></tr>\n",
       "\t<tr><td>GO:0005504                                 </td><td>fatty acid binding                         </td><td>  11                                       </td><td> 4                                         </td><td> 0.43                                      </td><td>0.00057                                    </td></tr>\n",
       "\t<tr><td>GO:0048018                                 </td><td>receptor ligand activity                   </td><td>  51                                       </td><td> 7                                         </td><td> 1.98                                      </td><td>0.00305                                    </td></tr>\n",
       "\t<tr><td>GO:0033293                                 </td><td>monocarboxylic acid binding                </td><td>  17                                       </td><td> 4                                         </td><td> 0.66                                      </td><td>0.00344                                    </td></tr>\n",
       "\t<tr><td>GO:0005201                                 </td><td>extracellular matrix structural constitu...</td><td>  19                                       </td><td> 4                                         </td><td> 0.74                                      </td><td>0.00528                                    </td></tr>\n",
       "\t<tr><td>GO:0030545                                 </td><td>receptor regulator activity                </td><td>  57                                       </td><td> 7                                         </td><td> 2.21                                      </td><td>0.00575                                    </td></tr>\n",
       "\t<tr><td>GO:0005539                                 </td><td>glycosaminoglycan binding                  </td><td>  33                                       </td><td> 5                                         </td><td> 1.28                                      </td><td>0.00796                                    </td></tr>\n",
       "\t<tr><td>GO:0043167                                 </td><td>ion binding                                </td><td>1033                                       </td><td>52                                         </td><td>40.12                                      </td><td>0.00828                                    </td></tr>\n",
       "\t<tr><td>GO:0030246                                 </td><td>carbohydrate binding                       </td><td>  47                                       </td><td> 6                                         </td><td> 1.83                                      </td><td>0.00867                                    </td></tr>\n",
       "\t<tr><td>GO:0046872                                 </td><td>metal ion binding                          </td><td> 623                                       </td><td>34                                         </td><td>24.20                                      </td><td>0.01479                                    </td></tr>\n",
       "\t<tr><td>GO:0008201                                 </td><td>heparin binding                            </td><td>  26                                       </td><td> 4                                         </td><td> 1.01                                      </td><td>0.01656                                    </td></tr>\n",
       "\t<tr><td>GO:0005178                                 </td><td>integrin binding                           </td><td>  40                                       </td><td> 5                                         </td><td> 1.55                                      </td><td>0.01781                                    </td></tr>\n",
       "\t<tr><td>GO:0043169                                 </td><td>cation binding                             </td><td> 632                                       </td><td>34                                         </td><td>24.55                                      </td><td>0.01838                                    </td></tr>\n",
       "\t<tr><td>GO:0001786                                 </td><td>phosphatidylserine binding                 </td><td>  15                                       </td><td> 3                                         </td><td> 0.58                                      </td><td>0.01839                                    </td></tr>\n",
       "\t<tr><td>GO:0005518                                 </td><td>collagen binding                           </td><td>  16                                       </td><td> 3                                         </td><td> 0.62                                      </td><td>0.02201                                    </td></tr>\n",
       "\t<tr><td>GO:0005102                                 </td><td>signaling receptor binding                 </td><td> 326                                       </td><td>20                                         </td><td>12.66                                      </td><td>0.02213                                    </td></tr>\n",
       "\t<tr><td>GO:0019199                                 </td><td>transmembrane receptor protein kinase ac...</td><td>  29                                       </td><td> 4                                         </td><td> 1.13                                      </td><td>0.02407                                    </td></tr>\n",
       "\t<tr><td>GO:0008289                                 </td><td>lipid binding                              </td><td> 129                                       </td><td>10                                         </td><td> 5.01                                      </td><td>0.02570                                    </td></tr>\n",
       "</tbody>\n",
       "</table>\n"
      ],
      "text/latex": [
       "\\begin{tabular}{r|llllll}\n",
       " GO.ID & Term & Annotated & Significant & Expected & classicFisher\\\\\n",
       "\\hline\n",
       "\t GO:0005509                                  & calcium ion binding                         &   95                                        & 13                                          &  3.69                                       & 5e-05                                      \\\\\n",
       "\t GO:0031406                                  & carboxylic acid binding                     &   37                                        &  7                                          &  1.44                                       & 0.00042                                    \\\\\n",
       "\t GO:0043177                                  & organic acid binding                        &   38                                        &  7                                          &  1.48                                       & 0.00050                                    \\\\\n",
       "\t GO:0005504                                  & fatty acid binding                          &   11                                        &  4                                          &  0.43                                       & 0.00057                                    \\\\\n",
       "\t GO:0048018                                  & receptor ligand activity                    &   51                                        &  7                                          &  1.98                                       & 0.00305                                    \\\\\n",
       "\t GO:0033293                                  & monocarboxylic acid binding                 &   17                                        &  4                                          &  0.66                                       & 0.00344                                    \\\\\n",
       "\t GO:0005201                                  & extracellular matrix structural constitu... &   19                                        &  4                                          &  0.74                                       & 0.00528                                    \\\\\n",
       "\t GO:0030545                                  & receptor regulator activity                 &   57                                        &  7                                          &  2.21                                       & 0.00575                                    \\\\\n",
       "\t GO:0005539                                  & glycosaminoglycan binding                   &   33                                        &  5                                          &  1.28                                       & 0.00796                                    \\\\\n",
       "\t GO:0043167                                  & ion binding                                 & 1033                                        & 52                                          & 40.12                                       & 0.00828                                    \\\\\n",
       "\t GO:0030246                                  & carbohydrate binding                        &   47                                        &  6                                          &  1.83                                       & 0.00867                                    \\\\\n",
       "\t GO:0046872                                  & metal ion binding                           &  623                                        & 34                                          & 24.20                                       & 0.01479                                    \\\\\n",
       "\t GO:0008201                                  & heparin binding                             &   26                                        &  4                                          &  1.01                                       & 0.01656                                    \\\\\n",
       "\t GO:0005178                                  & integrin binding                            &   40                                        &  5                                          &  1.55                                       & 0.01781                                    \\\\\n",
       "\t GO:0043169                                  & cation binding                              &  632                                        & 34                                          & 24.55                                       & 0.01838                                    \\\\\n",
       "\t GO:0001786                                  & phosphatidylserine binding                  &   15                                        &  3                                          &  0.58                                       & 0.01839                                    \\\\\n",
       "\t GO:0005518                                  & collagen binding                            &   16                                        &  3                                          &  0.62                                       & 0.02201                                    \\\\\n",
       "\t GO:0005102                                  & signaling receptor binding                  &  326                                        & 20                                          & 12.66                                       & 0.02213                                    \\\\\n",
       "\t GO:0019199                                  & transmembrane receptor protein kinase ac... &   29                                        &  4                                          &  1.13                                       & 0.02407                                    \\\\\n",
       "\t GO:0008289                                  & lipid binding                               &  129                                        & 10                                          &  5.01                                       & 0.02570                                    \\\\\n",
       "\\end{tabular}\n"
      ],
      "text/markdown": [
       "\n",
       "GO.ID | Term | Annotated | Significant | Expected | classicFisher | \n",
       "|---|---|---|---|---|---|---|---|---|---|---|---|---|---|---|---|---|---|---|---|\n",
       "| GO:0005509                                  | calcium ion binding                         |   95                                        | 13                                          |  3.69                                       | 5e-05                                       | \n",
       "| GO:0031406                                  | carboxylic acid binding                     |   37                                        |  7                                          |  1.44                                       | 0.00042                                     | \n",
       "| GO:0043177                                  | organic acid binding                        |   38                                        |  7                                          |  1.48                                       | 0.00050                                     | \n",
       "| GO:0005504                                  | fatty acid binding                          |   11                                        |  4                                          |  0.43                                       | 0.00057                                     | \n",
       "| GO:0048018                                  | receptor ligand activity                    |   51                                        |  7                                          |  1.98                                       | 0.00305                                     | \n",
       "| GO:0033293                                  | monocarboxylic acid binding                 |   17                                        |  4                                          |  0.66                                       | 0.00344                                     | \n",
       "| GO:0005201                                  | extracellular matrix structural constitu... |   19                                        |  4                                          |  0.74                                       | 0.00528                                     | \n",
       "| GO:0030545                                  | receptor regulator activity                 |   57                                        |  7                                          |  2.21                                       | 0.00575                                     | \n",
       "| GO:0005539                                  | glycosaminoglycan binding                   |   33                                        |  5                                          |  1.28                                       | 0.00796                                     | \n",
       "| GO:0043167                                  | ion binding                                 | 1033                                        | 52                                          | 40.12                                       | 0.00828                                     | \n",
       "| GO:0030246                                  | carbohydrate binding                        |   47                                        |  6                                          |  1.83                                       | 0.00867                                     | \n",
       "| GO:0046872                                  | metal ion binding                           |  623                                        | 34                                          | 24.20                                       | 0.01479                                     | \n",
       "| GO:0008201                                  | heparin binding                             |   26                                        |  4                                          |  1.01                                       | 0.01656                                     | \n",
       "| GO:0005178                                  | integrin binding                            |   40                                        |  5                                          |  1.55                                       | 0.01781                                     | \n",
       "| GO:0043169                                  | cation binding                              |  632                                        | 34                                          | 24.55                                       | 0.01838                                     | \n",
       "| GO:0001786                                  | phosphatidylserine binding                  |   15                                        |  3                                          |  0.58                                       | 0.01839                                     | \n",
       "| GO:0005518                                  | collagen binding                            |   16                                        |  3                                          |  0.62                                       | 0.02201                                     | \n",
       "| GO:0005102                                  | signaling receptor binding                  |  326                                        | 20                                          | 12.66                                       | 0.02213                                     | \n",
       "| GO:0019199                                  | transmembrane receptor protein kinase ac... |   29                                        |  4                                          |  1.13                                       | 0.02407                                     | \n",
       "| GO:0008289                                  | lipid binding                               |  129                                        | 10                                          |  5.01                                       | 0.02570                                     | \n",
       "\n",
       "\n"
      ],
      "text/plain": [
       "   GO.ID      Term                                        Annotated Significant\n",
       "1  GO:0005509 calcium ion binding                           95      13         \n",
       "2  GO:0031406 carboxylic acid binding                       37       7         \n",
       "3  GO:0043177 organic acid binding                          38       7         \n",
       "4  GO:0005504 fatty acid binding                            11       4         \n",
       "5  GO:0048018 receptor ligand activity                      51       7         \n",
       "6  GO:0033293 monocarboxylic acid binding                   17       4         \n",
       "7  GO:0005201 extracellular matrix structural constitu...   19       4         \n",
       "8  GO:0030545 receptor regulator activity                   57       7         \n",
       "9  GO:0005539 glycosaminoglycan binding                     33       5         \n",
       "10 GO:0043167 ion binding                                 1033      52         \n",
       "11 GO:0030246 carbohydrate binding                          47       6         \n",
       "12 GO:0046872 metal ion binding                            623      34         \n",
       "13 GO:0008201 heparin binding                               26       4         \n",
       "14 GO:0005178 integrin binding                              40       5         \n",
       "15 GO:0043169 cation binding                               632      34         \n",
       "16 GO:0001786 phosphatidylserine binding                    15       3         \n",
       "17 GO:0005518 collagen binding                              16       3         \n",
       "18 GO:0005102 signaling receptor binding                   326      20         \n",
       "19 GO:0019199 transmembrane receptor protein kinase ac...   29       4         \n",
       "20 GO:0008289 lipid binding                                129      10         \n",
       "   Expected classicFisher\n",
       "1   3.69    5e-05        \n",
       "2   1.44    0.00042      \n",
       "3   1.48    0.00050      \n",
       "4   0.43    0.00057      \n",
       "5   1.98    0.00305      \n",
       "6   0.66    0.00344      \n",
       "7   0.74    0.00528      \n",
       "8   2.21    0.00575      \n",
       "9   1.28    0.00796      \n",
       "10 40.12    0.00828      \n",
       "11  1.83    0.00867      \n",
       "12 24.20    0.01479      \n",
       "13  1.01    0.01656      \n",
       "14  1.55    0.01781      \n",
       "15 24.55    0.01838      \n",
       "16  0.58    0.01839      \n",
       "17  0.62    0.02201      \n",
       "18 12.66    0.02213      \n",
       "19  1.13    0.02407      \n",
       "20  5.01    0.02570      "
      ]
     },
     "metadata": {},
     "output_type": "display_data"
    },
    {
     "data": {
      "text/html": [
       "3.5230352303523"
      ],
      "text/latex": [
       "3.5230352303523"
      ],
      "text/markdown": [
       "3.5230352303523"
      ],
      "text/plain": [
       "[1] 3.523035"
      ]
     },
     "metadata": {},
     "output_type": "display_data"
    }
   ],
   "source": [
    "# create results table dataframe\n",
    "allRes <- GenTable(GOdata, classicFisher = resultFisher,\n",
    "                   orderBy = \"classicFisher\", ranksOf = \"classicFisher\",\n",
    "                   topNodes = 20)\n",
    "allRes\n",
    "allRes$Significant[1]/allRes$Expected[1]"
   ]
  },
  {
   "cell_type": "markdown",
   "metadata": {},
   "source": [
    "**Question 2.3 [6 points]**: Based on the previous few cells how many GO terms are significantly associated with our random DE gene set? What are some general molecular functions they seem to relate to?  What is the fold enrichment (`Significant`/`Expected`) of the most related GO term?"
   ]
  },
  {
   "cell_type": "markdown",
   "metadata": {},
   "source": [
    "#### Answer:\n",
    "p<0.01 is significantly associated. 11 terms are associated with random DE gene set.Some examples of molecular functions are calcium ion binding and acid bindings. Fold enrichment is 13/3.69 = 3.523."
   ]
  },
  {
   "cell_type": "markdown",
   "metadata": {},
   "source": [
    "We can extract all of the significance pvalues and reorder them with the following commands:"
   ]
  },
  {
   "cell_type": "code",
   "execution_count": 31,
   "metadata": {},
   "outputs": [
    {
     "data": {
      "text/html": [
       "<dl class=dl-horizontal>\n",
       "\t<dt>GO:0005509</dt>\n",
       "\t\t<dd>5.03937055981856e-05</dd>\n",
       "\t<dt>GO:0031406</dt>\n",
       "\t\t<dd>0.00042285836543372</dd>\n",
       "\t<dt>GO:0043177</dt>\n",
       "\t\t<dd>0.000502082112033221</dd>\n",
       "\t<dt>GO:0005504</dt>\n",
       "\t\t<dd>0.000571659416243351</dd>\n",
       "\t<dt>GO:0048018</dt>\n",
       "\t\t<dd>0.00304618247607436</dd>\n",
       "\t<dt>GO:0033293</dt>\n",
       "\t\t<dd>0.00344419835795421</dd>\n",
       "</dl>\n"
      ],
      "text/latex": [
       "\\begin{description*}\n",
       "\\item[GO:0005509] 5.03937055981856e-05\n",
       "\\item[GO:0031406] 0.00042285836543372\n",
       "\\item[GO:0043177] 0.000502082112033221\n",
       "\\item[GO:0005504] 0.000571659416243351\n",
       "\\item[GO:0048018] 0.00304618247607436\n",
       "\\item[GO:0033293] 0.00344419835795421\n",
       "\\end{description*}\n"
      ],
      "text/markdown": [
       "GO:0005509\n",
       ":   5.03937055981856e-05GO:0031406\n",
       ":   0.00042285836543372GO:0043177\n",
       ":   0.000502082112033221GO:0005504\n",
       ":   0.000571659416243351GO:0048018\n",
       ":   0.00304618247607436GO:0033293\n",
       ":   0.00344419835795421\n",
       "\n"
      ],
      "text/plain": [
       "  GO:0005509   GO:0031406   GO:0043177   GO:0005504   GO:0048018   GO:0033293 \n",
       "5.039371e-05 4.228584e-04 5.020821e-04 5.716594e-04 3.046182e-03 3.444198e-03 "
      ]
     },
     "metadata": {},
     "output_type": "display_data"
    }
   ],
   "source": [
    "# get named pvals in sorted order\n",
    "pValue.classic <- score(resultFisher)\n",
    "pValue.classic <- pValue.classic[order(pValue.classic)]\n",
    "head(pValue.classic)"
   ]
  },
  {
   "cell_type": "markdown",
   "metadata": {},
   "source": [
    "**Question 2.4 [5 points]**: What would you expect for the distribution of pvalues like the `pValue.classic` values? Plot the histogram of `pValue.classic` values and explain why or why not it matches your expectation?"
   ]
  },
  {
   "cell_type": "code",
   "execution_count": 32,
   "metadata": {
    "scrolled": true
   },
   "outputs": [
    {
     "data": {
      "image/png": "[encoded data removed]",
      "text/plain": [
       "Plot with title \"Histogram of pValue.classic\""
      ]
     },
     "metadata": {},
     "output_type": "display_data"
    }
   ],
   "source": [
    "### Insert Your Code Here ###\n",
    "hist(pValue.classic)"
   ]
  },
  {
   "cell_type": "markdown",
   "metadata": {},
   "source": [
    "#### Answer:\n",
    "I would expect most of p-values to be close to 1, because most sets should be not associated with random DEgene set. Yes the histogram matches my expectation"
   ]
  },
  {
   "cell_type": "markdown",
   "metadata": {},
   "source": [
    "Another useful feature of the `topGO` library is that we can plot the part of the Ontology tree that contains the most significant enrichment results.  For example:"
   ]
  },
  {
   "cell_type": "code",
   "execution_count": 33,
   "metadata": {},
   "outputs": [
    {
     "name": "stderr",
     "output_type": "stream",
     "text": [
      "Loading required package: Rgraphviz\n",
      "Loading required package: grid\n",
      "\n",
      "Attaching package: 'grid'\n",
      "\n",
      "The following object is masked from 'package:topGO':\n",
      "\n",
      "    depth\n",
      "\n",
      "\n",
      "Attaching package: 'Rgraphviz'\n",
      "\n",
      "The following objects are masked from 'package:IRanges':\n",
      "\n",
      "    from, to\n",
      "\n",
      "The following objects are masked from 'package:S4Vectors':\n",
      "\n",
      "    from, to\n",
      "\n"
     ]
    },
    {
     "data": {
      "text/plain": [
       "$dag\n",
       "A graphNEL graph with directed edges\n",
       "Number of Nodes = 10 \n",
       "Number of Edges = 10 \n",
       "\n",
       "$complete.dag\n",
       "[1] \"A graph with 10 nodes.\"\n"
      ]
     },
     "metadata": {},
     "output_type": "display_data"
    },
    {
     "data": {
      "image/png": "[encoded data removed]",
      "text/plain": [
       "plot without title"
      ]
     },
     "metadata": {},
     "output_type": "display_data"
    }
   ],
   "source": [
    "# top 3 GO terms in rectangles, most signif (red) to least (yellow),\n",
    "showSigOfNodes(GOdata, score(resultFisher), firstSigNodes = 3, useInfo = \"all\")"
   ]
  },
  {
   "cell_type": "markdown",
   "metadata": {},
   "source": [
    "**Question 2.5 [5 points]**: What do you notices about the top three significantly enriched terms?  What about the terms they are connected to?"
   ]
  },
  {
   "cell_type": "markdown",
   "metadata": {},
   "source": [
    "#### Answer:\n",
    "The three significantly enriched terms contain the rest of the significantly enriched terms."
   ]
  },
  {
   "cell_type": "markdown",
   "metadata": {},
   "source": [
    "We have conducted 488 enrichment tests, so it is appropriate to do multiple hypothesis testing correction. We will do the simplest (and one of the harshest) which is called the [Bonferroni correction](https://en.wikipedia.org/wiki/Bonferroni_correction).  The basic idea is that you should adjust the pvalues by multiplying each pvalue by the total number of statistical tests."
   ]
  },
  {
   "cell_type": "markdown",
   "metadata": {},
   "source": [
    "**Question 2.6 [6 points]**: What are the Bonferroni corrected significance values for the top 5 Gene Ontology terms?  How many terms would you consider significant after this harsh correction? What is one drawback of using Bonferroni for multiple hypothesis test correction?"
   ]
  },
  {
   "cell_type": "code",
   "execution_count": 34,
   "metadata": {},
   "outputs": [
    {
     "data": {
      "text/html": [
       "<dl class=dl-horizontal>\n",
       "\t<dt>GO:0005509</dt>\n",
       "\t\t<dd>0.0245921283319146</dd>\n",
       "\t<dt>GO:0031406</dt>\n",
       "\t\t<dd>0.206354882331655</dd>\n",
       "\t<dt>GO:0043177</dt>\n",
       "\t\t<dd>0.245016070672212</dd>\n",
       "\t<dt>GO:0005504</dt>\n",
       "\t\t<dd>0.278969795126755</dd>\n",
       "\t<dt>GO:0048018</dt>\n",
       "\t\t<dd>1.48653704832429</dd>\n",
       "\t<dt>GO:0033293</dt>\n",
       "\t\t<dd>1.68076879868165</dd>\n",
       "</dl>\n"
      ],
      "text/latex": [
       "\\begin{description*}\n",
       "\\item[GO:0005509] 0.0245921283319146\n",
       "\\item[GO:0031406] 0.206354882331655\n",
       "\\item[GO:0043177] 0.245016070672212\n",
       "\\item[GO:0005504] 0.278969795126755\n",
       "\\item[GO:0048018] 1.48653704832429\n",
       "\\item[GO:0033293] 1.68076879868165\n",
       "\\end{description*}\n"
      ],
      "text/markdown": [
       "GO:0005509\n",
       ":   0.0245921283319146GO:0031406\n",
       ":   0.206354882331655GO:0043177\n",
       ":   0.245016070672212GO:0005504\n",
       ":   0.278969795126755GO:0048018\n",
       ":   1.48653704832429GO:0033293\n",
       ":   1.68076879868165\n",
       "\n"
      ],
      "text/plain": [
       "GO:0005509 GO:0031406 GO:0043177 GO:0005504 GO:0048018 GO:0033293 \n",
       "0.02459213 0.20635488 0.24501607 0.27896980 1.48653705 1.68076880 "
      ]
     },
     "metadata": {},
     "output_type": "display_data"
    }
   ],
   "source": [
    "### Insert Your Code Here ###\n",
    "adjusted_pValue <- pValue.classic*488\n",
    "head(adjusted_pValue)"
   ]
  },
  {
   "cell_type": "markdown",
   "metadata": {},
   "source": [
    "#### Answer:\n",
    "The top 5 Gene Ontology terms(ordered) are shown above. After the adjustment, none of the terms would be considered significant. The drawback is that more Type II errors will be made."
   ]
  },
  {
   "cell_type": "markdown",
   "metadata": {},
   "source": [
    "**Question 2.7 [10 points]**: Time to put it all together.  What are the top enriched GO terms from the Molecular Function (MF) ontology for our 100 `topDE` genes we found in Question 1.4?  Do they relate to any particular general functions?  Are they significant after Bonferroni correction?"
   ]
  },
  {
   "cell_type": "code",
   "execution_count": 35,
   "metadata": {},
   "outputs": [
    {
     "name": "stderr",
     "output_type": "stream",
     "text": [
      "\n",
      "Building most specific GOs .....\n",
      "\t( 1960 GO terms found. )\n",
      "\n",
      "Build GO DAG topology ..........\n",
      "\t( 2486 GO terms and 3265 relations. )\n",
      "\n",
      "Annotating nodes ...............\n",
      "\t( 2446 genes annotated to the GO terms. )\n"
     ]
    },
    {
     "data": {
      "text/plain": [
       "\n",
       "------------------------- topGOdata object -------------------------\n",
       "\n",
       " Description:\n",
       "   -   \n",
       "\n",
       " Ontology:\n",
       "   -  MF \n",
       "\n",
       " 2492 available genes (all genes from the array):\n",
       "   - symbol:  4340 3119 4747 1293 5653  ...\n",
       "   - 100  significant genes. \n",
       "\n",
       " 2446 feasible genes (genes that can be used in the analysis):\n",
       "   - symbol:  4340 3119 4747 1293 5653  ...\n",
       "   - 99  significant genes. \n",
       "\n",
       " GO graph (nodes with at least  10  genes):\n",
       "   - a graph with directed edges\n",
       "   - number of nodes = 488 \n",
       "   - number of edges = 632 \n",
       "\n",
       "------------------------- topGOdata object -------------------------\n"
      ]
     },
     "metadata": {},
     "output_type": "display_data"
    }
   ],
   "source": [
    "### Insert Your Code Here ###\n",
    "\n",
    "\n",
    "geneList2 <- geneList\n",
    "\n",
    "\n",
    "\n",
    "for(i in 1:length(geneList)){\n",
    "    if(names(geneList[i]) %in% name_store)\n",
    "        geneList2[i] = 1\n",
    "    else\n",
    "        geneList2[i] = 0\n",
    "    \n",
    "}\n",
    "\n",
    "GOdata1 <- new(\"topGOdata\",\n",
    "              ontology = \"MF\", # one of the three `Ontology` trees, this one is \"Molecular Function\"\n",
    "              allGenes = geneList2, # a factor containing the 'universe' of genes with the genes of the gene set having the score of 1\n",
    "              annotationFun = annFUN.org,\n",
    "              mapping = \"org.Hs.eg.db\", # with the above line, the annotation database to extract GO annotations\n",
    "              nodeSize = 10 # the minimum gene set size for a GO annotation term gene set\n",
    "              )\n",
    "GOdata1\n"
   ]
  },
  {
   "cell_type": "code",
   "execution_count": 36,
   "metadata": {},
   "outputs": [
    {
     "name": "stderr",
     "output_type": "stream",
     "text": [
      "\n",
      "\t\t\t -- Classic Algorithm -- \n",
      "\n",
      "\t\t the algorithm is scoring 329 nontrivial nodes\n",
      "\t\t parameters: \n",
      "\t\t\t test statistic: fisher\n"
     ]
    },
    {
     "data": {
      "text/html": [
       "<dl class=dl-horizontal>\n",
       "\t<dt>GO:0005070</dt>\n",
       "\t\t<dd>0.00612492929295302</dd>\n",
       "\t<dt>GO:0004709</dt>\n",
       "\t\t<dd>0.00624702726668269</dd>\n",
       "\t<dt>GO:0004702</dt>\n",
       "\t\t<dd>0.00682466269900744</dd>\n",
       "\t<dt>GO:0004714</dt>\n",
       "\t\t<dd>0.0143789873244722</dd>\n",
       "\t<dt>GO:0035591</dt>\n",
       "\t\t<dd>0.0190184201808755</dd>\n",
       "\t<dt>GO:0005057</dt>\n",
       "\t\t<dd>0.0257682523064564</dd>\n",
       "</dl>\n"
      ],
      "text/latex": [
       "\\begin{description*}\n",
       "\\item[GO:0005070] 0.00612492929295302\n",
       "\\item[GO:0004709] 0.00624702726668269\n",
       "\\item[GO:0004702] 0.00682466269900744\n",
       "\\item[GO:0004714] 0.0143789873244722\n",
       "\\item[GO:0035591] 0.0190184201808755\n",
       "\\item[GO:0005057] 0.0257682523064564\n",
       "\\end{description*}\n"
      ],
      "text/markdown": [
       "GO:0005070\n",
       ":   0.00612492929295302GO:0004709\n",
       ":   0.00624702726668269GO:0004702\n",
       ":   0.00682466269900744GO:0004714\n",
       ":   0.0143789873244722GO:0035591\n",
       ":   0.0190184201808755GO:0005057\n",
       ":   0.0257682523064564\n",
       "\n"
      ],
      "text/plain": [
       " GO:0005070  GO:0004709  GO:0004702  GO:0004714  GO:0035591  GO:0005057 \n",
       "0.006124929 0.006247027 0.006824663 0.014378987 0.019018420 0.025768252 "
      ]
     },
     "metadata": {},
     "output_type": "display_data"
    }
   ],
   "source": [
    "\n",
    "resultFisher <- runTest(GOdata1, algorithm = \"classic\", statistic = \"fisher\")\n",
    "pValue.classic <- score(resultFisher)\n",
    "pValue.classic <- pValue.classic[order(pValue.classic)]\n",
    "head(pValue.classic)\n"
   ]
  },
  {
   "cell_type": "code",
   "execution_count": 37,
   "metadata": {
    "scrolled": false
   },
   "outputs": [
    {
     "data": {
      "image/png": "[encoded data removed]",
      "text/plain": [
       "Plot with title \"Histogram of pValue.classic\""
      ]
     },
     "metadata": {},
     "output_type": "display_data"
    },
    {
     "data": {
      "text/plain": [
       "$dag\n",
       "A graphNEL graph with directed edges\n",
       "Number of Nodes = 19 \n",
       "Number of Edges = 23 \n",
       "\n",
       "$complete.dag\n",
       "[1] \"A graph with 19 nodes.\"\n"
      ]
     },
     "metadata": {},
     "output_type": "display_data"
    },
    {
     "data": {
      "image/png": "[encoded data removed]",
      "text/plain": [
       "plot without title"
      ]
     },
     "metadata": {},
     "output_type": "display_data"
    }
   ],
   "source": [
    "hist(pValue.classic)\n",
    "showSigOfNodes(GOdata, score(resultFisher), firstSigNodes = 3, useInfo = \"all\")"
   ]
  },
  {
   "cell_type": "code",
   "execution_count": 38,
   "metadata": {},
   "outputs": [
    {
     "data": {
      "text/html": [
       "<table>\n",
       "<thead><tr><th scope=col>GO.ID</th><th scope=col>Term</th><th scope=col>Annotated</th><th scope=col>Significant</th><th scope=col>Expected</th><th scope=col>classicFisher</th></tr></thead>\n",
       "<tbody>\n",
       "\t<tr><td>GO:0005070                                 </td><td>SH3/SH2 adaptor activity                   </td><td>19                                         </td><td>2                                          </td><td>0.74                                       </td><td>0.0061                                     </td></tr>\n",
       "\t<tr><td>GO:0004709                                 </td><td>MAP kinase kinase kinase activity          </td><td>30                                         </td><td>3                                          </td><td>1.17                                       </td><td>0.0062                                     </td></tr>\n",
       "\t<tr><td>GO:0004702                                 </td><td>signal transducer, downstream of recepto...</td><td>43                                         </td><td>4                                          </td><td>1.67                                       </td><td>0.0068                                     </td></tr>\n",
       "\t<tr><td>GO:0004714                                 </td><td>transmembrane receptor protein tyrosine ...</td><td>24                                         </td><td>3                                          </td><td>0.93                                       </td><td>0.0144                                     </td></tr>\n",
       "\t<tr><td>GO:0035591                                 </td><td>signaling adaptor activity                 </td><td>26                                         </td><td>2                                          </td><td>1.01                                       </td><td>0.0190                                     </td></tr>\n",
       "\t<tr><td>GO:0005057                                 </td><td>signal transducer activity, downstream o...</td><td>57                                         </td><td>5                                          </td><td>2.21                                       </td><td>0.0258                                     </td></tr>\n",
       "\t<tr><td>GO:0019199                                 </td><td>transmembrane receptor protein kinase ac...</td><td>29                                         </td><td>4                                          </td><td>1.13                                       </td><td>0.0275                                     </td></tr>\n",
       "\t<tr><td>GO:0031434                                 </td><td>mitogen-activated protein kinase kinase ...</td><td>29                                         </td><td>3                                          </td><td>1.13                                       </td><td>0.0275                                     </td></tr>\n",
       "\t<tr><td>GO:0004713                                 </td><td>protein tyrosine kinase activity           </td><td>49                                         </td><td>4                                          </td><td>1.90                                       </td><td>0.0457                                     </td></tr>\n",
       "\t<tr><td>GO:0016741                                 </td><td>transferase activity, transferring one-c...</td><td>21                                         </td><td>0                                          </td><td>0.82                                       </td><td>0.0504                                     </td></tr>\n",
       "\t<tr><td>GO:0004857                                 </td><td>enzyme inhibitor activity                  </td><td>69                                         </td><td>4                                          </td><td>2.68                                       </td><td>0.0578                                     </td></tr>\n",
       "\t<tr><td>GO:0030594                                 </td><td>neurotransmitter receptor activity         </td><td>10                                         </td><td>1                                          </td><td>0.39                                       </td><td>0.0590                                     </td></tr>\n",
       "\t<tr><td>GO:0043236                                 </td><td>laminin binding                            </td><td>10                                         </td><td>1                                          </td><td>0.39                                       </td><td>0.0590                                     </td></tr>\n",
       "\t<tr><td>GO:0042578                                 </td><td>phosphoric ester hydrolase activity        </td><td>72                                         </td><td>3                                          </td><td>2.80                                       </td><td>0.0685                                     </td></tr>\n",
       "\t<tr><td>GO:0140097                                 </td><td>catalytic activity, acting on DNA          </td><td>41                                         </td><td>3                                          </td><td>1.59                                       </td><td>0.0815                                     </td></tr>\n",
       "\t<tr><td>GO:0008081                                 </td><td>phosphoric diester hydrolase activity      </td><td>12                                         </td><td>1                                          </td><td>0.47                                       </td><td>0.0822                                     </td></tr>\n",
       "\t<tr><td>GO:0016303                                 </td><td>1-phosphatidylinositol-3-kinase activity   </td><td>12                                         </td><td>0                                          </td><td>0.47                                       </td><td>0.0822                                     </td></tr>\n",
       "\t<tr><td>GO:0044769                                 </td><td>ATPase activity, coupled to transmembran...</td><td>12                                         </td><td>0                                          </td><td>0.47                                       </td><td>0.0822                                     </td></tr>\n",
       "\t<tr><td>GO:0052742                                 </td><td>phosphatidylinositol kinase activity       </td><td>12                                         </td><td>0                                          </td><td>0.47                                       </td><td>0.0822                                     </td></tr>\n",
       "\t<tr><td>GO:0008201                                 </td><td>heparin binding                            </td><td>26                                         </td><td>4                                          </td><td>1.01                                       </td><td>0.0853                                     </td></tr>\n",
       "</tbody>\n",
       "</table>\n"
      ],
      "text/latex": [
       "\\begin{tabular}{r|llllll}\n",
       " GO.ID & Term & Annotated & Significant & Expected & classicFisher\\\\\n",
       "\\hline\n",
       "\t GO:0005070                                  & SH3/SH2 adaptor activity                    & 19                                          & 2                                           & 0.74                                        & 0.0061                                     \\\\\n",
       "\t GO:0004709                                  & MAP kinase kinase kinase activity           & 30                                          & 3                                           & 1.17                                        & 0.0062                                     \\\\\n",
       "\t GO:0004702                                  & signal transducer, downstream of recepto... & 43                                          & 4                                           & 1.67                                        & 0.0068                                     \\\\\n",
       "\t GO:0004714                                  & transmembrane receptor protein tyrosine ... & 24                                          & 3                                           & 0.93                                        & 0.0144                                     \\\\\n",
       "\t GO:0035591                                  & signaling adaptor activity                  & 26                                          & 2                                           & 1.01                                        & 0.0190                                     \\\\\n",
       "\t GO:0005057                                  & signal transducer activity, downstream o... & 57                                          & 5                                           & 2.21                                        & 0.0258                                     \\\\\n",
       "\t GO:0019199                                  & transmembrane receptor protein kinase ac... & 29                                          & 4                                           & 1.13                                        & 0.0275                                     \\\\\n",
       "\t GO:0031434                                  & mitogen-activated protein kinase kinase ... & 29                                          & 3                                           & 1.13                                        & 0.0275                                     \\\\\n",
       "\t GO:0004713                                  & protein tyrosine kinase activity            & 49                                          & 4                                           & 1.90                                        & 0.0457                                     \\\\\n",
       "\t GO:0016741                                  & transferase activity, transferring one-c... & 21                                          & 0                                           & 0.82                                        & 0.0504                                     \\\\\n",
       "\t GO:0004857                                  & enzyme inhibitor activity                   & 69                                          & 4                                           & 2.68                                        & 0.0578                                     \\\\\n",
       "\t GO:0030594                                  & neurotransmitter receptor activity          & 10                                          & 1                                           & 0.39                                        & 0.0590                                     \\\\\n",
       "\t GO:0043236                                  & laminin binding                             & 10                                          & 1                                           & 0.39                                        & 0.0590                                     \\\\\n",
       "\t GO:0042578                                  & phosphoric ester hydrolase activity         & 72                                          & 3                                           & 2.80                                        & 0.0685                                     \\\\\n",
       "\t GO:0140097                                  & catalytic activity, acting on DNA           & 41                                          & 3                                           & 1.59                                        & 0.0815                                     \\\\\n",
       "\t GO:0008081                                  & phosphoric diester hydrolase activity       & 12                                          & 1                                           & 0.47                                        & 0.0822                                     \\\\\n",
       "\t GO:0016303                                  & 1-phosphatidylinositol-3-kinase activity    & 12                                          & 0                                           & 0.47                                        & 0.0822                                     \\\\\n",
       "\t GO:0044769                                  & ATPase activity, coupled to transmembran... & 12                                          & 0                                           & 0.47                                        & 0.0822                                     \\\\\n",
       "\t GO:0052742                                  & phosphatidylinositol kinase activity        & 12                                          & 0                                           & 0.47                                        & 0.0822                                     \\\\\n",
       "\t GO:0008201                                  & heparin binding                             & 26                                          & 4                                           & 1.01                                        & 0.0853                                     \\\\\n",
       "\\end{tabular}\n"
      ],
      "text/markdown": [
       "\n",
       "GO.ID | Term | Annotated | Significant | Expected | classicFisher | \n",
       "|---|---|---|---|---|---|---|---|---|---|---|---|---|---|---|---|---|---|---|---|\n",
       "| GO:0005070                                  | SH3/SH2 adaptor activity                    | 19                                          | 2                                           | 0.74                                        | 0.0061                                      | \n",
       "| GO:0004709                                  | MAP kinase kinase kinase activity           | 30                                          | 3                                           | 1.17                                        | 0.0062                                      | \n",
       "| GO:0004702                                  | signal transducer, downstream of recepto... | 43                                          | 4                                           | 1.67                                        | 0.0068                                      | \n",
       "| GO:0004714                                  | transmembrane receptor protein tyrosine ... | 24                                          | 3                                           | 0.93                                        | 0.0144                                      | \n",
       "| GO:0035591                                  | signaling adaptor activity                  | 26                                          | 2                                           | 1.01                                        | 0.0190                                      | \n",
       "| GO:0005057                                  | signal transducer activity, downstream o... | 57                                          | 5                                           | 2.21                                        | 0.0258                                      | \n",
       "| GO:0019199                                  | transmembrane receptor protein kinase ac... | 29                                          | 4                                           | 1.13                                        | 0.0275                                      | \n",
       "| GO:0031434                                  | mitogen-activated protein kinase kinase ... | 29                                          | 3                                           | 1.13                                        | 0.0275                                      | \n",
       "| GO:0004713                                  | protein tyrosine kinase activity            | 49                                          | 4                                           | 1.90                                        | 0.0457                                      | \n",
       "| GO:0016741                                  | transferase activity, transferring one-c... | 21                                          | 0                                           | 0.82                                        | 0.0504                                      | \n",
       "| GO:0004857                                  | enzyme inhibitor activity                   | 69                                          | 4                                           | 2.68                                        | 0.0578                                      | \n",
       "| GO:0030594                                  | neurotransmitter receptor activity          | 10                                          | 1                                           | 0.39                                        | 0.0590                                      | \n",
       "| GO:0043236                                  | laminin binding                             | 10                                          | 1                                           | 0.39                                        | 0.0590                                      | \n",
       "| GO:0042578                                  | phosphoric ester hydrolase activity         | 72                                          | 3                                           | 2.80                                        | 0.0685                                      | \n",
       "| GO:0140097                                  | catalytic activity, acting on DNA           | 41                                          | 3                                           | 1.59                                        | 0.0815                                      | \n",
       "| GO:0008081                                  | phosphoric diester hydrolase activity       | 12                                          | 1                                           | 0.47                                        | 0.0822                                      | \n",
       "| GO:0016303                                  | 1-phosphatidylinositol-3-kinase activity    | 12                                          | 0                                           | 0.47                                        | 0.0822                                      | \n",
       "| GO:0044769                                  | ATPase activity, coupled to transmembran... | 12                                          | 0                                           | 0.47                                        | 0.0822                                      | \n",
       "| GO:0052742                                  | phosphatidylinositol kinase activity        | 12                                          | 0                                           | 0.47                                        | 0.0822                                      | \n",
       "| GO:0008201                                  | heparin binding                             | 26                                          | 4                                           | 1.01                                        | 0.0853                                      | \n",
       "\n",
       "\n"
      ],
      "text/plain": [
       "   GO.ID      Term                                        Annotated Significant\n",
       "1  GO:0005070 SH3/SH2 adaptor activity                    19        2          \n",
       "2  GO:0004709 MAP kinase kinase kinase activity           30        3          \n",
       "3  GO:0004702 signal transducer, downstream of recepto... 43        4          \n",
       "4  GO:0004714 transmembrane receptor protein tyrosine ... 24        3          \n",
       "5  GO:0035591 signaling adaptor activity                  26        2          \n",
       "6  GO:0005057 signal transducer activity, downstream o... 57        5          \n",
       "7  GO:0019199 transmembrane receptor protein kinase ac... 29        4          \n",
       "8  GO:0031434 mitogen-activated protein kinase kinase ... 29        3          \n",
       "9  GO:0004713 protein tyrosine kinase activity            49        4          \n",
       "10 GO:0016741 transferase activity, transferring one-c... 21        0          \n",
       "11 GO:0004857 enzyme inhibitor activity                   69        4          \n",
       "12 GO:0030594 neurotransmitter receptor activity          10        1          \n",
       "13 GO:0043236 laminin binding                             10        1          \n",
       "14 GO:0042578 phosphoric ester hydrolase activity         72        3          \n",
       "15 GO:0140097 catalytic activity, acting on DNA           41        3          \n",
       "16 GO:0008081 phosphoric diester hydrolase activity       12        1          \n",
       "17 GO:0016303 1-phosphatidylinositol-3-kinase activity    12        0          \n",
       "18 GO:0044769 ATPase activity, coupled to transmembran... 12        0          \n",
       "19 GO:0052742 phosphatidylinositol kinase activity        12        0          \n",
       "20 GO:0008201 heparin binding                             26        4          \n",
       "   Expected classicFisher\n",
       "1  0.74     0.0061       \n",
       "2  1.17     0.0062       \n",
       "3  1.67     0.0068       \n",
       "4  0.93     0.0144       \n",
       "5  1.01     0.0190       \n",
       "6  2.21     0.0258       \n",
       "7  1.13     0.0275       \n",
       "8  1.13     0.0275       \n",
       "9  1.90     0.0457       \n",
       "10 0.82     0.0504       \n",
       "11 2.68     0.0578       \n",
       "12 0.39     0.0590       \n",
       "13 0.39     0.0590       \n",
       "14 2.80     0.0685       \n",
       "15 1.59     0.0815       \n",
       "16 0.47     0.0822       \n",
       "17 0.47     0.0822       \n",
       "18 0.47     0.0822       \n",
       "19 0.47     0.0822       \n",
       "20 1.01     0.0853       "
      ]
     },
     "metadata": {},
     "output_type": "display_data"
    },
    {
     "data": {
      "text/html": [
       "2.7027027027027"
      ],
      "text/latex": [
       "2.7027027027027"
      ],
      "text/markdown": [
       "2.7027027027027"
      ],
      "text/plain": [
       "[1] 2.702703"
      ]
     },
     "metadata": {},
     "output_type": "display_data"
    }
   ],
   "source": [
    "allRes <- GenTable(GOdata, classicFisher = resultFisher,\n",
    "                   orderBy = \"classicFisher\", ranksOf = \"classicFisher\",\n",
    "                   topNodes = 20)\n",
    "allRes\n",
    "allRes$Significant[1]/allRes$Expected[1]"
   ]
  },
  {
   "cell_type": "code",
   "execution_count": 39,
   "metadata": {},
   "outputs": [
    {
     "data": {
      "text/html": [
       "<dl class=dl-horizontal>\n",
       "\t<dt>GO:0005070</dt>\n",
       "\t\t<dd>2.98896549496108</dd>\n",
       "\t<dt>GO:0004709</dt>\n",
       "\t\t<dd>3.04854930614115</dd>\n",
       "\t<dt>GO:0004702</dt>\n",
       "\t\t<dd>3.33043539711563</dd>\n",
       "\t<dt>GO:0004714</dt>\n",
       "\t\t<dd>7.01694581434244</dd>\n",
       "\t<dt>GO:0035591</dt>\n",
       "\t\t<dd>9.28098904826726</dd>\n",
       "\t<dt>GO:0005057</dt>\n",
       "\t\t<dd>12.5749071255507</dd>\n",
       "</dl>\n"
      ],
      "text/latex": [
       "\\begin{description*}\n",
       "\\item[GO:0005070] 2.98896549496108\n",
       "\\item[GO:0004709] 3.04854930614115\n",
       "\\item[GO:0004702] 3.33043539711563\n",
       "\\item[GO:0004714] 7.01694581434244\n",
       "\\item[GO:0035591] 9.28098904826726\n",
       "\\item[GO:0005057] 12.5749071255507\n",
       "\\end{description*}\n"
      ],
      "text/markdown": [
       "GO:0005070\n",
       ":   2.98896549496108GO:0004709\n",
       ":   3.04854930614115GO:0004702\n",
       ":   3.33043539711563GO:0004714\n",
       ":   7.01694581434244GO:0035591\n",
       ":   9.28098904826726GO:0005057\n",
       ":   12.5749071255507\n",
       "\n"
      ],
      "text/plain": [
       "GO:0005070 GO:0004709 GO:0004702 GO:0004714 GO:0035591 GO:0005057 \n",
       "  2.988965   3.048549   3.330435   7.016946   9.280989  12.574907 "
      ]
     },
     "metadata": {},
     "output_type": "display_data"
    }
   ],
   "source": [
    "adjusted_pValue <- pValue.classic*488\n",
    "head(adjusted_pValue)"
   ]
  },
  {
   "cell_type": "markdown",
   "metadata": {},
   "source": [
    "#### Answer:\n",
    "The top enriched GO terms from the Molecular Function (MF) ontology are shown above. They relate to several functions such as kinase activities. They are not significant after Bonderroni correction. "
   ]
  },
  {
   "cell_type": "markdown",
   "metadata": {},
   "source": [
    "### Problem 3: Gene Co-Expression Clusters (35 bonus points)\n",
    "Finally, we will use correlation relationships between genes to build co-expression gene modules (sets). There are many methods for building these co-expression networks but we will focus on one popular option [WGCNA](https://horvath.genetics.ucla.edu/html/CoexpressionNetwork/Rpackages/WGCNA/Tutorials/). We will use our GBM expression dataset and the WGCNA algorithm to build gene modules and then test those modules for enrichment to Gene Ontology annotations.\n",
    "\n",
    "First, we reload the data."
   ]
  },
  {
   "cell_type": "code",
   "execution_count": 40,
   "metadata": {},
   "outputs": [
    {
     "data": {
      "text/html": [
       "<ol class=list-inline>\n",
       "\t<li>2492</li>\n",
       "\t<li>155</li>\n",
       "</ol>\n"
      ],
      "text/latex": [
       "\\begin{enumerate*}\n",
       "\\item 2492\n",
       "\\item 155\n",
       "\\end{enumerate*}\n"
      ],
      "text/markdown": [
       "1. 2492\n",
       "2. 155\n",
       "\n",
       "\n"
      ],
      "text/plain": [
       "[1] 2492  155"
      ]
     },
     "metadata": {},
     "output_type": "display_data"
    },
    {
     "data": {
      "text/html": [
       "<table>\n",
       "<thead><tr><th></th><th scope=col>TCGA.02.2483</th><th scope=col>TCGA.06.2558</th><th scope=col>TCGA.06.5413</th><th scope=col>TCGA.06.0744</th><th scope=col>TCGA.41.2572</th></tr></thead>\n",
       "<tbody>\n",
       "\t<tr><th scope=row>4340</th><td> 5.86707</td><td>10.20860</td><td>12.52460</td><td> 7.01528</td><td> 9.73468</td></tr>\n",
       "\t<tr><th scope=row>3119</th><td> 8.12704</td><td>11.59350</td><td>14.06810</td><td> 9.04885</td><td>12.23580</td></tr>\n",
       "\t<tr><th scope=row>4747</th><td> 5.77170</td><td>12.40060</td><td> 8.37827</td><td>10.25210</td><td> 9.86113</td></tr>\n",
       "\t<tr><th scope=row>1293</th><td> 5.97804</td><td>11.71670</td><td> 9.04709</td><td> 9.48972</td><td> 8.59887</td></tr>\n",
       "\t<tr><th scope=row>5653</th><td>10.69530</td><td> 7.80236</td><td>11.48920</td><td>11.91510</td><td> 6.84002</td></tr>\n",
       "</tbody>\n",
       "</table>\n"
      ],
      "text/latex": [
       "\\begin{tabular}{r|lllll}\n",
       "  & TCGA.02.2483 & TCGA.06.2558 & TCGA.06.5413 & TCGA.06.0744 & TCGA.41.2572\\\\\n",
       "\\hline\n",
       "\t4340 &  5.86707 & 10.20860 & 12.52460 &  7.01528 &  9.73468\\\\\n",
       "\t3119 &  8.12704 & 11.59350 & 14.06810 &  9.04885 & 12.23580\\\\\n",
       "\t4747 &  5.77170 & 12.40060 &  8.37827 & 10.25210 &  9.86113\\\\\n",
       "\t1293 &  5.97804 & 11.71670 &  9.04709 &  9.48972 &  8.59887\\\\\n",
       "\t5653 & 10.69530 &  7.80236 & 11.48920 & 11.91510 &  6.84002\\\\\n",
       "\\end{tabular}\n"
      ],
      "text/markdown": [
       "\n",
       "| <!--/--> | TCGA.02.2483 | TCGA.06.2558 | TCGA.06.5413 | TCGA.06.0744 | TCGA.41.2572 | \n",
       "|---|---|---|---|---|\n",
       "| 4340 |  5.86707 | 10.20860 | 12.52460 |  7.01528 |  9.73468 | \n",
       "| 3119 |  8.12704 | 11.59350 | 14.06810 |  9.04885 | 12.23580 | \n",
       "| 4747 |  5.77170 | 12.40060 |  8.37827 | 10.25210 |  9.86113 | \n",
       "| 1293 |  5.97804 | 11.71670 |  9.04709 |  9.48972 |  8.59887 | \n",
       "| 5653 | 10.69530 |  7.80236 | 11.48920 | 11.91510 |  6.84002 | \n",
       "\n",
       "\n"
      ],
      "text/plain": [
       "     TCGA.02.2483 TCGA.06.2558 TCGA.06.5413 TCGA.06.0744 TCGA.41.2572\n",
       "4340  5.86707     10.20860     12.52460      7.01528      9.73468    \n",
       "3119  8.12704     11.59350     14.06810      9.04885     12.23580    \n",
       "4747  5.77170     12.40060      8.37827     10.25210      9.86113    \n",
       "1293  5.97804     11.71670      9.04709      9.48972      8.59887    \n",
       "5653 10.69530      7.80236     11.48920     11.91510      6.84002    "
      ]
     },
     "metadata": {},
     "output_type": "display_data"
    }
   ],
   "source": [
    "expr_file <- \"TCGA-GBM.log2norm.2492genes.entrez.txt\"\n",
    "log2NormExpr <- read.table(expr_file, sep = \"\\t\", header = T, row.names = 1,\n",
    "                           stringsAsFactors = F)\n",
    "dim(log2NormExpr)\n",
    "log2NormExpr[1:5, 1:5]"
   ]
  },
  {
   "cell_type": "markdown",
   "metadata": {},
   "source": [
    "Next we load the WCGNA library and default options."
   ]
  },
  {
   "cell_type": "code",
   "execution_count": 41,
   "metadata": {},
   "outputs": [
    {
     "name": "stderr",
     "output_type": "stream",
     "text": [
      "Warning message:\n",
      "\"package 'WGCNA' was built under R version 3.5.3\"Loading required package: dynamicTreeCut\n",
      "Warning message:\n",
      "\"package 'dynamicTreeCut' was built under R version 3.5.2\"Loading required package: fastcluster\n",
      "Warning message:\n",
      "\"package 'fastcluster' was built under R version 3.5.2\"\n",
      "Attaching package: 'fastcluster'\n",
      "\n",
      "The following object is masked from 'package:stats':\n",
      "\n",
      "    hclust\n",
      "\n",
      "\n",
      "Attaching package: 'WGCNA'\n",
      "\n",
      "The following object is masked from 'package:IRanges':\n",
      "\n",
      "    cor\n",
      "\n",
      "The following object is masked from 'package:S4Vectors':\n",
      "\n",
      "    cor\n",
      "\n",
      "The following object is masked from 'package:stats':\n",
      "\n",
      "    cor\n",
      "\n"
     ]
    },
    {
     "name": "stdout",
     "output_type": "stream",
     "text": [
      "Allowing parallel execution with up to 3 working processes.\n"
     ]
    }
   ],
   "source": [
    "library(WGCNA)\n",
    "options(stringsAsFactors = FALSE);\n",
    "enableWGCNAThreads()"
   ]
  },
  {
   "cell_type": "markdown",
   "metadata": {},
   "source": [
    "The WGCNA works by first calculating a similarity matrix with values for every pair of genes that captures their absolute correlation.  Rather than normal correlation measures, WGCNA calculates a specialize biweight midcorrelation measure with the `bicor()` [function](https://www.rdocumentation.org/packages/WGCNA/versions/1.66/topics/bicor).  The results after this first step are as follows:"
   ]
  },
  {
   "cell_type": "code",
   "execution_count": 42,
   "metadata": {},
   "outputs": [
    {
     "data": {
      "text/html": [
       "<ol class=list-inline>\n",
       "\t<li>2492</li>\n",
       "\t<li>2492</li>\n",
       "</ol>\n"
      ],
      "text/latex": [
       "\\begin{enumerate*}\n",
       "\\item 2492\n",
       "\\item 2492\n",
       "\\end{enumerate*}\n"
      ],
      "text/markdown": [
       "1. 2492\n",
       "2. 2492\n",
       "\n",
       "\n"
      ],
      "text/plain": [
       "[1] 2492 2492"
      ]
     },
     "metadata": {},
     "output_type": "display_data"
    },
    {
     "data": {
      "text/html": [
       "<table>\n",
       "<thead><tr><th></th><th scope=col>4340</th><th scope=col>3119</th><th scope=col>4747</th><th scope=col>1293</th><th scope=col>5653</th></tr></thead>\n",
       "<tbody>\n",
       "\t<tr><th scope=row>4340</th><td>1.00000000</td><td>0.9770895 </td><td>0.09839374</td><td>0.1123370 </td><td>0.1311944 </td></tr>\n",
       "\t<tr><th scope=row>3119</th><td>0.97708951</td><td>1.0000000 </td><td>0.10414521</td><td>0.1218930 </td><td>0.1126213 </td></tr>\n",
       "\t<tr><th scope=row>4747</th><td>0.09839374</td><td>0.1041452 </td><td>1.00000000</td><td>0.9634425 </td><td>0.1085717 </td></tr>\n",
       "\t<tr><th scope=row>1293</th><td>0.11233699</td><td>0.1218930 </td><td>0.96344254</td><td>1.0000000 </td><td>0.1233165 </td></tr>\n",
       "\t<tr><th scope=row>5653</th><td>0.13119438</td><td>0.1126213 </td><td>0.10857171</td><td>0.1233165 </td><td>1.0000000 </td></tr>\n",
       "</tbody>\n",
       "</table>\n"
      ],
      "text/latex": [
       "\\begin{tabular}{r|lllll}\n",
       "  & 4340 & 3119 & 4747 & 1293 & 5653\\\\\n",
       "\\hline\n",
       "\t4340 & 1.00000000 & 0.9770895  & 0.09839374 & 0.1123370  & 0.1311944 \\\\\n",
       "\t3119 & 0.97708951 & 1.0000000  & 0.10414521 & 0.1218930  & 0.1126213 \\\\\n",
       "\t4747 & 0.09839374 & 0.1041452  & 1.00000000 & 0.9634425  & 0.1085717 \\\\\n",
       "\t1293 & 0.11233699 & 0.1218930  & 0.96344254 & 1.0000000  & 0.1233165 \\\\\n",
       "\t5653 & 0.13119438 & 0.1126213  & 0.10857171 & 0.1233165  & 1.0000000 \\\\\n",
       "\\end{tabular}\n"
      ],
      "text/markdown": [
       "\n",
       "| <!--/--> | 4340 | 3119 | 4747 | 1293 | 5653 | \n",
       "|---|---|---|---|---|\n",
       "| 4340 | 1.00000000 | 0.9770895  | 0.09839374 | 0.1123370  | 0.1311944  | \n",
       "| 3119 | 0.97708951 | 1.0000000  | 0.10414521 | 0.1218930  | 0.1126213  | \n",
       "| 4747 | 0.09839374 | 0.1041452  | 1.00000000 | 0.9634425  | 0.1085717  | \n",
       "| 1293 | 0.11233699 | 0.1218930  | 0.96344254 | 1.0000000  | 0.1233165  | \n",
       "| 5653 | 0.13119438 | 0.1126213  | 0.10857171 | 0.1233165  | 1.0000000  | \n",
       "\n",
       "\n"
      ],
      "text/plain": [
       "     4340       3119      4747       1293      5653     \n",
       "4340 1.00000000 0.9770895 0.09839374 0.1123370 0.1311944\n",
       "3119 0.97708951 1.0000000 0.10414521 0.1218930 0.1126213\n",
       "4747 0.09839374 0.1041452 1.00000000 0.9634425 0.1085717\n",
       "1293 0.11233699 0.1218930 0.96344254 1.0000000 0.1233165\n",
       "5653 0.13119438 0.1126213 0.10857171 0.1233165 1.0000000"
      ]
     },
     "metadata": {},
     "output_type": "display_data"
    }
   ],
   "source": [
    "sim_mat <- abs(bicor(t(log2NormExpr)))\n",
    "dim(sim_mat)\n",
    "sim_mat[1:5, 1:5]"
   ]
  },
  {
   "cell_type": "markdown",
   "metadata": {},
   "source": [
    "The next important feature of WGNCA is that they raise this similarity matrix to an exponential power.  The reason for this is that they believe that biological networks should have the scale-free [properties](https://en.wikipedia.org/wiki/Scale-free_network).  At different powers, the contribution of small correlation values is lessened and the network begins to look more and more like a scale free ideal.  WGCNA leaves it to the user to select the appropriate \"soft thresholding\" power before running a clustering algorithm.  We will create plots to compare the different values of the soft thresholding powers in the next cell."
   ]
  },
  {
   "cell_type": "code",
   "execution_count": 43,
   "metadata": {},
   "outputs": [
    {
     "name": "stdout",
     "output_type": "stream",
     "text": [
      "pickSoftThreshold: will use block size 2492.\n",
      " pickSoftThreshold: calculating connectivity for given powers...\n",
      "   ..working on genes 1 through 2492 of 2492\n",
      "   Power SFT.R.sq  slope truncated.R.sq mean.k. median.k. max.k.\n",
      "1      1   0.0482  0.626          0.904 411.000  409.0000 675.00\n",
      "2      2   0.2070 -0.654          0.952 114.000  106.0000 268.00\n",
      "3      3   0.6270 -1.190          0.982  41.900   35.4000 140.00\n",
      "4      4   0.8210 -1.510          0.986  18.900   14.0000  88.10\n",
      "5      5   0.8310 -1.680          0.942   9.810    6.4500  61.40\n",
      "6      6   0.9290 -1.620          0.982   5.690    3.1200  45.20\n",
      "7      7   0.9530 -1.620          0.984   3.580    1.6300  35.30\n",
      "8      8   0.9510 -1.640          0.975   2.400    0.9250  29.50\n",
      "9      9   0.9520 -1.650          0.977   1.690    0.5460  25.00\n",
      "10    10   0.9390 -1.650          0.960   1.240    0.3330  21.40\n",
      "11    12   0.9500 -1.630          0.981   0.730    0.1290  16.10\n",
      "12    14   0.9480 -1.610          0.974   0.472    0.0533  12.60\n",
      "13    16   0.8820 -1.660          0.889   0.326    0.0232  10.00\n",
      "14    18   0.9260 -1.580          0.947   0.237    0.0105   8.15\n",
      "15    20   0.9540 -1.540          0.976   0.180    0.0048   6.74\n"
     ]
    },
    {
     "data": {
      "image/png": "[encoded data removed]",
      "text/plain": [
       "Plot with title \"Scale independence\""
      ]
     },
     "metadata": {},
     "output_type": "display_data"
    }
   ],
   "source": [
    "# Choose a set of possible soft-thresholding powers\n",
    "powers <- c(c(1:10), seq(from = 12, to = 20, by = 2))\n",
    "\n",
    "# Call the network topology analysis function\n",
    "sft <- pickSoftThreshold(t(log2NormExpr), powerVector = powers, verbose = 5)\n",
    "\n",
    "# Plot the results:\n",
    "cex1 <- 0.9;\n",
    "# Scale-free topology fit index as a function of the soft-thresholding power\n",
    "plot(sft$fitIndices[, 1], -sign(sft$fitIndices[, 3]) * sft$fitIndices[, 2],\n",
    "     xlab = \"Soft Threshold (power)\",\n",
    "     ylab = \"Scale Free Topology Model Fit,signed R^2\",\n",
    "     type = \"n\", main = paste(\"Scale independence\"));\n",
    "text(sft$fitIndices[, 1], -sign(sft$fitIndices[, 3]) * sft$fitIndices[, 2],\n",
    "     labels = powers, cex = cex1, col = \"red\");\n",
    "\n",
    "# this line corresponds to using an R^2 cut-off of h\n",
    "abline(h = 0.90, col = \"red\")\n"
   ]
  },
  {
   "cell_type": "markdown",
   "metadata": {},
   "source": [
    "**Question 3.1 [5 bonus points]**: Look at the plot above.  For each different tested power it shows the r-squared fit of a model using that power to a scale-free network ideal.  What power level does the r-squared stop improving? What power level is the first with an r-square greater than 0.9 (red line)?"
   ]
  },
  {
   "cell_type": "markdown",
   "metadata": {},
   "source": [
    "#### Answer:\n",
    "At round 7 power level, the r-squared stop improving. At 6 power level, an r-square is greater than 0.9 for the first time."
   ]
  },
  {
   "cell_type": "markdown",
   "metadata": {},
   "source": [
    "After deciding a power to raise the correlations to, WGNCA transforms the similar matrix using that power and then converts the similarity matrix into a dissimilarity one."
   ]
  },
  {
   "cell_type": "code",
   "execution_count": 44,
   "metadata": {},
   "outputs": [
    {
     "data": {
      "text/html": [
       "<ol class=list-inline>\n",
       "\t<li>2492</li>\n",
       "\t<li>2492</li>\n",
       "</ol>\n"
      ],
      "text/latex": [
       "\\begin{enumerate*}\n",
       "\\item 2492\n",
       "\\item 2492\n",
       "\\end{enumerate*}\n"
      ],
      "text/markdown": [
       "1. 2492\n",
       "2. 2492\n",
       "\n",
       "\n"
      ],
      "text/plain": [
       "[1] 2492 2492"
      ]
     },
     "metadata": {},
     "output_type": "display_data"
    },
    {
     "data": {
      "text/html": [
       "<table>\n",
       "<thead><tr><th></th><th scope=col>4340</th><th scope=col>3119</th><th scope=col>4747</th><th scope=col>1293</th><th scope=col>5653</th></tr></thead>\n",
       "<tbody>\n",
       "\t<tr><th scope=row>4340</th><td>1.332268e-15</td><td>1.298260e-01</td><td>0.9999991   </td><td>0.9999980   </td><td>0.9999949   </td></tr>\n",
       "\t<tr><th scope=row>3119</th><td>1.298260e-01</td><td>6.661338e-16</td><td>0.9999987   </td><td>0.9999967   </td><td>0.9999980   </td></tr>\n",
       "\t<tr><th scope=row>4747</th><td>9.999991e-01</td><td>9.999987e-01</td><td>0.0000000   </td><td>0.2002488   </td><td>0.9999984   </td></tr>\n",
       "\t<tr><th scope=row>1293</th><td>9.999980e-01</td><td>9.999967e-01</td><td>0.2002488   </td><td>0.0000000   </td><td>0.9999965   </td></tr>\n",
       "\t<tr><th scope=row>5653</th><td>9.999949e-01</td><td>9.999980e-01</td><td>0.9999984   </td><td>0.9999965   </td><td>0.0000000   </td></tr>\n",
       "</tbody>\n",
       "</table>\n"
      ],
      "text/latex": [
       "\\begin{tabular}{r|lllll}\n",
       "  & 4340 & 3119 & 4747 & 1293 & 5653\\\\\n",
       "\\hline\n",
       "\t4340 & 1.332268e-15 & 1.298260e-01 & 0.9999991    & 0.9999980    & 0.9999949   \\\\\n",
       "\t3119 & 1.298260e-01 & 6.661338e-16 & 0.9999987    & 0.9999967    & 0.9999980   \\\\\n",
       "\t4747 & 9.999991e-01 & 9.999987e-01 & 0.0000000    & 0.2002488    & 0.9999984   \\\\\n",
       "\t1293 & 9.999980e-01 & 9.999967e-01 & 0.2002488    & 0.0000000    & 0.9999965   \\\\\n",
       "\t5653 & 9.999949e-01 & 9.999980e-01 & 0.9999984    & 0.9999965    & 0.0000000   \\\\\n",
       "\\end{tabular}\n"
      ],
      "text/markdown": [
       "\n",
       "| <!--/--> | 4340 | 3119 | 4747 | 1293 | 5653 | \n",
       "|---|---|---|---|---|\n",
       "| 4340 | 1.332268e-15 | 1.298260e-01 | 0.9999991    | 0.9999980    | 0.9999949    | \n",
       "| 3119 | 1.298260e-01 | 6.661338e-16 | 0.9999987    | 0.9999967    | 0.9999980    | \n",
       "| 4747 | 9.999991e-01 | 9.999987e-01 | 0.0000000    | 0.2002488    | 0.9999984    | \n",
       "| 1293 | 9.999980e-01 | 9.999967e-01 | 0.2002488    | 0.0000000    | 0.9999965    | \n",
       "| 5653 | 9.999949e-01 | 9.999980e-01 | 0.9999984    | 0.9999965    | 0.0000000    | \n",
       "\n",
       "\n"
      ],
      "text/plain": [
       "     4340         3119         4747      1293      5653     \n",
       "4340 1.332268e-15 1.298260e-01 0.9999991 0.9999980 0.9999949\n",
       "3119 1.298260e-01 6.661338e-16 0.9999987 0.9999967 0.9999980\n",
       "4747 9.999991e-01 9.999987e-01 0.0000000 0.2002488 0.9999984\n",
       "1293 9.999980e-01 9.999967e-01 0.2002488 0.0000000 0.9999965\n",
       "5653 9.999949e-01 9.999980e-01 0.9999984 0.9999965 0.0000000"
      ]
     },
     "metadata": {},
     "output_type": "display_data"
    }
   ],
   "source": [
    "beta <- 6 # selected power from the previous question\n",
    "adjacency <- sim_mat ^ beta\n",
    "dissimilarity <- 1 - adjacency\n",
    "dim(dissimilarity)\n",
    "dissimilarity[1:5, 1:5]"
   ]
  },
  {
   "cell_type": "markdown",
   "metadata": {},
   "source": [
    "Finally WGCNA runs some version of hierarchical clustering on the transformed data, like so: "
   ]
  },
  {
   "cell_type": "code",
   "execution_count": 45,
   "metadata": {},
   "outputs": [
    {
     "name": "stdout",
     "output_type": "stream",
     "text": [
      " ..cutHeight not given, setting it to 0.994  ===>  99% of the (truncated) height range in dendro.\n",
      " ..done.\n"
     ]
    },
    {
     "data": {
      "image/png": "[encoded data removed]",
      "text/plain": [
       "Plot with title \"\""
      ]
     },
     "metadata": {},
     "output_type": "display_data"
    }
   ],
   "source": [
    "#create gene tree by average linkage hierarchical clustering\n",
    "geneTree <- hclust(as.dist(dissimilarity ), method = \"average\")\n",
    "\n",
    "#module identification using dynamic tree cut algorithm\n",
    "modules <- cutreeDynamic(dendro = geneTree, distM = dissimilarity,\n",
    "                         deepSplit = 4, pamRespectsDendro = FALSE,\n",
    "                         minClusterSize = 30)\n",
    "\n",
    "#assign module colours\n",
    "module.colours <- labels2colors(modules)\n",
    "\n",
    "#plot the dendrogram and corresponding colour bars underneath\n",
    "plotDendroAndColors(geneTree, module.colours, \"Module colours\",\n",
    "                    dendroLabels = FALSE, hang = 0.03,\n",
    "                    addGuide = TRUE, guideHang = 0.05, main = \"\")"
   ]
  },
  {
   "cell_type": "markdown",
   "metadata": {},
   "source": [
    "This plot show the dendrogram that was found that relates the genes in a hierarchical clustering.  The colors underneath the dendrogram represent gene cluster membership using the WGCNA dynamic tree cutting [algorithm](https://horvath.genetics.ucla.edu/html/CoexpressionNetwork/BranchCutting/Supplement.pdf).\n",
    "\n",
    "We have quickly gone through the basic steps of the WGCNA algorithm, but for most advanced default clustering procedures we can actually call the whole WGCNA procedure with a single command (see the [docs](https://www.rdocumentation.org/packages/WGCNA/versions/1.67/topics/blockwiseModules))."
   ]
  },
  {
   "cell_type": "code",
   "execution_count": 46,
   "metadata": {},
   "outputs": [
    {
     "name": "stdout",
     "output_type": "stream",
     "text": [
      " Calculating module eigengenes block-wise from all genes\n",
      "   Flagging genes and samples with too many missing values...\n",
      "    ..step 1\n",
      " ..Working on block 1 .\n",
      "    TOM calculation: adjacency..\n",
      "    ..will not use multithreading.\n",
      "     Fraction of slow calculations: 0.000000\n",
      "    ..connectivity..\n",
      "    ..matrix multiplication (system BLAS)..\n",
      "    ..normalization..\n",
      "    ..done.\n",
      "   ..saving TOM for block 1 into file blockwiseTOM-block.1.RData\n",
      " ....clustering..\n",
      " ....detecting modules..\n",
      " ....calculating module eigengenes..\n",
      " ....checking kME in modules..\n",
      "     ..removing 16 genes from module 1 because their KME is too low.\n",
      "     ..removing 35 genes from module 2 because their KME is too low.\n",
      "     ..removing 4 genes from module 3 because their KME is too low.\n",
      "     ..removing 1 genes from module 4 because their KME is too low.\n",
      "     ..removing 2 genes from module 5 because their KME is too low.\n",
      "     ..removing 1 genes from module 6 because their KME is too low.\n",
      "     ..removing 3 genes from module 8 because their KME is too low.\n",
      "     ..removing 5 genes from module 9 because their KME is too low.\n",
      " ..merging modules that are too close..\n",
      "     mergeCloseModules: Merging modules whose distance is less than 0.25\n",
      "       Calculating new MEs...\n"
     ]
    },
    {
     "data": {
      "text/html": [
       "<dl class=dl-horizontal>\n",
       "\t<dt>4340</dt>\n",
       "\t\t<dd>2</dd>\n",
       "\t<dt>3119</dt>\n",
       "\t\t<dd>2</dd>\n",
       "\t<dt>4747</dt>\n",
       "\t\t<dd>9</dd>\n",
       "\t<dt>1293</dt>\n",
       "\t\t<dd>9</dd>\n",
       "\t<dt>5653</dt>\n",
       "\t\t<dd>2</dd>\n",
       "\t<dt>11075</dt>\n",
       "\t\t<dd>5</dd>\n",
       "</dl>\n"
      ],
      "text/latex": [
       "\\begin{description*}\n",
       "\\item[4340] 2\n",
       "\\item[3119] 2\n",
       "\\item[4747] 9\n",
       "\\item[1293] 9\n",
       "\\item[5653] 2\n",
       "\\item[11075] 5\n",
       "\\end{description*}\n"
      ],
      "text/markdown": [
       "4340\n",
       ":   23119\n",
       ":   24747\n",
       ":   91293\n",
       ":   95653\n",
       ":   211075\n",
       ":   5\n",
       "\n"
      ],
      "text/plain": [
       " 4340  3119  4747  1293  5653 11075 \n",
       "    2     2     9     9     2     5 "
      ]
     },
     "metadata": {},
     "output_type": "display_data"
    }
   ],
   "source": [
    "net <- blockwiseModules(t(log2NormExpr),       # our expression data\n",
    "                        power = beta,          # the soft thresholding power we chose from the plot\n",
    "                        corType = \"pearson\",   # type of correlation\n",
    "                        TOMType = \"unsigned\",  # ignores the sign of the correlation\n",
    "                        minModuleSize = 30,    # minimum number of genes allowed in their own cluster\n",
    "                        randomSeed = 1,        # random seed to fix our result                \n",
    "                        reassignThreshold = 0, # the rest are default parameters for create clusters and formatting outputs\n",
    "                        mergeCutHeight = 0.25,\n",
    "                        numericLabels = TRUE, \n",
    "                        pamRespectsDendro = FALSE,\n",
    "                        saveTOMs = TRUE, \n",
    "                        verbose = 3)\n",
    "head(net$colors)"
   ]
  },
  {
   "cell_type": "markdown",
   "metadata": {},
   "source": [
    "There are many components in the `net` output object.  However, we are most interested in the gene cluster assignments which are found in `net$colors`. Each Entrez gene will be mapped to a cluster (represented by an integer). Most of these clusters can be represented by an average expression pattern that the genes are highly correlated to.  We also will have the \"unassigned\" cluster 0, which contains left over genes that do not strongly correlate to any cluster expression pattern.\n",
    "\n",
    "**Question 3.2 [5 bonus points]**: How many clusters are returned by the single step WGCNA run?  What is the size of the largest cluster? the smallest?  How many genes were not assigned to a cluster with a gene expression pattern?"
   ]
  },
  {
   "cell_type": "code",
   "execution_count": 47,
   "metadata": {},
   "outputs": [
    {
     "data": {
      "text/html": [
       "481"
      ],
      "text/latex": [
       "481"
      ],
      "text/markdown": [
       "481"
      ],
      "text/plain": [
       "[1] 481"
      ]
     },
     "metadata": {},
     "output_type": "display_data"
    },
    {
     "data": {
      "text/html": [
       "11"
      ],
      "text/latex": [
       "11"
      ],
      "text/markdown": [
       "11"
      ],
      "text/plain": [
       "[1] 11"
      ]
     },
     "metadata": {},
     "output_type": "display_data"
    },
    {
     "data": {
      "text/html": [
       "636"
      ],
      "text/latex": [
       "636"
      ],
      "text/markdown": [
       "636"
      ],
      "text/plain": [
       "[1] 636"
      ]
     },
     "metadata": {},
     "output_type": "display_data"
    },
    {
     "data": {
      "text/html": [
       "32"
      ],
      "text/latex": [
       "32"
      ],
      "text/markdown": [
       "32"
      ],
      "text/plain": [
       "[1] 32"
      ]
     },
     "metadata": {},
     "output_type": "display_data"
    }
   ],
   "source": [
    "### Insert Your Code Here ###\n",
    "#net$colors\n",
    "unassigned = 0\n",
    "num_cluster = 0\n",
    "for(i in 1:length(net$colors)){\n",
    "    if(net$colors[i] == 0)\n",
    "        unassigned = unassigned+1\n",
    "    if(net$colors[i] > num_cluster)\n",
    "        num_cluster = net$colors[i]\n",
    "}\n",
    "unassigned\n",
    "unname(num_cluster)\n",
    "count <- numeric(num_cluster)\n",
    "\n",
    "for(i in 1:length(net$colors)){\n",
    "    if(net$colors[i] != 0)\n",
    "        count[net$colors[i]] = count[net$colors[i]] + 1\n",
    "}\n",
    "\n",
    "max(count)\n",
    "min(count)"
   ]
  },
  {
   "cell_type": "markdown",
   "metadata": {},
   "source": [
    "#### Answer:\n",
    "11 clusters are returned by the single step WGCNA run. The size of the largest cluster is 636 and the size of the smallest one is 32. 481 genes were not assigned to a cluster."
   ]
  },
  {
   "cell_type": "markdown",
   "metadata": {},
   "source": [
    "We can also plot the dendrogram and the final clustering of the single step WGCNA run. The grey cluster is the unassigned cluster 0."
   ]
  },
  {
   "cell_type": "code",
   "execution_count": 48,
   "metadata": {
    "scrolled": true
   },
   "outputs": [
    {
     "data": {
      "text/html": [
       "<ol class=list-inline>\n",
       "\t<li>'grey'</li>\n",
       "\t<li>'turquoise'</li>\n",
       "\t<li>'blue'</li>\n",
       "\t<li>'brown'</li>\n",
       "\t<li>'yellow'</li>\n",
       "\t<li>'green'</li>\n",
       "\t<li>'red'</li>\n",
       "\t<li>'black'</li>\n",
       "\t<li>'pink'</li>\n",
       "\t<li>'magenta'</li>\n",
       "\t<li>'purple'</li>\n",
       "\t<li>'greenyellow'</li>\n",
       "</ol>\n"
      ],
      "text/latex": [
       "\\begin{enumerate*}\n",
       "\\item 'grey'\n",
       "\\item 'turquoise'\n",
       "\\item 'blue'\n",
       "\\item 'brown'\n",
       "\\item 'yellow'\n",
       "\\item 'green'\n",
       "\\item 'red'\n",
       "\\item 'black'\n",
       "\\item 'pink'\n",
       "\\item 'magenta'\n",
       "\\item 'purple'\n",
       "\\item 'greenyellow'\n",
       "\\end{enumerate*}\n"
      ],
      "text/markdown": [
       "1. 'grey'\n",
       "2. 'turquoise'\n",
       "3. 'blue'\n",
       "4. 'brown'\n",
       "5. 'yellow'\n",
       "6. 'green'\n",
       "7. 'red'\n",
       "8. 'black'\n",
       "9. 'pink'\n",
       "10. 'magenta'\n",
       "11. 'purple'\n",
       "12. 'greenyellow'\n",
       "\n",
       "\n"
      ],
      "text/plain": [
       " [1] \"grey\"        \"turquoise\"   \"blue\"        \"brown\"       \"yellow\"     \n",
       " [6] \"green\"       \"red\"         \"black\"       \"pink\"        \"magenta\"    \n",
       "[11] \"purple\"      \"greenyellow\""
      ]
     },
     "metadata": {},
     "output_type": "display_data"
    },
    {
     "data": {
      "image/png": "[encoded data removed]",
      "text/plain": [
       "Plot with title \"Cluster Dendrogram\""
      ]
     },
     "metadata": {},
     "output_type": "display_data"
    }
   ],
   "source": [
    "# Convert labels to colors for plotting\n",
    "labels2colors(0:max(net$colors))\n",
    "mergedColors <- labels2colors(net$colors)\n",
    "# Plot the dendrogram and the module colors underneath\n",
    "plotDendroAndColors(net$dendrograms[[1]], mergedColors[net$blockGenes[[1]]],\n",
    "                    \"Module colors\",\n",
    "                    dendroLabels = FALSE, hang = 0.03,\n",
    "                    addGuide = TRUE, guideHang = 0.05)"
   ]
  },
  {
   "cell_type": "markdown",
   "metadata": {},
   "source": [
    "**Question 3.3 [5 bonus points]**: Look at the plot above.  Which colored clusters seem to have the most genes with very similar expression patterns?  If you lowered the cut height, would you expect more or less clusters?"
   ]
  },
  {
   "cell_type": "markdown",
   "metadata": {},
   "source": [
    "#### Answer: \n",
    "The turquoise colored cluster has the most genes with similar expression patterns. If the cut height is lowered, I would expect more clusters."
   ]
  },
  {
   "cell_type": "markdown",
   "metadata": {},
   "source": [
    "If we wanted to run Gene Ontology enrichment tests for the brown cluster (cluster number 3). We can use the same data and functions from the previous problem."
   ]
  },
  {
   "cell_type": "code",
   "execution_count": 49,
   "metadata": {},
   "outputs": [
    {
     "name": "stderr",
     "output_type": "stream",
     "text": [
      "\n",
      "Building most specific GOs .....\n",
      "\t( 1072 GO terms found. )\n",
      "\n",
      "Build GO DAG topology ..........\n",
      "\t( 1385 GO terms and 2611 relations. )\n",
      "\n",
      "Annotating nodes ...............\n",
      "\t( 2479 genes annotated to the GO terms. )\n"
     ]
    },
    {
     "data": {
      "text/plain": [
       "\n",
       "------------------------- topGOdata object -------------------------\n",
       "\n",
       " Description:\n",
       "   -   \n",
       "\n",
       " Ontology:\n",
       "   -  CC \n",
       "\n",
       " 2492 available genes (all genes from the array):\n",
       "   - symbol:  4340 3119 4747 1293 5653  ...\n",
       "   - 202  significant genes. \n",
       "\n",
       " 2479 feasible genes (genes that can be used in the analysis):\n",
       "   - symbol:  4340 3119 4747 1293 5653  ...\n",
       "   - 202  significant genes. \n",
       "\n",
       " GO graph (nodes with at least  10  genes):\n",
       "   - a graph with directed edges\n",
       "   - number of nodes = 452 \n",
       "   - number of edges = 862 \n",
       "\n",
       "------------------------- topGOdata object -------------------------\n"
      ]
     },
     "metadata": {},
     "output_type": "display_data"
    },
    {
     "name": "stderr",
     "output_type": "stream",
     "text": [
      "\n",
      "\t\t\t -- Classic Algorithm -- \n",
      "\n",
      "\t\t the algorithm is scoring 410 nontrivial nodes\n",
      "\t\t parameters: \n",
      "\t\t\t test statistic: fisher\n"
     ]
    },
    {
     "data": {
      "text/plain": [
       "\n",
       "Description:  \n",
       "Ontology: CC \n",
       "'classic' algorithm with the 'fisher' test\n",
       "452 GO terms scored: 4 terms with p < 0.01\n",
       "Annotation data:\n",
       "    Annotated genes: 2479 \n",
       "    Significant genes: 202 \n",
       "    Min. no. of genes annotated to a GO: 10 \n",
       "    Nontrivial nodes: 410 "
      ]
     },
     "metadata": {},
     "output_type": "display_data"
    },
    {
     "data": {
      "text/html": [
       "<table>\n",
       "<thead><tr><th scope=col>GO.ID</th><th scope=col>Term</th><th scope=col>Annotated</th><th scope=col>Significant</th><th scope=col>Expected</th><th scope=col>classicFisher</th></tr></thead>\n",
       "<tbody>\n",
       "\t<tr><td>GO:0030027                     </td><td>lamellipodium                  </td><td>  61                           </td><td> 14                            </td><td>  4.97                         </td><td>0.00026                        </td></tr>\n",
       "\t<tr><td>GO:0005796                     </td><td>Golgi lumen                    </td><td>  20                           </td><td>  6                            </td><td>  1.63                         </td><td>0.00399                        </td></tr>\n",
       "\t<tr><td>GO:0098858                     </td><td>actin-based cell projection    </td><td>  57                           </td><td> 11                            </td><td>  4.64                         </td><td>0.00520                        </td></tr>\n",
       "\t<tr><td>GO:0030175                     </td><td>filopodium                     </td><td>  38                           </td><td>  8                            </td><td>  3.10                         </td><td>0.00976                        </td></tr>\n",
       "\t<tr><td>GO:0042734                     </td><td>presynaptic membrane           </td><td>  18                           </td><td>  5                            </td><td>  1.47                         </td><td>0.01216                        </td></tr>\n",
       "\t<tr><td>GO:0015629                     </td><td>actin cytoskeleton             </td><td> 113                           </td><td> 16                            </td><td>  9.21                         </td><td>0.01862                        </td></tr>\n",
       "\t<tr><td>GO:0030424                     </td><td>axon                           </td><td> 127                           </td><td> 17                            </td><td> 10.35                         </td><td>0.02587                        </td></tr>\n",
       "\t<tr><td>GO:0098590                     </td><td>plasma membrane region         </td><td> 208                           </td><td> 25                            </td><td> 16.95                         </td><td>0.02716                        </td></tr>\n",
       "\t<tr><td>GO:0005622                     </td><td>intracellular                  </td><td>2295                           </td><td>194                            </td><td>187.01                         </td><td>0.02753                        </td></tr>\n",
       "\t<tr><td>GO:0048471                     </td><td>perinuclear region of cytoplasm</td><td> 168                           </td><td> 21                            </td><td> 13.69                         </td><td>0.02833                        </td></tr>\n",
       "</tbody>\n",
       "</table>\n"
      ],
      "text/latex": [
       "\\begin{tabular}{r|llllll}\n",
       " GO.ID & Term & Annotated & Significant & Expected & classicFisher\\\\\n",
       "\\hline\n",
       "\t GO:0030027                      & lamellipodium                   &   61                            &  14                             &   4.97                          & 0.00026                        \\\\\n",
       "\t GO:0005796                      & Golgi lumen                     &   20                            &   6                             &   1.63                          & 0.00399                        \\\\\n",
       "\t GO:0098858                      & actin-based cell projection     &   57                            &  11                             &   4.64                          & 0.00520                        \\\\\n",
       "\t GO:0030175                      & filopodium                      &   38                            &   8                             &   3.10                          & 0.00976                        \\\\\n",
       "\t GO:0042734                      & presynaptic membrane            &   18                            &   5                             &   1.47                          & 0.01216                        \\\\\n",
       "\t GO:0015629                      & actin cytoskeleton              &  113                            &  16                             &   9.21                          & 0.01862                        \\\\\n",
       "\t GO:0030424                      & axon                            &  127                            &  17                             &  10.35                          & 0.02587                        \\\\\n",
       "\t GO:0098590                      & plasma membrane region          &  208                            &  25                             &  16.95                          & 0.02716                        \\\\\n",
       "\t GO:0005622                      & intracellular                   & 2295                            & 194                             & 187.01                          & 0.02753                        \\\\\n",
       "\t GO:0048471                      & perinuclear region of cytoplasm &  168                            &  21                             &  13.69                          & 0.02833                        \\\\\n",
       "\\end{tabular}\n"
      ],
      "text/markdown": [
       "\n",
       "GO.ID | Term | Annotated | Significant | Expected | classicFisher | \n",
       "|---|---|---|---|---|---|---|---|---|---|\n",
       "| GO:0030027                      | lamellipodium                   |   61                            |  14                             |   4.97                          | 0.00026                         | \n",
       "| GO:0005796                      | Golgi lumen                     |   20                            |   6                             |   1.63                          | 0.00399                         | \n",
       "| GO:0098858                      | actin-based cell projection     |   57                            |  11                             |   4.64                          | 0.00520                         | \n",
       "| GO:0030175                      | filopodium                      |   38                            |   8                             |   3.10                          | 0.00976                         | \n",
       "| GO:0042734                      | presynaptic membrane            |   18                            |   5                             |   1.47                          | 0.01216                         | \n",
       "| GO:0015629                      | actin cytoskeleton              |  113                            |  16                             |   9.21                          | 0.01862                         | \n",
       "| GO:0030424                      | axon                            |  127                            |  17                             |  10.35                          | 0.02587                         | \n",
       "| GO:0098590                      | plasma membrane region          |  208                            |  25                             |  16.95                          | 0.02716                         | \n",
       "| GO:0005622                      | intracellular                   | 2295                            | 194                             | 187.01                          | 0.02753                         | \n",
       "| GO:0048471                      | perinuclear region of cytoplasm |  168                            |  21                             |  13.69                          | 0.02833                         | \n",
       "\n",
       "\n"
      ],
      "text/plain": [
       "   GO.ID      Term                            Annotated Significant Expected\n",
       "1  GO:0030027 lamellipodium                     61       14           4.97  \n",
       "2  GO:0005796 Golgi lumen                       20        6           1.63  \n",
       "3  GO:0098858 actin-based cell projection       57       11           4.64  \n",
       "4  GO:0030175 filopodium                        38        8           3.10  \n",
       "5  GO:0042734 presynaptic membrane              18        5           1.47  \n",
       "6  GO:0015629 actin cytoskeleton               113       16           9.21  \n",
       "7  GO:0030424 axon                             127       17          10.35  \n",
       "8  GO:0098590 plasma membrane region           208       25          16.95  \n",
       "9  GO:0005622 intracellular                   2295      194         187.01  \n",
       "10 GO:0048471 perinuclear region of cytoplasm  168       21          13.69  \n",
       "   classicFisher\n",
       "1  0.00026      \n",
       "2  0.00399      \n",
       "3  0.00520      \n",
       "4  0.00976      \n",
       "5  0.01216      \n",
       "6  0.01862      \n",
       "7  0.02587      \n",
       "8  0.02716      \n",
       "9  0.02753      \n",
       "10 0.02833      "
      ]
     },
     "metadata": {},
     "output_type": "display_data"
    }
   ],
   "source": [
    "geneList3 <- as.factor( (net$colors == 3) * 1)\n",
    "GOdata <- new(\"topGOdata\",\n",
    "              ontology = \"CC\",\n",
    "              allGenes = geneList3,\n",
    "              annotationFun = annFUN.org,\n",
    "              mapping = \"org.Hs.eg.db\",\n",
    "              nodeSize = 10\n",
    ")\n",
    "GOdata\n",
    "resultFisher <- runTest(GOdata, algorithm = \"classic\", statistic = \"fisher\")\n",
    "resultFisher\n",
    "allRes <- GenTable(GOdata, classicFisher = resultFisher,\n",
    "                   orderBy = \"classicFisher\", ranksOf = \"classicFisher\",\n",
    "                   topNodes = 10)\n",
    "allRes\n"
   ]
  },
  {
   "cell_type": "markdown",
   "metadata": {},
   "source": [
    "**Question 3.4 [7 bonus points]**: Run the Cellular Component (CC) Gene Ontology enrichment tests for each WGCNA cluster. Track the most significant (top 1) pvalue for each cluster?  What is the range and the mean of these top 1 pvalues? "
   ]
  },
  {
   "cell_type": "code",
   "execution_count": 50,
   "metadata": {},
   "outputs": [
    {
     "name": "stderr",
     "output_type": "stream",
     "text": [
      "\n",
      "Building most specific GOs .....\n",
      "\t( 1072 GO terms found. )\n",
      "\n",
      "Build GO DAG topology ..........\n",
      "\t( 1385 GO terms and 2611 relations. )\n",
      "\n",
      "Annotating nodes ...............\n",
      "\t( 2479 genes annotated to the GO terms. )\n",
      "\n",
      "\t\t\t -- Classic Algorithm -- \n",
      "\n",
      "\t\t the algorithm is scoring 452 nontrivial nodes\n",
      "\t\t parameters: \n",
      "\t\t\t test statistic: fisher\n",
      "\n",
      "Building most specific GOs .....\n",
      "\t( 1072 GO terms found. )\n",
      "\n",
      "Build GO DAG topology ..........\n",
      "\t( 1385 GO terms and 2611 relations. )\n",
      "\n",
      "Annotating nodes ...............\n",
      "\t( 2479 genes annotated to the GO terms. )\n",
      "\n",
      "\t\t\t -- Classic Algorithm -- \n",
      "\n",
      "\t\t the algorithm is scoring 434 nontrivial nodes\n",
      "\t\t parameters: \n",
      "\t\t\t test statistic: fisher\n",
      "\n",
      "Building most specific GOs .....\n",
      "\t( 1072 GO terms found. )\n",
      "\n",
      "Build GO DAG topology ..........\n",
      "\t( 1385 GO terms and 2611 relations. )\n",
      "\n",
      "Annotating nodes ...............\n",
      "\t( 2479 genes annotated to the GO terms. )\n",
      "\n",
      "\t\t\t -- Classic Algorithm -- \n",
      "\n",
      "\t\t the algorithm is scoring 410 nontrivial nodes\n",
      "\t\t parameters: \n",
      "\t\t\t test statistic: fisher\n",
      "\n",
      "Building most specific GOs .....\n",
      "\t( 1072 GO terms found. )\n",
      "\n",
      "Build GO DAG topology ..........\n",
      "\t( 1385 GO terms and 2611 relations. )\n",
      "\n",
      "Annotating nodes ...............\n",
      "\t( 2479 genes annotated to the GO terms. )\n",
      "\n",
      "\t\t\t -- Classic Algorithm -- \n",
      "\n",
      "\t\t the algorithm is scoring 378 nontrivial nodes\n",
      "\t\t parameters: \n",
      "\t\t\t test statistic: fisher\n",
      "\n",
      "Building most specific GOs .....\n",
      "\t( 1072 GO terms found. )\n",
      "\n",
      "Build GO DAG topology ..........\n",
      "\t( 1385 GO terms and 2611 relations. )\n",
      "\n",
      "Annotating nodes ...............\n",
      "\t( 2479 genes annotated to the GO terms. )\n",
      "\n",
      "\t\t\t -- Classic Algorithm -- \n",
      "\n",
      "\t\t the algorithm is scoring 351 nontrivial nodes\n",
      "\t\t parameters: \n",
      "\t\t\t test statistic: fisher\n",
      "\n",
      "Building most specific GOs .....\n",
      "\t( 1072 GO terms found. )\n",
      "\n",
      "Build GO DAG topology ..........\n",
      "\t( 1385 GO terms and 2611 relations. )\n",
      "\n",
      "Annotating nodes ...............\n",
      "\t( 2479 genes annotated to the GO terms. )\n",
      "\n",
      "\t\t\t -- Classic Algorithm -- \n",
      "\n",
      "\t\t the algorithm is scoring 367 nontrivial nodes\n",
      "\t\t parameters: \n",
      "\t\t\t test statistic: fisher\n",
      "\n",
      "Building most specific GOs .....\n",
      "\t( 1072 GO terms found. )\n",
      "\n",
      "Build GO DAG topology ..........\n",
      "\t( 1385 GO terms and 2611 relations. )\n",
      "\n",
      "Annotating nodes ...............\n",
      "\t( 2479 genes annotated to the GO terms. )\n",
      "\n",
      "\t\t\t -- Classic Algorithm -- \n",
      "\n",
      "\t\t the algorithm is scoring 349 nontrivial nodes\n",
      "\t\t parameters: \n",
      "\t\t\t test statistic: fisher\n",
      "\n",
      "Building most specific GOs .....\n",
      "\t( 1072 GO terms found. )\n",
      "\n",
      "Build GO DAG topology ..........\n",
      "\t( 1385 GO terms and 2611 relations. )\n",
      "\n",
      "Annotating nodes ...............\n",
      "\t( 2479 genes annotated to the GO terms. )\n",
      "\n",
      "\t\t\t -- Classic Algorithm -- \n",
      "\n",
      "\t\t the algorithm is scoring 337 nontrivial nodes\n",
      "\t\t parameters: \n",
      "\t\t\t test statistic: fisher\n",
      "\n",
      "Building most specific GOs .....\n",
      "\t( 1072 GO terms found. )\n",
      "\n",
      "Build GO DAG topology ..........\n",
      "\t( 1385 GO terms and 2611 relations. )\n",
      "\n",
      "Annotating nodes ...............\n",
      "\t( 2479 genes annotated to the GO terms. )\n",
      "\n",
      "\t\t\t -- Classic Algorithm -- \n",
      "\n",
      "\t\t the algorithm is scoring 298 nontrivial nodes\n",
      "\t\t parameters: \n",
      "\t\t\t test statistic: fisher\n",
      "\n",
      "Building most specific GOs .....\n",
      "\t( 1072 GO terms found. )\n",
      "\n",
      "Build GO DAG topology ..........\n",
      "\t( 1385 GO terms and 2611 relations. )\n",
      "\n",
      "Annotating nodes ...............\n",
      "\t( 2479 genes annotated to the GO terms. )\n",
      "\n",
      "\t\t\t -- Classic Algorithm -- \n",
      "\n",
      "\t\t the algorithm is scoring 209 nontrivial nodes\n",
      "\t\t parameters: \n",
      "\t\t\t test statistic: fisher\n",
      "\n",
      "Building most specific GOs .....\n",
      "\t( 1072 GO terms found. )\n",
      "\n",
      "Build GO DAG topology ..........\n",
      "\t( 1385 GO terms and 2611 relations. )\n",
      "\n",
      "Annotating nodes ...............\n",
      "\t( 2479 genes annotated to the GO terms. )\n",
      "\n",
      "\t\t\t -- Classic Algorithm -- \n",
      "\n",
      "\t\t the algorithm is scoring 201 nontrivial nodes\n",
      "\t\t parameters: \n",
      "\t\t\t test statistic: fisher\n"
     ]
    }
   ],
   "source": [
    "### Insert Your Code Here ###\n",
    "pvalue_store <- numeric(num_cluster)\n",
    "for( i in 1:num_cluster){\n",
    "    geneList3 <- as.factor( (net$colors == i) * 1)\n",
    "    GOdata <- new(\"topGOdata\",\n",
    "              ontology = \"CC\",\n",
    "              allGenes = geneList3,\n",
    "              annotationFun = annFUN.org,\n",
    "              mapping = \"org.Hs.eg.db\",\n",
    "              nodeSize = 10\n",
    "    )\n",
    "    resultFisher <- runTest(GOdata, algorithm = \"classic\", statistic = \"fisher\")\n",
    "    pValue.classic <- score(resultFisher)\n",
    "    pvalue_store[i] = min(pValue.classic)\n",
    "}"
   ]
  },
  {
   "cell_type": "code",
   "execution_count": 51,
   "metadata": {},
   "outputs": [
    {
     "data": {
      "text/html": [
       "<ol class=list-inline>\n",
       "\t<li>0.00312562111037063</li>\n",
       "\t<li>0.00228610557731529</li>\n",
       "\t<li>0.000261089283024528</li>\n",
       "\t<li>0.0176080242460118</li>\n",
       "\t<li>0.022380905101168</li>\n",
       "\t<li>0.000745257548836886</li>\n",
       "\t<li>0.000768291811511105</li>\n",
       "\t<li>0.000177627812236358</li>\n",
       "\t<li>0.0041836605102654</li>\n",
       "\t<li>0.0117354919116059</li>\n",
       "\t<li>0.00887550218394744</li>\n",
       "</ol>\n"
      ],
      "text/latex": [
       "\\begin{enumerate*}\n",
       "\\item 0.00312562111037063\n",
       "\\item 0.00228610557731529\n",
       "\\item 0.000261089283024528\n",
       "\\item 0.0176080242460118\n",
       "\\item 0.022380905101168\n",
       "\\item 0.000745257548836886\n",
       "\\item 0.000768291811511105\n",
       "\\item 0.000177627812236358\n",
       "\\item 0.0041836605102654\n",
       "\\item 0.0117354919116059\n",
       "\\item 0.00887550218394744\n",
       "\\end{enumerate*}\n"
      ],
      "text/markdown": [
       "1. 0.00312562111037063\n",
       "2. 0.00228610557731529\n",
       "3. 0.000261089283024528\n",
       "4. 0.0176080242460118\n",
       "5. 0.022380905101168\n",
       "6. 0.000745257548836886\n",
       "7. 0.000768291811511105\n",
       "8. 0.000177627812236358\n",
       "9. 0.0041836605102654\n",
       "10. 0.0117354919116059\n",
       "11. 0.00887550218394744\n",
       "\n",
       "\n"
      ],
      "text/plain": [
       " [1] 0.0031256211 0.0022861056 0.0002610893 0.0176080242 0.0223809051\n",
       " [6] 0.0007452575 0.0007682918 0.0001776278 0.0041836605 0.0117354919\n",
       "[11] 0.0088755022"
      ]
     },
     "metadata": {},
     "output_type": "display_data"
    },
    {
     "data": {
      "text/html": [
       "<ol class=list-inline>\n",
       "\t<li>0.000177627812236358</li>\n",
       "\t<li>0.022380905101168</li>\n",
       "</ol>\n"
      ],
      "text/latex": [
       "\\begin{enumerate*}\n",
       "\\item 0.000177627812236358\n",
       "\\item 0.022380905101168\n",
       "\\end{enumerate*}\n"
      ],
      "text/markdown": [
       "1. 0.000177627812236358\n",
       "2. 0.022380905101168\n",
       "\n",
       "\n"
      ],
      "text/plain": [
       "[1] 0.0001776278 0.0223809051"
      ]
     },
     "metadata": {},
     "output_type": "display_data"
    },
    {
     "data": {
      "text/html": [
       "0.00655887064511757"
      ],
      "text/latex": [
       "0.00655887064511757"
      ],
      "text/markdown": [
       "0.00655887064511757"
      ],
      "text/plain": [
       "[1] 0.006558871"
      ]
     },
     "metadata": {},
     "output_type": "display_data"
    }
   ],
   "source": [
    "pvalue_store\n",
    "range(pvalue_store)\n",
    "mean(pvalue_store)"
   ]
  },
  {
   "cell_type": "markdown",
   "metadata": {},
   "source": [
    "#### Answer:\n",
    "The most significant pvalues are shown above in the first two rows. The range is from 0.000177627812236358 to 0.022380905101168. The mean is 0.00655887064511757."
   ]
  },
  {
   "cell_type": "markdown",
   "metadata": {},
   "source": [
    "**Question 3.5 [6 bonus points]**: Rerun the single step WGCNA the same as before but with setting the `power=` argument to 1.  How does the range and mean of the top 1 pvalues change?  How does the number of clusters and their sizes change?"
   ]
  },
  {
   "cell_type": "code",
   "execution_count": 75,
   "metadata": {},
   "outputs": [
    {
     "data": {
      "text/html": [
       "<ol class=list-inline>\n",
       "\t<li>2492</li>\n",
       "\t<li>2492</li>\n",
       "</ol>\n"
      ],
      "text/latex": [
       "\\begin{enumerate*}\n",
       "\\item 2492\n",
       "\\item 2492\n",
       "\\end{enumerate*}\n"
      ],
      "text/markdown": [
       "1. 2492\n",
       "2. 2492\n",
       "\n",
       "\n"
      ],
      "text/plain": [
       "[1] 2492 2492"
      ]
     },
     "metadata": {},
     "output_type": "display_data"
    },
    {
     "data": {
      "text/html": [
       "<table>\n",
       "<thead><tr><th></th><th scope=col>4340</th><th scope=col>3119</th><th scope=col>4747</th><th scope=col>1293</th><th scope=col>5653</th></tr></thead>\n",
       "<tbody>\n",
       "\t<tr><th scope=row>4340</th><td>2.220446e-16</td><td>2.291049e-02</td><td>0.90160626  </td><td>0.88766301  </td><td>0.8688056   </td></tr>\n",
       "\t<tr><th scope=row>3119</th><td>2.291049e-02</td><td>1.110223e-16</td><td>0.89585479  </td><td>0.87810699  </td><td>0.8873787   </td></tr>\n",
       "\t<tr><th scope=row>4747</th><td>9.016063e-01</td><td>8.958548e-01</td><td>0.00000000  </td><td>0.03655746  </td><td>0.8914283   </td></tr>\n",
       "\t<tr><th scope=row>1293</th><td>8.876630e-01</td><td>8.781070e-01</td><td>0.03655746  </td><td>0.00000000  </td><td>0.8766835   </td></tr>\n",
       "\t<tr><th scope=row>5653</th><td>8.688056e-01</td><td>8.873787e-01</td><td>0.89142829  </td><td>0.87668350  </td><td>0.0000000   </td></tr>\n",
       "</tbody>\n",
       "</table>\n"
      ],
      "text/latex": [
       "\\begin{tabular}{r|lllll}\n",
       "  & 4340 & 3119 & 4747 & 1293 & 5653\\\\\n",
       "\\hline\n",
       "\t4340 & 2.220446e-16 & 2.291049e-02 & 0.90160626   & 0.88766301   & 0.8688056   \\\\\n",
       "\t3119 & 2.291049e-02 & 1.110223e-16 & 0.89585479   & 0.87810699   & 0.8873787   \\\\\n",
       "\t4747 & 9.016063e-01 & 8.958548e-01 & 0.00000000   & 0.03655746   & 0.8914283   \\\\\n",
       "\t1293 & 8.876630e-01 & 8.781070e-01 & 0.03655746   & 0.00000000   & 0.8766835   \\\\\n",
       "\t5653 & 8.688056e-01 & 8.873787e-01 & 0.89142829   & 0.87668350   & 0.0000000   \\\\\n",
       "\\end{tabular}\n"
      ],
      "text/markdown": [
       "\n",
       "| <!--/--> | 4340 | 3119 | 4747 | 1293 | 5653 | \n",
       "|---|---|---|---|---|\n",
       "| 4340 | 2.220446e-16 | 2.291049e-02 | 0.90160626   | 0.88766301   | 0.8688056    | \n",
       "| 3119 | 2.291049e-02 | 1.110223e-16 | 0.89585479   | 0.87810699   | 0.8873787    | \n",
       "| 4747 | 9.016063e-01 | 8.958548e-01 | 0.00000000   | 0.03655746   | 0.8914283    | \n",
       "| 1293 | 8.876630e-01 | 8.781070e-01 | 0.03655746   | 0.00000000   | 0.8766835    | \n",
       "| 5653 | 8.688056e-01 | 8.873787e-01 | 0.89142829   | 0.87668350   | 0.0000000    | \n",
       "\n",
       "\n"
      ],
      "text/plain": [
       "     4340         3119         4747       1293       5653     \n",
       "4340 2.220446e-16 2.291049e-02 0.90160626 0.88766301 0.8688056\n",
       "3119 2.291049e-02 1.110223e-16 0.89585479 0.87810699 0.8873787\n",
       "4747 9.016063e-01 8.958548e-01 0.00000000 0.03655746 0.8914283\n",
       "1293 8.876630e-01 8.781070e-01 0.03655746 0.00000000 0.8766835\n",
       "5653 8.688056e-01 8.873787e-01 0.89142829 0.87668350 0.0000000"
      ]
     },
     "metadata": {},
     "output_type": "display_data"
    },
    {
     "name": "stdout",
     "output_type": "stream",
     "text": [
      " ..cutHeight not given, setting it to 0.915  ===>  99% of the (truncated) height range in dendro.\n",
      " ..done.\n",
      " Calculating module eigengenes block-wise from all genes\n",
      "   Flagging genes and samples with too many missing values...\n",
      "    ..step 1\n",
      " ..Working on block 1 .\n",
      "    TOM calculation: adjacency..\n",
      "    ..will not use multithreading.\n",
      "     Fraction of slow calculations: 0.000000\n",
      "    ..connectivity..\n",
      "    ..matrix multiplication (system BLAS)..\n",
      "    ..normalization..\n",
      "    ..done.\n",
      "   ..saving TOM for block 1 into file blockwiseTOM-block.1.RData\n",
      " ....clustering..\n",
      " ....detecting modules..\n",
      " ....calculating module eigengenes..\n",
      " ....checking kME in modules..\n",
      "     ..removing 50 genes from module 1 because their KME is too low.\n",
      "     ..removing 153 genes from module 2 because their KME is too low.\n",
      "     ..removing 93 genes from module 3 because their KME is too low.\n",
      "     ..removing 51 genes from module 4 because their KME is too low.\n",
      "     ..removing 21 genes from module 5 because their KME is too low.\n",
      "     ..removing 3 genes from module 6 because their KME is too low.\n",
      " ..merging modules that are too close..\n",
      "     mergeCloseModules: Merging modules whose distance is less than 0.25\n",
      "       Calculating new MEs...\n"
     ]
    },
    {
     "data": {
      "text/html": [
       "371"
      ],
      "text/latex": [
       "371"
      ],
      "text/markdown": [
       "371"
      ],
      "text/plain": [
       "[1] 371"
      ]
     },
     "metadata": {},
     "output_type": "display_data"
    },
    {
     "data": {
      "text/html": [
       "13"
      ],
      "text/latex": [
       "13"
      ],
      "text/markdown": [
       "13"
      ],
      "text/plain": [
       "[1] 13"
      ]
     },
     "metadata": {},
     "output_type": "display_data"
    },
    {
     "name": "stderr",
     "output_type": "stream",
     "text": [
      "\n",
      "Building most specific GOs .....\n",
      "\t( 1072 GO terms found. )\n",
      "\n",
      "Build GO DAG topology ..........\n",
      "\t( 1385 GO terms and 2611 relations. )\n",
      "\n",
      "Annotating nodes ...............\n",
      "\t( 2479 genes annotated to the GO terms. )\n",
      "\n",
      "\t\t\t -- Classic Algorithm -- \n",
      "\n",
      "\t\t the algorithm is scoring 451 nontrivial nodes\n",
      "\t\t parameters: \n",
      "\t\t\t test statistic: fisher\n",
      "\n",
      "Building most specific GOs .....\n",
      "\t( 1072 GO terms found. )\n",
      "\n",
      "Build GO DAG topology ..........\n",
      "\t( 1385 GO terms and 2611 relations. )\n",
      "\n",
      "Annotating nodes ...............\n",
      "\t( 2479 genes annotated to the GO terms. )\n",
      "\n",
      "\t\t\t -- Classic Algorithm -- \n",
      "\n",
      "\t\t the algorithm is scoring 426 nontrivial nodes\n",
      "\t\t parameters: \n",
      "\t\t\t test statistic: fisher\n",
      "\n",
      "Building most specific GOs .....\n",
      "\t( 1072 GO terms found. )\n",
      "\n",
      "Build GO DAG topology ..........\n",
      "\t( 1385 GO terms and 2611 relations. )\n",
      "\n",
      "Annotating nodes ...............\n",
      "\t( 2479 genes annotated to the GO terms. )\n",
      "\n",
      "\t\t\t -- Classic Algorithm -- \n",
      "\n",
      "\t\t the algorithm is scoring 428 nontrivial nodes\n",
      "\t\t parameters: \n",
      "\t\t\t test statistic: fisher\n",
      "\n",
      "Building most specific GOs .....\n",
      "\t( 1072 GO terms found. )\n",
      "\n",
      "Build GO DAG topology ..........\n",
      "\t( 1385 GO terms and 2611 relations. )\n",
      "\n",
      "Annotating nodes ...............\n",
      "\t( 2479 genes annotated to the GO terms. )\n",
      "\n",
      "\t\t\t -- Classic Algorithm -- \n",
      "\n",
      "\t\t the algorithm is scoring 390 nontrivial nodes\n",
      "\t\t parameters: \n",
      "\t\t\t test statistic: fisher\n",
      "\n",
      "Building most specific GOs .....\n",
      "\t( 1072 GO terms found. )\n",
      "\n",
      "Build GO DAG topology ..........\n",
      "\t( 1385 GO terms and 2611 relations. )\n",
      "\n",
      "Annotating nodes ...............\n",
      "\t( 2479 genes annotated to the GO terms. )\n",
      "\n",
      "\t\t\t -- Classic Algorithm -- \n",
      "\n",
      "\t\t the algorithm is scoring 388 nontrivial nodes\n",
      "\t\t parameters: \n",
      "\t\t\t test statistic: fisher\n",
      "\n",
      "Building most specific GOs .....\n",
      "\t( 1072 GO terms found. )\n",
      "\n",
      "Build GO DAG topology ..........\n",
      "\t( 1385 GO terms and 2611 relations. )\n",
      "\n",
      "Annotating nodes ...............\n",
      "\t( 2479 genes annotated to the GO terms. )\n",
      "\n",
      "\t\t\t -- Classic Algorithm -- \n",
      "\n",
      "\t\t the algorithm is scoring 332 nontrivial nodes\n",
      "\t\t parameters: \n",
      "\t\t\t test statistic: fisher\n",
      "\n",
      "Building most specific GOs .....\n",
      "\t( 1072 GO terms found. )\n",
      "\n",
      "Build GO DAG topology ..........\n",
      "\t( 1385 GO terms and 2611 relations. )\n",
      "\n",
      "Annotating nodes ...............\n",
      "\t( 2479 genes annotated to the GO terms. )\n",
      "\n",
      "\t\t\t -- Classic Algorithm -- \n",
      "\n",
      "\t\t the algorithm is scoring 353 nontrivial nodes\n",
      "\t\t parameters: \n",
      "\t\t\t test statistic: fisher\n",
      "\n",
      "Building most specific GOs .....\n",
      "\t( 1072 GO terms found. )\n",
      "\n",
      "Build GO DAG topology ..........\n",
      "\t( 1385 GO terms and 2611 relations. )\n",
      "\n",
      "Annotating nodes ...............\n",
      "\t( 2479 genes annotated to the GO terms. )\n",
      "\n",
      "\t\t\t -- Classic Algorithm -- \n",
      "\n",
      "\t\t the algorithm is scoring 301 nontrivial nodes\n",
      "\t\t parameters: \n",
      "\t\t\t test statistic: fisher\n",
      "\n",
      "Building most specific GOs .....\n",
      "\t( 1072 GO terms found. )\n",
      "\n",
      "Build GO DAG topology ..........\n",
      "\t( 1385 GO terms and 2611 relations. )\n",
      "\n",
      "Annotating nodes ...............\n",
      "\t( 2479 genes annotated to the GO terms. )\n",
      "\n",
      "\t\t\t -- Classic Algorithm -- \n",
      "\n",
      "\t\t the algorithm is scoring 221 nontrivial nodes\n",
      "\t\t parameters: \n",
      "\t\t\t test statistic: fisher\n",
      "\n",
      "Building most specific GOs .....\n",
      "\t( 1072 GO terms found. )\n",
      "\n",
      "Build GO DAG topology ..........\n",
      "\t( 1385 GO terms and 2611 relations. )\n",
      "\n",
      "Annotating nodes ...............\n",
      "\t( 2479 genes annotated to the GO terms. )\n",
      "\n",
      "\t\t\t -- Classic Algorithm -- \n",
      "\n",
      "\t\t the algorithm is scoring 242 nontrivial nodes\n",
      "\t\t parameters: \n",
      "\t\t\t test statistic: fisher\n",
      "\n",
      "Building most specific GOs .....\n",
      "\t( 1072 GO terms found. )\n",
      "\n",
      "Build GO DAG topology ..........\n",
      "\t( 1385 GO terms and 2611 relations. )\n",
      "\n",
      "Annotating nodes ...............\n",
      "\t( 2479 genes annotated to the GO terms. )\n",
      "\n",
      "\t\t\t -- Classic Algorithm -- \n",
      "\n",
      "\t\t the algorithm is scoring 214 nontrivial nodes\n",
      "\t\t parameters: \n",
      "\t\t\t test statistic: fisher\n",
      "\n",
      "Building most specific GOs .....\n",
      "\t( 1072 GO terms found. )\n",
      "\n",
      "Build GO DAG topology ..........\n",
      "\t( 1385 GO terms and 2611 relations. )\n",
      "\n",
      "Annotating nodes ...............\n",
      "\t( 2479 genes annotated to the GO terms. )\n",
      "\n",
      "\t\t\t -- Classic Algorithm -- \n",
      "\n",
      "\t\t the algorithm is scoring 234 nontrivial nodes\n",
      "\t\t parameters: \n",
      "\t\t\t test statistic: fisher\n",
      "\n",
      "Building most specific GOs .....\n",
      "\t( 1072 GO terms found. )\n",
      "\n",
      "Build GO DAG topology ..........\n",
      "\t( 1385 GO terms and 2611 relations. )\n",
      "\n",
      "Annotating nodes ...............\n",
      "\t( 2479 genes annotated to the GO terms. )\n",
      "\n",
      "\t\t\t -- Classic Algorithm -- \n",
      "\n",
      "\t\t the algorithm is scoring 208 nontrivial nodes\n",
      "\t\t parameters: \n",
      "\t\t\t test statistic: fisher\n"
     ]
    }
   ],
   "source": [
    "### Insert Your Code Here ###\n",
    "\n",
    "### Insert Your Code Here ###\n",
    "beta <- 1 # selected power from the previous question\n",
    "adjacency <- sim_mat ^ beta\n",
    "dissimilarity <- 1 - adjacency\n",
    "dim(dissimilarity)\n",
    "dissimilarity[1:5, 1:5]\n",
    "\n",
    "#create gene tree by average linkage hierarchical clustering\n",
    "geneTree <- hclust(as.dist(dissimilarity ), method = \"average\")\n",
    "\n",
    "#module identification using dynamic tree cut algorithm\n",
    "modules <- cutreeDynamic(dendro = geneTree, distM = dissimilarity,\n",
    "                         deepSplit = 4, pamRespectsDendro = FALSE,\n",
    "                         minClusterSize = 30)\n",
    "\n",
    "#assign module colours\n",
    "module.colours <- labels2colors(modules)\n",
    "\n",
    "\n",
    "net <- blockwiseModules(t(log2NormExpr),       # our expression data\n",
    "                        power = beta,          # the soft thresholding power we chose from the plot\n",
    "                        corType = \"pearson\",   # type of correlation\n",
    "                        TOMType = \"unsigned\",  # ignores the sign of the correlation\n",
    "                        minModuleSize = 30,    # minimum number of genes allowed in their own cluster\n",
    "                        randomSeed = 1,        # random seed to fix our result                \n",
    "                        reassignThreshold = 0, # the rest are default parameters for create clusters and formatting outputs\n",
    "                        mergeCutHeight = 0.25,\n",
    "                        numericLabels = TRUE, \n",
    "                        pamRespectsDendro = FALSE,\n",
    "                        saveTOMs = TRUE, \n",
    "                        verbose = 3)\n",
    "\n",
    "unassigned = 0\n",
    "num_cluster = 0\n",
    "for(i in 1:length(net$colors)){\n",
    "    if(net$colors[i] == 0)\n",
    "        unassigned = unassigned+1\n",
    "    if(net$colors[i] > num_cluster)\n",
    "        num_cluster = net$colors[i]\n",
    "}\n",
    "unassigned\n",
    "unname(num_cluster)\n",
    "count <- numeric(num_cluster)\n",
    "\n",
    "for(i in 1:length(net$colors)){\n",
    "    if(net$colors[i] != 0)\n",
    "        count[net$colors[i]] = count[net$colors[i]] + 1\n",
    "}\n",
    "\n",
    "pvalue_store <- numeric(num_cluster)\n",
    "for( i in 1:num_cluster){\n",
    "    geneList3 <- as.factor( (net$colors == i) * 1)\n",
    "    GOdata <- new(\"topGOdata\",\n",
    "              ontology = \"CC\",\n",
    "              allGenes = geneList3,\n",
    "              annotationFun = annFUN.org,\n",
    "              mapping = \"org.Hs.eg.db\",\n",
    "              nodeSize = 10\n",
    "    )\n",
    "    resultFisher <- runTest(GOdata, algorithm = \"classic\", statistic = \"fisher\")\n",
    "    pValue.classic <- score(resultFisher)\n",
    "    pvalue_store[i] = min(pValue.classic)\n",
    "}"
   ]
  },
  {
   "cell_type": "code",
   "execution_count": 76,
   "metadata": {},
   "outputs": [
    {
     "data": {
      "text/html": [
       "<ol class=list-inline>\n",
       "\t<li>0.000823125882675135</li>\n",
       "\t<li>0.0246877217127972</li>\n",
       "</ol>\n"
      ],
      "text/latex": [
       "\\begin{enumerate*}\n",
       "\\item 0.000823125882675135\n",
       "\\item 0.0246877217127972\n",
       "\\end{enumerate*}\n"
      ],
      "text/markdown": [
       "1. 0.000823125882675135\n",
       "2. 0.0246877217127972\n",
       "\n",
       "\n"
      ],
      "text/plain": [
       "[1] 0.0008231259 0.0246877217"
      ]
     },
     "metadata": {},
     "output_type": "display_data"
    },
    {
     "data": {
      "text/html": [
       "13"
      ],
      "text/latex": [
       "13"
      ],
      "text/markdown": [
       "13"
      ],
      "text/plain": [
       "[1] 13"
      ]
     },
     "metadata": {},
     "output_type": "display_data"
    },
    {
     "data": {
      "text/html": [
       "<ol class=list-inline>\n",
       "\t<li>660</li>\n",
       "\t<li>306</li>\n",
       "\t<li>303</li>\n",
       "\t<li>212</li>\n",
       "\t<li>193</li>\n",
       "\t<li>95</li>\n",
       "\t<li>90</li>\n",
       "\t<li>75</li>\n",
       "\t<li>44</li>\n",
       "\t<li>40</li>\n",
       "\t<li>38</li>\n",
       "\t<li>35</li>\n",
       "\t<li>30</li>\n",
       "</ol>\n"
      ],
      "text/latex": [
       "\\begin{enumerate*}\n",
       "\\item 660\n",
       "\\item 306\n",
       "\\item 303\n",
       "\\item 212\n",
       "\\item 193\n",
       "\\item 95\n",
       "\\item 90\n",
       "\\item 75\n",
       "\\item 44\n",
       "\\item 40\n",
       "\\item 38\n",
       "\\item 35\n",
       "\\item 30\n",
       "\\end{enumerate*}\n"
      ],
      "text/markdown": [
       "1. 660\n",
       "2. 306\n",
       "3. 303\n",
       "4. 212\n",
       "5. 193\n",
       "6. 95\n",
       "7. 90\n",
       "8. 75\n",
       "9. 44\n",
       "10. 40\n",
       "11. 38\n",
       "12. 35\n",
       "13. 30\n",
       "\n",
       "\n"
      ],
      "text/plain": [
       " [1] 660 306 303 212 193  95  90  75  44  40  38  35  30"
      ]
     },
     "metadata": {},
     "output_type": "display_data"
    }
   ],
   "source": [
    "range(pvalue_store)\n",
    "unname(num_cluster)\n",
    "count"
   ]
  },
  {
   "cell_type": "markdown",
   "metadata": {},
   "source": [
    "#### Answer:\n",
    "The new range is from 0.000823125882675135 to 0.0246877217127972. The number of clusters is now 13, which increases compared to power of 6. The size of the largest cluster increases while the size of the smallest cluster decreases."
   ]
  },
  {
   "cell_type": "markdown",
   "metadata": {},
   "source": [
    "**Question 3.6 [7 bonus points]**: WGCNA also provides some functions to allow us to more closely examine the relationship between the expression patterns of the different clusters.   We can use as representative profiles for each cluster, the first principal component of the standardized expression profiles, sometimes called the eigengene. Follow the tutorial 5.b [here](https://horvath.genetics.ucla.edu/html/CoexpressionNetwork/Rpackages/WGCNA/Tutorials/FemaleLiver-05-Visualization.pdf), to plot the dendrogram of similarity between the gene module eigengenes.  Also, plot the eigengene adjacency heatmap, as is done in Figure 2.  Which pairs of clusters are the most related by eigengene similarity?  Is there a pair of clusters whose eigengene representative profiles are extremely anti-correlated?"
   ]
  },
  {
   "cell_type": "markdown",
   "metadata": {},
   "source": [
    "#### Answer:\n"
   ]
  },
  {
   "cell_type": "markdown",
   "metadata": {},
   "source": [
    "### Bonus Problem 4: AMARETTO (10 bonus points)\n",
    "\n",
    "In this problem, we will run a different algorithm for finding gene co-expression modules from gene expression data. This new method AMARETTO ([github](https://github.com/gevaertlab/AMARETTO), [tutorial](https://bioconductor.org/packages/devel/bioc/vignettes/AMARETTO/inst/doc/amaretto.pdf), [bioconductor](https://bioconductor.org/packages/devel/bioc/html/AMARETTO.html) ) primarily differs from WGCNA in that it 1) separates genes into two classes targets and regulators and 2) uses regression to model the representative profile of a gene module as a linear combination of regulator expression profiles. We will run AMARETTO on their sample dataset from the Cancer Cell Line Encyclopedia ([CCLE](https://portals.broadinstitute.org/ccle/about)) and examine the resulting modules through their html summaries.\n",
    "\n",
    "First, we must install and load the library (may take tens of minutes the first time). Then we will load in the necessary sample datasets. Next, we set up our run parameters."
   ]
  },
  {
   "cell_type": "code",
   "execution_count": 85,
   "metadata": {},
   "outputs": [
    {
     "name": "stderr",
     "output_type": "stream",
     "text": [
      "Downloading GitHub repo gevaertlab/AMARETTO@for35_develop\n"
     ]
    },
    {
     "name": "stdout",
     "output_type": "stream",
     "text": [
      "Annotatio... (1.42.1   -> 1.44.0  ) [CRAN]\n",
      "Annotatio... (NA       -> 2.14.5  ) [CRAN]\n",
      "askpass      (NA       -> 1.1     ) [CRAN]\n",
      "assertthat   (0.2.0    -> 0.2.1   ) [CRAN]\n",
      "BH           (1.66.0-1 -> 1.69.0-1) [CRAN]\n",
      "Biobase      (2.40.0   -> 2.42.0  ) [CRAN]\n",
      "BiocFileC... (NA       -> 1.6.0   ) [CRAN]\n",
      "BiocGenerics (0.26.0   -> 0.28.0  ) [CRAN]\n",
      "BiocManager  (NA       -> 1.30.4  ) [CRAN]\n",
      "BiocParallel (1.14.2   -> 1.16.6  ) [CRAN]\n",
      "callr        (2.0.4    -> 3.2.0   ) [CRAN]\n",
      "circlize     (NA       -> 0.4.6   ) [CRAN]\n",
      "cli          (1.0.0    -> 1.1.0   ) [CRAN]\n",
      "clipr        (0.4.1    -> 0.6.0   ) [CRAN]\n",
      "colorspace   (1.3-2    -> 1.4-1   ) [CRAN]\n",
      "ComplexHe... (NA       -> 1.20.0  ) [CRAN]\n",
      "crosstalk    (NA       -> 1.0.0   ) [CRAN]\n",
      "curatedTC... (NA       -> 1.4.3   ) [CRAN]\n",
      "curl         (3.2      -> 3.3     ) [CRAN]\n",
      "dbplyr       (1.2.2    -> 1.4.0   ) [CRAN]\n",
      "DelayedArray (0.6.6    -> 0.8.0   ) [CRAN]\n",
      "digest       (0.6.15   -> 0.6.18  ) [CRAN]\n",
      "dplyr        (0.7.6    -> 0.8.0.1 ) [CRAN]\n",
      "DT           (NA       -> 0.5     ) [CRAN]\n",
      "evaluate     (0.11     -> 0.13    ) [CRAN]\n",
      "Experimen... (NA       -> 1.8.0   ) [CRAN]\n",
      "fansi        (0.2.3    -> 0.4.0   ) [CRAN]\n",
      "formatR      (1.5      -> 1.6     ) [CRAN]\n",
      "GenomeInfoDb (1.16.0   -> 1.18.2  ) [CRAN]\n",
      "GenomeInf... (1.1.0    -> 1.2.0   ) [CRAN]\n",
      "GenomicRa... (1.32.7   -> 1.34.0  ) [CRAN]\n",
      "GetoptLong   (NA       -> 0.1.7   ) [CRAN]\n",
      "ggplot2      (3.0.0    -> 3.1.1   ) [CRAN]\n",
      "GlobalOpt... (NA       -> 0.1.0   ) [CRAN]\n",
      "glue         (1.3.0    -> 1.3.1   ) [CRAN]\n",
      "gtable       (0.2.0    -> 0.3.0   ) [CRAN]\n",
      "highr        (0.7      -> 0.8     ) [CRAN]\n",
      "httpuv       (1.4.5    -> 1.5.1   ) [CRAN]\n",
      "httr         (1.3.1    -> 1.4.0   ) [CRAN]\n",
      "impute       (1.54.0   -> 1.56.0  ) [CRAN]\n",
      "interacti... (NA       -> 1.20.0  ) [CRAN]\n",
      "IRanges      (2.14.12  -> 2.16.0  ) [CRAN]\n",
      "jsonlite     (1.5      -> 1.6     ) [CRAN]\n",
      "knitr        (1.20     -> 1.22    ) [CRAN]\n",
      "later        (0.7.3    -> 0.8.0   ) [CRAN]\n",
      "lazyeval     (0.2.1    -> 0.2.2   ) [CRAN]\n",
      "limma        (NA       -> 3.38.3  ) [CRAN]\n",
      "markdown     (0.8      -> 0.9     ) [CRAN]\n",
      "mime         (0.5      -> 0.6     ) [CRAN]\n",
      "MultiAssa... (NA       -> 1.8.3   ) [CRAN]\n",
      "openssl      (1.0.2    -> 1.3     ) [CRAN]\n",
      "pillar       (1.3.0    -> 1.3.1   ) [CRAN]\n",
      "pkgconfig    (2.0.1    -> 2.0.2   ) [CRAN]\n",
      "processx     (3.1.0    -> 3.3.0   ) [CRAN]\n",
      "ps           (NA       -> 1.3.0   ) [CRAN]\n",
      "purrr        (0.2.5    -> 0.3.2   ) [CRAN]\n",
      "R6           (2.2.2    -> 2.4.0   ) [CRAN]\n",
      "rappdirs     (NA       -> 0.3.1   ) [CRAN]\n",
      "Rcpp         (0.12.18  -> 1.0.1   ) [CRAN]\n",
      "readr        (1.1.1    -> 1.3.1   ) [CRAN]\n",
      "rjson        (NA       -> 0.2.20  ) [CRAN]\n",
      "rlang        (0.2.1    -> 0.3.4   ) [CRAN]\n",
      "rmarkdown    (1.10     -> 1.12    ) [CRAN]\n",
      "S4Vectors    (0.18.3   -> 0.20.1  ) [CRAN]\n",
      "scales       (0.5.0    -> 1.0.0   ) [CRAN]\n",
      "shape        (NA       -> 1.4.4   ) [CRAN]\n",
      "shiny        (1.1.0    -> 1.3.2   ) [CRAN]\n",
      "stringi      (1.2.4    -> 1.4.3   ) [CRAN]\n",
      "stringr      (1.3.1    -> 1.4.0   ) [CRAN]\n",
      "Summarize... (1.10.1   -> 1.12.0  ) [CRAN]\n",
      "sys          (NA       -> 3.2     ) [CRAN]\n",
      "testthat     (2.0.0    -> 2.1.1   ) [CRAN]\n",
      "tibble       (1.4.2    -> 2.1.1   ) [CRAN]\n",
      "tidyr        (0.8.1    -> 0.8.3   ) [CRAN]\n",
      "tidyselect   (0.2.4    -> 0.2.5   ) [CRAN]\n",
      "tinytex      (0.6      -> 0.12    ) [CRAN]\n",
      "xfun         (0.3      -> 0.6     ) [CRAN]\n",
      "xtable       (1.8-2    -> 1.8-4   ) [CRAN]\n",
      "XVector      (0.20.0   -> 0.22.0  ) [CRAN]\n",
      "zlibbioc     (1.26.0   -> 1.28.0  ) [CRAN]\n"
     ]
    },
    {
     "name": "stderr",
     "output_type": "stream",
     "text": [
      "Installing 80 packages: AnnotationDbi, AnnotationHub, askpass, assertthat, BH, Biobase, BiocFileCache, BiocGenerics, BiocManager, BiocParallel, callr, circlize, cli, clipr, colorspace, ComplexHeatmap, crosstalk, curatedTCGAData, curl, dbplyr, DelayedArray, digest, dplyr, DT, evaluate, ExperimentHub, fansi, formatR, GenomeInfoDb, GenomeInfoDbData, GenomicRanges, GetoptLong, ggplot2, GlobalOptions, glue, gtable, highr, httpuv, httr, impute, interactiveDisplayBase, IRanges, jsonlite, knitr, later, lazyeval, limma, markdown, mime, MultiAssayExperiment, openssl, pillar, pkgconfig, processx, ps, purrr, R6, rappdirs, Rcpp, readr, rjson, rlang, rmarkdown, S4Vectors, scales, shape, shiny, stringi, stringr, SummarizedExperiment, sys, testthat, tibble, tidyr, tidyselect, tinytex, xfun, xtable, XVector, zlibbioc\n"
     ]
    },
    {
     "ename": "ERROR",
     "evalue": "Error: (converted from warning) packages 'AnnotationDbi', 'Biobase', 'BiocGenerics', 'IRanges', 'S4Vectors' are in use and will not be installed\n",
     "output_type": "error",
     "traceback": [
      "Error: (converted from warning) packages 'AnnotationDbi', 'Biobase', 'BiocGenerics', 'IRanges', 'S4Vectors' are in use and will not be installed\nTraceback:\n",
      "1. devtools::install_github(\"gevaertlab/AMARETTO\", ref = \"for35_develop\", \n .     dependencies = TRUE)   # at line 6 of file <text>",
      "2. install_remotes(remotes, auth_token = auth_token, host = host, \n .     dependencies = dependencies, upgrade = upgrade, force = force, \n .     quiet = quiet, build = build, build_opts = build_opts, repos = repos, \n .     type = type, ...)",
      "3. vapply(remotes, install_remote, ..., FUN.VALUE = character(1))",
      "4. FUN(X[[i]], ...)",
      "5. install(source, dependencies = dependencies, upgrade = upgrade, \n .     force = force, quiet = quiet, build = build, build_opts = build_opts, \n .     repos = repos, type = type, ...)",
      "6. install_deps(pkgdir, dependencies = dependencies, quiet = quiet, \n .     build = build, build_opts = build_opts, upgrade = upgrade, \n .     repos = repos, type = type)",
      "7. update(packages, dependencies = dep_deps, quiet = quiet, upgrade = upgrade, \n .     build = build, build_opts = build_opts, ...)",
      "8. update.package_deps(packages, dependencies = dep_deps, quiet = quiet, \n .     upgrade = upgrade, build = build, build_opts = build_opts, \n .     ...)",
      "9. install_packages(object$package[object$is_cran & behind], repos = r$repos, \n .     type = r$pkg_type, dependencies = dependencies, quiet = quiet, \n .     ...)",
      "10. do.call(safe_install_packages, c(list(packages, repos = repos, \n  .     type = type, dependencies = dependencies, quiet = quiet), \n  .     args))",
      "11. (function (...) \n  . {\n  .     lib <- paste(.libPaths(), collapse = .Platform$path.sep)\n  .     if (!is_standalone() && has_package(\"crancache\") && has_package(\"callr\")) {\n  .         i.p <- \"crancache\" %::% \"install_packages\"\n  .     }\n  .     else {\n  .         i.p <- utils::install.packages\n  .     }\n  .     with_envvar(c(R_LIBS = lib, R_LIBS_USER = lib, R_LIBS_SITE = lib, \n  .         RGL_USE_NULL = \"TRUE\"), if (should_error_for_warnings()) {\n  .         with_options(list(warn = 2), with_rprofile_user(\"options(warn = 2)\", \n  .             i.p(...)))\n  .     }\n  .     else {\n  .         i.p(...)\n  .     })\n  . })(c(\"AnnotationDbi\", \"AnnotationHub\", \"askpass\", \"assertthat\", \n  . \"BH\", \"Biobase\", \"BiocFileCache\", \"BiocGenerics\", \"BiocManager\", \n  . \"BiocParallel\", \"callr\", \"circlize\", \"cli\", \"clipr\", \"colorspace\", \n  . \"ComplexHeatmap\", \"crosstalk\", \"curatedTCGAData\", \"curl\", \"dbplyr\", \n  . \"DelayedArray\", \"digest\", \"dplyr\", \"DT\", \"evaluate\", \"ExperimentHub\", \n  . \"fansi\", \"formatR\", \"GenomeInfoDb\", \"GenomeInfoDbData\", \"GenomicRanges\", \n  . \"GetoptLong\", \"ggplot2\", \"GlobalOptions\", \"glue\", \"gtable\", \"highr\", \n  . \"httpuv\", \"httr\", \"impute\", \"interactiveDisplayBase\", \"IRanges\", \n  . \"jsonlite\", \"knitr\", \"later\", \"lazyeval\", \"limma\", \"markdown\", \n  . \"mime\", \"MultiAssayExperiment\", \"openssl\", \"pillar\", \"pkgconfig\", \n  . \"processx\", \"ps\", \"purrr\", \"R6\", \"rappdirs\", \"Rcpp\", \"readr\", \n  . \"rjson\", \"rlang\", \"rmarkdown\", \"S4Vectors\", \"scales\", \"shape\", \n  . \"shiny\", \"stringi\", \"stringr\", \"SummarizedExperiment\", \"sys\", \n  . \"testthat\", \"tibble\", \"tidyr\", \"tidyselect\", \"tinytex\", \"xfun\", \n  . \"xtable\", \"XVector\", \"zlibbioc\"), repos = c(CRAN = \"https://cran.r-project.org\", \n  . BioCsoft = \"https://bioconductor.org/packages/3.8/bioc\", BioCann = \"https://bioconductor.org/packages/3.8/data/annotation\", \n  . BioCexp = \"https://bioconductor.org/packages/3.8/data/experiment\"\n  . ), type = \"both\", dependencies = NA, quiet = FALSE)",
      "12. with_envvar(c(R_LIBS = lib, R_LIBS_USER = lib, R_LIBS_SITE = lib, \n  .     RGL_USE_NULL = \"TRUE\"), if (should_error_for_warnings()) {\n  .     with_options(list(warn = 2), with_rprofile_user(\"options(warn = 2)\", \n  .         i.p(...)))\n  . } else {\n  .     i.p(...)\n  . })",
      "13. force(code)",
      "14. with_options(list(warn = 2), with_rprofile_user(\"options(warn = 2)\", \n  .     i.p(...)))",
      "15. force(code)",
      "16. with_rprofile_user(\"options(warn = 2)\", i.p(...))",
      "17. with_envvar(c(R_PROFILE_USER = temp_rprofile), {\n  .     force(code)\n  . })",
      "18. force(code)",
      "19. force(code)",
      "20. i.p(...)",
      "21. .install.winbinary(pkgs = bins, lib = lib, contriburl = contrib.url(repos, \n  .     type2), method = method, available = av2, destdir = destdir, \n  .     dependencies = NULL, libs_only = libs_only, quiet = quiet, \n  .     ...)",
      "22. warning(sprintf(ngettext(sum(inuse), \"package %s is in use and will not be installed\", \n  .     \"packages %s are in use and will not be installed\"), paste(sQuote(pkgnames[inuse]), \n  .     collapse = \", \")), call. = FALSE, domain = NA, immediate. = TRUE)",
      "23. .signalSimpleWarning(\"packages 'AnnotationDbi', 'Biobase', 'BiocGenerics', 'IRanges', 'S4Vectors' are in use and will not be installed\", \n  .     quote(NULL))",
      "24. withRestarts({\n  .     .Internal(.signalCondition(simpleWarning(msg, call), msg, \n  .         call))\n  .     .Internal(.dfltWarn(msg, call))\n  . }, muffleWarning = function() NULL)",
      "25. withOneRestart(expr, restarts[[1L]])",
      "26. doWithOneRestart(return(expr), restart)"
     ]
    }
   ],
   "source": [
    "if(!\"AMARETTO\" %in% existing_packages){\n",
    "    # install AMARETTO from github with devtools library\n",
    "    library(devtools)\n",
    "   # Sys.setenv(TAR = \"C:\\\\WINDOWS\\\\SYSTEM32\\\\tar.exe\")\n",
    "    options(unzip = \"internal\")\n",
    "    devtools::install_github(\"gevaertlab/AMARETTO\", ref=\"for35_develop\", dependencies=TRUE)\n",
    "}\n",
    "library(AMARETTO)"
   ]
  },
  {
   "cell_type": "code",
   "execution_count": 86,
   "metadata": {},
   "outputs": [
    {
     "data": {
      "text/html": [
       "<ol class=list-inline>\n",
       "\t<li>13556</li>\n",
       "\t<li>25</li>\n",
       "</ol>\n"
      ],
      "text/latex": [
       "\\begin{enumerate*}\n",
       "\\item 13556\n",
       "\\item 25\n",
       "\\end{enumerate*}\n"
      ],
      "text/markdown": [
       "1. 13556\n",
       "2. 25\n",
       "\n",
       "\n"
      ],
      "text/plain": [
       "[1] 13556    25"
      ]
     },
     "metadata": {},
     "output_type": "display_data"
    },
    {
     "data": {
      "text/html": [
       "<table>\n",
       "<thead><tr><th></th><th scope=col>HEP3B217_LIVER (ACH-000625)</th><th scope=col>HEPG2_LIVER (ACH-000739)</th><th scope=col>HLF_LIVER (ACH-000393)</th><th scope=col>HUH1_LIVER (ACH-000475)</th><th scope=col>HUH6_LIVER (ACH-000671)</th></tr></thead>\n",
       "<tbody>\n",
       "\t<tr><th scope=row>A1BG</th><td>2.521051  </td><td> 4.6478901</td><td>0.11103131</td><td>1.286881  </td><td>0.2750070 </td></tr>\n",
       "\t<tr><th scope=row>A1CF</th><td>5.300856  </td><td> 5.1135338</td><td>0.07038933</td><td>4.986866  </td><td>4.1143670 </td></tr>\n",
       "\t<tr><th scope=row>A2M</th><td>6.094869  </td><td>10.5236600</td><td>0.32192809</td><td>0.422233  </td><td>1.0426443 </td></tr>\n",
       "\t<tr><th scope=row>A4GALT</th><td>2.700440  </td><td> 0.3334237</td><td>3.44228004</td><td>1.632268  </td><td>0.0976108 </td></tr>\n",
       "\t<tr><th scope=row>AAAS</th><td>5.759688  </td><td> 5.5335633</td><td>6.12948910</td><td>5.771622  </td><td>5.9984212 </td></tr>\n",
       "</tbody>\n",
       "</table>\n"
      ],
      "text/latex": [
       "\\begin{tabular}{r|lllll}\n",
       "  & HEP3B217\\_LIVER (ACH-000625) & HEPG2\\_LIVER (ACH-000739) & HLF\\_LIVER (ACH-000393) & HUH1\\_LIVER (ACH-000475) & HUH6\\_LIVER (ACH-000671)\\\\\n",
       "\\hline\n",
       "\tA1BG & 2.521051   &  4.6478901 & 0.11103131 & 1.286881   & 0.2750070 \\\\\n",
       "\tA1CF & 5.300856   &  5.1135338 & 0.07038933 & 4.986866   & 4.1143670 \\\\\n",
       "\tA2M & 6.094869   & 10.5236600 & 0.32192809 & 0.422233   & 1.0426443 \\\\\n",
       "\tA4GALT & 2.700440   &  0.3334237 & 3.44228004 & 1.632268   & 0.0976108 \\\\\n",
       "\tAAAS & 5.759688   &  5.5335633 & 6.12948910 & 5.771622   & 5.9984212 \\\\\n",
       "\\end{tabular}\n"
      ],
      "text/markdown": [
       "\n",
       "| <!--/--> | HEP3B217_LIVER (ACH-000625) | HEPG2_LIVER (ACH-000739) | HLF_LIVER (ACH-000393) | HUH1_LIVER (ACH-000475) | HUH6_LIVER (ACH-000671) | \n",
       "|---|---|---|---|---|\n",
       "| A1BG | 2.521051   |  4.6478901 | 0.11103131 | 1.286881   | 0.2750070  | \n",
       "| A1CF | 5.300856   |  5.1135338 | 0.07038933 | 4.986866   | 4.1143670  | \n",
       "| A2M | 6.094869   | 10.5236600 | 0.32192809 | 0.422233   | 1.0426443  | \n",
       "| A4GALT | 2.700440   |  0.3334237 | 3.44228004 | 1.632268   | 0.0976108  | \n",
       "| AAAS | 5.759688   |  5.5335633 | 6.12948910 | 5.771622   | 5.9984212  | \n",
       "\n",
       "\n"
      ],
      "text/plain": [
       "       HEP3B217_LIVER (ACH-000625) HEPG2_LIVER (ACH-000739)\n",
       "A1BG   2.521051                     4.6478901              \n",
       "A1CF   5.300856                     5.1135338              \n",
       "A2M    6.094869                    10.5236600              \n",
       "A4GALT 2.700440                     0.3334237              \n",
       "AAAS   5.759688                     5.5335633              \n",
       "       HLF_LIVER (ACH-000393) HUH1_LIVER (ACH-000475) HUH6_LIVER (ACH-000671)\n",
       "A1BG   0.11103131             1.286881                0.2750070              \n",
       "A1CF   0.07038933             4.986866                4.1143670              \n",
       "A2M    0.32192809             0.422233                1.0426443              \n",
       "A4GALT 3.44228004             1.632268                0.0976108              \n",
       "AAAS   6.12948910             5.771622                5.9984212              "
      ]
     },
     "metadata": {},
     "output_type": "display_data"
    },
    {
     "data": {
      "text/html": [
       "6742"
      ],
      "text/latex": [
       "6742"
      ],
      "text/markdown": [
       "6742"
      ],
      "text/plain": [
       "[1] 6742"
      ]
     },
     "metadata": {},
     "output_type": "display_data"
    },
    {
     "data": {
      "text/html": [
       "<ol class=list-inline>\n",
       "\t<li>'AACS'</li>\n",
       "\t<li>'AASDHPPT'</li>\n",
       "\t<li>'AASS'</li>\n",
       "\t<li>'ABCA11P'</li>\n",
       "\t<li>'ABCA1'</li>\n",
       "\t<li>'ABCA2'</li>\n",
       "</ol>\n"
      ],
      "text/latex": [
       "\\begin{enumerate*}\n",
       "\\item 'AACS'\n",
       "\\item 'AASDHPPT'\n",
       "\\item 'AASS'\n",
       "\\item 'ABCA11P'\n",
       "\\item 'ABCA1'\n",
       "\\item 'ABCA2'\n",
       "\\end{enumerate*}\n"
      ],
      "text/markdown": [
       "1. 'AACS'\n",
       "2. 'AASDHPPT'\n",
       "3. 'AASS'\n",
       "4. 'ABCA11P'\n",
       "5. 'ABCA1'\n",
       "6. 'ABCA2'\n",
       "\n",
       "\n"
      ],
      "text/plain": [
       "[1] \"AACS\"     \"AASDHPPT\" \"AASS\"     \"ABCA11P\"  \"ABCA1\"    \"ABCA2\"   "
      ]
     },
     "metadata": {},
     "output_type": "display_data"
    }
   ],
   "source": [
    "# read in gene expression data from CCLE\n",
    "MA_matrix_CCLE <- readRDS(url(\"https://www.broadinstitute.org/~npochet/NotebookExample/ExampleData/MA_matrix_CCLE.rds\"))\n",
    "dim(MA_matrix_CCLE)\n",
    "MA_matrix_CCLE[1:5, 1:5]\n",
    "\n",
    "# read in list of possible driver / regulator genes\n",
    "candidate_drivers_CCLE <- readRDS(url(\"https://www.broadinstitute.org/~npochet/NotebookExample/ExampleData/candidate_drivers_CCLE.rds\"))\n",
    "length(candidate_drivers_CCLE)\n",
    "head(candidate_drivers_CCLE)\n",
    "\n",
    "# read in a collection of gene sets for enrichment tests\n",
    "genesets_database_reference <- \"H_C2_genesets.gmt\"\n",
    "download.file(url = \"https://www.broadinstitute.org/~npochet/NotebookExample/ExampleData/H_C2_genesets.gmt\",\n",
    "              destfile = genesets_database_reference)"
   ]
  },
  {
   "cell_type": "code",
   "execution_count": 87,
   "metadata": {},
   "outputs": [
    {
     "name": "stderr",
     "output_type": "stream",
     "text": [
      "Warning message in dir.create(output_directory_CCLE):\n",
      "\"'.\\AMARETTO_report_CCLE' already exists\""
     ]
    }
   ],
   "source": [
    "# set output directory parameter\n",
    "output_directory_CCLE <- \"./AMARETTO_report_CCLE/\"\n",
    "dir.create(output_directory_CCLE)\n",
    "\n",
    "# set other parameters\n",
    "NrModules <- 30 # number of gene modules/clusters to find\n",
    "VarPercentage <- 25 # only use top VarPercentage% of genes by overall variation\n",
    "NrCores <- 4 # max number of CPUs to use"
   ]
  },
  {
   "cell_type": "markdown",
   "metadata": {},
   "source": [
    "When we run the next cell, AMARETTO will iteratively update `NrModules` number of gene clusters until the cluster membership no longer changes significantly. We have used relative few genes and a small number of clusters, but this may take a few minutes."
   ]
  },
  {
   "cell_type": "code",
   "execution_count": 88,
   "metadata": {},
   "outputs": [
    {
     "ename": "ERROR",
     "evalue": "Error in AMARETTO_Initialize(ProcessedData = ProcessedData_CCLE, Driver_list = candidate_drivers_CCLE, : could not find function \"AMARETTO_Initialize\"\n",
     "output_type": "error",
     "traceback": [
      "Error in AMARETTO_Initialize(ProcessedData = ProcessedData_CCLE, Driver_list = candidate_drivers_CCLE, : could not find function \"AMARETTO_Initialize\"\nTraceback:\n"
     ]
    }
   ],
   "source": [
    "# set up for runs\n",
    "ProcessedData_CCLE <- list(MA_matrix = MA_matrix_CCLE, CNV_matrix = NULL,\n",
    "                           MET_matrix = NULL)\n",
    "AMARETTOinit <- AMARETTO_Initialize(ProcessedData = ProcessedData_CCLE,\n",
    "                                    Driver_list = candidate_drivers_CCLE,\n",
    "                                    NrModules = NrModules,\n",
    "                                    VarPercentage = VarPercentage,\n",
    "                                    NrCores = NrCores)\n",
    "\n",
    "# start AMARETTO run\n",
    "AMARETTOresults <- AMARETTO_Run(AMARETTOinit)\n",
    "\n",
    "# collapse AMARETTO results into html reports\n",
    "AMARETTO_HTMLreport(AMARETTOinit = AMARETTOinit,\n",
    "                    AMARETTOresults = AMARETTOresults,\n",
    "                    ProcessedData = ProcessedData_CCLE,\n",
    "                    hyper_geo_test_bool = TRUE,\n",
    "                    hyper_geo_reference = genesets_database_reference,\n",
    "                    output_address = output_directory_CCLE,\n",
    "                    SAMPLE_annotation = NULL,\n",
    "                    ID = \"Sample\")"
   ]
  },
  {
   "cell_type": "markdown",
   "metadata": {},
   "source": [
    "**Question 4.1 [10 bonus points]**: Open the html summary index page that was generated in the `output_directory_CCLE` (should be [./AMARETTO_report_CCLE/AMARETTOhtmls/index.html](./AMARETTO_report_CCLE/AMARETTOhtmls/index.html)). How many targets and regulators were assigned to Module 1? Follow the link and find and report the names of the regulator genes in Module 1. What is the gene set name of the most significant functional category enrichment? How many genes are in both this functional category gene set and in Module 1?  What is the value of the enrichment FDR (False-Discovery Rate) q-value which is found by applying the Benjamini–Hochberg [procedure](https://en.wikipedia.org/wiki/False_discovery_rate#Benjamini%E2%80%93Hochberg_procedure) to the enrichment p-values for multiple hypthesis testing correction?"
   ]
  },
  {
   "cell_type": "markdown",
   "metadata": {},
   "source": [
    "#### Answer:\n"
   ]
  },
  {
   "cell_type": "markdown",
   "metadata": {},
   "source": [
    "#### And this concludes Lab 3.4! "
   ]
  },
  {
   "cell_type": "code",
   "execution_count": null,
   "metadata": {},
   "outputs": [],
   "source": []
  }
 ],
 "metadata": {
  "celltoolbar": "Raw Cell Format",
  "kernelspec": {
   "display_name": "R",
   "language": "R",
   "name": "ir"
  },
  "language_info": {
   "codemirror_mode": "r",
   "file_extension": ".r",
   "mimetype": "text/x-r-source",
   "name": "R",
   "pygments_lexer": "r",
   "version": "3.5.1"
  }
 },
 "nbformat": 4,
 "nbformat_minor": 2
}
