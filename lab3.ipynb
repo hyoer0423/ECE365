{
 "cells": [
  {
   "cell_type": "markdown",
   "metadata": {},
   "source": [
    "# Virtual bidding in NYISO's markets\n",
    "\n",
    "\n",
    "In this lab, we will implement a simple virtual trading strategy in New York\n",
    "ISO's electricity markets. The goal is to maximize profits. We shall train our\n",
    "model on price data from one year, and implement the strategy on the data from\n",
    "the next year. How much can you earn with a certain daily budget? Say \\$250K?\n",
    "\n",
    "We will present a trading strategy. You are welcome to try other strategies and compare the gains over multiple runs.\n",
    "\n",
    "Let's start with customary imports."
   ]
  },
  {
   "cell_type": "code",
   "execution_count": 41,
   "metadata": {},
   "outputs": [],
   "source": [
    "import pandas as pd\n",
    "import numpy as np\n",
    "import matplotlib.pyplot as plt\n",
    "from numpy.random import choice\n",
    "from sklearn.preprocessing import StandardScaler\n",
    "import seaborn as sns\n",
    "import pickle\n",
    "\n",
    "from sklearn.svm import SVC\n",
    "from sklearn.linear_model import LogisticRegression\n",
    "from sklearn.neural_network import MLPClassifier"
   ]
  },
  {
   "cell_type": "markdown",
   "metadata": {},
   "source": [
    "## Load the day-ahead and real-time prices from 11 zones in New York.\n",
    "\n",
    "The day-ahead prices are defined every hour. The real-time market runs every 5 minutes. For each zone, an average of\n",
    "these prices over an hour is published.\n",
    "\n",
    "Store the list of zones in the variable 'listOfZones'. Also, store the number of options\n",
    "as the number of zones times the 24 hours available for trading. Finally create another\n",
    "list containing the option names (zone + hour)."
   ]
  },
  {
   "cell_type": "code",
   "execution_count": 42,
   "metadata": {},
   "outputs": [],
   "source": [
    "listOfZones = ['CAPITL', 'CENTRL', 'DUNWOD', 'GENESE', 'HUD VL', 'LONGIL', 'MHK VL',\n",
    "               'MILLWD', 'N.Y.C.', 'NORTH', 'WEST']\n",
    "\n",
    "nOptions = len(listOfZones) * 24\n",
    "optionNames = [zone + \"_Hour_\" + str(t) for zone in listOfZones for t in range(24)]\n"
   ]
  },
  {
   "cell_type": "markdown",
   "metadata": {},
   "source": [
    "## Parse the files with DA and RT prices along with DA load forecast.\n",
    "\n",
    "Define a function that parses three files containing DA and RT prices, along with DA load predictions from a year from all different zones in the list defined before. This function will be used for to both load the data for training the classifiers and testing them. This function has 3 outputs: they are DA prices, difference between DA and RT prices, and finally DA load predictions. The outputs are pandas data frames whose columns are the options, and rows are the days in the year."
   ]
  },
  {
   "cell_type": "code",
   "execution_count": 43,
   "metadata": {},
   "outputs": [],
   "source": [
    "def loadNYISOData(year):\n",
    "\n",
    "    # Open the relevant files for DA prices, RT prices, DA load.\n",
    "\n",
    "    dfPriceDA = pd.read_csv(\"DAM_NYISO_Zonal_LBMP_\" + str(year) + \".csv\")\n",
    "    dfPriceRT = pd.read_csv(\"RTM_NYISO_Zonal_LBMP_\" + str(year) + \".csv\")\n",
    "    dfLoadDA = pd.read_csv(\"DAM_NYISO_LoadForecast_\" + str(year) + \".csv\")\n",
    "\n",
    "    # Collect the DA and RT prices from each zone from each hour and create a pandas list.\n",
    "    # The data should have prices and loads from all days of a year, where each day\n",
    "    # contributes 24 rows, corresponding to each hour.\n",
    "\n",
    "    priceDA = pd.DataFrame({zone: (dfPriceDA.loc[dfPriceDA['Zone Name'] == zone,\n",
    "                                                 'DAM Zonal LBMP']).values\n",
    "                             for zone in listOfZones})\n",
    "    priceRT = pd.DataFrame({zone: (dfPriceRT.loc[dfPriceRT['Zone Name'] == zone,\n",
    "                                                 'TWI Zonal LBMP']).values\n",
    "                             for zone in listOfZones})\n",
    "    loadDA = pd.DataFrame({zone: (dfLoadDA.loc[dfLoadDA['Zone Name'] == zone,\n",
    "                                               'DAM Forecast Load']).values\n",
    "                            for zone in listOfZones})\n",
    "\n",
    "    numberOfDays = int(len(priceDA.index)/24)\n",
    "\n",
    "    # Compute the price differences between DA and RT prices for all options on\n",
    "    # all days of the year. Store it as a pandas data frame where the 24 rows for\n",
    "    # each day is flattened into one row. This operation essentially allows us to\n",
    "    # independently think of each zone in each hour as a separate option. Also,\n",
    "    # reshape the prices for the DA market in the same manner.\n",
    "\n",
    "    priceDART = pd.DataFrame([priceRT.sub(priceDA).loc[day * 24:\n",
    "                                                              (day + 1) * 24 - 1,\n",
    "                              listOfZones].values.flatten()\n",
    "                              for day in range(numberOfDays)],\n",
    "                             columns=optionNames)\n",
    "\n",
    "    priceDA = pd.DataFrame([priceDA.loc[day * 24: (day + 1) * 24 - 1,\n",
    "                            listOfZones].values.flatten()\n",
    "                            for day in range(numberOfDays)],\n",
    "                           columns=optionNames)\n",
    "\n",
    "    return priceDA, priceDART, loadDA\n"
   ]
  },
  {
   "cell_type": "markdown",
   "metadata": {},
   "source": [
    "## Create a function that creates the inputs for training a classifier\n",
    "\n",
    "Create a function that takes the price and load data and creates two arrays\n",
    "'X' and 'Y'. Essentially, the rows of 'X' contains all information relevant to\n",
    " predicting the sign of the price difference on the various options on the next day.\n",
    " It takes as an input, three pandas frames corresponding to the DA prices, price\n",
    " differences, and the DA load predictions, and produces three outputs:\n",
    " the arrays 'X', 'Y', and the range of days from the year that were used to\n",
    " create the data 'X' and 'Y'. This function will be used to both train and\n",
    " test classifiers."
   ]
  },
  {
   "cell_type": "code",
   "execution_count": 44,
   "metadata": {},
   "outputs": [],
   "source": [
    "def createClassifierIO(priceDA, priceDART, loadDA):\n",
    "\n",
    "    # Define how many past days of prices to use for classification.\n",
    "\n",
    "    pastPrices = range(1, 3)\n",
    "\n",
    "    # Define how many past days of load predictions to use for classification.\n",
    "\n",
    "    pastLoad = range(1, 3)\n",
    "\n",
    "    # Define a date range within the year to create the arrays 'X' and 'Y' in a way\n",
    "    # that past price and load data for the first day is within the date range in the\n",
    "    # pandas frames passed as inputs.\n",
    "\n",
    "    rangeOfDays = range(3, len(priceDA.index))\n",
    "\n",
    "    # 'X' will contain three sets of variables:\n",
    "    #   1. the DA prices from past days in the list 'pastDays',\n",
    "    #   2. the differences between DA and RT prices from the same past days,\n",
    "    #   3. the load predictions from past days in the list 'pastLoad'\n",
    "\n",
    "    X = [np.concatenate((\n",
    "        priceDA.loc[[(day - h) for h in pastPrices]].values.flatten(),\n",
    "        priceDART.loc[[(day - h) for h in pastPrices]].values.flatten(),\n",
    "        loadDA.loc[[(day - h) for h in pastLoad]].values.flatten()\n",
    "    )) for day in rangeOfDays]\n",
    "\n",
    "    # Scale the array 'X' to make its data zero mean and unit variance.\n",
    "    X = StandardScaler().fit_transform(X)\n",
    "\n",
    "    # 'Y' will contain zeros and ones, where a one indicates that the price in DA is\n",
    "    # higher than in RT for a particular option. Recall that an option corresponds to\n",
    "    # a zone at a particular hour of the day.\n",
    "\n",
    "    Y = np.array([(priceDART.loc[day].values > 0).astype(int)\n",
    "                  for day in rangeOfDays])\n",
    "\n",
    "    # Return the arrays 'X' and 'Y', and finally the range of days from the year that\n",
    "    # will be utilized for training or testing the classifier.\n",
    "    return X, Y, rangeOfDays"
   ]
  },
  {
   "cell_type": "markdown",
   "metadata": {},
   "source": [
    "## Design the training module.\n",
    " The training module utilizes a year's worth of data to determine the following for\n",
    " each option, i.e., for each zone for each hour of the day:\n",
    "   1. Classifiers that predict the sign of the difference between DA and RT prices.\n",
    "   2. Statistics of the mean of the price difference.\n",
    "   3. A quantile of the day-ahead prices that we will use as our bid for each option.\n",
    " You will either train the classifiers here or load them from the folder './Classifiers'.\n",
    " Storing the classifiers from time to time allows you to only vary the bidding strategy\n",
    " and observe the annual reward rather than having to train the classifiers every time.\n",
    " \n",
    "### Define and train the classifiers or load pre-trained classifiers."
   ]
  },
  {
   "cell_type": "code",
   "execution_count": 45,
   "metadata": {
    "scrolled": false
   },
   "outputs": [
    {
     "name": "stdout",
     "output_type": "stream",
     "text": [
      "Starting training module...\n",
      "\n",
      "Loaded hourly prices from 2015 for 365 days.\n",
      "Classifier trained for option CAPITL_Hour_0\n"
     ]
    },
    {
     "name": "stderr",
     "output_type": "stream",
     "text": [
      "C:\\Users\\Katherine\\Anaconda3\\lib\\site-packages\\sklearn\\neural_network\\multilayer_perceptron.py:562: ConvergenceWarning: Stochastic Optimizer: Maximum iterations (200) reached and the optimization hasn't converged yet.\n",
      "  % self.max_iter, ConvergenceWarning)\n"
     ]
    },
    {
     "name": "stdout",
     "output_type": "stream",
     "text": [
      "Classifier trained for option CAPITL_Hour_1\n",
      "Classifier trained for option CAPITL_Hour_2\n",
      "Classifier trained for option CAPITL_Hour_3\n"
     ]
    },
    {
     "name": "stderr",
     "output_type": "stream",
     "text": [
      "C:\\Users\\Katherine\\Anaconda3\\lib\\site-packages\\sklearn\\neural_network\\multilayer_perceptron.py:562: ConvergenceWarning: Stochastic Optimizer: Maximum iterations (200) reached and the optimization hasn't converged yet.\n",
      "  % self.max_iter, ConvergenceWarning)\n"
     ]
    },
    {
     "name": "stdout",
     "output_type": "stream",
     "text": [
      "Classifier trained for option CAPITL_Hour_4\n",
      "Classifier trained for option CAPITL_Hour_5\n",
      "Classifier trained for option CAPITL_Hour_6\n",
      "Classifier trained for option CAPITL_Hour_7\n",
      "Classifier trained for option CAPITL_Hour_8\n",
      "Classifier trained for option CAPITL_Hour_9\n",
      "Classifier trained for option CAPITL_Hour_10\n",
      "Classifier trained for option CAPITL_Hour_11\n",
      "Classifier trained for option CAPITL_Hour_12\n",
      "Classifier trained for option CAPITL_Hour_13\n",
      "Classifier trained for option CAPITL_Hour_14\n",
      "Classifier trained for option CAPITL_Hour_15\n",
      "Classifier trained for option CAPITL_Hour_16\n",
      "Classifier trained for option CAPITL_Hour_17\n",
      "Classifier trained for option CAPITL_Hour_18\n",
      "Classifier trained for option CAPITL_Hour_19\n",
      "Classifier trained for option CAPITL_Hour_20\n",
      "Classifier trained for option CAPITL_Hour_21\n",
      "Classifier trained for option CAPITL_Hour_22\n",
      "Classifier trained for option CAPITL_Hour_23\n",
      "Classifier trained for option CENTRL_Hour_0\n",
      "Classifier trained for option CENTRL_Hour_1\n",
      "Classifier trained for option CENTRL_Hour_2\n",
      "Classifier trained for option CENTRL_Hour_3\n",
      "Classifier trained for option CENTRL_Hour_4\n",
      "Classifier trained for option CENTRL_Hour_5\n",
      "Classifier trained for option CENTRL_Hour_6\n",
      "Classifier trained for option CENTRL_Hour_7\n",
      "Classifier trained for option CENTRL_Hour_8\n",
      "Classifier trained for option CENTRL_Hour_9\n",
      "Classifier trained for option CENTRL_Hour_10\n"
     ]
    },
    {
     "name": "stderr",
     "output_type": "stream",
     "text": [
      "C:\\Users\\Katherine\\Anaconda3\\lib\\site-packages\\sklearn\\neural_network\\multilayer_perceptron.py:562: ConvergenceWarning: Stochastic Optimizer: Maximum iterations (200) reached and the optimization hasn't converged yet.\n",
      "  % self.max_iter, ConvergenceWarning)\n"
     ]
    },
    {
     "name": "stdout",
     "output_type": "stream",
     "text": [
      "Classifier trained for option CENTRL_Hour_11\n",
      "Classifier trained for option CENTRL_Hour_12\n",
      "Classifier trained for option CENTRL_Hour_13\n",
      "Classifier trained for option CENTRL_Hour_14\n"
     ]
    },
    {
     "name": "stderr",
     "output_type": "stream",
     "text": [
      "C:\\Users\\Katherine\\Anaconda3\\lib\\site-packages\\sklearn\\neural_network\\multilayer_perceptron.py:562: ConvergenceWarning: Stochastic Optimizer: Maximum iterations (200) reached and the optimization hasn't converged yet.\n",
      "  % self.max_iter, ConvergenceWarning)\n"
     ]
    },
    {
     "name": "stdout",
     "output_type": "stream",
     "text": [
      "Classifier trained for option CENTRL_Hour_15\n",
      "Classifier trained for option CENTRL_Hour_16\n",
      "Classifier trained for option CENTRL_Hour_17\n",
      "Classifier trained for option CENTRL_Hour_18\n",
      "Classifier trained for option CENTRL_Hour_19\n",
      "Classifier trained for option CENTRL_Hour_20\n",
      "Classifier trained for option CENTRL_Hour_21\n",
      "Classifier trained for option CENTRL_Hour_22\n",
      "Classifier trained for option CENTRL_Hour_23\n"
     ]
    },
    {
     "name": "stderr",
     "output_type": "stream",
     "text": [
      "C:\\Users\\Katherine\\Anaconda3\\lib\\site-packages\\sklearn\\neural_network\\multilayer_perceptron.py:562: ConvergenceWarning: Stochastic Optimizer: Maximum iterations (200) reached and the optimization hasn't converged yet.\n",
      "  % self.max_iter, ConvergenceWarning)\n"
     ]
    },
    {
     "name": "stdout",
     "output_type": "stream",
     "text": [
      "Classifier trained for option DUNWOD_Hour_0\n",
      "Classifier trained for option DUNWOD_Hour_1\n",
      "Classifier trained for option DUNWOD_Hour_2\n"
     ]
    },
    {
     "name": "stderr",
     "output_type": "stream",
     "text": [
      "C:\\Users\\Katherine\\Anaconda3\\lib\\site-packages\\sklearn\\neural_network\\multilayer_perceptron.py:562: ConvergenceWarning: Stochastic Optimizer: Maximum iterations (200) reached and the optimization hasn't converged yet.\n",
      "  % self.max_iter, ConvergenceWarning)\n"
     ]
    },
    {
     "name": "stdout",
     "output_type": "stream",
     "text": [
      "Classifier trained for option DUNWOD_Hour_3\n",
      "Classifier trained for option DUNWOD_Hour_4\n",
      "Classifier trained for option DUNWOD_Hour_5\n",
      "Classifier trained for option DUNWOD_Hour_6\n",
      "Classifier trained for option DUNWOD_Hour_7\n",
      "Classifier trained for option DUNWOD_Hour_8\n",
      "Classifier trained for option DUNWOD_Hour_9\n",
      "Classifier trained for option DUNWOD_Hour_10\n",
      "Classifier trained for option DUNWOD_Hour_11\n",
      "Classifier trained for option DUNWOD_Hour_12\n"
     ]
    },
    {
     "name": "stderr",
     "output_type": "stream",
     "text": [
      "C:\\Users\\Katherine\\Anaconda3\\lib\\site-packages\\sklearn\\neural_network\\multilayer_perceptron.py:562: ConvergenceWarning: Stochastic Optimizer: Maximum iterations (200) reached and the optimization hasn't converged yet.\n",
      "  % self.max_iter, ConvergenceWarning)\n"
     ]
    },
    {
     "name": "stdout",
     "output_type": "stream",
     "text": [
      "Classifier trained for option DUNWOD_Hour_13\n",
      "Classifier trained for option DUNWOD_Hour_14\n",
      "Classifier trained for option DUNWOD_Hour_15\n",
      "Classifier trained for option DUNWOD_Hour_16\n",
      "Classifier trained for option DUNWOD_Hour_17\n"
     ]
    },
    {
     "name": "stderr",
     "output_type": "stream",
     "text": [
      "C:\\Users\\Katherine\\Anaconda3\\lib\\site-packages\\sklearn\\neural_network\\multilayer_perceptron.py:562: ConvergenceWarning: Stochastic Optimizer: Maximum iterations (200) reached and the optimization hasn't converged yet.\n",
      "  % self.max_iter, ConvergenceWarning)\n"
     ]
    },
    {
     "name": "stdout",
     "output_type": "stream",
     "text": [
      "Classifier trained for option DUNWOD_Hour_18\n",
      "Classifier trained for option DUNWOD_Hour_19\n"
     ]
    },
    {
     "name": "stderr",
     "output_type": "stream",
     "text": [
      "C:\\Users\\Katherine\\Anaconda3\\lib\\site-packages\\sklearn\\neural_network\\multilayer_perceptron.py:562: ConvergenceWarning: Stochastic Optimizer: Maximum iterations (200) reached and the optimization hasn't converged yet.\n",
      "  % self.max_iter, ConvergenceWarning)\n"
     ]
    },
    {
     "name": "stdout",
     "output_type": "stream",
     "text": [
      "Classifier trained for option DUNWOD_Hour_20\n",
      "Classifier trained for option DUNWOD_Hour_21\n",
      "Classifier trained for option DUNWOD_Hour_22\n"
     ]
    },
    {
     "name": "stderr",
     "output_type": "stream",
     "text": [
      "C:\\Users\\Katherine\\Anaconda3\\lib\\site-packages\\sklearn\\neural_network\\multilayer_perceptron.py:562: ConvergenceWarning: Stochastic Optimizer: Maximum iterations (200) reached and the optimization hasn't converged yet.\n",
      "  % self.max_iter, ConvergenceWarning)\n"
     ]
    },
    {
     "name": "stdout",
     "output_type": "stream",
     "text": [
      "Classifier trained for option DUNWOD_Hour_23\n"
     ]
    },
    {
     "name": "stderr",
     "output_type": "stream",
     "text": [
      "C:\\Users\\Katherine\\Anaconda3\\lib\\site-packages\\sklearn\\neural_network\\multilayer_perceptron.py:562: ConvergenceWarning: Stochastic Optimizer: Maximum iterations (200) reached and the optimization hasn't converged yet.\n",
      "  % self.max_iter, ConvergenceWarning)\n"
     ]
    },
    {
     "name": "stdout",
     "output_type": "stream",
     "text": [
      "Classifier trained for option GENESE_Hour_0\n",
      "Classifier trained for option GENESE_Hour_1\n",
      "Classifier trained for option GENESE_Hour_2\n",
      "Classifier trained for option GENESE_Hour_3\n"
     ]
    },
    {
     "name": "stderr",
     "output_type": "stream",
     "text": [
      "C:\\Users\\Katherine\\Anaconda3\\lib\\site-packages\\sklearn\\neural_network\\multilayer_perceptron.py:562: ConvergenceWarning: Stochastic Optimizer: Maximum iterations (200) reached and the optimization hasn't converged yet.\n",
      "  % self.max_iter, ConvergenceWarning)\n"
     ]
    },
    {
     "name": "stdout",
     "output_type": "stream",
     "text": [
      "Classifier trained for option GENESE_Hour_4\n",
      "Classifier trained for option GENESE_Hour_5\n",
      "Classifier trained for option GENESE_Hour_6\n",
      "Classifier trained for option GENESE_Hour_7\n",
      "Classifier trained for option GENESE_Hour_8\n",
      "Classifier trained for option GENESE_Hour_9\n",
      "Classifier trained for option GENESE_Hour_10\n"
     ]
    },
    {
     "name": "stderr",
     "output_type": "stream",
     "text": [
      "C:\\Users\\Katherine\\Anaconda3\\lib\\site-packages\\sklearn\\neural_network\\multilayer_perceptron.py:562: ConvergenceWarning: Stochastic Optimizer: Maximum iterations (200) reached and the optimization hasn't converged yet.\n",
      "  % self.max_iter, ConvergenceWarning)\n"
     ]
    },
    {
     "name": "stdout",
     "output_type": "stream",
     "text": [
      "Classifier trained for option GENESE_Hour_11\n",
      "Classifier trained for option GENESE_Hour_12\n",
      "Classifier trained for option GENESE_Hour_13\n",
      "Classifier trained for option GENESE_Hour_14\n",
      "Classifier trained for option GENESE_Hour_15\n",
      "Classifier trained for option GENESE_Hour_16\n",
      "Classifier trained for option GENESE_Hour_17\n"
     ]
    },
    {
     "name": "stderr",
     "output_type": "stream",
     "text": [
      "C:\\Users\\Katherine\\Anaconda3\\lib\\site-packages\\sklearn\\neural_network\\multilayer_perceptron.py:562: ConvergenceWarning: Stochastic Optimizer: Maximum iterations (200) reached and the optimization hasn't converged yet.\n",
      "  % self.max_iter, ConvergenceWarning)\n"
     ]
    },
    {
     "name": "stdout",
     "output_type": "stream",
     "text": [
      "Classifier trained for option GENESE_Hour_18\n"
     ]
    },
    {
     "name": "stderr",
     "output_type": "stream",
     "text": [
      "C:\\Users\\Katherine\\Anaconda3\\lib\\site-packages\\sklearn\\neural_network\\multilayer_perceptron.py:562: ConvergenceWarning: Stochastic Optimizer: Maximum iterations (200) reached and the optimization hasn't converged yet.\n",
      "  % self.max_iter, ConvergenceWarning)\n"
     ]
    },
    {
     "name": "stdout",
     "output_type": "stream",
     "text": [
      "Classifier trained for option GENESE_Hour_19\n",
      "Classifier trained for option GENESE_Hour_20\n",
      "Classifier trained for option GENESE_Hour_21\n"
     ]
    },
    {
     "name": "stderr",
     "output_type": "stream",
     "text": [
      "C:\\Users\\Katherine\\Anaconda3\\lib\\site-packages\\sklearn\\neural_network\\multilayer_perceptron.py:562: ConvergenceWarning: Stochastic Optimizer: Maximum iterations (200) reached and the optimization hasn't converged yet.\n",
      "  % self.max_iter, ConvergenceWarning)\n"
     ]
    },
    {
     "name": "stdout",
     "output_type": "stream",
     "text": [
      "Classifier trained for option GENESE_Hour_22\n"
     ]
    },
    {
     "name": "stderr",
     "output_type": "stream",
     "text": [
      "C:\\Users\\Katherine\\Anaconda3\\lib\\site-packages\\sklearn\\neural_network\\multilayer_perceptron.py:562: ConvergenceWarning: Stochastic Optimizer: Maximum iterations (200) reached and the optimization hasn't converged yet.\n",
      "  % self.max_iter, ConvergenceWarning)\n"
     ]
    },
    {
     "name": "stdout",
     "output_type": "stream",
     "text": [
      "Classifier trained for option GENESE_Hour_23\n",
      "Classifier trained for option HUD VL_Hour_0\n",
      "Classifier trained for option HUD VL_Hour_1\n"
     ]
    },
    {
     "name": "stderr",
     "output_type": "stream",
     "text": [
      "C:\\Users\\Katherine\\Anaconda3\\lib\\site-packages\\sklearn\\neural_network\\multilayer_perceptron.py:562: ConvergenceWarning: Stochastic Optimizer: Maximum iterations (200) reached and the optimization hasn't converged yet.\n",
      "  % self.max_iter, ConvergenceWarning)\n"
     ]
    },
    {
     "name": "stdout",
     "output_type": "stream",
     "text": [
      "Classifier trained for option HUD VL_Hour_2\n",
      "Classifier trained for option HUD VL_Hour_3\n",
      "Classifier trained for option HUD VL_Hour_4\n"
     ]
    },
    {
     "name": "stderr",
     "output_type": "stream",
     "text": [
      "C:\\Users\\Katherine\\Anaconda3\\lib\\site-packages\\sklearn\\neural_network\\multilayer_perceptron.py:562: ConvergenceWarning: Stochastic Optimizer: Maximum iterations (200) reached and the optimization hasn't converged yet.\n",
      "  % self.max_iter, ConvergenceWarning)\n"
     ]
    },
    {
     "name": "stdout",
     "output_type": "stream",
     "text": [
      "Classifier trained for option HUD VL_Hour_5\n",
      "Classifier trained for option HUD VL_Hour_6\n",
      "Classifier trained for option HUD VL_Hour_7\n",
      "Classifier trained for option HUD VL_Hour_8\n",
      "Classifier trained for option HUD VL_Hour_9\n",
      "Classifier trained for option HUD VL_Hour_10\n",
      "Classifier trained for option HUD VL_Hour_11\n"
     ]
    },
    {
     "name": "stderr",
     "output_type": "stream",
     "text": [
      "C:\\Users\\Katherine\\Anaconda3\\lib\\site-packages\\sklearn\\neural_network\\multilayer_perceptron.py:562: ConvergenceWarning: Stochastic Optimizer: Maximum iterations (200) reached and the optimization hasn't converged yet.\n",
      "  % self.max_iter, ConvergenceWarning)\n"
     ]
    },
    {
     "name": "stdout",
     "output_type": "stream",
     "text": [
      "Classifier trained for option HUD VL_Hour_12\n"
     ]
    },
    {
     "name": "stderr",
     "output_type": "stream",
     "text": [
      "C:\\Users\\Katherine\\Anaconda3\\lib\\site-packages\\sklearn\\neural_network\\multilayer_perceptron.py:562: ConvergenceWarning: Stochastic Optimizer: Maximum iterations (200) reached and the optimization hasn't converged yet.\n",
      "  % self.max_iter, ConvergenceWarning)\n"
     ]
    },
    {
     "name": "stdout",
     "output_type": "stream",
     "text": [
      "Classifier trained for option HUD VL_Hour_13\n",
      "Classifier trained for option HUD VL_Hour_14\n",
      "Classifier trained for option HUD VL_Hour_15\n",
      "Classifier trained for option HUD VL_Hour_16\n",
      "Classifier trained for option HUD VL_Hour_17\n"
     ]
    },
    {
     "name": "stderr",
     "output_type": "stream",
     "text": [
      "C:\\Users\\Katherine\\Anaconda3\\lib\\site-packages\\sklearn\\neural_network\\multilayer_perceptron.py:562: ConvergenceWarning: Stochastic Optimizer: Maximum iterations (200) reached and the optimization hasn't converged yet.\n",
      "  % self.max_iter, ConvergenceWarning)\n"
     ]
    },
    {
     "name": "stdout",
     "output_type": "stream",
     "text": [
      "Classifier trained for option HUD VL_Hour_18\n",
      "Classifier trained for option HUD VL_Hour_19\n",
      "Classifier trained for option HUD VL_Hour_20\n"
     ]
    },
    {
     "name": "stderr",
     "output_type": "stream",
     "text": [
      "C:\\Users\\Katherine\\Anaconda3\\lib\\site-packages\\sklearn\\neural_network\\multilayer_perceptron.py:562: ConvergenceWarning: Stochastic Optimizer: Maximum iterations (200) reached and the optimization hasn't converged yet.\n",
      "  % self.max_iter, ConvergenceWarning)\n"
     ]
    },
    {
     "name": "stdout",
     "output_type": "stream",
     "text": [
      "Classifier trained for option HUD VL_Hour_21\n"
     ]
    },
    {
     "name": "stderr",
     "output_type": "stream",
     "text": [
      "C:\\Users\\Katherine\\Anaconda3\\lib\\site-packages\\sklearn\\neural_network\\multilayer_perceptron.py:562: ConvergenceWarning: Stochastic Optimizer: Maximum iterations (200) reached and the optimization hasn't converged yet.\n",
      "  % self.max_iter, ConvergenceWarning)\n"
     ]
    },
    {
     "name": "stdout",
     "output_type": "stream",
     "text": [
      "Classifier trained for option HUD VL_Hour_22\n"
     ]
    },
    {
     "name": "stderr",
     "output_type": "stream",
     "text": [
      "C:\\Users\\Katherine\\Anaconda3\\lib\\site-packages\\sklearn\\neural_network\\multilayer_perceptron.py:562: ConvergenceWarning: Stochastic Optimizer: Maximum iterations (200) reached and the optimization hasn't converged yet.\n",
      "  % self.max_iter, ConvergenceWarning)\n"
     ]
    },
    {
     "name": "stdout",
     "output_type": "stream",
     "text": [
      "Classifier trained for option HUD VL_Hour_23\n"
     ]
    },
    {
     "name": "stderr",
     "output_type": "stream",
     "text": [
      "C:\\Users\\Katherine\\Anaconda3\\lib\\site-packages\\sklearn\\neural_network\\multilayer_perceptron.py:562: ConvergenceWarning: Stochastic Optimizer: Maximum iterations (200) reached and the optimization hasn't converged yet.\n",
      "  % self.max_iter, ConvergenceWarning)\n"
     ]
    },
    {
     "name": "stdout",
     "output_type": "stream",
     "text": [
      "Classifier trained for option LONGIL_Hour_0\n",
      "Classifier trained for option LONGIL_Hour_1\n",
      "Classifier trained for option LONGIL_Hour_2\n",
      "Classifier trained for option LONGIL_Hour_3\n",
      "Classifier trained for option LONGIL_Hour_4\n",
      "Classifier trained for option LONGIL_Hour_5\n"
     ]
    },
    {
     "name": "stderr",
     "output_type": "stream",
     "text": [
      "C:\\Users\\Katherine\\Anaconda3\\lib\\site-packages\\sklearn\\neural_network\\multilayer_perceptron.py:562: ConvergenceWarning: Stochastic Optimizer: Maximum iterations (200) reached and the optimization hasn't converged yet.\n",
      "  % self.max_iter, ConvergenceWarning)\n"
     ]
    },
    {
     "name": "stdout",
     "output_type": "stream",
     "text": [
      "Classifier trained for option LONGIL_Hour_6\n",
      "Classifier trained for option LONGIL_Hour_7\n",
      "Classifier trained for option LONGIL_Hour_8\n",
      "Classifier trained for option LONGIL_Hour_9\n",
      "Classifier trained for option LONGIL_Hour_10\n"
     ]
    },
    {
     "name": "stderr",
     "output_type": "stream",
     "text": [
      "C:\\Users\\Katherine\\Anaconda3\\lib\\site-packages\\sklearn\\neural_network\\multilayer_perceptron.py:562: ConvergenceWarning: Stochastic Optimizer: Maximum iterations (200) reached and the optimization hasn't converged yet.\n",
      "  % self.max_iter, ConvergenceWarning)\n"
     ]
    },
    {
     "name": "stdout",
     "output_type": "stream",
     "text": [
      "Classifier trained for option LONGIL_Hour_11\n"
     ]
    },
    {
     "name": "stderr",
     "output_type": "stream",
     "text": [
      "C:\\Users\\Katherine\\Anaconda3\\lib\\site-packages\\sklearn\\neural_network\\multilayer_perceptron.py:562: ConvergenceWarning: Stochastic Optimizer: Maximum iterations (200) reached and the optimization hasn't converged yet.\n",
      "  % self.max_iter, ConvergenceWarning)\n"
     ]
    },
    {
     "name": "stdout",
     "output_type": "stream",
     "text": [
      "Classifier trained for option LONGIL_Hour_12\n",
      "Classifier trained for option LONGIL_Hour_13\n",
      "Classifier trained for option LONGIL_Hour_14\n",
      "Classifier trained for option LONGIL_Hour_15\n",
      "Classifier trained for option LONGIL_Hour_16\n",
      "Classifier trained for option LONGIL_Hour_17\n",
      "Classifier trained for option LONGIL_Hour_18\n",
      "Classifier trained for option LONGIL_Hour_19\n",
      "Classifier trained for option LONGIL_Hour_20\n",
      "Classifier trained for option LONGIL_Hour_21\n"
     ]
    },
    {
     "name": "stderr",
     "output_type": "stream",
     "text": [
      "C:\\Users\\Katherine\\Anaconda3\\lib\\site-packages\\sklearn\\neural_network\\multilayer_perceptron.py:562: ConvergenceWarning: Stochastic Optimizer: Maximum iterations (200) reached and the optimization hasn't converged yet.\n",
      "  % self.max_iter, ConvergenceWarning)\n"
     ]
    },
    {
     "name": "stdout",
     "output_type": "stream",
     "text": [
      "Classifier trained for option LONGIL_Hour_22\n",
      "Classifier trained for option LONGIL_Hour_23\n",
      "Classifier trained for option MHK VL_Hour_0\n",
      "Classifier trained for option MHK VL_Hour_1\n",
      "Classifier trained for option MHK VL_Hour_2\n",
      "Classifier trained for option MHK VL_Hour_3\n",
      "Classifier trained for option MHK VL_Hour_4\n",
      "Classifier trained for option MHK VL_Hour_5\n",
      "Classifier trained for option MHK VL_Hour_6\n",
      "Classifier trained for option MHK VL_Hour_7\n",
      "Classifier trained for option MHK VL_Hour_8\n"
     ]
    },
    {
     "name": "stderr",
     "output_type": "stream",
     "text": [
      "C:\\Users\\Katherine\\Anaconda3\\lib\\site-packages\\sklearn\\neural_network\\multilayer_perceptron.py:562: ConvergenceWarning: Stochastic Optimizer: Maximum iterations (200) reached and the optimization hasn't converged yet.\n",
      "  % self.max_iter, ConvergenceWarning)\n"
     ]
    },
    {
     "name": "stdout",
     "output_type": "stream",
     "text": [
      "Classifier trained for option MHK VL_Hour_9\n"
     ]
    },
    {
     "name": "stderr",
     "output_type": "stream",
     "text": [
      "C:\\Users\\Katherine\\Anaconda3\\lib\\site-packages\\sklearn\\neural_network\\multilayer_perceptron.py:562: ConvergenceWarning: Stochastic Optimizer: Maximum iterations (200) reached and the optimization hasn't converged yet.\n",
      "  % self.max_iter, ConvergenceWarning)\n"
     ]
    },
    {
     "name": "stdout",
     "output_type": "stream",
     "text": [
      "Classifier trained for option MHK VL_Hour_10\n",
      "Classifier trained for option MHK VL_Hour_11\n",
      "Classifier trained for option MHK VL_Hour_12\n",
      "Classifier trained for option MHK VL_Hour_13\n",
      "Classifier trained for option MHK VL_Hour_14\n",
      "Classifier trained for option MHK VL_Hour_15\n",
      "Classifier trained for option MHK VL_Hour_16\n",
      "Classifier trained for option MHK VL_Hour_17\n",
      "Classifier trained for option MHK VL_Hour_18\n",
      "Classifier trained for option MHK VL_Hour_19\n",
      "Classifier trained for option MHK VL_Hour_20\n"
     ]
    },
    {
     "name": "stderr",
     "output_type": "stream",
     "text": [
      "C:\\Users\\Katherine\\Anaconda3\\lib\\site-packages\\sklearn\\neural_network\\multilayer_perceptron.py:562: ConvergenceWarning: Stochastic Optimizer: Maximum iterations (200) reached and the optimization hasn't converged yet.\n",
      "  % self.max_iter, ConvergenceWarning)\n"
     ]
    },
    {
     "name": "stdout",
     "output_type": "stream",
     "text": [
      "Classifier trained for option MHK VL_Hour_21\n",
      "Classifier trained for option MHK VL_Hour_22\n",
      "Classifier trained for option MHK VL_Hour_23\n"
     ]
    },
    {
     "name": "stderr",
     "output_type": "stream",
     "text": [
      "C:\\Users\\Katherine\\Anaconda3\\lib\\site-packages\\sklearn\\neural_network\\multilayer_perceptron.py:562: ConvergenceWarning: Stochastic Optimizer: Maximum iterations (200) reached and the optimization hasn't converged yet.\n",
      "  % self.max_iter, ConvergenceWarning)\n"
     ]
    },
    {
     "name": "stdout",
     "output_type": "stream",
     "text": [
      "Classifier trained for option MILLWD_Hour_0\n",
      "Classifier trained for option MILLWD_Hour_1\n",
      "Classifier trained for option MILLWD_Hour_2\n",
      "Classifier trained for option MILLWD_Hour_3\n",
      "Classifier trained for option MILLWD_Hour_4\n",
      "Classifier trained for option MILLWD_Hour_5\n"
     ]
    },
    {
     "name": "stderr",
     "output_type": "stream",
     "text": [
      "C:\\Users\\Katherine\\Anaconda3\\lib\\site-packages\\sklearn\\neural_network\\multilayer_perceptron.py:562: ConvergenceWarning: Stochastic Optimizer: Maximum iterations (200) reached and the optimization hasn't converged yet.\n",
      "  % self.max_iter, ConvergenceWarning)\n"
     ]
    },
    {
     "name": "stdout",
     "output_type": "stream",
     "text": [
      "Classifier trained for option MILLWD_Hour_6\n"
     ]
    },
    {
     "name": "stderr",
     "output_type": "stream",
     "text": [
      "C:\\Users\\Katherine\\Anaconda3\\lib\\site-packages\\sklearn\\neural_network\\multilayer_perceptron.py:562: ConvergenceWarning: Stochastic Optimizer: Maximum iterations (200) reached and the optimization hasn't converged yet.\n",
      "  % self.max_iter, ConvergenceWarning)\n"
     ]
    },
    {
     "name": "stdout",
     "output_type": "stream",
     "text": [
      "Classifier trained for option MILLWD_Hour_7\n",
      "Classifier trained for option MILLWD_Hour_8\n"
     ]
    },
    {
     "name": "stderr",
     "output_type": "stream",
     "text": [
      "C:\\Users\\Katherine\\Anaconda3\\lib\\site-packages\\sklearn\\neural_network\\multilayer_perceptron.py:562: ConvergenceWarning: Stochastic Optimizer: Maximum iterations (200) reached and the optimization hasn't converged yet.\n",
      "  % self.max_iter, ConvergenceWarning)\n"
     ]
    },
    {
     "name": "stdout",
     "output_type": "stream",
     "text": [
      "Classifier trained for option MILLWD_Hour_9\n",
      "Classifier trained for option MILLWD_Hour_10\n",
      "Classifier trained for option MILLWD_Hour_11\n",
      "Classifier trained for option MILLWD_Hour_12\n",
      "Classifier trained for option MILLWD_Hour_13\n"
     ]
    },
    {
     "name": "stderr",
     "output_type": "stream",
     "text": [
      "C:\\Users\\Katherine\\Anaconda3\\lib\\site-packages\\sklearn\\neural_network\\multilayer_perceptron.py:562: ConvergenceWarning: Stochastic Optimizer: Maximum iterations (200) reached and the optimization hasn't converged yet.\n",
      "  % self.max_iter, ConvergenceWarning)\n"
     ]
    },
    {
     "name": "stdout",
     "output_type": "stream",
     "text": [
      "Classifier trained for option MILLWD_Hour_14\n",
      "Classifier trained for option MILLWD_Hour_15\n"
     ]
    },
    {
     "name": "stderr",
     "output_type": "stream",
     "text": [
      "C:\\Users\\Katherine\\Anaconda3\\lib\\site-packages\\sklearn\\neural_network\\multilayer_perceptron.py:562: ConvergenceWarning: Stochastic Optimizer: Maximum iterations (200) reached and the optimization hasn't converged yet.\n",
      "  % self.max_iter, ConvergenceWarning)\n"
     ]
    },
    {
     "name": "stdout",
     "output_type": "stream",
     "text": [
      "Classifier trained for option MILLWD_Hour_16\n",
      "Classifier trained for option MILLWD_Hour_17\n"
     ]
    },
    {
     "name": "stderr",
     "output_type": "stream",
     "text": [
      "C:\\Users\\Katherine\\Anaconda3\\lib\\site-packages\\sklearn\\neural_network\\multilayer_perceptron.py:562: ConvergenceWarning: Stochastic Optimizer: Maximum iterations (200) reached and the optimization hasn't converged yet.\n",
      "  % self.max_iter, ConvergenceWarning)\n"
     ]
    },
    {
     "name": "stdout",
     "output_type": "stream",
     "text": [
      "Classifier trained for option MILLWD_Hour_18\n"
     ]
    },
    {
     "name": "stderr",
     "output_type": "stream",
     "text": [
      "C:\\Users\\Katherine\\Anaconda3\\lib\\site-packages\\sklearn\\neural_network\\multilayer_perceptron.py:562: ConvergenceWarning: Stochastic Optimizer: Maximum iterations (200) reached and the optimization hasn't converged yet.\n",
      "  % self.max_iter, ConvergenceWarning)\n"
     ]
    },
    {
     "name": "stdout",
     "output_type": "stream",
     "text": [
      "Classifier trained for option MILLWD_Hour_19\n",
      "Classifier trained for option MILLWD_Hour_20\n"
     ]
    },
    {
     "name": "stderr",
     "output_type": "stream",
     "text": [
      "C:\\Users\\Katherine\\Anaconda3\\lib\\site-packages\\sklearn\\neural_network\\multilayer_perceptron.py:562: ConvergenceWarning: Stochastic Optimizer: Maximum iterations (200) reached and the optimization hasn't converged yet.\n",
      "  % self.max_iter, ConvergenceWarning)\n"
     ]
    },
    {
     "name": "stdout",
     "output_type": "stream",
     "text": [
      "Classifier trained for option MILLWD_Hour_21\n",
      "Classifier trained for option MILLWD_Hour_22\n",
      "Classifier trained for option MILLWD_Hour_23\n"
     ]
    },
    {
     "name": "stderr",
     "output_type": "stream",
     "text": [
      "C:\\Users\\Katherine\\Anaconda3\\lib\\site-packages\\sklearn\\neural_network\\multilayer_perceptron.py:562: ConvergenceWarning: Stochastic Optimizer: Maximum iterations (200) reached and the optimization hasn't converged yet.\n",
      "  % self.max_iter, ConvergenceWarning)\n"
     ]
    },
    {
     "name": "stdout",
     "output_type": "stream",
     "text": [
      "Classifier trained for option N.Y.C._Hour_0\n",
      "Classifier trained for option N.Y.C._Hour_1\n",
      "Classifier trained for option N.Y.C._Hour_2\n"
     ]
    },
    {
     "name": "stderr",
     "output_type": "stream",
     "text": [
      "C:\\Users\\Katherine\\Anaconda3\\lib\\site-packages\\sklearn\\neural_network\\multilayer_perceptron.py:562: ConvergenceWarning: Stochastic Optimizer: Maximum iterations (200) reached and the optimization hasn't converged yet.\n",
      "  % self.max_iter, ConvergenceWarning)\n"
     ]
    },
    {
     "name": "stdout",
     "output_type": "stream",
     "text": [
      "Classifier trained for option N.Y.C._Hour_3\n",
      "Classifier trained for option N.Y.C._Hour_4\n",
      "Classifier trained for option N.Y.C._Hour_5\n",
      "Classifier trained for option N.Y.C._Hour_6\n",
      "Classifier trained for option N.Y.C._Hour_7\n",
      "Classifier trained for option N.Y.C._Hour_8\n"
     ]
    },
    {
     "name": "stderr",
     "output_type": "stream",
     "text": [
      "C:\\Users\\Katherine\\Anaconda3\\lib\\site-packages\\sklearn\\neural_network\\multilayer_perceptron.py:562: ConvergenceWarning: Stochastic Optimizer: Maximum iterations (200) reached and the optimization hasn't converged yet.\n",
      "  % self.max_iter, ConvergenceWarning)\n"
     ]
    },
    {
     "name": "stdout",
     "output_type": "stream",
     "text": [
      "Classifier trained for option N.Y.C._Hour_9\n",
      "Classifier trained for option N.Y.C._Hour_10\n",
      "Classifier trained for option N.Y.C._Hour_11\n",
      "Classifier trained for option N.Y.C._Hour_12\n",
      "Classifier trained for option N.Y.C._Hour_13\n",
      "Classifier trained for option N.Y.C._Hour_14\n",
      "Classifier trained for option N.Y.C._Hour_15\n",
      "Classifier trained for option N.Y.C._Hour_16\n",
      "Classifier trained for option N.Y.C._Hour_17\n",
      "Classifier trained for option N.Y.C._Hour_18\n",
      "Classifier trained for option N.Y.C._Hour_19\n",
      "Classifier trained for option N.Y.C._Hour_20\n",
      "Classifier trained for option N.Y.C._Hour_21\n",
      "Classifier trained for option N.Y.C._Hour_22\n",
      "Classifier trained for option N.Y.C._Hour_23\n",
      "Classifier trained for option NORTH_Hour_0\n"
     ]
    },
    {
     "name": "stderr",
     "output_type": "stream",
     "text": [
      "C:\\Users\\Katherine\\Anaconda3\\lib\\site-packages\\sklearn\\neural_network\\multilayer_perceptron.py:562: ConvergenceWarning: Stochastic Optimizer: Maximum iterations (200) reached and the optimization hasn't converged yet.\n",
      "  % self.max_iter, ConvergenceWarning)\n"
     ]
    },
    {
     "name": "stdout",
     "output_type": "stream",
     "text": [
      "Classifier trained for option NORTH_Hour_1\n",
      "Classifier trained for option NORTH_Hour_2\n",
      "Classifier trained for option NORTH_Hour_3\n"
     ]
    },
    {
     "name": "stderr",
     "output_type": "stream",
     "text": [
      "C:\\Users\\Katherine\\Anaconda3\\lib\\site-packages\\sklearn\\neural_network\\multilayer_perceptron.py:562: ConvergenceWarning: Stochastic Optimizer: Maximum iterations (200) reached and the optimization hasn't converged yet.\n",
      "  % self.max_iter, ConvergenceWarning)\n"
     ]
    },
    {
     "name": "stdout",
     "output_type": "stream",
     "text": [
      "Classifier trained for option NORTH_Hour_4\n",
      "Classifier trained for option NORTH_Hour_5\n",
      "Classifier trained for option NORTH_Hour_6\n",
      "Classifier trained for option NORTH_Hour_7\n",
      "Classifier trained for option NORTH_Hour_8\n",
      "Classifier trained for option NORTH_Hour_9\n"
     ]
    },
    {
     "name": "stderr",
     "output_type": "stream",
     "text": [
      "C:\\Users\\Katherine\\Anaconda3\\lib\\site-packages\\sklearn\\neural_network\\multilayer_perceptron.py:562: ConvergenceWarning: Stochastic Optimizer: Maximum iterations (200) reached and the optimization hasn't converged yet.\n",
      "  % self.max_iter, ConvergenceWarning)\n"
     ]
    },
    {
     "name": "stdout",
     "output_type": "stream",
     "text": [
      "Classifier trained for option NORTH_Hour_10\n",
      "Classifier trained for option NORTH_Hour_11\n",
      "Classifier trained for option NORTH_Hour_12\n",
      "Classifier trained for option NORTH_Hour_13\n"
     ]
    },
    {
     "name": "stderr",
     "output_type": "stream",
     "text": [
      "C:\\Users\\Katherine\\Anaconda3\\lib\\site-packages\\sklearn\\neural_network\\multilayer_perceptron.py:562: ConvergenceWarning: Stochastic Optimizer: Maximum iterations (200) reached and the optimization hasn't converged yet.\n",
      "  % self.max_iter, ConvergenceWarning)\n"
     ]
    },
    {
     "name": "stdout",
     "output_type": "stream",
     "text": [
      "Classifier trained for option NORTH_Hour_14\n",
      "Classifier trained for option NORTH_Hour_15\n",
      "Classifier trained for option NORTH_Hour_16\n",
      "Classifier trained for option NORTH_Hour_17\n",
      "Classifier trained for option NORTH_Hour_18\n",
      "Classifier trained for option NORTH_Hour_19\n",
      "Classifier trained for option NORTH_Hour_20\n",
      "Classifier trained for option NORTH_Hour_21\n",
      "Classifier trained for option NORTH_Hour_22\n"
     ]
    },
    {
     "name": "stderr",
     "output_type": "stream",
     "text": [
      "C:\\Users\\Katherine\\Anaconda3\\lib\\site-packages\\sklearn\\neural_network\\multilayer_perceptron.py:562: ConvergenceWarning: Stochastic Optimizer: Maximum iterations (200) reached and the optimization hasn't converged yet.\n",
      "  % self.max_iter, ConvergenceWarning)\n"
     ]
    },
    {
     "name": "stdout",
     "output_type": "stream",
     "text": [
      "Classifier trained for option NORTH_Hour_23\n",
      "Classifier trained for option WEST_Hour_0\n"
     ]
    },
    {
     "name": "stderr",
     "output_type": "stream",
     "text": [
      "C:\\Users\\Katherine\\Anaconda3\\lib\\site-packages\\sklearn\\neural_network\\multilayer_perceptron.py:562: ConvergenceWarning: Stochastic Optimizer: Maximum iterations (200) reached and the optimization hasn't converged yet.\n",
      "  % self.max_iter, ConvergenceWarning)\n"
     ]
    },
    {
     "name": "stdout",
     "output_type": "stream",
     "text": [
      "Classifier trained for option WEST_Hour_1\n",
      "Classifier trained for option WEST_Hour_2\n",
      "Classifier trained for option WEST_Hour_3\n",
      "Classifier trained for option WEST_Hour_4\n"
     ]
    },
    {
     "name": "stderr",
     "output_type": "stream",
     "text": [
      "C:\\Users\\Katherine\\Anaconda3\\lib\\site-packages\\sklearn\\neural_network\\multilayer_perceptron.py:562: ConvergenceWarning: Stochastic Optimizer: Maximum iterations (200) reached and the optimization hasn't converged yet.\n",
      "  % self.max_iter, ConvergenceWarning)\n"
     ]
    },
    {
     "name": "stdout",
     "output_type": "stream",
     "text": [
      "Classifier trained for option WEST_Hour_5\n",
      "Classifier trained for option WEST_Hour_6\n",
      "Classifier trained for option WEST_Hour_7\n",
      "Classifier trained for option WEST_Hour_8\n",
      "Classifier trained for option WEST_Hour_9\n",
      "Classifier trained for option WEST_Hour_10\n",
      "Classifier trained for option WEST_Hour_11\n",
      "Classifier trained for option WEST_Hour_12\n",
      "Classifier trained for option WEST_Hour_13\n"
     ]
    },
    {
     "name": "stderr",
     "output_type": "stream",
     "text": [
      "C:\\Users\\Katherine\\Anaconda3\\lib\\site-packages\\sklearn\\neural_network\\multilayer_perceptron.py:562: ConvergenceWarning: Stochastic Optimizer: Maximum iterations (200) reached and the optimization hasn't converged yet.\n",
      "  % self.max_iter, ConvergenceWarning)\n"
     ]
    },
    {
     "name": "stdout",
     "output_type": "stream",
     "text": [
      "Classifier trained for option WEST_Hour_14\n",
      "Classifier trained for option WEST_Hour_15\n",
      "Classifier trained for option WEST_Hour_16\n",
      "Classifier trained for option WEST_Hour_17\n"
     ]
    },
    {
     "name": "stderr",
     "output_type": "stream",
     "text": [
      "C:\\Users\\Katherine\\Anaconda3\\lib\\site-packages\\sklearn\\neural_network\\multilayer_perceptron.py:562: ConvergenceWarning: Stochastic Optimizer: Maximum iterations (200) reached and the optimization hasn't converged yet.\n",
      "  % self.max_iter, ConvergenceWarning)\n"
     ]
    },
    {
     "name": "stdout",
     "output_type": "stream",
     "text": [
      "Classifier trained for option WEST_Hour_18\n",
      "Classifier trained for option WEST_Hour_19\n",
      "Classifier trained for option WEST_Hour_20\n",
      "Classifier trained for option WEST_Hour_21\n",
      "Classifier trained for option WEST_Hour_22\n",
      "Classifier trained for option WEST_Hour_23\n",
      "\n",
      "Overall training accuracy = 99.97 percent.\n"
     ]
    }
   ],
   "source": [
    "classifiers = []\n",
    "\n",
    "# We have two options here. Use previous training experience, or learn anew.\n",
    "useSavedClassifiers = False\n",
    "\n",
    "if not useSavedClassifiers:\n",
    "\n",
    "    print(\"Starting training module...\\n\")\n",
    "    trainPriceDA, trainPriceDART, trainLoadDA = loadNYISOData(2015)\n",
    "\n",
    "    numberOfDays =  int(len(trainPriceDA.index))\n",
    "    print(\"Loaded hourly prices from 2015 for %d days.\" % numberOfDays)\n",
    "\n",
    "    # We will implement a trading strategy, where we bid a particular quantile of the past\n",
    "    # DA prices for an option. If you do not know what a quantile means, refer to the Wikipedia\n",
    "    # article on it. Essentially, a 95% quantile of the DA prices equals that value for which\n",
    "    # 95% of the DA prices are below it. Store all quantiles starting from 50% in steps of\n",
    "    # 5% in a dictionary. Store them in a pickle file.\n",
    "\n",
    "    quantilesToStore = [0.70, 0.75, 0.80, 0.85, 0.90, 0.95]\n",
    "    offerPrices = trainPriceDA.quantile(q=quantilesToStore).transpose().to_dict()\n",
    "    pickle.dump(offerPrices, open(\"./Training/OfferPrices\", 'wb'))\n",
    "\n",
    "    # Calculate the average price spread for each option over the entire year. This will guide\n",
    "    # us in choosing our portfolio. Store it as a dictionary. Our bid will choose those\n",
    "    # options that our classifier indicates that they will be profitable and historically they\n",
    "    # have higher average price differences, indicating that they have higher rate of return.\n",
    "    # Store them using pickle.\n",
    "\n",
    "    averagePriceSpread = trainPriceDART.mean(axis=0).transpose().to_dict()\n",
    "    pickle.dump(averagePriceSpread, open(\"./Training/AveragePriceSpread\", 'wb'))\n",
    "\n",
    "    # Create the training dataset using the function 'createClassifierIO' on the prices and\n",
    "    # loads, and store them in 'trainX', and 'trainY'.\n",
    "\n",
    "    trainX, trainY, _ = createClassifierIO(trainPriceDA, trainPriceDART, trainLoadDA)\n",
    "\n",
    "    # Define a collection of classifiers, one for each option. You can try different options, such\n",
    "    # as that based on an SVM, logistic regression, multilayer perceptron based, etc. We will\n",
    "    # measure training accuracy to indicate how well the classifier works on the training dataset.\n",
    "    # However, good training accuracy does not always indicate good test performance.\n",
    "    # Avoid over-fitting.\n",
    "\n",
    "\n",
    "    classifiers = [MLPClassifier(hidden_layer_sizes=(20, 10), max_iter=200)\n",
    "                   for _ in range(nOptions)]\n",
    "\n",
    "    trainingAccuracy = 0\n",
    "\n",
    "    for ii in range(nOptions):\n",
    "        classifiers[ii].fit(trainX, trainY[:, ii])\n",
    "        print(\"Classifier trained for option \" + optionNames[ii])\n",
    "        trainingAccuracy += classifiers[ii].score(trainX, trainY[:, ii])\n",
    "\n",
    "        # Store the classifier.\n",
    "        pickle.dump(classifiers[ii], open(\"./Training/Classifier_\" + optionNames[ii], 'wb'))\n",
    "\n",
    "    print(\"\\nOverall training accuracy = %1.2f percent.\" % (100 * trainingAccuracy/nOptions))\n",
    "\n",
    "    del numberOfDays, trainPriceDA, trainLoadDA, trainPriceDART, trainX, trainY\n",
    "else:\n",
    "\n",
    "    # Load the classifiers, the offer prices at various quantiles, and the average price spreads.\n",
    "\n",
    "    print(\"Loading previously trained variables...\\n\")\n",
    "    classifiers = [pickle.load(open(\"./Training/Classifier_\" + optionNames[ii], 'rb'))\n",
    "                   for ii in range(nOptions)]\n",
    "    offerPrices = pickle.load(open(\"./Training/OfferPrices\", 'rb'))\n",
    "    averagePriceSpread = pickle.load(open(\"./Training/AveragePriceSpread\", 'rb'))\n",
    "\n",
    "    print(\"All training variables were loaded successfully...\\n\")"
   ]
  },
  {
   "cell_type": "markdown",
   "metadata": {},
   "source": [
    "### Test the classifier's accuracy on test data."
   ]
  },
  {
   "cell_type": "code",
   "execution_count": 46,
   "metadata": {},
   "outputs": [
    {
     "name": "stdout",
     "output_type": "stream",
     "text": [
      "Starting the testing module...\n",
      "\n",
      "Test Accuracy Stats: Min = 48.76%, Avg = 59.00%, Max = 68.04%\n"
     ]
    }
   ],
   "source": [
    "# First, load the test data from NYISO for the year 2016. Again, utilize our function\n",
    "# named 'loadNYISOData'.\n",
    "\n",
    "print(\"Starting the testing module...\\n\")\n",
    "testPriceDA, testPriceDART, testLoadDA = loadNYISOData(2016)\n",
    "\n",
    "# Create the data for the classifier using the function 'createClassifierIO'.\n",
    "testX, testY, rangeOfDays = createClassifierIO(testPriceDA, testPriceDART, testLoadDA)\n",
    "\n",
    "# The next step is not useful for implementing the trading strategy, but quickly check how accurate\n",
    "# your trained classifiers are for the test data. Training accuracy is not always indicative of\n",
    "# test accuracy.\n",
    "\n",
    "testingAccuracy = [classifiers[ii].score(testX, testY[:, ii]) for ii in range(nOptions)]\n",
    "print(\"Test Accuracy Stats: Min = %.2f%%, Avg = %.2f%%, Max = %.2f%%\" %\n",
    "      (100 * np.min(testingAccuracy),\n",
    "       100 * np.mean(testingAccuracy),\n",
    "       100 * np.max(testingAccuracy)))\n",
    "\n",
    "# Utilize the classifiers to predict the sign of DA - RT prices for each day in 'rangeOfDays' for\n",
    "# the test data. Store the result in a pandas data frame with columns as the option names and the\n",
    "# day in year as index.\n",
    "predictedY = pd.DataFrame(np.column_stack([classifiers[ii].predict(testX) for ii in range(nOptions)]),\n",
    "                          columns=optionNames, index=rangeOfDays)"
   ]
  },
  {
   "cell_type": "markdown",
   "metadata": {},
   "source": [
    "## Design and implement the trading strategy. \n",
    "\n",
    "We define a fairly simple trading strategy. Define a total budget that you are willing to spend in the DA market. Recall that we only invest in\n",
    "options where we buy at the DA market and sell at the RT market. When your bid for one unit of an option\n",
    "clears in the DA market, you have to pay the DA price for that option. There are two possibilities:\n",
    "  1. Your bid clears: Therefore, your offer price was higher than the DA price.\n",
    "  2. Your bid does not clear: Then, the DA price was higher than your bid.\n",
    "In both these cases, the maximum you have to pay is your bid. Therefore, we will enforce that your bids\n",
    "across all options in a day does not exceed your total budget.\n",
    "Keep track of how rewards grow (or fall) through the year\n",
    "as you utilize your strategy. Also, keep track of how much rewards you get from each option. We shall\n",
    "visualize these results after implementing the trading strategy over the NYISO data for 2016.\n",
    "\n",
    "Choose the bid prices as a suitable quantile of the historical DA prices. The higher the quantile, the\n",
    "better your chances are that your bid will be cleared. However, a higher quantile also indicates that\n",
    "you are budgeting more money for each option, and hence, you will buy fewer options."
   ]
  },
  {
   "cell_type": "code",
   "execution_count": 47,
   "metadata": {
    "scrolled": false
   },
   "outputs": [
    {
     "name": "stdout",
     "output_type": "stream",
     "text": [
      "Day 3: Reward (in $) = -88,710\n",
      "Day 4: Reward (in $) = 1,038,436\n",
      "Day 5: Reward (in $) = 3,441\n",
      "Day 6: Reward (in $) = -24,600\n",
      "Day 7: Reward (in $) = -10,636\n",
      "Day 8: Reward (in $) = -38,029\n",
      "Day 9: Reward (in $) = -33,905\n",
      "Day 10: Reward (in $) = -112,249\n",
      "Day 11: Reward (in $) = -45,986\n",
      "Day 12: Reward (in $) = -38,097\n",
      "Day 13: Reward (in $) = -15,536\n",
      "Day 14: Reward (in $) = -21,047\n",
      "Day 15: Reward (in $) = 8,463\n",
      "Day 16: Reward (in $) = 37,712\n",
      "Day 17: Reward (in $) = -77,218\n",
      "Day 18: Reward (in $) = -26,598\n",
      "Day 19: Reward (in $) = 13,236\n",
      "Day 20: Reward (in $) = 2,197\n",
      "Day 21: Reward (in $) = 31,024\n",
      "Day 22: Reward (in $) = 83,847\n",
      "Day 23: Reward (in $) = 37,879\n",
      "Day 24: Reward (in $) = -40,196\n",
      "Day 25: Reward (in $) = -51,852\n",
      "Day 26: Reward (in $) = -30,208\n",
      "Day 27: Reward (in $) = -6,276\n",
      "Day 28: Reward (in $) = -15,936\n",
      "Day 29: Reward (in $) = -27,471\n",
      "Day 30: Reward (in $) = -56,926\n",
      "Day 31: Reward (in $) = -24,211\n",
      "Day 32: Reward (in $) = -8,355\n",
      "Day 33: Reward (in $) = -254,179\n",
      "Day 34: Reward (in $) = -9,633\n",
      "Day 35: Reward (in $) = 32,246\n",
      "Day 36: Reward (in $) = -36,617\n",
      "Day 37: Reward (in $) = -40,234\n",
      "Day 38: Reward (in $) = 28,047\n",
      "Day 39: Reward (in $) = 13,025\n",
      "Day 40: Reward (in $) = -21,007\n",
      "Day 41: Reward (in $) = -40,646\n",
      "Day 42: Reward (in $) = -15,695\n",
      "Day 43: Reward (in $) = -31,825\n",
      "Day 44: Reward (in $) = -32,026\n",
      "Day 45: Reward (in $) = -14,728\n",
      "Day 46: Reward (in $) = 88,787\n",
      "Day 47: Reward (in $) = 27,754\n",
      "Day 48: Reward (in $) = -55,422\n",
      "Day 49: Reward (in $) = -59,569\n",
      "Day 50: Reward (in $) = -46,669\n",
      "Day 51: Reward (in $) = 6,827\n",
      "Day 52: Reward (in $) = -27,618\n",
      "Day 53: Reward (in $) = -15,068\n",
      "Day 54: Reward (in $) = 1,654\n",
      "Day 55: Reward (in $) = 1,099\n",
      "Day 56: Reward (in $) = -37,532\n",
      "Day 57: Reward (in $) = -28,447\n",
      "Day 58: Reward (in $) = -18,110\n",
      "Day 59: Reward (in $) = -12,516\n",
      "Day 60: Reward (in $) = -61,521\n",
      "Day 61: Reward (in $) = -42,862\n",
      "Day 62: Reward (in $) = 6,582\n",
      "Day 63: Reward (in $) = -16,340\n",
      "Day 64: Reward (in $) = 138\n",
      "Day 65: Reward (in $) = 46,050\n",
      "Day 66: Reward (in $) = 72,841\n",
      "Day 67: Reward (in $) = -8,057\n",
      "Day 68: Reward (in $) = -54,970\n",
      "Day 69: Reward (in $) = -42,417\n",
      "Day 70: Reward (in $) = 80,366\n",
      "Day 71: Reward (in $) = -5,331\n",
      "Day 72: Reward (in $) = -12,415\n",
      "Day 73: Reward (in $) = -113,306\n",
      "Day 74: Reward (in $) = 722,847\n",
      "Day 75: Reward (in $) = -61,795\n",
      "Day 76: Reward (in $) = -87,473\n",
      "Day 77: Reward (in $) = -71,009\n",
      "Day 78: Reward (in $) = -25,834\n",
      "Day 79: Reward (in $) = -28,629\n",
      "Day 80: Reward (in $) = -42,129\n",
      "Day 81: Reward (in $) = 47,299\n",
      "Day 82: Reward (in $) = 11,851\n",
      "Day 83: Reward (in $) = -23,003\n",
      "Day 84: Reward (in $) = -5,555\n",
      "Day 85: Reward (in $) = 8,348\n",
      "Day 86: Reward (in $) = -36,308\n",
      "Day 87: Reward (in $) = 2,718,543\n",
      "Day 88: Reward (in $) = 643,033\n",
      "Day 89: Reward (in $) = -83,625\n",
      "Day 90: Reward (in $) = -62,648\n",
      "Day 91: Reward (in $) = -23,458\n",
      "Day 92: Reward (in $) = -28,891\n",
      "Day 93: Reward (in $) = -35,531\n",
      "Day 94: Reward (in $) = 13,301\n",
      "Day 95: Reward (in $) = -8,618\n",
      "Day 96: Reward (in $) = -55,909\n",
      "Day 97: Reward (in $) = -44,685\n",
      "Day 98: Reward (in $) = -80,804\n",
      "Day 99: Reward (in $) = -30,579\n",
      "Day 100: Reward (in $) = -6,172\n",
      "Day 101: Reward (in $) = -7,439\n",
      "Day 102: Reward (in $) = 2,426\n",
      "Day 103: Reward (in $) = 159,533\n",
      "Day 104: Reward (in $) = -66,815\n",
      "Day 105: Reward (in $) = -3,989\n",
      "Day 106: Reward (in $) = -34,508\n",
      "Day 107: Reward (in $) = -6,520\n",
      "Day 108: Reward (in $) = 81,987\n",
      "Day 109: Reward (in $) = -45,051\n",
      "Day 110: Reward (in $) = -37,775\n",
      "Day 111: Reward (in $) = -53,855\n",
      "Day 112: Reward (in $) = 90,724\n",
      "Day 113: Reward (in $) = -54,606\n",
      "Day 114: Reward (in $) = -63,589\n",
      "Day 115: Reward (in $) = -94,585\n",
      "Day 116: Reward (in $) = -1,383\n",
      "Day 117: Reward (in $) = -26,862\n",
      "Day 118: Reward (in $) = 2,125\n",
      "Day 119: Reward (in $) = -18,648\n",
      "Day 120: Reward (in $) = 2,386\n",
      "Day 121: Reward (in $) = 53,127\n",
      "Day 122: Reward (in $) = 2,037\n",
      "Day 123: Reward (in $) = -62,409\n",
      "Day 124: Reward (in $) = -47,894\n",
      "Day 125: Reward (in $) = -33,725\n",
      "Day 126: Reward (in $) = -52,131\n",
      "Day 127: Reward (in $) = -18,025\n",
      "Day 128: Reward (in $) = -53,055\n",
      "Day 129: Reward (in $) = -82,400\n",
      "Day 130: Reward (in $) = -45,333\n",
      "Day 131: Reward (in $) = 29,250\n",
      "Day 132: Reward (in $) = 49,898\n",
      "Day 133: Reward (in $) = 44,679\n",
      "Day 134: Reward (in $) = -47,006\n",
      "Day 135: Reward (in $) = -14,476\n",
      "Day 136: Reward (in $) = -54,106\n",
      "Day 137: Reward (in $) = -49,933\n",
      "Day 138: Reward (in $) = -103,605\n",
      "Day 139: Reward (in $) = 2,532\n",
      "Day 140: Reward (in $) = -67,622\n",
      "Day 141: Reward (in $) = -248\n",
      "Day 142: Reward (in $) = 32,578\n",
      "Day 143: Reward (in $) = -79,307\n",
      "Day 144: Reward (in $) = -20,346\n",
      "Day 145: Reward (in $) = -38,989\n",
      "Day 146: Reward (in $) = -21,081\n",
      "Day 147: Reward (in $) = 6,272\n",
      "Day 148: Reward (in $) = 387,805\n",
      "Day 149: Reward (in $) = 50,752\n",
      "Day 150: Reward (in $) = 66,094\n",
      "Day 151: Reward (in $) = 564,029\n",
      "Day 152: Reward (in $) = 364,170\n",
      "Day 153: Reward (in $) = 59,878\n",
      "Day 154: Reward (in $) = 30,940\n",
      "Day 155: Reward (in $) = -39,873\n",
      "Day 156: Reward (in $) = -37,751\n",
      "Day 157: Reward (in $) = -130,317\n",
      "Day 158: Reward (in $) = -24,344\n",
      "Day 159: Reward (in $) = -60,401\n",
      "Day 160: Reward (in $) = -134,360\n",
      "Day 161: Reward (in $) = 4,926\n",
      "Day 162: Reward (in $) = 161,212\n",
      "Day 163: Reward (in $) = -7,658\n",
      "Day 164: Reward (in $) = -64,881\n",
      "Day 165: Reward (in $) = 184,232\n",
      "Day 166: Reward (in $) = -27,624\n",
      "Day 167: Reward (in $) = 28,636\n",
      "Day 168: Reward (in $) = -920\n",
      "Day 169: Reward (in $) = -3,212\n",
      "Day 170: Reward (in $) = -40,638\n",
      "Day 171: Reward (in $) = -3,131\n",
      "Day 172: Reward (in $) = -4,414\n",
      "Day 173: Reward (in $) = 169,009\n",
      "Day 174: Reward (in $) = -10,156\n",
      "Day 175: Reward (in $) = 35,036\n",
      "Day 176: Reward (in $) = -16,461\n",
      "Day 177: Reward (in $) = -13,734\n",
      "Day 178: Reward (in $) = -4,287\n",
      "Day 179: Reward (in $) = -34,973\n",
      "Day 180: Reward (in $) = -16,536\n",
      "Day 181: Reward (in $) = -22,534\n",
      "Day 182: Reward (in $) = -49,317\n",
      "Day 183: Reward (in $) = -85,170\n",
      "Day 184: Reward (in $) = -81,151\n",
      "Day 185: Reward (in $) = -33,230\n",
      "Day 186: Reward (in $) = 31,714\n",
      "Day 187: Reward (in $) = 7,410\n",
      "Day 188: Reward (in $) = 4,997\n",
      "Day 189: Reward (in $) = -1,210\n",
      "Day 190: Reward (in $) = -106,666\n",
      "Day 191: Reward (in $) = -25,470\n",
      "Day 192: Reward (in $) = -25,367\n",
      "Day 193: Reward (in $) = -63,307\n",
      "Day 194: Reward (in $) = -1,359\n",
      "Day 195: Reward (in $) = 1,685\n",
      "Day 196: Reward (in $) = 7,683\n",
      "Day 197: Reward (in $) = 11,180\n",
      "Day 198: Reward (in $) = -6,469\n",
      "Day 199: Reward (in $) = -526\n",
      "Day 200: Reward (in $) = -4,019\n",
      "Day 201: Reward (in $) = -13,059\n",
      "Day 202: Reward (in $) = 703\n",
      "Day 203: Reward (in $) = 7,795\n",
      "Day 204: Reward (in $) = -12,165\n",
      "Day 205: Reward (in $) = -59,502\n",
      "Day 206: Reward (in $) = -2,204\n",
      "Day 207: Reward (in $) = -3,499\n",
      "Day 208: Reward (in $) = 250\n",
      "Day 209: Reward (in $) = 6,660\n",
      "Day 210: Reward (in $) = 119,180\n",
      "Day 211: Reward (in $) = 44,644\n",
      "Day 212: Reward (in $) = 6,125\n",
      "Day 213: Reward (in $) = -1,975\n",
      "Day 214: Reward (in $) = -52,328\n",
      "Day 215: Reward (in $) = -27,721\n",
      "Day 216: Reward (in $) = 3,403\n",
      "Day 217: Reward (in $) = 3,315\n",
      "Day 218: Reward (in $) = 29,422\n",
      "Day 219: Reward (in $) = -24,556\n",
      "Day 220: Reward (in $) = -1,555\n",
      "Day 221: Reward (in $) = -19,179\n",
      "Day 222: Reward (in $) = 40,382\n",
      "Day 223: Reward (in $) = 13,213\n",
      "Day 224: Reward (in $) = 419\n",
      "Day 225: Reward (in $) = 230\n",
      "Day 226: Reward (in $) = -25,333\n",
      "Day 227: Reward (in $) = -381\n",
      "Day 228: Reward (in $) = 124,725\n",
      "Day 229: Reward (in $) = -1,320\n",
      "Day 230: Reward (in $) = -3,682\n",
      "Day 231: Reward (in $) = 1,240\n",
      "Day 232: Reward (in $) = -46,443\n",
      "Day 233: Reward (in $) = -69,702\n",
      "Day 234: Reward (in $) = -96,228\n",
      "Day 235: Reward (in $) = -119,563\n",
      "Day 236: Reward (in $) = -2,043\n",
      "Day 237: Reward (in $) = 7,959\n",
      "Day 238: Reward (in $) = -9,191\n",
      "Day 239: Reward (in $) = -61,136\n",
      "Day 240: Reward (in $) = -13,433\n",
      "Day 241: Reward (in $) = -1,015\n",
      "Day 242: Reward (in $) = 58,377\n",
      "Day 243: Reward (in $) = -3,664\n",
      "Day 244: Reward (in $) = -479\n",
      "Day 245: Reward (in $) = -82,785\n",
      "Day 246: Reward (in $) = -46,921\n",
      "Day 247: Reward (in $) = -11,501\n",
      "Day 248: Reward (in $) = -20,825\n",
      "Day 249: Reward (in $) = -39,988\n",
      "Day 250: Reward (in $) = -16,340\n",
      "Day 251: Reward (in $) = 1,200\n",
      "Day 252: Reward (in $) = 5,927\n",
      "Day 253: Reward (in $) = 107,904\n",
      "Day 254: Reward (in $) = -10,472\n",
      "Day 255: Reward (in $) = -2,800\n",
      "Day 256: Reward (in $) = -2,944\n",
      "Day 257: Reward (in $) = -7,090\n",
      "Day 258: Reward (in $) = -23,609\n"
     ]
    },
    {
     "name": "stdout",
     "output_type": "stream",
     "text": [
      "Day 259: Reward (in $) = -67,335\n",
      "Day 260: Reward (in $) = -15,692\n",
      "Day 261: Reward (in $) = 28,052\n",
      "Day 262: Reward (in $) = 12,091\n",
      "Day 263: Reward (in $) = -61,071\n",
      "Day 264: Reward (in $) = -34,654\n",
      "Day 265: Reward (in $) = -58,018\n",
      "Day 266: Reward (in $) = -70,250\n",
      "Day 267: Reward (in $) = -17,716\n",
      "Day 268: Reward (in $) = -23,132\n",
      "Day 269: Reward (in $) = -67,895\n",
      "Day 270: Reward (in $) = -79,634\n",
      "Day 271: Reward (in $) = -12,893\n",
      "Day 272: Reward (in $) = -27,143\n",
      "Day 273: Reward (in $) = -53,737\n",
      "Day 274: Reward (in $) = 19,456\n",
      "Day 275: Reward (in $) = 35,405\n",
      "Day 276: Reward (in $) = 50,103\n",
      "Day 277: Reward (in $) = -1,684\n",
      "Day 278: Reward (in $) = 103,782\n",
      "Day 279: Reward (in $) = 29,542\n",
      "Day 280: Reward (in $) = 10,536\n",
      "Day 281: Reward (in $) = -9,797\n",
      "Day 282: Reward (in $) = -1,569\n",
      "Day 283: Reward (in $) = -8,432\n",
      "Day 284: Reward (in $) = 23,504\n",
      "Day 285: Reward (in $) = -67,896\n",
      "Day 286: Reward (in $) = -57,682\n",
      "Day 287: Reward (in $) = -60,182\n",
      "Day 288: Reward (in $) = 10,739\n",
      "Day 289: Reward (in $) = 28,269\n",
      "Day 290: Reward (in $) = 7,506\n",
      "Day 291: Reward (in $) = -16,613\n",
      "Day 292: Reward (in $) = -8,279\n",
      "Day 293: Reward (in $) = -13,038\n",
      "Day 294: Reward (in $) = -10,830\n",
      "Day 295: Reward (in $) = -7,469\n",
      "Day 296: Reward (in $) = -35,907\n",
      "Day 297: Reward (in $) = -34,051\n",
      "Day 298: Reward (in $) = -2,826\n",
      "Day 299: Reward (in $) = -57,784\n",
      "Day 300: Reward (in $) = -20,149\n",
      "Day 301: Reward (in $) = -9,743\n",
      "Day 302: Reward (in $) = -17,385\n",
      "Day 303: Reward (in $) = 2,472\n",
      "Day 304: Reward (in $) = -68,594\n",
      "Day 305: Reward (in $) = -15,293\n",
      "Day 306: Reward (in $) = 5,161\n",
      "Day 307: Reward (in $) = 38,209\n",
      "Day 308: Reward (in $) = -41,135\n",
      "Day 309: Reward (in $) = 8,118\n",
      "Day 310: Reward (in $) = -5,051\n",
      "Day 311: Reward (in $) = -28,323\n",
      "Day 312: Reward (in $) = 146,168\n",
      "Day 313: Reward (in $) = 1,913\n",
      "Day 314: Reward (in $) = -47,096\n",
      "Day 315: Reward (in $) = -30,166\n",
      "Day 316: Reward (in $) = -8,484\n",
      "Day 317: Reward (in $) = -34,305\n",
      "Day 318: Reward (in $) = 9,727\n",
      "Day 319: Reward (in $) = 2,772\n",
      "Day 320: Reward (in $) = 12,435\n",
      "Day 321: Reward (in $) = 19,128\n",
      "Day 322: Reward (in $) = -4,504\n",
      "Day 323: Reward (in $) = 7,775\n",
      "Day 324: Reward (in $) = 14,095\n",
      "Day 325: Reward (in $) = -25,532\n",
      "Day 326: Reward (in $) = -8,155\n",
      "Day 327: Reward (in $) = 8,363\n",
      "Day 328: Reward (in $) = 89,303\n",
      "Day 329: Reward (in $) = 36,655\n",
      "Day 330: Reward (in $) = 6,886\n",
      "Day 331: Reward (in $) = -7,790\n",
      "Day 332: Reward (in $) = -52,534\n",
      "Day 333: Reward (in $) = -49,670\n",
      "Day 334: Reward (in $) = 7,010\n",
      "Day 335: Reward (in $) = -21,205\n",
      "Day 336: Reward (in $) = -14,404\n",
      "Day 337: Reward (in $) = 12,414\n",
      "Day 338: Reward (in $) = -9,851\n",
      "Day 339: Reward (in $) = -35,732\n",
      "Day 340: Reward (in $) = -898\n",
      "Day 341: Reward (in $) = 1,034\n",
      "Day 342: Reward (in $) = 30,415\n",
      "Day 343: Reward (in $) = -46,433\n",
      "Day 344: Reward (in $) = 118,481\n",
      "Day 345: Reward (in $) = 90,047\n",
      "Day 346: Reward (in $) = -27,458\n",
      "Day 347: Reward (in $) = 16,224\n",
      "Day 348: Reward (in $) = -48,843\n",
      "Day 349: Reward (in $) = 57,932\n",
      "Day 350: Reward (in $) = 30\n",
      "Day 351: Reward (in $) = 95,202\n",
      "Day 352: Reward (in $) = 15,602\n",
      "Day 353: Reward (in $) = -9,864\n",
      "Day 354: Reward (in $) = -42,258\n",
      "Day 355: Reward (in $) = -78,041\n",
      "Day 356: Reward (in $) = -25,393\n",
      "Day 357: Reward (in $) = -47,091\n",
      "Day 358: Reward (in $) = -61,723\n",
      "Day 359: Reward (in $) = -8,292\n",
      "Day 360: Reward (in $) = -38,730\n",
      "Day 361: Reward (in $) = -81,554\n",
      "Day 362: Reward (in $) = 19,593\n",
      "Day 363: Reward (in $) = 102,790\n",
      "Day 364: Reward (in $) = 17,518\n",
      "Day 365: Reward (in $) = -13,746\n",
      "Total money earned over the year (in $) = 2,107,840\n"
     ]
    }
   ],
   "source": [
    "dailyBudget = 250000\n",
    "quantileOffer =0.8\n",
    "\n",
    "# Keep track of your rewards in each day, a cumulative reward over the year, and a total reward over the\n",
    "# year. Also, keep track of the total reward from each option. Store them as dictionaries that are\n",
    "# indexed by day of the year.\n",
    "reward = {}\n",
    "cumulativeReward = {}\n",
    "totalReward = 0\n",
    "optionReturn = dict((option, 0) for option in optionNames)\n",
    "\n",
    "# Implement the trading strategy on each day!\n",
    "\n",
    "for day in rangeOfDays:\n",
    "\n",
    "    reward[day] = 0\n",
    "\n",
    "    # Find the options that your classifier says that should be profitable. Store the profitable option\n",
    "    # names in chosenOptions.\n",
    "    chosenOptionNumbers = np.ravel(list(np.nonzero(predictedY.loc[day].values)))\n",
    "    if np.size(chosenOptionNumbers) == 0:\n",
    "        continue\n",
    "    chosenOptions = [optionNames[i] for i in chosenOptionNumbers]\n",
    "\n",
    "    # Design the portfolio based on average price spreads. Our strategy is that as long as you have not\n",
    "    # exceeded your daily budget, pick an option from the list of 'chosenOptions' probabilistically, where\n",
    "    # the probability of choosing it is proportional to exponential(historical rewards of that option). That\n",
    "    # is, a historically profitable option is chosen more often than one that is not. Keep sampling and\n",
    "    # decreasing your budget with each bid.\n",
    "\n",
    "    # Start with an empty portfolio.\n",
    "\n",
    "    portfolio = dict((option, 0) for option in chosenOptions)\n",
    "\n",
    "    # Calculate the probabilities of choosing each option among the list 'chosenOptions'. Recall that\n",
    "    # 'chosenOptions' contains the options that your classifier indicates as being profitable.\n",
    "    priceSpreads = [1.0 * averagePriceSpread[option] for option in chosenOptions]\n",
    "    probabilityOptions = [np.exp(p) for p in priceSpreads]\n",
    "    probabilityOptions /= np.sum(probabilityOptions)\n",
    "\n",
    "    # Start with your daily budget.\n",
    "    budget = dailyBudget\n",
    "\n",
    "    # Sampling among the profitable options and bid based on them.\n",
    "    while budget > np.median([offerPrices[quantileOffer][option] for option in chosenOptions]):\n",
    "\n",
    "        optionToBuy = choice(chosenOptions, p=probabilityOptions)\n",
    "\n",
    "        if budget >= offerPrices[quantileOffer][optionToBuy]:\n",
    "            portfolio[optionToBuy] += 1\n",
    "            budget -= offerPrices[quantileOffer][optionToBuy]\n",
    "\n",
    "    # Compute the reward from the day. Go through each of the options you have decided to buy.\n",
    "    # If the DA price is lower than the bid price, then your bid is cleared. For each option you\n",
    "    # have bought, you get a reward equal to the DA - RT price.\n",
    "\n",
    "    for option in chosenOptions:\n",
    "        if testPriceDA.at[day, option] < offerPrices[quantileOffer][option]:\n",
    "            rewardOptionDay = testPriceDART.at[day, option] * portfolio[option]\n",
    "            optionReturn[option] += rewardOptionDay\n",
    "            reward[day] += rewardOptionDay\n",
    "\n",
    "    totalReward += reward[day]\n",
    "\n",
    "    # Calculate the cumulative reward in millions of dollars.\n",
    "    cumulativeReward[day] = totalReward/1000000\n",
    "\n",
    "    print(\"Day \" + str(day) + \": Reward (in $) = \" + \"{0:,.0f}\".format(reward[day]))\n",
    "\n",
    "print(\"Total money earned over the year (in $) = \" + \"{0:,.0f}\".format(totalReward))"
   ]
  },
  {
   "cell_type": "markdown",
   "metadata": {},
   "source": [
    "### Task1:  Visualize the rewards (25 points)\n",
    "\n",
    "We would like to plot the cumulative reward over the year 2016. By cumulative reward on a particular date, we mean the total reward from the start of the year till that date.\n",
    "\n",
    "Also, plot a heat map of the returns from each option. \n",
    "\n",
    "#### Fill in the missing lines below."
   ]
  },
  {
   "cell_type": "code",
   "execution_count": 48,
   "metadata": {},
   "outputs": [
    {
     "name": "stderr",
     "output_type": "stream",
     "text": [
      "C:\\Users\\Katherine\\Anaconda3\\lib\\site-packages\\matplotlib\\figure.py:2366: UserWarning: This figure includes Axes that are not compatible with tight_layout, so results might be incorrect.\n",
      "  warnings.warn(\"This figure includes Axes that are not compatible \"\n"
     ]
    },
    {
     "data": {
      "image/png": "[encoded data removed]",
      "text/plain": [
       "<Figure size 432x288 with 3 Axes>"
      ]
     },
     "metadata": {
      "needs_background": "light"
     },
     "output_type": "display_data"
    }
   ],
   "source": [
    "# Plot the cumulative reward over the year 2016. Also, plot a heat map of the returns from\n",
    "# each option.\n",
    "\n",
    "fig, axs = plt.subplots(2, 1, tight_layout=True)\n",
    "axs = axs.ravel()\n",
    "\n",
    "\n",
    "## Enter code here where you plot in axs[0].\n",
    "\n",
    "rewards = sorted(cumulativeReward.items())\n",
    "x, y = zip(*rewards)\n",
    "\n",
    "axs[0].plot(x, y)\n",
    "\n",
    "\n",
    "\n",
    "axs[1] = sns.heatmap(np.reshape(list(optionReturn.values()), (len(listOfZones), 24)),\n",
    "                     linewidth=0.5,\n",
    "                     cmap=\"YlGnBu\")\n",
    "axs[1].set_yticklabels(listOfZones, rotation=0)\n",
    "axs[1].set_xticklabels(range(24), rotation=90)\n",
    "axs[1].set_title('Returns on different options')\n",
    "plt.show()\n"
   ]
  },
  {
   "cell_type": "markdown",
   "metadata": {},
   "source": [
    "### Task 2: Choosing a classifier (25 points)\n",
    "\n",
    "We used a multilayer perceptron classifier. Your task is to try out SVM and logistic regression classifiers, and explore which one leads to more profits. Use the relevant functions from 'sklearn'.\n",
    "\n",
    "#### (comments here, add a new code cell below)"
   ]
  },
  {
   "cell_type": "code",
   "execution_count": 50,
   "metadata": {},
   "outputs": [
    {
     "name": "stdout",
     "output_type": "stream",
     "text": [
      "Starting training module...\n",
      "\n",
      "Loaded hourly prices from 2015 for 365 days.\n"
     ]
    },
    {
     "name": "stderr",
     "output_type": "stream",
     "text": [
      "C:\\Users\\Katherine\\Anaconda3\\lib\\site-packages\\sklearn\\linear_model\\logistic.py:433: FutureWarning: Default solver will be changed to 'lbfgs' in 0.22. Specify a solver to silence this warning.\n",
      "  FutureWarning)\n"
     ]
    },
    {
     "name": "stdout",
     "output_type": "stream",
     "text": [
      "Classifier trained for option CAPITL_Hour_0\n"
     ]
    },
    {
     "name": "stderr",
     "output_type": "stream",
     "text": [
      "C:\\Users\\Katherine\\Anaconda3\\lib\\site-packages\\sklearn\\linear_model\\logistic.py:433: FutureWarning: Default solver will be changed to 'lbfgs' in 0.22. Specify a solver to silence this warning.\n",
      "  FutureWarning)\n"
     ]
    },
    {
     "name": "stdout",
     "output_type": "stream",
     "text": [
      "Classifier trained for option CAPITL_Hour_1\n"
     ]
    },
    {
     "name": "stderr",
     "output_type": "stream",
     "text": [
      "C:\\Users\\Katherine\\Anaconda3\\lib\\site-packages\\sklearn\\linear_model\\logistic.py:433: FutureWarning: Default solver will be changed to 'lbfgs' in 0.22. Specify a solver to silence this warning.\n",
      "  FutureWarning)\n"
     ]
    },
    {
     "name": "stdout",
     "output_type": "stream",
     "text": [
      "Classifier trained for option CAPITL_Hour_2\n"
     ]
    },
    {
     "name": "stderr",
     "output_type": "stream",
     "text": [
      "C:\\Users\\Katherine\\Anaconda3\\lib\\site-packages\\sklearn\\linear_model\\logistic.py:433: FutureWarning: Default solver will be changed to 'lbfgs' in 0.22. Specify a solver to silence this warning.\n",
      "  FutureWarning)\n"
     ]
    },
    {
     "name": "stdout",
     "output_type": "stream",
     "text": [
      "Classifier trained for option CAPITL_Hour_3\n"
     ]
    },
    {
     "name": "stderr",
     "output_type": "stream",
     "text": [
      "C:\\Users\\Katherine\\Anaconda3\\lib\\site-packages\\sklearn\\linear_model\\logistic.py:433: FutureWarning: Default solver will be changed to 'lbfgs' in 0.22. Specify a solver to silence this warning.\n",
      "  FutureWarning)\n"
     ]
    },
    {
     "name": "stdout",
     "output_type": "stream",
     "text": [
      "Classifier trained for option CAPITL_Hour_4\n"
     ]
    },
    {
     "name": "stderr",
     "output_type": "stream",
     "text": [
      "C:\\Users\\Katherine\\Anaconda3\\lib\\site-packages\\sklearn\\linear_model\\logistic.py:433: FutureWarning: Default solver will be changed to 'lbfgs' in 0.22. Specify a solver to silence this warning.\n",
      "  FutureWarning)\n"
     ]
    },
    {
     "name": "stdout",
     "output_type": "stream",
     "text": [
      "Classifier trained for option CAPITL_Hour_5\n"
     ]
    },
    {
     "name": "stderr",
     "output_type": "stream",
     "text": [
      "C:\\Users\\Katherine\\Anaconda3\\lib\\site-packages\\sklearn\\linear_model\\logistic.py:433: FutureWarning: Default solver will be changed to 'lbfgs' in 0.22. Specify a solver to silence this warning.\n",
      "  FutureWarning)\n"
     ]
    },
    {
     "name": "stdout",
     "output_type": "stream",
     "text": [
      "Classifier trained for option CAPITL_Hour_6\n"
     ]
    },
    {
     "name": "stderr",
     "output_type": "stream",
     "text": [
      "C:\\Users\\Katherine\\Anaconda3\\lib\\site-packages\\sklearn\\linear_model\\logistic.py:433: FutureWarning: Default solver will be changed to 'lbfgs' in 0.22. Specify a solver to silence this warning.\n",
      "  FutureWarning)\n"
     ]
    },
    {
     "name": "stdout",
     "output_type": "stream",
     "text": [
      "Classifier trained for option CAPITL_Hour_7\n"
     ]
    },
    {
     "name": "stderr",
     "output_type": "stream",
     "text": [
      "C:\\Users\\Katherine\\Anaconda3\\lib\\site-packages\\sklearn\\linear_model\\logistic.py:433: FutureWarning: Default solver will be changed to 'lbfgs' in 0.22. Specify a solver to silence this warning.\n",
      "  FutureWarning)\n"
     ]
    },
    {
     "name": "stdout",
     "output_type": "stream",
     "text": [
      "Classifier trained for option CAPITL_Hour_8\n"
     ]
    },
    {
     "name": "stderr",
     "output_type": "stream",
     "text": [
      "C:\\Users\\Katherine\\Anaconda3\\lib\\site-packages\\sklearn\\linear_model\\logistic.py:433: FutureWarning: Default solver will be changed to 'lbfgs' in 0.22. Specify a solver to silence this warning.\n",
      "  FutureWarning)\n"
     ]
    },
    {
     "name": "stdout",
     "output_type": "stream",
     "text": [
      "Classifier trained for option CAPITL_Hour_9\n"
     ]
    },
    {
     "name": "stderr",
     "output_type": "stream",
     "text": [
      "C:\\Users\\Katherine\\Anaconda3\\lib\\site-packages\\sklearn\\linear_model\\logistic.py:433: FutureWarning: Default solver will be changed to 'lbfgs' in 0.22. Specify a solver to silence this warning.\n",
      "  FutureWarning)\n"
     ]
    },
    {
     "name": "stdout",
     "output_type": "stream",
     "text": [
      "Classifier trained for option CAPITL_Hour_10\n"
     ]
    },
    {
     "name": "stderr",
     "output_type": "stream",
     "text": [
      "C:\\Users\\Katherine\\Anaconda3\\lib\\site-packages\\sklearn\\linear_model\\logistic.py:433: FutureWarning: Default solver will be changed to 'lbfgs' in 0.22. Specify a solver to silence this warning.\n",
      "  FutureWarning)\n"
     ]
    },
    {
     "name": "stdout",
     "output_type": "stream",
     "text": [
      "Classifier trained for option CAPITL_Hour_11\n"
     ]
    },
    {
     "name": "stderr",
     "output_type": "stream",
     "text": [
      "C:\\Users\\Katherine\\Anaconda3\\lib\\site-packages\\sklearn\\linear_model\\logistic.py:433: FutureWarning: Default solver will be changed to 'lbfgs' in 0.22. Specify a solver to silence this warning.\n",
      "  FutureWarning)\n"
     ]
    },
    {
     "name": "stdout",
     "output_type": "stream",
     "text": [
      "Classifier trained for option CAPITL_Hour_12\n"
     ]
    },
    {
     "name": "stderr",
     "output_type": "stream",
     "text": [
      "C:\\Users\\Katherine\\Anaconda3\\lib\\site-packages\\sklearn\\linear_model\\logistic.py:433: FutureWarning: Default solver will be changed to 'lbfgs' in 0.22. Specify a solver to silence this warning.\n",
      "  FutureWarning)\n"
     ]
    },
    {
     "name": "stdout",
     "output_type": "stream",
     "text": [
      "Classifier trained for option CAPITL_Hour_13\n"
     ]
    },
    {
     "name": "stderr",
     "output_type": "stream",
     "text": [
      "C:\\Users\\Katherine\\Anaconda3\\lib\\site-packages\\sklearn\\linear_model\\logistic.py:433: FutureWarning: Default solver will be changed to 'lbfgs' in 0.22. Specify a solver to silence this warning.\n",
      "  FutureWarning)\n"
     ]
    },
    {
     "name": "stdout",
     "output_type": "stream",
     "text": [
      "Classifier trained for option CAPITL_Hour_14\n"
     ]
    },
    {
     "name": "stderr",
     "output_type": "stream",
     "text": [
      "C:\\Users\\Katherine\\Anaconda3\\lib\\site-packages\\sklearn\\linear_model\\logistic.py:433: FutureWarning: Default solver will be changed to 'lbfgs' in 0.22. Specify a solver to silence this warning.\n",
      "  FutureWarning)\n"
     ]
    },
    {
     "name": "stdout",
     "output_type": "stream",
     "text": [
      "Classifier trained for option CAPITL_Hour_15\n"
     ]
    },
    {
     "name": "stderr",
     "output_type": "stream",
     "text": [
      "C:\\Users\\Katherine\\Anaconda3\\lib\\site-packages\\sklearn\\linear_model\\logistic.py:433: FutureWarning: Default solver will be changed to 'lbfgs' in 0.22. Specify a solver to silence this warning.\n",
      "  FutureWarning)\n"
     ]
    },
    {
     "name": "stdout",
     "output_type": "stream",
     "text": [
      "Classifier trained for option CAPITL_Hour_16\n"
     ]
    },
    {
     "name": "stderr",
     "output_type": "stream",
     "text": [
      "C:\\Users\\Katherine\\Anaconda3\\lib\\site-packages\\sklearn\\linear_model\\logistic.py:433: FutureWarning: Default solver will be changed to 'lbfgs' in 0.22. Specify a solver to silence this warning.\n",
      "  FutureWarning)\n"
     ]
    },
    {
     "name": "stdout",
     "output_type": "stream",
     "text": [
      "Classifier trained for option CAPITL_Hour_17\n",
      "Classifier trained for option CAPITL_Hour_18\n"
     ]
    },
    {
     "name": "stderr",
     "output_type": "stream",
     "text": [
      "C:\\Users\\Katherine\\Anaconda3\\lib\\site-packages\\sklearn\\linear_model\\logistic.py:433: FutureWarning: Default solver will be changed to 'lbfgs' in 0.22. Specify a solver to silence this warning.\n",
      "  FutureWarning)\n",
      "C:\\Users\\Katherine\\Anaconda3\\lib\\site-packages\\sklearn\\linear_model\\logistic.py:433: FutureWarning: Default solver will be changed to 'lbfgs' in 0.22. Specify a solver to silence this warning.\n",
      "  FutureWarning)\n"
     ]
    },
    {
     "name": "stdout",
     "output_type": "stream",
     "text": [
      "Classifier trained for option CAPITL_Hour_19\n"
     ]
    },
    {
     "name": "stderr",
     "output_type": "stream",
     "text": [
      "C:\\Users\\Katherine\\Anaconda3\\lib\\site-packages\\sklearn\\linear_model\\logistic.py:433: FutureWarning: Default solver will be changed to 'lbfgs' in 0.22. Specify a solver to silence this warning.\n",
      "  FutureWarning)\n"
     ]
    },
    {
     "name": "stdout",
     "output_type": "stream",
     "text": [
      "Classifier trained for option CAPITL_Hour_20\n",
      "Classifier trained for option CAPITL_Hour_21\n"
     ]
    },
    {
     "name": "stderr",
     "output_type": "stream",
     "text": [
      "C:\\Users\\Katherine\\Anaconda3\\lib\\site-packages\\sklearn\\linear_model\\logistic.py:433: FutureWarning: Default solver will be changed to 'lbfgs' in 0.22. Specify a solver to silence this warning.\n",
      "  FutureWarning)\n",
      "C:\\Users\\Katherine\\Anaconda3\\lib\\site-packages\\sklearn\\linear_model\\logistic.py:433: FutureWarning: Default solver will be changed to 'lbfgs' in 0.22. Specify a solver to silence this warning.\n",
      "  FutureWarning)\n"
     ]
    },
    {
     "name": "stdout",
     "output_type": "stream",
     "text": [
      "Classifier trained for option CAPITL_Hour_22\n",
      "Classifier trained for option CAPITL_Hour_23\n"
     ]
    },
    {
     "name": "stderr",
     "output_type": "stream",
     "text": [
      "C:\\Users\\Katherine\\Anaconda3\\lib\\site-packages\\sklearn\\linear_model\\logistic.py:433: FutureWarning: Default solver will be changed to 'lbfgs' in 0.22. Specify a solver to silence this warning.\n",
      "  FutureWarning)\n",
      "C:\\Users\\Katherine\\Anaconda3\\lib\\site-packages\\sklearn\\linear_model\\logistic.py:433: FutureWarning: Default solver will be changed to 'lbfgs' in 0.22. Specify a solver to silence this warning.\n",
      "  FutureWarning)\n"
     ]
    },
    {
     "name": "stdout",
     "output_type": "stream",
     "text": [
      "Classifier trained for option CENTRL_Hour_0\n",
      "Classifier trained for option CENTRL_Hour_1\n"
     ]
    },
    {
     "name": "stderr",
     "output_type": "stream",
     "text": [
      "C:\\Users\\Katherine\\Anaconda3\\lib\\site-packages\\sklearn\\linear_model\\logistic.py:433: FutureWarning: Default solver will be changed to 'lbfgs' in 0.22. Specify a solver to silence this warning.\n",
      "  FutureWarning)\n",
      "C:\\Users\\Katherine\\Anaconda3\\lib\\site-packages\\sklearn\\linear_model\\logistic.py:433: FutureWarning: Default solver will be changed to 'lbfgs' in 0.22. Specify a solver to silence this warning.\n",
      "  FutureWarning)\n"
     ]
    },
    {
     "name": "stdout",
     "output_type": "stream",
     "text": [
      "Classifier trained for option CENTRL_Hour_2\n"
     ]
    },
    {
     "name": "stderr",
     "output_type": "stream",
     "text": [
      "C:\\Users\\Katherine\\Anaconda3\\lib\\site-packages\\sklearn\\linear_model\\logistic.py:433: FutureWarning: Default solver will be changed to 'lbfgs' in 0.22. Specify a solver to silence this warning.\n",
      "  FutureWarning)\n"
     ]
    },
    {
     "name": "stdout",
     "output_type": "stream",
     "text": [
      "Classifier trained for option CENTRL_Hour_3\n",
      "Classifier trained for option CENTRL_Hour_4\n"
     ]
    },
    {
     "name": "stderr",
     "output_type": "stream",
     "text": [
      "C:\\Users\\Katherine\\Anaconda3\\lib\\site-packages\\sklearn\\linear_model\\logistic.py:433: FutureWarning: Default solver will be changed to 'lbfgs' in 0.22. Specify a solver to silence this warning.\n",
      "  FutureWarning)\n",
      "C:\\Users\\Katherine\\Anaconda3\\lib\\site-packages\\sklearn\\linear_model\\logistic.py:433: FutureWarning: Default solver will be changed to 'lbfgs' in 0.22. Specify a solver to silence this warning.\n",
      "  FutureWarning)\n"
     ]
    },
    {
     "name": "stdout",
     "output_type": "stream",
     "text": [
      "Classifier trained for option CENTRL_Hour_5\n"
     ]
    },
    {
     "name": "stderr",
     "output_type": "stream",
     "text": [
      "C:\\Users\\Katherine\\Anaconda3\\lib\\site-packages\\sklearn\\linear_model\\logistic.py:433: FutureWarning: Default solver will be changed to 'lbfgs' in 0.22. Specify a solver to silence this warning.\n",
      "  FutureWarning)\n"
     ]
    },
    {
     "name": "stdout",
     "output_type": "stream",
     "text": [
      "Classifier trained for option CENTRL_Hour_6\n"
     ]
    },
    {
     "name": "stderr",
     "output_type": "stream",
     "text": [
      "C:\\Users\\Katherine\\Anaconda3\\lib\\site-packages\\sklearn\\linear_model\\logistic.py:433: FutureWarning: Default solver will be changed to 'lbfgs' in 0.22. Specify a solver to silence this warning.\n",
      "  FutureWarning)\n"
     ]
    },
    {
     "name": "stdout",
     "output_type": "stream",
     "text": [
      "Classifier trained for option CENTRL_Hour_7\n"
     ]
    },
    {
     "name": "stderr",
     "output_type": "stream",
     "text": [
      "C:\\Users\\Katherine\\Anaconda3\\lib\\site-packages\\sklearn\\linear_model\\logistic.py:433: FutureWarning: Default solver will be changed to 'lbfgs' in 0.22. Specify a solver to silence this warning.\n",
      "  FutureWarning)\n"
     ]
    },
    {
     "name": "stdout",
     "output_type": "stream",
     "text": [
      "Classifier trained for option CENTRL_Hour_8\n"
     ]
    },
    {
     "name": "stderr",
     "output_type": "stream",
     "text": [
      "C:\\Users\\Katherine\\Anaconda3\\lib\\site-packages\\sklearn\\linear_model\\logistic.py:433: FutureWarning: Default solver will be changed to 'lbfgs' in 0.22. Specify a solver to silence this warning.\n",
      "  FutureWarning)\n"
     ]
    },
    {
     "name": "stdout",
     "output_type": "stream",
     "text": [
      "Classifier trained for option CENTRL_Hour_9\n"
     ]
    },
    {
     "name": "stderr",
     "output_type": "stream",
     "text": [
      "C:\\Users\\Katherine\\Anaconda3\\lib\\site-packages\\sklearn\\linear_model\\logistic.py:433: FutureWarning: Default solver will be changed to 'lbfgs' in 0.22. Specify a solver to silence this warning.\n",
      "  FutureWarning)\n"
     ]
    },
    {
     "name": "stdout",
     "output_type": "stream",
     "text": [
      "Classifier trained for option CENTRL_Hour_10\n"
     ]
    },
    {
     "name": "stderr",
     "output_type": "stream",
     "text": [
      "C:\\Users\\Katherine\\Anaconda3\\lib\\site-packages\\sklearn\\linear_model\\logistic.py:433: FutureWarning: Default solver will be changed to 'lbfgs' in 0.22. Specify a solver to silence this warning.\n",
      "  FutureWarning)\n"
     ]
    },
    {
     "name": "stdout",
     "output_type": "stream",
     "text": [
      "Classifier trained for option CENTRL_Hour_11\n"
     ]
    },
    {
     "name": "stderr",
     "output_type": "stream",
     "text": [
      "C:\\Users\\Katherine\\Anaconda3\\lib\\site-packages\\sklearn\\linear_model\\logistic.py:433: FutureWarning: Default solver will be changed to 'lbfgs' in 0.22. Specify a solver to silence this warning.\n",
      "  FutureWarning)\n"
     ]
    },
    {
     "name": "stdout",
     "output_type": "stream",
     "text": [
      "Classifier trained for option CENTRL_Hour_12\n"
     ]
    },
    {
     "name": "stderr",
     "output_type": "stream",
     "text": [
      "C:\\Users\\Katherine\\Anaconda3\\lib\\site-packages\\sklearn\\linear_model\\logistic.py:433: FutureWarning: Default solver will be changed to 'lbfgs' in 0.22. Specify a solver to silence this warning.\n",
      "  FutureWarning)\n"
     ]
    },
    {
     "name": "stdout",
     "output_type": "stream",
     "text": [
      "Classifier trained for option CENTRL_Hour_13\n"
     ]
    },
    {
     "name": "stderr",
     "output_type": "stream",
     "text": [
      "C:\\Users\\Katherine\\Anaconda3\\lib\\site-packages\\sklearn\\linear_model\\logistic.py:433: FutureWarning: Default solver will be changed to 'lbfgs' in 0.22. Specify a solver to silence this warning.\n",
      "  FutureWarning)\n"
     ]
    },
    {
     "name": "stdout",
     "output_type": "stream",
     "text": [
      "Classifier trained for option CENTRL_Hour_14\n"
     ]
    },
    {
     "name": "stderr",
     "output_type": "stream",
     "text": [
      "C:\\Users\\Katherine\\Anaconda3\\lib\\site-packages\\sklearn\\linear_model\\logistic.py:433: FutureWarning: Default solver will be changed to 'lbfgs' in 0.22. Specify a solver to silence this warning.\n",
      "  FutureWarning)\n"
     ]
    },
    {
     "name": "stdout",
     "output_type": "stream",
     "text": [
      "Classifier trained for option CENTRL_Hour_15\n"
     ]
    },
    {
     "name": "stderr",
     "output_type": "stream",
     "text": [
      "C:\\Users\\Katherine\\Anaconda3\\lib\\site-packages\\sklearn\\linear_model\\logistic.py:433: FutureWarning: Default solver will be changed to 'lbfgs' in 0.22. Specify a solver to silence this warning.\n",
      "  FutureWarning)\n"
     ]
    },
    {
     "name": "stdout",
     "output_type": "stream",
     "text": [
      "Classifier trained for option CENTRL_Hour_16\n"
     ]
    },
    {
     "name": "stderr",
     "output_type": "stream",
     "text": [
      "C:\\Users\\Katherine\\Anaconda3\\lib\\site-packages\\sklearn\\linear_model\\logistic.py:433: FutureWarning: Default solver will be changed to 'lbfgs' in 0.22. Specify a solver to silence this warning.\n",
      "  FutureWarning)\n"
     ]
    },
    {
     "name": "stdout",
     "output_type": "stream",
     "text": [
      "Classifier trained for option CENTRL_Hour_17\n"
     ]
    },
    {
     "name": "stderr",
     "output_type": "stream",
     "text": [
      "C:\\Users\\Katherine\\Anaconda3\\lib\\site-packages\\sklearn\\linear_model\\logistic.py:433: FutureWarning: Default solver will be changed to 'lbfgs' in 0.22. Specify a solver to silence this warning.\n",
      "  FutureWarning)\n"
     ]
    },
    {
     "name": "stdout",
     "output_type": "stream",
     "text": [
      "Classifier trained for option CENTRL_Hour_18\n"
     ]
    },
    {
     "name": "stderr",
     "output_type": "stream",
     "text": [
      "C:\\Users\\Katherine\\Anaconda3\\lib\\site-packages\\sklearn\\linear_model\\logistic.py:433: FutureWarning: Default solver will be changed to 'lbfgs' in 0.22. Specify a solver to silence this warning.\n",
      "  FutureWarning)\n"
     ]
    },
    {
     "name": "stdout",
     "output_type": "stream",
     "text": [
      "Classifier trained for option CENTRL_Hour_19\n"
     ]
    },
    {
     "name": "stderr",
     "output_type": "stream",
     "text": [
      "C:\\Users\\Katherine\\Anaconda3\\lib\\site-packages\\sklearn\\linear_model\\logistic.py:433: FutureWarning: Default solver will be changed to 'lbfgs' in 0.22. Specify a solver to silence this warning.\n",
      "  FutureWarning)\n"
     ]
    },
    {
     "name": "stdout",
     "output_type": "stream",
     "text": [
      "Classifier trained for option CENTRL_Hour_20\n"
     ]
    },
    {
     "name": "stderr",
     "output_type": "stream",
     "text": [
      "C:\\Users\\Katherine\\Anaconda3\\lib\\site-packages\\sklearn\\linear_model\\logistic.py:433: FutureWarning: Default solver will be changed to 'lbfgs' in 0.22. Specify a solver to silence this warning.\n",
      "  FutureWarning)\n"
     ]
    },
    {
     "name": "stdout",
     "output_type": "stream",
     "text": [
      "Classifier trained for option CENTRL_Hour_21\n"
     ]
    },
    {
     "name": "stderr",
     "output_type": "stream",
     "text": [
      "C:\\Users\\Katherine\\Anaconda3\\lib\\site-packages\\sklearn\\linear_model\\logistic.py:433: FutureWarning: Default solver will be changed to 'lbfgs' in 0.22. Specify a solver to silence this warning.\n",
      "  FutureWarning)\n"
     ]
    },
    {
     "name": "stdout",
     "output_type": "stream",
     "text": [
      "Classifier trained for option CENTRL_Hour_22\n"
     ]
    },
    {
     "name": "stderr",
     "output_type": "stream",
     "text": [
      "C:\\Users\\Katherine\\Anaconda3\\lib\\site-packages\\sklearn\\linear_model\\logistic.py:433: FutureWarning: Default solver will be changed to 'lbfgs' in 0.22. Specify a solver to silence this warning.\n",
      "  FutureWarning)\n"
     ]
    },
    {
     "name": "stdout",
     "output_type": "stream",
     "text": [
      "Classifier trained for option CENTRL_Hour_23\n"
     ]
    },
    {
     "name": "stderr",
     "output_type": "stream",
     "text": [
      "C:\\Users\\Katherine\\Anaconda3\\lib\\site-packages\\sklearn\\linear_model\\logistic.py:433: FutureWarning: Default solver will be changed to 'lbfgs' in 0.22. Specify a solver to silence this warning.\n",
      "  FutureWarning)\n"
     ]
    },
    {
     "name": "stdout",
     "output_type": "stream",
     "text": [
      "Classifier trained for option DUNWOD_Hour_0\n"
     ]
    },
    {
     "name": "stderr",
     "output_type": "stream",
     "text": [
      "C:\\Users\\Katherine\\Anaconda3\\lib\\site-packages\\sklearn\\linear_model\\logistic.py:433: FutureWarning: Default solver will be changed to 'lbfgs' in 0.22. Specify a solver to silence this warning.\n",
      "  FutureWarning)\n"
     ]
    },
    {
     "name": "stdout",
     "output_type": "stream",
     "text": [
      "Classifier trained for option DUNWOD_Hour_1\n"
     ]
    },
    {
     "name": "stderr",
     "output_type": "stream",
     "text": [
      "C:\\Users\\Katherine\\Anaconda3\\lib\\site-packages\\sklearn\\linear_model\\logistic.py:433: FutureWarning: Default solver will be changed to 'lbfgs' in 0.22. Specify a solver to silence this warning.\n",
      "  FutureWarning)\n"
     ]
    },
    {
     "name": "stdout",
     "output_type": "stream",
     "text": [
      "Classifier trained for option DUNWOD_Hour_2\n"
     ]
    },
    {
     "name": "stderr",
     "output_type": "stream",
     "text": [
      "C:\\Users\\Katherine\\Anaconda3\\lib\\site-packages\\sklearn\\linear_model\\logistic.py:433: FutureWarning: Default solver will be changed to 'lbfgs' in 0.22. Specify a solver to silence this warning.\n",
      "  FutureWarning)\n"
     ]
    },
    {
     "name": "stdout",
     "output_type": "stream",
     "text": [
      "Classifier trained for option DUNWOD_Hour_3\n"
     ]
    },
    {
     "name": "stderr",
     "output_type": "stream",
     "text": [
      "C:\\Users\\Katherine\\Anaconda3\\lib\\site-packages\\sklearn\\linear_model\\logistic.py:433: FutureWarning: Default solver will be changed to 'lbfgs' in 0.22. Specify a solver to silence this warning.\n",
      "  FutureWarning)\n"
     ]
    },
    {
     "name": "stdout",
     "output_type": "stream",
     "text": [
      "Classifier trained for option DUNWOD_Hour_4\n"
     ]
    },
    {
     "name": "stderr",
     "output_type": "stream",
     "text": [
      "C:\\Users\\Katherine\\Anaconda3\\lib\\site-packages\\sklearn\\linear_model\\logistic.py:433: FutureWarning: Default solver will be changed to 'lbfgs' in 0.22. Specify a solver to silence this warning.\n",
      "  FutureWarning)\n"
     ]
    },
    {
     "name": "stdout",
     "output_type": "stream",
     "text": [
      "Classifier trained for option DUNWOD_Hour_5\n"
     ]
    },
    {
     "name": "stderr",
     "output_type": "stream",
     "text": [
      "C:\\Users\\Katherine\\Anaconda3\\lib\\site-packages\\sklearn\\linear_model\\logistic.py:433: FutureWarning: Default solver will be changed to 'lbfgs' in 0.22. Specify a solver to silence this warning.\n",
      "  FutureWarning)\n"
     ]
    },
    {
     "name": "stdout",
     "output_type": "stream",
     "text": [
      "Classifier trained for option DUNWOD_Hour_6\n"
     ]
    },
    {
     "name": "stderr",
     "output_type": "stream",
     "text": [
      "C:\\Users\\Katherine\\Anaconda3\\lib\\site-packages\\sklearn\\linear_model\\logistic.py:433: FutureWarning: Default solver will be changed to 'lbfgs' in 0.22. Specify a solver to silence this warning.\n",
      "  FutureWarning)\n"
     ]
    },
    {
     "name": "stdout",
     "output_type": "stream",
     "text": [
      "Classifier trained for option DUNWOD_Hour_7\n"
     ]
    },
    {
     "name": "stderr",
     "output_type": "stream",
     "text": [
      "C:\\Users\\Katherine\\Anaconda3\\lib\\site-packages\\sklearn\\linear_model\\logistic.py:433: FutureWarning: Default solver will be changed to 'lbfgs' in 0.22. Specify a solver to silence this warning.\n",
      "  FutureWarning)\n"
     ]
    },
    {
     "name": "stdout",
     "output_type": "stream",
     "text": [
      "Classifier trained for option DUNWOD_Hour_8\n"
     ]
    },
    {
     "name": "stderr",
     "output_type": "stream",
     "text": [
      "C:\\Users\\Katherine\\Anaconda3\\lib\\site-packages\\sklearn\\linear_model\\logistic.py:433: FutureWarning: Default solver will be changed to 'lbfgs' in 0.22. Specify a solver to silence this warning.\n",
      "  FutureWarning)\n"
     ]
    },
    {
     "name": "stdout",
     "output_type": "stream",
     "text": [
      "Classifier trained for option DUNWOD_Hour_9\n"
     ]
    },
    {
     "name": "stderr",
     "output_type": "stream",
     "text": [
      "C:\\Users\\Katherine\\Anaconda3\\lib\\site-packages\\sklearn\\linear_model\\logistic.py:433: FutureWarning: Default solver will be changed to 'lbfgs' in 0.22. Specify a solver to silence this warning.\n",
      "  FutureWarning)\n"
     ]
    },
    {
     "name": "stdout",
     "output_type": "stream",
     "text": [
      "Classifier trained for option DUNWOD_Hour_10\n"
     ]
    },
    {
     "name": "stderr",
     "output_type": "stream",
     "text": [
      "C:\\Users\\Katherine\\Anaconda3\\lib\\site-packages\\sklearn\\linear_model\\logistic.py:433: FutureWarning: Default solver will be changed to 'lbfgs' in 0.22. Specify a solver to silence this warning.\n",
      "  FutureWarning)\n"
     ]
    },
    {
     "name": "stdout",
     "output_type": "stream",
     "text": [
      "Classifier trained for option DUNWOD_Hour_11\n"
     ]
    },
    {
     "name": "stderr",
     "output_type": "stream",
     "text": [
      "C:\\Users\\Katherine\\Anaconda3\\lib\\site-packages\\sklearn\\linear_model\\logistic.py:433: FutureWarning: Default solver will be changed to 'lbfgs' in 0.22. Specify a solver to silence this warning.\n",
      "  FutureWarning)\n"
     ]
    },
    {
     "name": "stdout",
     "output_type": "stream",
     "text": [
      "Classifier trained for option DUNWOD_Hour_12\n"
     ]
    },
    {
     "name": "stderr",
     "output_type": "stream",
     "text": [
      "C:\\Users\\Katherine\\Anaconda3\\lib\\site-packages\\sklearn\\linear_model\\logistic.py:433: FutureWarning: Default solver will be changed to 'lbfgs' in 0.22. Specify a solver to silence this warning.\n",
      "  FutureWarning)\n"
     ]
    },
    {
     "name": "stdout",
     "output_type": "stream",
     "text": [
      "Classifier trained for option DUNWOD_Hour_13\n"
     ]
    },
    {
     "name": "stderr",
     "output_type": "stream",
     "text": [
      "C:\\Users\\Katherine\\Anaconda3\\lib\\site-packages\\sklearn\\linear_model\\logistic.py:433: FutureWarning: Default solver will be changed to 'lbfgs' in 0.22. Specify a solver to silence this warning.\n",
      "  FutureWarning)\n"
     ]
    },
    {
     "name": "stdout",
     "output_type": "stream",
     "text": [
      "Classifier trained for option DUNWOD_Hour_14\n"
     ]
    },
    {
     "name": "stderr",
     "output_type": "stream",
     "text": [
      "C:\\Users\\Katherine\\Anaconda3\\lib\\site-packages\\sklearn\\linear_model\\logistic.py:433: FutureWarning: Default solver will be changed to 'lbfgs' in 0.22. Specify a solver to silence this warning.\n",
      "  FutureWarning)\n"
     ]
    },
    {
     "name": "stdout",
     "output_type": "stream",
     "text": [
      "Classifier trained for option DUNWOD_Hour_15\n",
      "Classifier trained for option DUNWOD_Hour_16\n"
     ]
    },
    {
     "name": "stderr",
     "output_type": "stream",
     "text": [
      "C:\\Users\\Katherine\\Anaconda3\\lib\\site-packages\\sklearn\\linear_model\\logistic.py:433: FutureWarning: Default solver will be changed to 'lbfgs' in 0.22. Specify a solver to silence this warning.\n",
      "  FutureWarning)\n",
      "C:\\Users\\Katherine\\Anaconda3\\lib\\site-packages\\sklearn\\linear_model\\logistic.py:433: FutureWarning: Default solver will be changed to 'lbfgs' in 0.22. Specify a solver to silence this warning.\n",
      "  FutureWarning)\n",
      "C:\\Users\\Katherine\\Anaconda3\\lib\\site-packages\\sklearn\\linear_model\\logistic.py:433: FutureWarning: Default solver will be changed to 'lbfgs' in 0.22. Specify a solver to silence this warning.\n",
      "  FutureWarning)\n"
     ]
    },
    {
     "name": "stdout",
     "output_type": "stream",
     "text": [
      "Classifier trained for option DUNWOD_Hour_17\n",
      "Classifier trained for option DUNWOD_Hour_18\n"
     ]
    },
    {
     "name": "stderr",
     "output_type": "stream",
     "text": [
      "C:\\Users\\Katherine\\Anaconda3\\lib\\site-packages\\sklearn\\linear_model\\logistic.py:433: FutureWarning: Default solver will be changed to 'lbfgs' in 0.22. Specify a solver to silence this warning.\n",
      "  FutureWarning)\n"
     ]
    },
    {
     "name": "stdout",
     "output_type": "stream",
     "text": [
      "Classifier trained for option DUNWOD_Hour_19\n"
     ]
    },
    {
     "name": "stderr",
     "output_type": "stream",
     "text": [
      "C:\\Users\\Katherine\\Anaconda3\\lib\\site-packages\\sklearn\\linear_model\\logistic.py:433: FutureWarning: Default solver will be changed to 'lbfgs' in 0.22. Specify a solver to silence this warning.\n",
      "  FutureWarning)\n"
     ]
    },
    {
     "name": "stdout",
     "output_type": "stream",
     "text": [
      "Classifier trained for option DUNWOD_Hour_20\n"
     ]
    },
    {
     "name": "stderr",
     "output_type": "stream",
     "text": [
      "C:\\Users\\Katherine\\Anaconda3\\lib\\site-packages\\sklearn\\linear_model\\logistic.py:433: FutureWarning: Default solver will be changed to 'lbfgs' in 0.22. Specify a solver to silence this warning.\n",
      "  FutureWarning)\n"
     ]
    },
    {
     "name": "stdout",
     "output_type": "stream",
     "text": [
      "Classifier trained for option DUNWOD_Hour_21\n"
     ]
    },
    {
     "name": "stderr",
     "output_type": "stream",
     "text": [
      "C:\\Users\\Katherine\\Anaconda3\\lib\\site-packages\\sklearn\\linear_model\\logistic.py:433: FutureWarning: Default solver will be changed to 'lbfgs' in 0.22. Specify a solver to silence this warning.\n",
      "  FutureWarning)\n"
     ]
    },
    {
     "name": "stdout",
     "output_type": "stream",
     "text": [
      "Classifier trained for option DUNWOD_Hour_22\n"
     ]
    },
    {
     "name": "stderr",
     "output_type": "stream",
     "text": [
      "C:\\Users\\Katherine\\Anaconda3\\lib\\site-packages\\sklearn\\linear_model\\logistic.py:433: FutureWarning: Default solver will be changed to 'lbfgs' in 0.22. Specify a solver to silence this warning.\n",
      "  FutureWarning)\n"
     ]
    },
    {
     "name": "stdout",
     "output_type": "stream",
     "text": [
      "Classifier trained for option DUNWOD_Hour_23\n"
     ]
    },
    {
     "name": "stderr",
     "output_type": "stream",
     "text": [
      "C:\\Users\\Katherine\\Anaconda3\\lib\\site-packages\\sklearn\\linear_model\\logistic.py:433: FutureWarning: Default solver will be changed to 'lbfgs' in 0.22. Specify a solver to silence this warning.\n",
      "  FutureWarning)\n"
     ]
    },
    {
     "name": "stdout",
     "output_type": "stream",
     "text": [
      "Classifier trained for option GENESE_Hour_0\n"
     ]
    },
    {
     "name": "stderr",
     "output_type": "stream",
     "text": [
      "C:\\Users\\Katherine\\Anaconda3\\lib\\site-packages\\sklearn\\linear_model\\logistic.py:433: FutureWarning: Default solver will be changed to 'lbfgs' in 0.22. Specify a solver to silence this warning.\n",
      "  FutureWarning)\n"
     ]
    },
    {
     "name": "stdout",
     "output_type": "stream",
     "text": [
      "Classifier trained for option GENESE_Hour_1\n"
     ]
    },
    {
     "name": "stderr",
     "output_type": "stream",
     "text": [
      "C:\\Users\\Katherine\\Anaconda3\\lib\\site-packages\\sklearn\\linear_model\\logistic.py:433: FutureWarning: Default solver will be changed to 'lbfgs' in 0.22. Specify a solver to silence this warning.\n",
      "  FutureWarning)\n"
     ]
    },
    {
     "name": "stdout",
     "output_type": "stream",
     "text": [
      "Classifier trained for option GENESE_Hour_2\n"
     ]
    },
    {
     "name": "stderr",
     "output_type": "stream",
     "text": [
      "C:\\Users\\Katherine\\Anaconda3\\lib\\site-packages\\sklearn\\linear_model\\logistic.py:433: FutureWarning: Default solver will be changed to 'lbfgs' in 0.22. Specify a solver to silence this warning.\n",
      "  FutureWarning)\n"
     ]
    },
    {
     "name": "stdout",
     "output_type": "stream",
     "text": [
      "Classifier trained for option GENESE_Hour_3\n"
     ]
    },
    {
     "name": "stderr",
     "output_type": "stream",
     "text": [
      "C:\\Users\\Katherine\\Anaconda3\\lib\\site-packages\\sklearn\\linear_model\\logistic.py:433: FutureWarning: Default solver will be changed to 'lbfgs' in 0.22. Specify a solver to silence this warning.\n",
      "  FutureWarning)\n"
     ]
    },
    {
     "name": "stdout",
     "output_type": "stream",
     "text": [
      "Classifier trained for option GENESE_Hour_4\n"
     ]
    },
    {
     "name": "stderr",
     "output_type": "stream",
     "text": [
      "C:\\Users\\Katherine\\Anaconda3\\lib\\site-packages\\sklearn\\linear_model\\logistic.py:433: FutureWarning: Default solver will be changed to 'lbfgs' in 0.22. Specify a solver to silence this warning.\n",
      "  FutureWarning)\n"
     ]
    },
    {
     "name": "stdout",
     "output_type": "stream",
     "text": [
      "Classifier trained for option GENESE_Hour_5\n"
     ]
    },
    {
     "name": "stderr",
     "output_type": "stream",
     "text": [
      "C:\\Users\\Katherine\\Anaconda3\\lib\\site-packages\\sklearn\\linear_model\\logistic.py:433: FutureWarning: Default solver will be changed to 'lbfgs' in 0.22. Specify a solver to silence this warning.\n",
      "  FutureWarning)\n"
     ]
    },
    {
     "name": "stdout",
     "output_type": "stream",
     "text": [
      "Classifier trained for option GENESE_Hour_6\n"
     ]
    },
    {
     "name": "stderr",
     "output_type": "stream",
     "text": [
      "C:\\Users\\Katherine\\Anaconda3\\lib\\site-packages\\sklearn\\linear_model\\logistic.py:433: FutureWarning: Default solver will be changed to 'lbfgs' in 0.22. Specify a solver to silence this warning.\n",
      "  FutureWarning)\n"
     ]
    },
    {
     "name": "stdout",
     "output_type": "stream",
     "text": [
      "Classifier trained for option GENESE_Hour_7\n"
     ]
    },
    {
     "name": "stderr",
     "output_type": "stream",
     "text": [
      "C:\\Users\\Katherine\\Anaconda3\\lib\\site-packages\\sklearn\\linear_model\\logistic.py:433: FutureWarning: Default solver will be changed to 'lbfgs' in 0.22. Specify a solver to silence this warning.\n",
      "  FutureWarning)\n"
     ]
    },
    {
     "name": "stdout",
     "output_type": "stream",
     "text": [
      "Classifier trained for option GENESE_Hour_8\n"
     ]
    },
    {
     "name": "stderr",
     "output_type": "stream",
     "text": [
      "C:\\Users\\Katherine\\Anaconda3\\lib\\site-packages\\sklearn\\linear_model\\logistic.py:433: FutureWarning: Default solver will be changed to 'lbfgs' in 0.22. Specify a solver to silence this warning.\n",
      "  FutureWarning)\n"
     ]
    },
    {
     "name": "stdout",
     "output_type": "stream",
     "text": [
      "Classifier trained for option GENESE_Hour_9\n"
     ]
    },
    {
     "name": "stderr",
     "output_type": "stream",
     "text": [
      "C:\\Users\\Katherine\\Anaconda3\\lib\\site-packages\\sklearn\\linear_model\\logistic.py:433: FutureWarning: Default solver will be changed to 'lbfgs' in 0.22. Specify a solver to silence this warning.\n",
      "  FutureWarning)\n"
     ]
    },
    {
     "name": "stdout",
     "output_type": "stream",
     "text": [
      "Classifier trained for option GENESE_Hour_10\n"
     ]
    },
    {
     "name": "stderr",
     "output_type": "stream",
     "text": [
      "C:\\Users\\Katherine\\Anaconda3\\lib\\site-packages\\sklearn\\linear_model\\logistic.py:433: FutureWarning: Default solver will be changed to 'lbfgs' in 0.22. Specify a solver to silence this warning.\n",
      "  FutureWarning)\n"
     ]
    },
    {
     "name": "stdout",
     "output_type": "stream",
     "text": [
      "Classifier trained for option GENESE_Hour_11\n"
     ]
    },
    {
     "name": "stderr",
     "output_type": "stream",
     "text": [
      "C:\\Users\\Katherine\\Anaconda3\\lib\\site-packages\\sklearn\\linear_model\\logistic.py:433: FutureWarning: Default solver will be changed to 'lbfgs' in 0.22. Specify a solver to silence this warning.\n",
      "  FutureWarning)\n"
     ]
    },
    {
     "name": "stdout",
     "output_type": "stream",
     "text": [
      "Classifier trained for option GENESE_Hour_12\n"
     ]
    },
    {
     "name": "stderr",
     "output_type": "stream",
     "text": [
      "C:\\Users\\Katherine\\Anaconda3\\lib\\site-packages\\sklearn\\linear_model\\logistic.py:433: FutureWarning: Default solver will be changed to 'lbfgs' in 0.22. Specify a solver to silence this warning.\n",
      "  FutureWarning)\n"
     ]
    },
    {
     "name": "stdout",
     "output_type": "stream",
     "text": [
      "Classifier trained for option GENESE_Hour_13\n"
     ]
    },
    {
     "name": "stderr",
     "output_type": "stream",
     "text": [
      "C:\\Users\\Katherine\\Anaconda3\\lib\\site-packages\\sklearn\\linear_model\\logistic.py:433: FutureWarning: Default solver will be changed to 'lbfgs' in 0.22. Specify a solver to silence this warning.\n",
      "  FutureWarning)\n"
     ]
    },
    {
     "name": "stdout",
     "output_type": "stream",
     "text": [
      "Classifier trained for option GENESE_Hour_14\n"
     ]
    },
    {
     "name": "stderr",
     "output_type": "stream",
     "text": [
      "C:\\Users\\Katherine\\Anaconda3\\lib\\site-packages\\sklearn\\linear_model\\logistic.py:433: FutureWarning: Default solver will be changed to 'lbfgs' in 0.22. Specify a solver to silence this warning.\n",
      "  FutureWarning)\n"
     ]
    },
    {
     "name": "stdout",
     "output_type": "stream",
     "text": [
      "Classifier trained for option GENESE_Hour_15\n"
     ]
    },
    {
     "name": "stderr",
     "output_type": "stream",
     "text": [
      "C:\\Users\\Katherine\\Anaconda3\\lib\\site-packages\\sklearn\\linear_model\\logistic.py:433: FutureWarning: Default solver will be changed to 'lbfgs' in 0.22. Specify a solver to silence this warning.\n",
      "  FutureWarning)\n"
     ]
    },
    {
     "name": "stdout",
     "output_type": "stream",
     "text": [
      "Classifier trained for option GENESE_Hour_16\n"
     ]
    },
    {
     "name": "stderr",
     "output_type": "stream",
     "text": [
      "C:\\Users\\Katherine\\Anaconda3\\lib\\site-packages\\sklearn\\linear_model\\logistic.py:433: FutureWarning: Default solver will be changed to 'lbfgs' in 0.22. Specify a solver to silence this warning.\n",
      "  FutureWarning)\n"
     ]
    },
    {
     "name": "stdout",
     "output_type": "stream",
     "text": [
      "Classifier trained for option GENESE_Hour_17\n"
     ]
    },
    {
     "name": "stderr",
     "output_type": "stream",
     "text": [
      "C:\\Users\\Katherine\\Anaconda3\\lib\\site-packages\\sklearn\\linear_model\\logistic.py:433: FutureWarning: Default solver will be changed to 'lbfgs' in 0.22. Specify a solver to silence this warning.\n",
      "  FutureWarning)\n"
     ]
    },
    {
     "name": "stdout",
     "output_type": "stream",
     "text": [
      "Classifier trained for option GENESE_Hour_18\n"
     ]
    },
    {
     "name": "stderr",
     "output_type": "stream",
     "text": [
      "C:\\Users\\Katherine\\Anaconda3\\lib\\site-packages\\sklearn\\linear_model\\logistic.py:433: FutureWarning: Default solver will be changed to 'lbfgs' in 0.22. Specify a solver to silence this warning.\n",
      "  FutureWarning)\n"
     ]
    },
    {
     "name": "stdout",
     "output_type": "stream",
     "text": [
      "Classifier trained for option GENESE_Hour_19\n"
     ]
    },
    {
     "name": "stderr",
     "output_type": "stream",
     "text": [
      "C:\\Users\\Katherine\\Anaconda3\\lib\\site-packages\\sklearn\\linear_model\\logistic.py:433: FutureWarning: Default solver will be changed to 'lbfgs' in 0.22. Specify a solver to silence this warning.\n",
      "  FutureWarning)\n"
     ]
    },
    {
     "name": "stdout",
     "output_type": "stream",
     "text": [
      "Classifier trained for option GENESE_Hour_20\n"
     ]
    },
    {
     "name": "stderr",
     "output_type": "stream",
     "text": [
      "C:\\Users\\Katherine\\Anaconda3\\lib\\site-packages\\sklearn\\linear_model\\logistic.py:433: FutureWarning: Default solver will be changed to 'lbfgs' in 0.22. Specify a solver to silence this warning.\n",
      "  FutureWarning)\n"
     ]
    },
    {
     "name": "stdout",
     "output_type": "stream",
     "text": [
      "Classifier trained for option GENESE_Hour_21\n"
     ]
    },
    {
     "name": "stderr",
     "output_type": "stream",
     "text": [
      "C:\\Users\\Katherine\\Anaconda3\\lib\\site-packages\\sklearn\\linear_model\\logistic.py:433: FutureWarning: Default solver will be changed to 'lbfgs' in 0.22. Specify a solver to silence this warning.\n",
      "  FutureWarning)\n"
     ]
    },
    {
     "name": "stdout",
     "output_type": "stream",
     "text": [
      "Classifier trained for option GENESE_Hour_22\n"
     ]
    },
    {
     "name": "stderr",
     "output_type": "stream",
     "text": [
      "C:\\Users\\Katherine\\Anaconda3\\lib\\site-packages\\sklearn\\linear_model\\logistic.py:433: FutureWarning: Default solver will be changed to 'lbfgs' in 0.22. Specify a solver to silence this warning.\n",
      "  FutureWarning)\n"
     ]
    },
    {
     "name": "stdout",
     "output_type": "stream",
     "text": [
      "Classifier trained for option GENESE_Hour_23\n"
     ]
    },
    {
     "name": "stderr",
     "output_type": "stream",
     "text": [
      "C:\\Users\\Katherine\\Anaconda3\\lib\\site-packages\\sklearn\\linear_model\\logistic.py:433: FutureWarning: Default solver will be changed to 'lbfgs' in 0.22. Specify a solver to silence this warning.\n",
      "  FutureWarning)\n"
     ]
    },
    {
     "name": "stdout",
     "output_type": "stream",
     "text": [
      "Classifier trained for option HUD VL_Hour_0\n"
     ]
    },
    {
     "name": "stderr",
     "output_type": "stream",
     "text": [
      "C:\\Users\\Katherine\\Anaconda3\\lib\\site-packages\\sklearn\\linear_model\\logistic.py:433: FutureWarning: Default solver will be changed to 'lbfgs' in 0.22. Specify a solver to silence this warning.\n",
      "  FutureWarning)\n"
     ]
    },
    {
     "name": "stdout",
     "output_type": "stream",
     "text": [
      "Classifier trained for option HUD VL_Hour_1\n"
     ]
    },
    {
     "name": "stderr",
     "output_type": "stream",
     "text": [
      "C:\\Users\\Katherine\\Anaconda3\\lib\\site-packages\\sklearn\\linear_model\\logistic.py:433: FutureWarning: Default solver will be changed to 'lbfgs' in 0.22. Specify a solver to silence this warning.\n",
      "  FutureWarning)\n"
     ]
    },
    {
     "name": "stdout",
     "output_type": "stream",
     "text": [
      "Classifier trained for option HUD VL_Hour_2\n"
     ]
    },
    {
     "name": "stderr",
     "output_type": "stream",
     "text": [
      "C:\\Users\\Katherine\\Anaconda3\\lib\\site-packages\\sklearn\\linear_model\\logistic.py:433: FutureWarning: Default solver will be changed to 'lbfgs' in 0.22. Specify a solver to silence this warning.\n",
      "  FutureWarning)\n"
     ]
    },
    {
     "name": "stdout",
     "output_type": "stream",
     "text": [
      "Classifier trained for option HUD VL_Hour_3\n"
     ]
    },
    {
     "name": "stderr",
     "output_type": "stream",
     "text": [
      "C:\\Users\\Katherine\\Anaconda3\\lib\\site-packages\\sklearn\\linear_model\\logistic.py:433: FutureWarning: Default solver will be changed to 'lbfgs' in 0.22. Specify a solver to silence this warning.\n",
      "  FutureWarning)\n"
     ]
    },
    {
     "name": "stdout",
     "output_type": "stream",
     "text": [
      "Classifier trained for option HUD VL_Hour_4\n"
     ]
    },
    {
     "name": "stderr",
     "output_type": "stream",
     "text": [
      "C:\\Users\\Katherine\\Anaconda3\\lib\\site-packages\\sklearn\\linear_model\\logistic.py:433: FutureWarning: Default solver will be changed to 'lbfgs' in 0.22. Specify a solver to silence this warning.\n",
      "  FutureWarning)\n"
     ]
    },
    {
     "name": "stdout",
     "output_type": "stream",
     "text": [
      "Classifier trained for option HUD VL_Hour_5\n"
     ]
    },
    {
     "name": "stderr",
     "output_type": "stream",
     "text": [
      "C:\\Users\\Katherine\\Anaconda3\\lib\\site-packages\\sklearn\\linear_model\\logistic.py:433: FutureWarning: Default solver will be changed to 'lbfgs' in 0.22. Specify a solver to silence this warning.\n",
      "  FutureWarning)\n"
     ]
    },
    {
     "name": "stdout",
     "output_type": "stream",
     "text": [
      "Classifier trained for option HUD VL_Hour_6\n"
     ]
    },
    {
     "name": "stderr",
     "output_type": "stream",
     "text": [
      "C:\\Users\\Katherine\\Anaconda3\\lib\\site-packages\\sklearn\\linear_model\\logistic.py:433: FutureWarning: Default solver will be changed to 'lbfgs' in 0.22. Specify a solver to silence this warning.\n",
      "  FutureWarning)\n"
     ]
    },
    {
     "name": "stdout",
     "output_type": "stream",
     "text": [
      "Classifier trained for option HUD VL_Hour_7\n"
     ]
    },
    {
     "name": "stderr",
     "output_type": "stream",
     "text": [
      "C:\\Users\\Katherine\\Anaconda3\\lib\\site-packages\\sklearn\\linear_model\\logistic.py:433: FutureWarning: Default solver will be changed to 'lbfgs' in 0.22. Specify a solver to silence this warning.\n",
      "  FutureWarning)\n"
     ]
    },
    {
     "name": "stdout",
     "output_type": "stream",
     "text": [
      "Classifier trained for option HUD VL_Hour_8\n"
     ]
    },
    {
     "name": "stderr",
     "output_type": "stream",
     "text": [
      "C:\\Users\\Katherine\\Anaconda3\\lib\\site-packages\\sklearn\\linear_model\\logistic.py:433: FutureWarning: Default solver will be changed to 'lbfgs' in 0.22. Specify a solver to silence this warning.\n",
      "  FutureWarning)\n"
     ]
    },
    {
     "name": "stdout",
     "output_type": "stream",
     "text": [
      "Classifier trained for option HUD VL_Hour_9\n"
     ]
    },
    {
     "name": "stderr",
     "output_type": "stream",
     "text": [
      "C:\\Users\\Katherine\\Anaconda3\\lib\\site-packages\\sklearn\\linear_model\\logistic.py:433: FutureWarning: Default solver will be changed to 'lbfgs' in 0.22. Specify a solver to silence this warning.\n",
      "  FutureWarning)\n"
     ]
    },
    {
     "name": "stdout",
     "output_type": "stream",
     "text": [
      "Classifier trained for option HUD VL_Hour_10\n"
     ]
    },
    {
     "name": "stderr",
     "output_type": "stream",
     "text": [
      "C:\\Users\\Katherine\\Anaconda3\\lib\\site-packages\\sklearn\\linear_model\\logistic.py:433: FutureWarning: Default solver will be changed to 'lbfgs' in 0.22. Specify a solver to silence this warning.\n",
      "  FutureWarning)\n"
     ]
    },
    {
     "name": "stdout",
     "output_type": "stream",
     "text": [
      "Classifier trained for option HUD VL_Hour_11\n"
     ]
    },
    {
     "name": "stderr",
     "output_type": "stream",
     "text": [
      "C:\\Users\\Katherine\\Anaconda3\\lib\\site-packages\\sklearn\\linear_model\\logistic.py:433: FutureWarning: Default solver will be changed to 'lbfgs' in 0.22. Specify a solver to silence this warning.\n",
      "  FutureWarning)\n"
     ]
    },
    {
     "name": "stdout",
     "output_type": "stream",
     "text": [
      "Classifier trained for option HUD VL_Hour_12\n"
     ]
    },
    {
     "name": "stderr",
     "output_type": "stream",
     "text": [
      "C:\\Users\\Katherine\\Anaconda3\\lib\\site-packages\\sklearn\\linear_model\\logistic.py:433: FutureWarning: Default solver will be changed to 'lbfgs' in 0.22. Specify a solver to silence this warning.\n",
      "  FutureWarning)\n"
     ]
    },
    {
     "name": "stdout",
     "output_type": "stream",
     "text": [
      "Classifier trained for option HUD VL_Hour_13\n"
     ]
    },
    {
     "name": "stderr",
     "output_type": "stream",
     "text": [
      "C:\\Users\\Katherine\\Anaconda3\\lib\\site-packages\\sklearn\\linear_model\\logistic.py:433: FutureWarning: Default solver will be changed to 'lbfgs' in 0.22. Specify a solver to silence this warning.\n",
      "  FutureWarning)\n"
     ]
    },
    {
     "name": "stdout",
     "output_type": "stream",
     "text": [
      "Classifier trained for option HUD VL_Hour_14\n"
     ]
    },
    {
     "name": "stderr",
     "output_type": "stream",
     "text": [
      "C:\\Users\\Katherine\\Anaconda3\\lib\\site-packages\\sklearn\\linear_model\\logistic.py:433: FutureWarning: Default solver will be changed to 'lbfgs' in 0.22. Specify a solver to silence this warning.\n",
      "  FutureWarning)\n"
     ]
    },
    {
     "name": "stdout",
     "output_type": "stream",
     "text": [
      "Classifier trained for option HUD VL_Hour_15\n"
     ]
    },
    {
     "name": "stderr",
     "output_type": "stream",
     "text": [
      "C:\\Users\\Katherine\\Anaconda3\\lib\\site-packages\\sklearn\\linear_model\\logistic.py:433: FutureWarning: Default solver will be changed to 'lbfgs' in 0.22. Specify a solver to silence this warning.\n",
      "  FutureWarning)\n"
     ]
    },
    {
     "name": "stdout",
     "output_type": "stream",
     "text": [
      "Classifier trained for option HUD VL_Hour_16\n"
     ]
    },
    {
     "name": "stderr",
     "output_type": "stream",
     "text": [
      "C:\\Users\\Katherine\\Anaconda3\\lib\\site-packages\\sklearn\\linear_model\\logistic.py:433: FutureWarning: Default solver will be changed to 'lbfgs' in 0.22. Specify a solver to silence this warning.\n",
      "  FutureWarning)\n"
     ]
    },
    {
     "name": "stdout",
     "output_type": "stream",
     "text": [
      "Classifier trained for option HUD VL_Hour_17\n"
     ]
    },
    {
     "name": "stderr",
     "output_type": "stream",
     "text": [
      "C:\\Users\\Katherine\\Anaconda3\\lib\\site-packages\\sklearn\\linear_model\\logistic.py:433: FutureWarning: Default solver will be changed to 'lbfgs' in 0.22. Specify a solver to silence this warning.\n",
      "  FutureWarning)\n"
     ]
    },
    {
     "name": "stdout",
     "output_type": "stream",
     "text": [
      "Classifier trained for option HUD VL_Hour_18\n"
     ]
    },
    {
     "name": "stderr",
     "output_type": "stream",
     "text": [
      "C:\\Users\\Katherine\\Anaconda3\\lib\\site-packages\\sklearn\\linear_model\\logistic.py:433: FutureWarning: Default solver will be changed to 'lbfgs' in 0.22. Specify a solver to silence this warning.\n",
      "  FutureWarning)\n"
     ]
    },
    {
     "name": "stdout",
     "output_type": "stream",
     "text": [
      "Classifier trained for option HUD VL_Hour_19\n"
     ]
    },
    {
     "name": "stderr",
     "output_type": "stream",
     "text": [
      "C:\\Users\\Katherine\\Anaconda3\\lib\\site-packages\\sklearn\\linear_model\\logistic.py:433: FutureWarning: Default solver will be changed to 'lbfgs' in 0.22. Specify a solver to silence this warning.\n",
      "  FutureWarning)\n"
     ]
    },
    {
     "name": "stdout",
     "output_type": "stream",
     "text": [
      "Classifier trained for option HUD VL_Hour_20\n"
     ]
    },
    {
     "name": "stderr",
     "output_type": "stream",
     "text": [
      "C:\\Users\\Katherine\\Anaconda3\\lib\\site-packages\\sklearn\\linear_model\\logistic.py:433: FutureWarning: Default solver will be changed to 'lbfgs' in 0.22. Specify a solver to silence this warning.\n",
      "  FutureWarning)\n"
     ]
    },
    {
     "name": "stdout",
     "output_type": "stream",
     "text": [
      "Classifier trained for option HUD VL_Hour_21\n"
     ]
    },
    {
     "name": "stderr",
     "output_type": "stream",
     "text": [
      "C:\\Users\\Katherine\\Anaconda3\\lib\\site-packages\\sklearn\\linear_model\\logistic.py:433: FutureWarning: Default solver will be changed to 'lbfgs' in 0.22. Specify a solver to silence this warning.\n",
      "  FutureWarning)\n"
     ]
    },
    {
     "name": "stdout",
     "output_type": "stream",
     "text": [
      "Classifier trained for option HUD VL_Hour_22\n"
     ]
    },
    {
     "name": "stderr",
     "output_type": "stream",
     "text": [
      "C:\\Users\\Katherine\\Anaconda3\\lib\\site-packages\\sklearn\\linear_model\\logistic.py:433: FutureWarning: Default solver will be changed to 'lbfgs' in 0.22. Specify a solver to silence this warning.\n",
      "  FutureWarning)\n"
     ]
    },
    {
     "name": "stdout",
     "output_type": "stream",
     "text": [
      "Classifier trained for option HUD VL_Hour_23\n"
     ]
    },
    {
     "name": "stderr",
     "output_type": "stream",
     "text": [
      "C:\\Users\\Katherine\\Anaconda3\\lib\\site-packages\\sklearn\\linear_model\\logistic.py:433: FutureWarning: Default solver will be changed to 'lbfgs' in 0.22. Specify a solver to silence this warning.\n",
      "  FutureWarning)\n"
     ]
    },
    {
     "name": "stdout",
     "output_type": "stream",
     "text": [
      "Classifier trained for option LONGIL_Hour_0\n"
     ]
    },
    {
     "name": "stderr",
     "output_type": "stream",
     "text": [
      "C:\\Users\\Katherine\\Anaconda3\\lib\\site-packages\\sklearn\\linear_model\\logistic.py:433: FutureWarning: Default solver will be changed to 'lbfgs' in 0.22. Specify a solver to silence this warning.\n",
      "  FutureWarning)\n"
     ]
    },
    {
     "name": "stdout",
     "output_type": "stream",
     "text": [
      "Classifier trained for option LONGIL_Hour_1\n"
     ]
    },
    {
     "name": "stderr",
     "output_type": "stream",
     "text": [
      "C:\\Users\\Katherine\\Anaconda3\\lib\\site-packages\\sklearn\\linear_model\\logistic.py:433: FutureWarning: Default solver will be changed to 'lbfgs' in 0.22. Specify a solver to silence this warning.\n",
      "  FutureWarning)\n"
     ]
    },
    {
     "name": "stdout",
     "output_type": "stream",
     "text": [
      "Classifier trained for option LONGIL_Hour_2\n"
     ]
    },
    {
     "name": "stderr",
     "output_type": "stream",
     "text": [
      "C:\\Users\\Katherine\\Anaconda3\\lib\\site-packages\\sklearn\\linear_model\\logistic.py:433: FutureWarning: Default solver will be changed to 'lbfgs' in 0.22. Specify a solver to silence this warning.\n",
      "  FutureWarning)\n"
     ]
    },
    {
     "name": "stdout",
     "output_type": "stream",
     "text": [
      "Classifier trained for option LONGIL_Hour_3\n"
     ]
    },
    {
     "name": "stderr",
     "output_type": "stream",
     "text": [
      "C:\\Users\\Katherine\\Anaconda3\\lib\\site-packages\\sklearn\\linear_model\\logistic.py:433: FutureWarning: Default solver will be changed to 'lbfgs' in 0.22. Specify a solver to silence this warning.\n",
      "  FutureWarning)\n"
     ]
    },
    {
     "name": "stdout",
     "output_type": "stream",
     "text": [
      "Classifier trained for option LONGIL_Hour_4\n"
     ]
    },
    {
     "name": "stderr",
     "output_type": "stream",
     "text": [
      "C:\\Users\\Katherine\\Anaconda3\\lib\\site-packages\\sklearn\\linear_model\\logistic.py:433: FutureWarning: Default solver will be changed to 'lbfgs' in 0.22. Specify a solver to silence this warning.\n",
      "  FutureWarning)\n"
     ]
    },
    {
     "name": "stdout",
     "output_type": "stream",
     "text": [
      "Classifier trained for option LONGIL_Hour_5\n"
     ]
    },
    {
     "name": "stderr",
     "output_type": "stream",
     "text": [
      "C:\\Users\\Katherine\\Anaconda3\\lib\\site-packages\\sklearn\\linear_model\\logistic.py:433: FutureWarning: Default solver will be changed to 'lbfgs' in 0.22. Specify a solver to silence this warning.\n",
      "  FutureWarning)\n"
     ]
    },
    {
     "name": "stdout",
     "output_type": "stream",
     "text": [
      "Classifier trained for option LONGIL_Hour_6\n"
     ]
    },
    {
     "name": "stderr",
     "output_type": "stream",
     "text": [
      "C:\\Users\\Katherine\\Anaconda3\\lib\\site-packages\\sklearn\\linear_model\\logistic.py:433: FutureWarning: Default solver will be changed to 'lbfgs' in 0.22. Specify a solver to silence this warning.\n",
      "  FutureWarning)\n"
     ]
    },
    {
     "name": "stdout",
     "output_type": "stream",
     "text": [
      "Classifier trained for option LONGIL_Hour_7\n"
     ]
    },
    {
     "name": "stderr",
     "output_type": "stream",
     "text": [
      "C:\\Users\\Katherine\\Anaconda3\\lib\\site-packages\\sklearn\\linear_model\\logistic.py:433: FutureWarning: Default solver will be changed to 'lbfgs' in 0.22. Specify a solver to silence this warning.\n",
      "  FutureWarning)\n"
     ]
    },
    {
     "name": "stdout",
     "output_type": "stream",
     "text": [
      "Classifier trained for option LONGIL_Hour_8\n"
     ]
    },
    {
     "name": "stderr",
     "output_type": "stream",
     "text": [
      "C:\\Users\\Katherine\\Anaconda3\\lib\\site-packages\\sklearn\\linear_model\\logistic.py:433: FutureWarning: Default solver will be changed to 'lbfgs' in 0.22. Specify a solver to silence this warning.\n",
      "  FutureWarning)\n"
     ]
    },
    {
     "name": "stdout",
     "output_type": "stream",
     "text": [
      "Classifier trained for option LONGIL_Hour_9\n"
     ]
    },
    {
     "name": "stderr",
     "output_type": "stream",
     "text": [
      "C:\\Users\\Katherine\\Anaconda3\\lib\\site-packages\\sklearn\\linear_model\\logistic.py:433: FutureWarning: Default solver will be changed to 'lbfgs' in 0.22. Specify a solver to silence this warning.\n",
      "  FutureWarning)\n"
     ]
    },
    {
     "name": "stdout",
     "output_type": "stream",
     "text": [
      "Classifier trained for option LONGIL_Hour_10\n"
     ]
    },
    {
     "name": "stderr",
     "output_type": "stream",
     "text": [
      "C:\\Users\\Katherine\\Anaconda3\\lib\\site-packages\\sklearn\\linear_model\\logistic.py:433: FutureWarning: Default solver will be changed to 'lbfgs' in 0.22. Specify a solver to silence this warning.\n",
      "  FutureWarning)\n"
     ]
    },
    {
     "name": "stdout",
     "output_type": "stream",
     "text": [
      "Classifier trained for option LONGIL_Hour_11\n"
     ]
    },
    {
     "name": "stderr",
     "output_type": "stream",
     "text": [
      "C:\\Users\\Katherine\\Anaconda3\\lib\\site-packages\\sklearn\\linear_model\\logistic.py:433: FutureWarning: Default solver will be changed to 'lbfgs' in 0.22. Specify a solver to silence this warning.\n",
      "  FutureWarning)\n"
     ]
    },
    {
     "name": "stdout",
     "output_type": "stream",
     "text": [
      "Classifier trained for option LONGIL_Hour_12\n"
     ]
    },
    {
     "name": "stderr",
     "output_type": "stream",
     "text": [
      "C:\\Users\\Katherine\\Anaconda3\\lib\\site-packages\\sklearn\\linear_model\\logistic.py:433: FutureWarning: Default solver will be changed to 'lbfgs' in 0.22. Specify a solver to silence this warning.\n",
      "  FutureWarning)\n"
     ]
    },
    {
     "name": "stdout",
     "output_type": "stream",
     "text": [
      "Classifier trained for option LONGIL_Hour_13\n"
     ]
    },
    {
     "name": "stderr",
     "output_type": "stream",
     "text": [
      "C:\\Users\\Katherine\\Anaconda3\\lib\\site-packages\\sklearn\\linear_model\\logistic.py:433: FutureWarning: Default solver will be changed to 'lbfgs' in 0.22. Specify a solver to silence this warning.\n",
      "  FutureWarning)\n"
     ]
    },
    {
     "name": "stdout",
     "output_type": "stream",
     "text": [
      "Classifier trained for option LONGIL_Hour_14\n"
     ]
    },
    {
     "name": "stderr",
     "output_type": "stream",
     "text": [
      "C:\\Users\\Katherine\\Anaconda3\\lib\\site-packages\\sklearn\\linear_model\\logistic.py:433: FutureWarning: Default solver will be changed to 'lbfgs' in 0.22. Specify a solver to silence this warning.\n",
      "  FutureWarning)\n"
     ]
    },
    {
     "name": "stdout",
     "output_type": "stream",
     "text": [
      "Classifier trained for option LONGIL_Hour_15\n"
     ]
    },
    {
     "name": "stderr",
     "output_type": "stream",
     "text": [
      "C:\\Users\\Katherine\\Anaconda3\\lib\\site-packages\\sklearn\\linear_model\\logistic.py:433: FutureWarning: Default solver will be changed to 'lbfgs' in 0.22. Specify a solver to silence this warning.\n",
      "  FutureWarning)\n"
     ]
    },
    {
     "name": "stdout",
     "output_type": "stream",
     "text": [
      "Classifier trained for option LONGIL_Hour_16\n"
     ]
    },
    {
     "name": "stderr",
     "output_type": "stream",
     "text": [
      "C:\\Users\\Katherine\\Anaconda3\\lib\\site-packages\\sklearn\\linear_model\\logistic.py:433: FutureWarning: Default solver will be changed to 'lbfgs' in 0.22. Specify a solver to silence this warning.\n",
      "  FutureWarning)\n"
     ]
    },
    {
     "name": "stdout",
     "output_type": "stream",
     "text": [
      "Classifier trained for option LONGIL_Hour_17\n"
     ]
    },
    {
     "name": "stderr",
     "output_type": "stream",
     "text": [
      "C:\\Users\\Katherine\\Anaconda3\\lib\\site-packages\\sklearn\\linear_model\\logistic.py:433: FutureWarning: Default solver will be changed to 'lbfgs' in 0.22. Specify a solver to silence this warning.\n",
      "  FutureWarning)\n"
     ]
    },
    {
     "name": "stdout",
     "output_type": "stream",
     "text": [
      "Classifier trained for option LONGIL_Hour_18\n"
     ]
    },
    {
     "name": "stderr",
     "output_type": "stream",
     "text": [
      "C:\\Users\\Katherine\\Anaconda3\\lib\\site-packages\\sklearn\\linear_model\\logistic.py:433: FutureWarning: Default solver will be changed to 'lbfgs' in 0.22. Specify a solver to silence this warning.\n",
      "  FutureWarning)\n"
     ]
    },
    {
     "name": "stdout",
     "output_type": "stream",
     "text": [
      "Classifier trained for option LONGIL_Hour_19\n"
     ]
    },
    {
     "name": "stderr",
     "output_type": "stream",
     "text": [
      "C:\\Users\\Katherine\\Anaconda3\\lib\\site-packages\\sklearn\\linear_model\\logistic.py:433: FutureWarning: Default solver will be changed to 'lbfgs' in 0.22. Specify a solver to silence this warning.\n",
      "  FutureWarning)\n"
     ]
    },
    {
     "name": "stdout",
     "output_type": "stream",
     "text": [
      "Classifier trained for option LONGIL_Hour_20\n"
     ]
    },
    {
     "name": "stderr",
     "output_type": "stream",
     "text": [
      "C:\\Users\\Katherine\\Anaconda3\\lib\\site-packages\\sklearn\\linear_model\\logistic.py:433: FutureWarning: Default solver will be changed to 'lbfgs' in 0.22. Specify a solver to silence this warning.\n",
      "  FutureWarning)\n"
     ]
    },
    {
     "name": "stdout",
     "output_type": "stream",
     "text": [
      "Classifier trained for option LONGIL_Hour_21\n"
     ]
    },
    {
     "name": "stderr",
     "output_type": "stream",
     "text": [
      "C:\\Users\\Katherine\\Anaconda3\\lib\\site-packages\\sklearn\\linear_model\\logistic.py:433: FutureWarning: Default solver will be changed to 'lbfgs' in 0.22. Specify a solver to silence this warning.\n",
      "  FutureWarning)\n"
     ]
    },
    {
     "name": "stdout",
     "output_type": "stream",
     "text": [
      "Classifier trained for option LONGIL_Hour_22\n"
     ]
    },
    {
     "name": "stderr",
     "output_type": "stream",
     "text": [
      "C:\\Users\\Katherine\\Anaconda3\\lib\\site-packages\\sklearn\\linear_model\\logistic.py:433: FutureWarning: Default solver will be changed to 'lbfgs' in 0.22. Specify a solver to silence this warning.\n",
      "  FutureWarning)\n"
     ]
    },
    {
     "name": "stdout",
     "output_type": "stream",
     "text": [
      "Classifier trained for option LONGIL_Hour_23\n"
     ]
    },
    {
     "name": "stderr",
     "output_type": "stream",
     "text": [
      "C:\\Users\\Katherine\\Anaconda3\\lib\\site-packages\\sklearn\\linear_model\\logistic.py:433: FutureWarning: Default solver will be changed to 'lbfgs' in 0.22. Specify a solver to silence this warning.\n",
      "  FutureWarning)\n"
     ]
    },
    {
     "name": "stdout",
     "output_type": "stream",
     "text": [
      "Classifier trained for option MHK VL_Hour_0\n"
     ]
    },
    {
     "name": "stderr",
     "output_type": "stream",
     "text": [
      "C:\\Users\\Katherine\\Anaconda3\\lib\\site-packages\\sklearn\\linear_model\\logistic.py:433: FutureWarning: Default solver will be changed to 'lbfgs' in 0.22. Specify a solver to silence this warning.\n",
      "  FutureWarning)\n"
     ]
    },
    {
     "name": "stdout",
     "output_type": "stream",
     "text": [
      "Classifier trained for option MHK VL_Hour_1\n"
     ]
    },
    {
     "name": "stderr",
     "output_type": "stream",
     "text": [
      "C:\\Users\\Katherine\\Anaconda3\\lib\\site-packages\\sklearn\\linear_model\\logistic.py:433: FutureWarning: Default solver will be changed to 'lbfgs' in 0.22. Specify a solver to silence this warning.\n",
      "  FutureWarning)\n"
     ]
    },
    {
     "name": "stdout",
     "output_type": "stream",
     "text": [
      "Classifier trained for option MHK VL_Hour_2\n"
     ]
    },
    {
     "name": "stderr",
     "output_type": "stream",
     "text": [
      "C:\\Users\\Katherine\\Anaconda3\\lib\\site-packages\\sklearn\\linear_model\\logistic.py:433: FutureWarning: Default solver will be changed to 'lbfgs' in 0.22. Specify a solver to silence this warning.\n",
      "  FutureWarning)\n"
     ]
    },
    {
     "name": "stdout",
     "output_type": "stream",
     "text": [
      "Classifier trained for option MHK VL_Hour_3\n"
     ]
    },
    {
     "name": "stderr",
     "output_type": "stream",
     "text": [
      "C:\\Users\\Katherine\\Anaconda3\\lib\\site-packages\\sklearn\\linear_model\\logistic.py:433: FutureWarning: Default solver will be changed to 'lbfgs' in 0.22. Specify a solver to silence this warning.\n",
      "  FutureWarning)\n"
     ]
    },
    {
     "name": "stdout",
     "output_type": "stream",
     "text": [
      "Classifier trained for option MHK VL_Hour_4\n"
     ]
    },
    {
     "name": "stderr",
     "output_type": "stream",
     "text": [
      "C:\\Users\\Katherine\\Anaconda3\\lib\\site-packages\\sklearn\\linear_model\\logistic.py:433: FutureWarning: Default solver will be changed to 'lbfgs' in 0.22. Specify a solver to silence this warning.\n",
      "  FutureWarning)\n"
     ]
    },
    {
     "name": "stdout",
     "output_type": "stream",
     "text": [
      "Classifier trained for option MHK VL_Hour_5\n"
     ]
    },
    {
     "name": "stderr",
     "output_type": "stream",
     "text": [
      "C:\\Users\\Katherine\\Anaconda3\\lib\\site-packages\\sklearn\\linear_model\\logistic.py:433: FutureWarning: Default solver will be changed to 'lbfgs' in 0.22. Specify a solver to silence this warning.\n",
      "  FutureWarning)\n"
     ]
    },
    {
     "name": "stdout",
     "output_type": "stream",
     "text": [
      "Classifier trained for option MHK VL_Hour_6\n"
     ]
    },
    {
     "name": "stderr",
     "output_type": "stream",
     "text": [
      "C:\\Users\\Katherine\\Anaconda3\\lib\\site-packages\\sklearn\\linear_model\\logistic.py:433: FutureWarning: Default solver will be changed to 'lbfgs' in 0.22. Specify a solver to silence this warning.\n",
      "  FutureWarning)\n"
     ]
    },
    {
     "name": "stdout",
     "output_type": "stream",
     "text": [
      "Classifier trained for option MHK VL_Hour_7\n"
     ]
    },
    {
     "name": "stderr",
     "output_type": "stream",
     "text": [
      "C:\\Users\\Katherine\\Anaconda3\\lib\\site-packages\\sklearn\\linear_model\\logistic.py:433: FutureWarning: Default solver will be changed to 'lbfgs' in 0.22. Specify a solver to silence this warning.\n",
      "  FutureWarning)\n"
     ]
    },
    {
     "name": "stdout",
     "output_type": "stream",
     "text": [
      "Classifier trained for option MHK VL_Hour_8\n"
     ]
    },
    {
     "name": "stderr",
     "output_type": "stream",
     "text": [
      "C:\\Users\\Katherine\\Anaconda3\\lib\\site-packages\\sklearn\\linear_model\\logistic.py:433: FutureWarning: Default solver will be changed to 'lbfgs' in 0.22. Specify a solver to silence this warning.\n",
      "  FutureWarning)\n"
     ]
    },
    {
     "name": "stdout",
     "output_type": "stream",
     "text": [
      "Classifier trained for option MHK VL_Hour_9\n"
     ]
    },
    {
     "name": "stderr",
     "output_type": "stream",
     "text": [
      "C:\\Users\\Katherine\\Anaconda3\\lib\\site-packages\\sklearn\\linear_model\\logistic.py:433: FutureWarning: Default solver will be changed to 'lbfgs' in 0.22. Specify a solver to silence this warning.\n",
      "  FutureWarning)\n"
     ]
    },
    {
     "name": "stdout",
     "output_type": "stream",
     "text": [
      "Classifier trained for option MHK VL_Hour_10\n"
     ]
    },
    {
     "name": "stderr",
     "output_type": "stream",
     "text": [
      "C:\\Users\\Katherine\\Anaconda3\\lib\\site-packages\\sklearn\\linear_model\\logistic.py:433: FutureWarning: Default solver will be changed to 'lbfgs' in 0.22. Specify a solver to silence this warning.\n",
      "  FutureWarning)\n"
     ]
    },
    {
     "name": "stdout",
     "output_type": "stream",
     "text": [
      "Classifier trained for option MHK VL_Hour_11\n"
     ]
    },
    {
     "name": "stderr",
     "output_type": "stream",
     "text": [
      "C:\\Users\\Katherine\\Anaconda3\\lib\\site-packages\\sklearn\\linear_model\\logistic.py:433: FutureWarning: Default solver will be changed to 'lbfgs' in 0.22. Specify a solver to silence this warning.\n",
      "  FutureWarning)\n"
     ]
    },
    {
     "name": "stdout",
     "output_type": "stream",
     "text": [
      "Classifier trained for option MHK VL_Hour_12\n"
     ]
    },
    {
     "name": "stderr",
     "output_type": "stream",
     "text": [
      "C:\\Users\\Katherine\\Anaconda3\\lib\\site-packages\\sklearn\\linear_model\\logistic.py:433: FutureWarning: Default solver will be changed to 'lbfgs' in 0.22. Specify a solver to silence this warning.\n",
      "  FutureWarning)\n"
     ]
    },
    {
     "name": "stdout",
     "output_type": "stream",
     "text": [
      "Classifier trained for option MHK VL_Hour_13\n"
     ]
    },
    {
     "name": "stderr",
     "output_type": "stream",
     "text": [
      "C:\\Users\\Katherine\\Anaconda3\\lib\\site-packages\\sklearn\\linear_model\\logistic.py:433: FutureWarning: Default solver will be changed to 'lbfgs' in 0.22. Specify a solver to silence this warning.\n",
      "  FutureWarning)\n"
     ]
    },
    {
     "name": "stdout",
     "output_type": "stream",
     "text": [
      "Classifier trained for option MHK VL_Hour_14\n"
     ]
    },
    {
     "name": "stderr",
     "output_type": "stream",
     "text": [
      "C:\\Users\\Katherine\\Anaconda3\\lib\\site-packages\\sklearn\\linear_model\\logistic.py:433: FutureWarning: Default solver will be changed to 'lbfgs' in 0.22. Specify a solver to silence this warning.\n",
      "  FutureWarning)\n"
     ]
    },
    {
     "name": "stdout",
     "output_type": "stream",
     "text": [
      "Classifier trained for option MHK VL_Hour_15\n"
     ]
    },
    {
     "name": "stderr",
     "output_type": "stream",
     "text": [
      "C:\\Users\\Katherine\\Anaconda3\\lib\\site-packages\\sklearn\\linear_model\\logistic.py:433: FutureWarning: Default solver will be changed to 'lbfgs' in 0.22. Specify a solver to silence this warning.\n",
      "  FutureWarning)\n"
     ]
    },
    {
     "name": "stdout",
     "output_type": "stream",
     "text": [
      "Classifier trained for option MHK VL_Hour_16\n"
     ]
    },
    {
     "name": "stderr",
     "output_type": "stream",
     "text": [
      "C:\\Users\\Katherine\\Anaconda3\\lib\\site-packages\\sklearn\\linear_model\\logistic.py:433: FutureWarning: Default solver will be changed to 'lbfgs' in 0.22. Specify a solver to silence this warning.\n",
      "  FutureWarning)\n"
     ]
    },
    {
     "name": "stdout",
     "output_type": "stream",
     "text": [
      "Classifier trained for option MHK VL_Hour_17\n"
     ]
    },
    {
     "name": "stderr",
     "output_type": "stream",
     "text": [
      "C:\\Users\\Katherine\\Anaconda3\\lib\\site-packages\\sklearn\\linear_model\\logistic.py:433: FutureWarning: Default solver will be changed to 'lbfgs' in 0.22. Specify a solver to silence this warning.\n",
      "  FutureWarning)\n"
     ]
    },
    {
     "name": "stdout",
     "output_type": "stream",
     "text": [
      "Classifier trained for option MHK VL_Hour_18\n"
     ]
    },
    {
     "name": "stderr",
     "output_type": "stream",
     "text": [
      "C:\\Users\\Katherine\\Anaconda3\\lib\\site-packages\\sklearn\\linear_model\\logistic.py:433: FutureWarning: Default solver will be changed to 'lbfgs' in 0.22. Specify a solver to silence this warning.\n",
      "  FutureWarning)\n"
     ]
    },
    {
     "name": "stdout",
     "output_type": "stream",
     "text": [
      "Classifier trained for option MHK VL_Hour_19\n"
     ]
    },
    {
     "name": "stderr",
     "output_type": "stream",
     "text": [
      "C:\\Users\\Katherine\\Anaconda3\\lib\\site-packages\\sklearn\\linear_model\\logistic.py:433: FutureWarning: Default solver will be changed to 'lbfgs' in 0.22. Specify a solver to silence this warning.\n",
      "  FutureWarning)\n"
     ]
    },
    {
     "name": "stdout",
     "output_type": "stream",
     "text": [
      "Classifier trained for option MHK VL_Hour_20\n"
     ]
    },
    {
     "name": "stderr",
     "output_type": "stream",
     "text": [
      "C:\\Users\\Katherine\\Anaconda3\\lib\\site-packages\\sklearn\\linear_model\\logistic.py:433: FutureWarning: Default solver will be changed to 'lbfgs' in 0.22. Specify a solver to silence this warning.\n",
      "  FutureWarning)\n"
     ]
    },
    {
     "name": "stdout",
     "output_type": "stream",
     "text": [
      "Classifier trained for option MHK VL_Hour_21\n"
     ]
    },
    {
     "name": "stderr",
     "output_type": "stream",
     "text": [
      "C:\\Users\\Katherine\\Anaconda3\\lib\\site-packages\\sklearn\\linear_model\\logistic.py:433: FutureWarning: Default solver will be changed to 'lbfgs' in 0.22. Specify a solver to silence this warning.\n",
      "  FutureWarning)\n"
     ]
    },
    {
     "name": "stdout",
     "output_type": "stream",
     "text": [
      "Classifier trained for option MHK VL_Hour_22\n"
     ]
    },
    {
     "name": "stderr",
     "output_type": "stream",
     "text": [
      "C:\\Users\\Katherine\\Anaconda3\\lib\\site-packages\\sklearn\\linear_model\\logistic.py:433: FutureWarning: Default solver will be changed to 'lbfgs' in 0.22. Specify a solver to silence this warning.\n",
      "  FutureWarning)\n"
     ]
    },
    {
     "name": "stdout",
     "output_type": "stream",
     "text": [
      "Classifier trained for option MHK VL_Hour_23\n"
     ]
    },
    {
     "name": "stderr",
     "output_type": "stream",
     "text": [
      "C:\\Users\\Katherine\\Anaconda3\\lib\\site-packages\\sklearn\\linear_model\\logistic.py:433: FutureWarning: Default solver will be changed to 'lbfgs' in 0.22. Specify a solver to silence this warning.\n",
      "  FutureWarning)\n"
     ]
    },
    {
     "name": "stdout",
     "output_type": "stream",
     "text": [
      "Classifier trained for option MILLWD_Hour_0\n"
     ]
    },
    {
     "name": "stderr",
     "output_type": "stream",
     "text": [
      "C:\\Users\\Katherine\\Anaconda3\\lib\\site-packages\\sklearn\\linear_model\\logistic.py:433: FutureWarning: Default solver will be changed to 'lbfgs' in 0.22. Specify a solver to silence this warning.\n",
      "  FutureWarning)\n"
     ]
    },
    {
     "name": "stdout",
     "output_type": "stream",
     "text": [
      "Classifier trained for option MILLWD_Hour_1\n"
     ]
    },
    {
     "name": "stderr",
     "output_type": "stream",
     "text": [
      "C:\\Users\\Katherine\\Anaconda3\\lib\\site-packages\\sklearn\\linear_model\\logistic.py:433: FutureWarning: Default solver will be changed to 'lbfgs' in 0.22. Specify a solver to silence this warning.\n",
      "  FutureWarning)\n"
     ]
    },
    {
     "name": "stdout",
     "output_type": "stream",
     "text": [
      "Classifier trained for option MILLWD_Hour_2\n"
     ]
    },
    {
     "name": "stderr",
     "output_type": "stream",
     "text": [
      "C:\\Users\\Katherine\\Anaconda3\\lib\\site-packages\\sklearn\\linear_model\\logistic.py:433: FutureWarning: Default solver will be changed to 'lbfgs' in 0.22. Specify a solver to silence this warning.\n",
      "  FutureWarning)\n"
     ]
    },
    {
     "name": "stdout",
     "output_type": "stream",
     "text": [
      "Classifier trained for option MILLWD_Hour_3\n"
     ]
    },
    {
     "name": "stderr",
     "output_type": "stream",
     "text": [
      "C:\\Users\\Katherine\\Anaconda3\\lib\\site-packages\\sklearn\\linear_model\\logistic.py:433: FutureWarning: Default solver will be changed to 'lbfgs' in 0.22. Specify a solver to silence this warning.\n",
      "  FutureWarning)\n"
     ]
    },
    {
     "name": "stdout",
     "output_type": "stream",
     "text": [
      "Classifier trained for option MILLWD_Hour_4\n"
     ]
    },
    {
     "name": "stderr",
     "output_type": "stream",
     "text": [
      "C:\\Users\\Katherine\\Anaconda3\\lib\\site-packages\\sklearn\\linear_model\\logistic.py:433: FutureWarning: Default solver will be changed to 'lbfgs' in 0.22. Specify a solver to silence this warning.\n",
      "  FutureWarning)\n"
     ]
    },
    {
     "name": "stdout",
     "output_type": "stream",
     "text": [
      "Classifier trained for option MILLWD_Hour_5\n"
     ]
    },
    {
     "name": "stderr",
     "output_type": "stream",
     "text": [
      "C:\\Users\\Katherine\\Anaconda3\\lib\\site-packages\\sklearn\\linear_model\\logistic.py:433: FutureWarning: Default solver will be changed to 'lbfgs' in 0.22. Specify a solver to silence this warning.\n",
      "  FutureWarning)\n"
     ]
    },
    {
     "name": "stdout",
     "output_type": "stream",
     "text": [
      "Classifier trained for option MILLWD_Hour_6\n"
     ]
    },
    {
     "name": "stderr",
     "output_type": "stream",
     "text": [
      "C:\\Users\\Katherine\\Anaconda3\\lib\\site-packages\\sklearn\\linear_model\\logistic.py:433: FutureWarning: Default solver will be changed to 'lbfgs' in 0.22. Specify a solver to silence this warning.\n",
      "  FutureWarning)\n"
     ]
    },
    {
     "name": "stdout",
     "output_type": "stream",
     "text": [
      "Classifier trained for option MILLWD_Hour_7\n"
     ]
    },
    {
     "name": "stderr",
     "output_type": "stream",
     "text": [
      "C:\\Users\\Katherine\\Anaconda3\\lib\\site-packages\\sklearn\\linear_model\\logistic.py:433: FutureWarning: Default solver will be changed to 'lbfgs' in 0.22. Specify a solver to silence this warning.\n",
      "  FutureWarning)\n"
     ]
    },
    {
     "name": "stdout",
     "output_type": "stream",
     "text": [
      "Classifier trained for option MILLWD_Hour_8\n"
     ]
    },
    {
     "name": "stderr",
     "output_type": "stream",
     "text": [
      "C:\\Users\\Katherine\\Anaconda3\\lib\\site-packages\\sklearn\\linear_model\\logistic.py:433: FutureWarning: Default solver will be changed to 'lbfgs' in 0.22. Specify a solver to silence this warning.\n",
      "  FutureWarning)\n"
     ]
    },
    {
     "name": "stdout",
     "output_type": "stream",
     "text": [
      "Classifier trained for option MILLWD_Hour_9\n"
     ]
    },
    {
     "name": "stderr",
     "output_type": "stream",
     "text": [
      "C:\\Users\\Katherine\\Anaconda3\\lib\\site-packages\\sklearn\\linear_model\\logistic.py:433: FutureWarning: Default solver will be changed to 'lbfgs' in 0.22. Specify a solver to silence this warning.\n",
      "  FutureWarning)\n"
     ]
    },
    {
     "name": "stdout",
     "output_type": "stream",
     "text": [
      "Classifier trained for option MILLWD_Hour_10\n"
     ]
    },
    {
     "name": "stderr",
     "output_type": "stream",
     "text": [
      "C:\\Users\\Katherine\\Anaconda3\\lib\\site-packages\\sklearn\\linear_model\\logistic.py:433: FutureWarning: Default solver will be changed to 'lbfgs' in 0.22. Specify a solver to silence this warning.\n",
      "  FutureWarning)\n"
     ]
    },
    {
     "name": "stdout",
     "output_type": "stream",
     "text": [
      "Classifier trained for option MILLWD_Hour_11\n"
     ]
    },
    {
     "name": "stderr",
     "output_type": "stream",
     "text": [
      "C:\\Users\\Katherine\\Anaconda3\\lib\\site-packages\\sklearn\\linear_model\\logistic.py:433: FutureWarning: Default solver will be changed to 'lbfgs' in 0.22. Specify a solver to silence this warning.\n",
      "  FutureWarning)\n"
     ]
    },
    {
     "name": "stdout",
     "output_type": "stream",
     "text": [
      "Classifier trained for option MILLWD_Hour_12\n"
     ]
    },
    {
     "name": "stderr",
     "output_type": "stream",
     "text": [
      "C:\\Users\\Katherine\\Anaconda3\\lib\\site-packages\\sklearn\\linear_model\\logistic.py:433: FutureWarning: Default solver will be changed to 'lbfgs' in 0.22. Specify a solver to silence this warning.\n",
      "  FutureWarning)\n"
     ]
    },
    {
     "name": "stdout",
     "output_type": "stream",
     "text": [
      "Classifier trained for option MILLWD_Hour_13\n"
     ]
    },
    {
     "name": "stderr",
     "output_type": "stream",
     "text": [
      "C:\\Users\\Katherine\\Anaconda3\\lib\\site-packages\\sklearn\\linear_model\\logistic.py:433: FutureWarning: Default solver will be changed to 'lbfgs' in 0.22. Specify a solver to silence this warning.\n",
      "  FutureWarning)\n"
     ]
    },
    {
     "name": "stdout",
     "output_type": "stream",
     "text": [
      "Classifier trained for option MILLWD_Hour_14\n"
     ]
    },
    {
     "name": "stderr",
     "output_type": "stream",
     "text": [
      "C:\\Users\\Katherine\\Anaconda3\\lib\\site-packages\\sklearn\\linear_model\\logistic.py:433: FutureWarning: Default solver will be changed to 'lbfgs' in 0.22. Specify a solver to silence this warning.\n",
      "  FutureWarning)\n"
     ]
    },
    {
     "name": "stdout",
     "output_type": "stream",
     "text": [
      "Classifier trained for option MILLWD_Hour_15\n"
     ]
    },
    {
     "name": "stderr",
     "output_type": "stream",
     "text": [
      "C:\\Users\\Katherine\\Anaconda3\\lib\\site-packages\\sklearn\\linear_model\\logistic.py:433: FutureWarning: Default solver will be changed to 'lbfgs' in 0.22. Specify a solver to silence this warning.\n",
      "  FutureWarning)\n"
     ]
    },
    {
     "name": "stdout",
     "output_type": "stream",
     "text": [
      "Classifier trained for option MILLWD_Hour_16\n"
     ]
    },
    {
     "name": "stderr",
     "output_type": "stream",
     "text": [
      "C:\\Users\\Katherine\\Anaconda3\\lib\\site-packages\\sklearn\\linear_model\\logistic.py:433: FutureWarning: Default solver will be changed to 'lbfgs' in 0.22. Specify a solver to silence this warning.\n",
      "  FutureWarning)\n"
     ]
    },
    {
     "name": "stdout",
     "output_type": "stream",
     "text": [
      "Classifier trained for option MILLWD_Hour_17\n"
     ]
    },
    {
     "name": "stderr",
     "output_type": "stream",
     "text": [
      "C:\\Users\\Katherine\\Anaconda3\\lib\\site-packages\\sklearn\\linear_model\\logistic.py:433: FutureWarning: Default solver will be changed to 'lbfgs' in 0.22. Specify a solver to silence this warning.\n",
      "  FutureWarning)\n"
     ]
    },
    {
     "name": "stdout",
     "output_type": "stream",
     "text": [
      "Classifier trained for option MILLWD_Hour_18\n"
     ]
    },
    {
     "name": "stderr",
     "output_type": "stream",
     "text": [
      "C:\\Users\\Katherine\\Anaconda3\\lib\\site-packages\\sklearn\\linear_model\\logistic.py:433: FutureWarning: Default solver will be changed to 'lbfgs' in 0.22. Specify a solver to silence this warning.\n",
      "  FutureWarning)\n"
     ]
    },
    {
     "name": "stdout",
     "output_type": "stream",
     "text": [
      "Classifier trained for option MILLWD_Hour_19\n"
     ]
    },
    {
     "name": "stderr",
     "output_type": "stream",
     "text": [
      "C:\\Users\\Katherine\\Anaconda3\\lib\\site-packages\\sklearn\\linear_model\\logistic.py:433: FutureWarning: Default solver will be changed to 'lbfgs' in 0.22. Specify a solver to silence this warning.\n",
      "  FutureWarning)\n"
     ]
    },
    {
     "name": "stdout",
     "output_type": "stream",
     "text": [
      "Classifier trained for option MILLWD_Hour_20\n"
     ]
    },
    {
     "name": "stderr",
     "output_type": "stream",
     "text": [
      "C:\\Users\\Katherine\\Anaconda3\\lib\\site-packages\\sklearn\\linear_model\\logistic.py:433: FutureWarning: Default solver will be changed to 'lbfgs' in 0.22. Specify a solver to silence this warning.\n",
      "  FutureWarning)\n"
     ]
    },
    {
     "name": "stdout",
     "output_type": "stream",
     "text": [
      "Classifier trained for option MILLWD_Hour_21\n"
     ]
    },
    {
     "name": "stderr",
     "output_type": "stream",
     "text": [
      "C:\\Users\\Katherine\\Anaconda3\\lib\\site-packages\\sklearn\\linear_model\\logistic.py:433: FutureWarning: Default solver will be changed to 'lbfgs' in 0.22. Specify a solver to silence this warning.\n",
      "  FutureWarning)\n"
     ]
    },
    {
     "name": "stdout",
     "output_type": "stream",
     "text": [
      "Classifier trained for option MILLWD_Hour_22\n"
     ]
    },
    {
     "name": "stderr",
     "output_type": "stream",
     "text": [
      "C:\\Users\\Katherine\\Anaconda3\\lib\\site-packages\\sklearn\\linear_model\\logistic.py:433: FutureWarning: Default solver will be changed to 'lbfgs' in 0.22. Specify a solver to silence this warning.\n",
      "  FutureWarning)\n"
     ]
    },
    {
     "name": "stdout",
     "output_type": "stream",
     "text": [
      "Classifier trained for option MILLWD_Hour_23\n"
     ]
    },
    {
     "name": "stderr",
     "output_type": "stream",
     "text": [
      "C:\\Users\\Katherine\\Anaconda3\\lib\\site-packages\\sklearn\\linear_model\\logistic.py:433: FutureWarning: Default solver will be changed to 'lbfgs' in 0.22. Specify a solver to silence this warning.\n",
      "  FutureWarning)\n"
     ]
    },
    {
     "name": "stdout",
     "output_type": "stream",
     "text": [
      "Classifier trained for option N.Y.C._Hour_0\n"
     ]
    },
    {
     "name": "stderr",
     "output_type": "stream",
     "text": [
      "C:\\Users\\Katherine\\Anaconda3\\lib\\site-packages\\sklearn\\linear_model\\logistic.py:433: FutureWarning: Default solver will be changed to 'lbfgs' in 0.22. Specify a solver to silence this warning.\n",
      "  FutureWarning)\n"
     ]
    },
    {
     "name": "stdout",
     "output_type": "stream",
     "text": [
      "Classifier trained for option N.Y.C._Hour_1\n"
     ]
    },
    {
     "name": "stderr",
     "output_type": "stream",
     "text": [
      "C:\\Users\\Katherine\\Anaconda3\\lib\\site-packages\\sklearn\\linear_model\\logistic.py:433: FutureWarning: Default solver will be changed to 'lbfgs' in 0.22. Specify a solver to silence this warning.\n",
      "  FutureWarning)\n"
     ]
    },
    {
     "name": "stdout",
     "output_type": "stream",
     "text": [
      "Classifier trained for option N.Y.C._Hour_2\n"
     ]
    },
    {
     "name": "stderr",
     "output_type": "stream",
     "text": [
      "C:\\Users\\Katherine\\Anaconda3\\lib\\site-packages\\sklearn\\linear_model\\logistic.py:433: FutureWarning: Default solver will be changed to 'lbfgs' in 0.22. Specify a solver to silence this warning.\n",
      "  FutureWarning)\n"
     ]
    },
    {
     "name": "stdout",
     "output_type": "stream",
     "text": [
      "Classifier trained for option N.Y.C._Hour_3\n"
     ]
    },
    {
     "name": "stderr",
     "output_type": "stream",
     "text": [
      "C:\\Users\\Katherine\\Anaconda3\\lib\\site-packages\\sklearn\\linear_model\\logistic.py:433: FutureWarning: Default solver will be changed to 'lbfgs' in 0.22. Specify a solver to silence this warning.\n",
      "  FutureWarning)\n"
     ]
    },
    {
     "name": "stdout",
     "output_type": "stream",
     "text": [
      "Classifier trained for option N.Y.C._Hour_4\n"
     ]
    },
    {
     "name": "stderr",
     "output_type": "stream",
     "text": [
      "C:\\Users\\Katherine\\Anaconda3\\lib\\site-packages\\sklearn\\linear_model\\logistic.py:433: FutureWarning: Default solver will be changed to 'lbfgs' in 0.22. Specify a solver to silence this warning.\n",
      "  FutureWarning)\n"
     ]
    },
    {
     "name": "stdout",
     "output_type": "stream",
     "text": [
      "Classifier trained for option N.Y.C._Hour_5\n"
     ]
    },
    {
     "name": "stderr",
     "output_type": "stream",
     "text": [
      "C:\\Users\\Katherine\\Anaconda3\\lib\\site-packages\\sklearn\\linear_model\\logistic.py:433: FutureWarning: Default solver will be changed to 'lbfgs' in 0.22. Specify a solver to silence this warning.\n",
      "  FutureWarning)\n"
     ]
    },
    {
     "name": "stdout",
     "output_type": "stream",
     "text": [
      "Classifier trained for option N.Y.C._Hour_6\n"
     ]
    },
    {
     "name": "stderr",
     "output_type": "stream",
     "text": [
      "C:\\Users\\Katherine\\Anaconda3\\lib\\site-packages\\sklearn\\linear_model\\logistic.py:433: FutureWarning: Default solver will be changed to 'lbfgs' in 0.22. Specify a solver to silence this warning.\n",
      "  FutureWarning)\n"
     ]
    },
    {
     "name": "stdout",
     "output_type": "stream",
     "text": [
      "Classifier trained for option N.Y.C._Hour_7\n"
     ]
    },
    {
     "name": "stderr",
     "output_type": "stream",
     "text": [
      "C:\\Users\\Katherine\\Anaconda3\\lib\\site-packages\\sklearn\\linear_model\\logistic.py:433: FutureWarning: Default solver will be changed to 'lbfgs' in 0.22. Specify a solver to silence this warning.\n",
      "  FutureWarning)\n"
     ]
    },
    {
     "name": "stdout",
     "output_type": "stream",
     "text": [
      "Classifier trained for option N.Y.C._Hour_8\n"
     ]
    },
    {
     "name": "stderr",
     "output_type": "stream",
     "text": [
      "C:\\Users\\Katherine\\Anaconda3\\lib\\site-packages\\sklearn\\linear_model\\logistic.py:433: FutureWarning: Default solver will be changed to 'lbfgs' in 0.22. Specify a solver to silence this warning.\n",
      "  FutureWarning)\n"
     ]
    },
    {
     "name": "stdout",
     "output_type": "stream",
     "text": [
      "Classifier trained for option N.Y.C._Hour_9\n"
     ]
    },
    {
     "name": "stderr",
     "output_type": "stream",
     "text": [
      "C:\\Users\\Katherine\\Anaconda3\\lib\\site-packages\\sklearn\\linear_model\\logistic.py:433: FutureWarning: Default solver will be changed to 'lbfgs' in 0.22. Specify a solver to silence this warning.\n",
      "  FutureWarning)\n"
     ]
    },
    {
     "name": "stdout",
     "output_type": "stream",
     "text": [
      "Classifier trained for option N.Y.C._Hour_10\n"
     ]
    },
    {
     "name": "stderr",
     "output_type": "stream",
     "text": [
      "C:\\Users\\Katherine\\Anaconda3\\lib\\site-packages\\sklearn\\linear_model\\logistic.py:433: FutureWarning: Default solver will be changed to 'lbfgs' in 0.22. Specify a solver to silence this warning.\n",
      "  FutureWarning)\n"
     ]
    },
    {
     "name": "stdout",
     "output_type": "stream",
     "text": [
      "Classifier trained for option N.Y.C._Hour_11\n"
     ]
    },
    {
     "name": "stderr",
     "output_type": "stream",
     "text": [
      "C:\\Users\\Katherine\\Anaconda3\\lib\\site-packages\\sklearn\\linear_model\\logistic.py:433: FutureWarning: Default solver will be changed to 'lbfgs' in 0.22. Specify a solver to silence this warning.\n",
      "  FutureWarning)\n"
     ]
    },
    {
     "name": "stdout",
     "output_type": "stream",
     "text": [
      "Classifier trained for option N.Y.C._Hour_12\n"
     ]
    },
    {
     "name": "stderr",
     "output_type": "stream",
     "text": [
      "C:\\Users\\Katherine\\Anaconda3\\lib\\site-packages\\sklearn\\linear_model\\logistic.py:433: FutureWarning: Default solver will be changed to 'lbfgs' in 0.22. Specify a solver to silence this warning.\n",
      "  FutureWarning)\n"
     ]
    },
    {
     "name": "stdout",
     "output_type": "stream",
     "text": [
      "Classifier trained for option N.Y.C._Hour_13\n"
     ]
    },
    {
     "name": "stderr",
     "output_type": "stream",
     "text": [
      "C:\\Users\\Katherine\\Anaconda3\\lib\\site-packages\\sklearn\\linear_model\\logistic.py:433: FutureWarning: Default solver will be changed to 'lbfgs' in 0.22. Specify a solver to silence this warning.\n",
      "  FutureWarning)\n"
     ]
    },
    {
     "name": "stdout",
     "output_type": "stream",
     "text": [
      "Classifier trained for option N.Y.C._Hour_14\n"
     ]
    },
    {
     "name": "stderr",
     "output_type": "stream",
     "text": [
      "C:\\Users\\Katherine\\Anaconda3\\lib\\site-packages\\sklearn\\linear_model\\logistic.py:433: FutureWarning: Default solver will be changed to 'lbfgs' in 0.22. Specify a solver to silence this warning.\n",
      "  FutureWarning)\n"
     ]
    },
    {
     "name": "stdout",
     "output_type": "stream",
     "text": [
      "Classifier trained for option N.Y.C._Hour_15\n"
     ]
    },
    {
     "name": "stderr",
     "output_type": "stream",
     "text": [
      "C:\\Users\\Katherine\\Anaconda3\\lib\\site-packages\\sklearn\\linear_model\\logistic.py:433: FutureWarning: Default solver will be changed to 'lbfgs' in 0.22. Specify a solver to silence this warning.\n",
      "  FutureWarning)\n"
     ]
    },
    {
     "name": "stdout",
     "output_type": "stream",
     "text": [
      "Classifier trained for option N.Y.C._Hour_16\n"
     ]
    },
    {
     "name": "stderr",
     "output_type": "stream",
     "text": [
      "C:\\Users\\Katherine\\Anaconda3\\lib\\site-packages\\sklearn\\linear_model\\logistic.py:433: FutureWarning: Default solver will be changed to 'lbfgs' in 0.22. Specify a solver to silence this warning.\n",
      "  FutureWarning)\n"
     ]
    },
    {
     "name": "stdout",
     "output_type": "stream",
     "text": [
      "Classifier trained for option N.Y.C._Hour_17\n"
     ]
    },
    {
     "name": "stderr",
     "output_type": "stream",
     "text": [
      "C:\\Users\\Katherine\\Anaconda3\\lib\\site-packages\\sklearn\\linear_model\\logistic.py:433: FutureWarning: Default solver will be changed to 'lbfgs' in 0.22. Specify a solver to silence this warning.\n",
      "  FutureWarning)\n"
     ]
    },
    {
     "name": "stdout",
     "output_type": "stream",
     "text": [
      "Classifier trained for option N.Y.C._Hour_18\n"
     ]
    },
    {
     "name": "stderr",
     "output_type": "stream",
     "text": [
      "C:\\Users\\Katherine\\Anaconda3\\lib\\site-packages\\sklearn\\linear_model\\logistic.py:433: FutureWarning: Default solver will be changed to 'lbfgs' in 0.22. Specify a solver to silence this warning.\n",
      "  FutureWarning)\n"
     ]
    },
    {
     "name": "stdout",
     "output_type": "stream",
     "text": [
      "Classifier trained for option N.Y.C._Hour_19\n"
     ]
    },
    {
     "name": "stderr",
     "output_type": "stream",
     "text": [
      "C:\\Users\\Katherine\\Anaconda3\\lib\\site-packages\\sklearn\\linear_model\\logistic.py:433: FutureWarning: Default solver will be changed to 'lbfgs' in 0.22. Specify a solver to silence this warning.\n",
      "  FutureWarning)\n"
     ]
    },
    {
     "name": "stdout",
     "output_type": "stream",
     "text": [
      "Classifier trained for option N.Y.C._Hour_20\n"
     ]
    },
    {
     "name": "stderr",
     "output_type": "stream",
     "text": [
      "C:\\Users\\Katherine\\Anaconda3\\lib\\site-packages\\sklearn\\linear_model\\logistic.py:433: FutureWarning: Default solver will be changed to 'lbfgs' in 0.22. Specify a solver to silence this warning.\n",
      "  FutureWarning)\n"
     ]
    },
    {
     "name": "stdout",
     "output_type": "stream",
     "text": [
      "Classifier trained for option N.Y.C._Hour_21\n"
     ]
    },
    {
     "name": "stderr",
     "output_type": "stream",
     "text": [
      "C:\\Users\\Katherine\\Anaconda3\\lib\\site-packages\\sklearn\\linear_model\\logistic.py:433: FutureWarning: Default solver will be changed to 'lbfgs' in 0.22. Specify a solver to silence this warning.\n",
      "  FutureWarning)\n"
     ]
    },
    {
     "name": "stdout",
     "output_type": "stream",
     "text": [
      "Classifier trained for option N.Y.C._Hour_22\n"
     ]
    },
    {
     "name": "stderr",
     "output_type": "stream",
     "text": [
      "C:\\Users\\Katherine\\Anaconda3\\lib\\site-packages\\sklearn\\linear_model\\logistic.py:433: FutureWarning: Default solver will be changed to 'lbfgs' in 0.22. Specify a solver to silence this warning.\n",
      "  FutureWarning)\n"
     ]
    },
    {
     "name": "stdout",
     "output_type": "stream",
     "text": [
      "Classifier trained for option N.Y.C._Hour_23\n"
     ]
    },
    {
     "name": "stderr",
     "output_type": "stream",
     "text": [
      "C:\\Users\\Katherine\\Anaconda3\\lib\\site-packages\\sklearn\\linear_model\\logistic.py:433: FutureWarning: Default solver will be changed to 'lbfgs' in 0.22. Specify a solver to silence this warning.\n",
      "  FutureWarning)\n"
     ]
    },
    {
     "name": "stdout",
     "output_type": "stream",
     "text": [
      "Classifier trained for option NORTH_Hour_0\n"
     ]
    },
    {
     "name": "stderr",
     "output_type": "stream",
     "text": [
      "C:\\Users\\Katherine\\Anaconda3\\lib\\site-packages\\sklearn\\linear_model\\logistic.py:433: FutureWarning: Default solver will be changed to 'lbfgs' in 0.22. Specify a solver to silence this warning.\n",
      "  FutureWarning)\n"
     ]
    },
    {
     "name": "stdout",
     "output_type": "stream",
     "text": [
      "Classifier trained for option NORTH_Hour_1\n"
     ]
    },
    {
     "name": "stderr",
     "output_type": "stream",
     "text": [
      "C:\\Users\\Katherine\\Anaconda3\\lib\\site-packages\\sklearn\\linear_model\\logistic.py:433: FutureWarning: Default solver will be changed to 'lbfgs' in 0.22. Specify a solver to silence this warning.\n",
      "  FutureWarning)\n"
     ]
    },
    {
     "name": "stdout",
     "output_type": "stream",
     "text": [
      "Classifier trained for option NORTH_Hour_2\n"
     ]
    },
    {
     "name": "stderr",
     "output_type": "stream",
     "text": [
      "C:\\Users\\Katherine\\Anaconda3\\lib\\site-packages\\sklearn\\linear_model\\logistic.py:433: FutureWarning: Default solver will be changed to 'lbfgs' in 0.22. Specify a solver to silence this warning.\n",
      "  FutureWarning)\n"
     ]
    },
    {
     "name": "stdout",
     "output_type": "stream",
     "text": [
      "Classifier trained for option NORTH_Hour_3\n"
     ]
    },
    {
     "name": "stderr",
     "output_type": "stream",
     "text": [
      "C:\\Users\\Katherine\\Anaconda3\\lib\\site-packages\\sklearn\\linear_model\\logistic.py:433: FutureWarning: Default solver will be changed to 'lbfgs' in 0.22. Specify a solver to silence this warning.\n",
      "  FutureWarning)\n"
     ]
    },
    {
     "name": "stdout",
     "output_type": "stream",
     "text": [
      "Classifier trained for option NORTH_Hour_4\n"
     ]
    },
    {
     "name": "stderr",
     "output_type": "stream",
     "text": [
      "C:\\Users\\Katherine\\Anaconda3\\lib\\site-packages\\sklearn\\linear_model\\logistic.py:433: FutureWarning: Default solver will be changed to 'lbfgs' in 0.22. Specify a solver to silence this warning.\n",
      "  FutureWarning)\n"
     ]
    },
    {
     "name": "stdout",
     "output_type": "stream",
     "text": [
      "Classifier trained for option NORTH_Hour_5\n"
     ]
    },
    {
     "name": "stderr",
     "output_type": "stream",
     "text": [
      "C:\\Users\\Katherine\\Anaconda3\\lib\\site-packages\\sklearn\\linear_model\\logistic.py:433: FutureWarning: Default solver will be changed to 'lbfgs' in 0.22. Specify a solver to silence this warning.\n",
      "  FutureWarning)\n"
     ]
    },
    {
     "name": "stdout",
     "output_type": "stream",
     "text": [
      "Classifier trained for option NORTH_Hour_6\n"
     ]
    },
    {
     "name": "stderr",
     "output_type": "stream",
     "text": [
      "C:\\Users\\Katherine\\Anaconda3\\lib\\site-packages\\sklearn\\linear_model\\logistic.py:433: FutureWarning: Default solver will be changed to 'lbfgs' in 0.22. Specify a solver to silence this warning.\n",
      "  FutureWarning)\n"
     ]
    },
    {
     "name": "stdout",
     "output_type": "stream",
     "text": [
      "Classifier trained for option NORTH_Hour_7\n"
     ]
    },
    {
     "name": "stderr",
     "output_type": "stream",
     "text": [
      "C:\\Users\\Katherine\\Anaconda3\\lib\\site-packages\\sklearn\\linear_model\\logistic.py:433: FutureWarning: Default solver will be changed to 'lbfgs' in 0.22. Specify a solver to silence this warning.\n",
      "  FutureWarning)\n"
     ]
    },
    {
     "name": "stdout",
     "output_type": "stream",
     "text": [
      "Classifier trained for option NORTH_Hour_8\n"
     ]
    },
    {
     "name": "stderr",
     "output_type": "stream",
     "text": [
      "C:\\Users\\Katherine\\Anaconda3\\lib\\site-packages\\sklearn\\linear_model\\logistic.py:433: FutureWarning: Default solver will be changed to 'lbfgs' in 0.22. Specify a solver to silence this warning.\n",
      "  FutureWarning)\n"
     ]
    },
    {
     "name": "stdout",
     "output_type": "stream",
     "text": [
      "Classifier trained for option NORTH_Hour_9\n"
     ]
    },
    {
     "name": "stderr",
     "output_type": "stream",
     "text": [
      "C:\\Users\\Katherine\\Anaconda3\\lib\\site-packages\\sklearn\\linear_model\\logistic.py:433: FutureWarning: Default solver will be changed to 'lbfgs' in 0.22. Specify a solver to silence this warning.\n",
      "  FutureWarning)\n"
     ]
    },
    {
     "name": "stdout",
     "output_type": "stream",
     "text": [
      "Classifier trained for option NORTH_Hour_10\n"
     ]
    },
    {
     "name": "stderr",
     "output_type": "stream",
     "text": [
      "C:\\Users\\Katherine\\Anaconda3\\lib\\site-packages\\sklearn\\linear_model\\logistic.py:433: FutureWarning: Default solver will be changed to 'lbfgs' in 0.22. Specify a solver to silence this warning.\n",
      "  FutureWarning)\n"
     ]
    },
    {
     "name": "stdout",
     "output_type": "stream",
     "text": [
      "Classifier trained for option NORTH_Hour_11\n"
     ]
    },
    {
     "name": "stderr",
     "output_type": "stream",
     "text": [
      "C:\\Users\\Katherine\\Anaconda3\\lib\\site-packages\\sklearn\\linear_model\\logistic.py:433: FutureWarning: Default solver will be changed to 'lbfgs' in 0.22. Specify a solver to silence this warning.\n",
      "  FutureWarning)\n"
     ]
    },
    {
     "name": "stdout",
     "output_type": "stream",
     "text": [
      "Classifier trained for option NORTH_Hour_12\n"
     ]
    },
    {
     "name": "stderr",
     "output_type": "stream",
     "text": [
      "C:\\Users\\Katherine\\Anaconda3\\lib\\site-packages\\sklearn\\linear_model\\logistic.py:433: FutureWarning: Default solver will be changed to 'lbfgs' in 0.22. Specify a solver to silence this warning.\n",
      "  FutureWarning)\n"
     ]
    },
    {
     "name": "stdout",
     "output_type": "stream",
     "text": [
      "Classifier trained for option NORTH_Hour_13\n"
     ]
    },
    {
     "name": "stderr",
     "output_type": "stream",
     "text": [
      "C:\\Users\\Katherine\\Anaconda3\\lib\\site-packages\\sklearn\\linear_model\\logistic.py:433: FutureWarning: Default solver will be changed to 'lbfgs' in 0.22. Specify a solver to silence this warning.\n",
      "  FutureWarning)\n"
     ]
    },
    {
     "name": "stdout",
     "output_type": "stream",
     "text": [
      "Classifier trained for option NORTH_Hour_14\n"
     ]
    },
    {
     "name": "stderr",
     "output_type": "stream",
     "text": [
      "C:\\Users\\Katherine\\Anaconda3\\lib\\site-packages\\sklearn\\linear_model\\logistic.py:433: FutureWarning: Default solver will be changed to 'lbfgs' in 0.22. Specify a solver to silence this warning.\n",
      "  FutureWarning)\n"
     ]
    },
    {
     "name": "stdout",
     "output_type": "stream",
     "text": [
      "Classifier trained for option NORTH_Hour_15\n"
     ]
    },
    {
     "name": "stderr",
     "output_type": "stream",
     "text": [
      "C:\\Users\\Katherine\\Anaconda3\\lib\\site-packages\\sklearn\\linear_model\\logistic.py:433: FutureWarning: Default solver will be changed to 'lbfgs' in 0.22. Specify a solver to silence this warning.\n",
      "  FutureWarning)\n"
     ]
    },
    {
     "name": "stdout",
     "output_type": "stream",
     "text": [
      "Classifier trained for option NORTH_Hour_16\n"
     ]
    },
    {
     "name": "stderr",
     "output_type": "stream",
     "text": [
      "C:\\Users\\Katherine\\Anaconda3\\lib\\site-packages\\sklearn\\linear_model\\logistic.py:433: FutureWarning: Default solver will be changed to 'lbfgs' in 0.22. Specify a solver to silence this warning.\n",
      "  FutureWarning)\n"
     ]
    },
    {
     "name": "stdout",
     "output_type": "stream",
     "text": [
      "Classifier trained for option NORTH_Hour_17\n"
     ]
    },
    {
     "name": "stderr",
     "output_type": "stream",
     "text": [
      "C:\\Users\\Katherine\\Anaconda3\\lib\\site-packages\\sklearn\\linear_model\\logistic.py:433: FutureWarning: Default solver will be changed to 'lbfgs' in 0.22. Specify a solver to silence this warning.\n",
      "  FutureWarning)\n"
     ]
    },
    {
     "name": "stdout",
     "output_type": "stream",
     "text": [
      "Classifier trained for option NORTH_Hour_18\n"
     ]
    },
    {
     "name": "stderr",
     "output_type": "stream",
     "text": [
      "C:\\Users\\Katherine\\Anaconda3\\lib\\site-packages\\sklearn\\linear_model\\logistic.py:433: FutureWarning: Default solver will be changed to 'lbfgs' in 0.22. Specify a solver to silence this warning.\n",
      "  FutureWarning)\n"
     ]
    },
    {
     "name": "stdout",
     "output_type": "stream",
     "text": [
      "Classifier trained for option NORTH_Hour_19\n"
     ]
    },
    {
     "name": "stderr",
     "output_type": "stream",
     "text": [
      "C:\\Users\\Katherine\\Anaconda3\\lib\\site-packages\\sklearn\\linear_model\\logistic.py:433: FutureWarning: Default solver will be changed to 'lbfgs' in 0.22. Specify a solver to silence this warning.\n",
      "  FutureWarning)\n"
     ]
    },
    {
     "name": "stdout",
     "output_type": "stream",
     "text": [
      "Classifier trained for option NORTH_Hour_20\n"
     ]
    },
    {
     "name": "stderr",
     "output_type": "stream",
     "text": [
      "C:\\Users\\Katherine\\Anaconda3\\lib\\site-packages\\sklearn\\linear_model\\logistic.py:433: FutureWarning: Default solver will be changed to 'lbfgs' in 0.22. Specify a solver to silence this warning.\n",
      "  FutureWarning)\n"
     ]
    },
    {
     "name": "stdout",
     "output_type": "stream",
     "text": [
      "Classifier trained for option NORTH_Hour_21\n"
     ]
    },
    {
     "name": "stderr",
     "output_type": "stream",
     "text": [
      "C:\\Users\\Katherine\\Anaconda3\\lib\\site-packages\\sklearn\\linear_model\\logistic.py:433: FutureWarning: Default solver will be changed to 'lbfgs' in 0.22. Specify a solver to silence this warning.\n",
      "  FutureWarning)\n"
     ]
    },
    {
     "name": "stdout",
     "output_type": "stream",
     "text": [
      "Classifier trained for option NORTH_Hour_22\n"
     ]
    },
    {
     "name": "stderr",
     "output_type": "stream",
     "text": [
      "C:\\Users\\Katherine\\Anaconda3\\lib\\site-packages\\sklearn\\linear_model\\logistic.py:433: FutureWarning: Default solver will be changed to 'lbfgs' in 0.22. Specify a solver to silence this warning.\n",
      "  FutureWarning)\n"
     ]
    },
    {
     "name": "stdout",
     "output_type": "stream",
     "text": [
      "Classifier trained for option NORTH_Hour_23\n"
     ]
    },
    {
     "name": "stderr",
     "output_type": "stream",
     "text": [
      "C:\\Users\\Katherine\\Anaconda3\\lib\\site-packages\\sklearn\\linear_model\\logistic.py:433: FutureWarning: Default solver will be changed to 'lbfgs' in 0.22. Specify a solver to silence this warning.\n",
      "  FutureWarning)\n"
     ]
    },
    {
     "name": "stdout",
     "output_type": "stream",
     "text": [
      "Classifier trained for option WEST_Hour_0\n"
     ]
    },
    {
     "name": "stderr",
     "output_type": "stream",
     "text": [
      "C:\\Users\\Katherine\\Anaconda3\\lib\\site-packages\\sklearn\\linear_model\\logistic.py:433: FutureWarning: Default solver will be changed to 'lbfgs' in 0.22. Specify a solver to silence this warning.\n",
      "  FutureWarning)\n"
     ]
    },
    {
     "name": "stdout",
     "output_type": "stream",
     "text": [
      "Classifier trained for option WEST_Hour_1\n"
     ]
    },
    {
     "name": "stderr",
     "output_type": "stream",
     "text": [
      "C:\\Users\\Katherine\\Anaconda3\\lib\\site-packages\\sklearn\\linear_model\\logistic.py:433: FutureWarning: Default solver will be changed to 'lbfgs' in 0.22. Specify a solver to silence this warning.\n",
      "  FutureWarning)\n"
     ]
    },
    {
     "name": "stdout",
     "output_type": "stream",
     "text": [
      "Classifier trained for option WEST_Hour_2\n"
     ]
    },
    {
     "name": "stderr",
     "output_type": "stream",
     "text": [
      "C:\\Users\\Katherine\\Anaconda3\\lib\\site-packages\\sklearn\\linear_model\\logistic.py:433: FutureWarning: Default solver will be changed to 'lbfgs' in 0.22. Specify a solver to silence this warning.\n",
      "  FutureWarning)\n"
     ]
    },
    {
     "name": "stdout",
     "output_type": "stream",
     "text": [
      "Classifier trained for option WEST_Hour_3\n"
     ]
    },
    {
     "name": "stderr",
     "output_type": "stream",
     "text": [
      "C:\\Users\\Katherine\\Anaconda3\\lib\\site-packages\\sklearn\\linear_model\\logistic.py:433: FutureWarning: Default solver will be changed to 'lbfgs' in 0.22. Specify a solver to silence this warning.\n",
      "  FutureWarning)\n"
     ]
    },
    {
     "name": "stdout",
     "output_type": "stream",
     "text": [
      "Classifier trained for option WEST_Hour_4\n"
     ]
    },
    {
     "name": "stderr",
     "output_type": "stream",
     "text": [
      "C:\\Users\\Katherine\\Anaconda3\\lib\\site-packages\\sklearn\\linear_model\\logistic.py:433: FutureWarning: Default solver will be changed to 'lbfgs' in 0.22. Specify a solver to silence this warning.\n",
      "  FutureWarning)\n"
     ]
    },
    {
     "name": "stdout",
     "output_type": "stream",
     "text": [
      "Classifier trained for option WEST_Hour_5\n"
     ]
    },
    {
     "name": "stderr",
     "output_type": "stream",
     "text": [
      "C:\\Users\\Katherine\\Anaconda3\\lib\\site-packages\\sklearn\\linear_model\\logistic.py:433: FutureWarning: Default solver will be changed to 'lbfgs' in 0.22. Specify a solver to silence this warning.\n",
      "  FutureWarning)\n"
     ]
    },
    {
     "name": "stdout",
     "output_type": "stream",
     "text": [
      "Classifier trained for option WEST_Hour_6\n"
     ]
    },
    {
     "name": "stderr",
     "output_type": "stream",
     "text": [
      "C:\\Users\\Katherine\\Anaconda3\\lib\\site-packages\\sklearn\\linear_model\\logistic.py:433: FutureWarning: Default solver will be changed to 'lbfgs' in 0.22. Specify a solver to silence this warning.\n",
      "  FutureWarning)\n"
     ]
    },
    {
     "name": "stdout",
     "output_type": "stream",
     "text": [
      "Classifier trained for option WEST_Hour_7\n"
     ]
    },
    {
     "name": "stderr",
     "output_type": "stream",
     "text": [
      "C:\\Users\\Katherine\\Anaconda3\\lib\\site-packages\\sklearn\\linear_model\\logistic.py:433: FutureWarning: Default solver will be changed to 'lbfgs' in 0.22. Specify a solver to silence this warning.\n",
      "  FutureWarning)\n"
     ]
    },
    {
     "name": "stdout",
     "output_type": "stream",
     "text": [
      "Classifier trained for option WEST_Hour_8\n"
     ]
    },
    {
     "name": "stderr",
     "output_type": "stream",
     "text": [
      "C:\\Users\\Katherine\\Anaconda3\\lib\\site-packages\\sklearn\\linear_model\\logistic.py:433: FutureWarning: Default solver will be changed to 'lbfgs' in 0.22. Specify a solver to silence this warning.\n",
      "  FutureWarning)\n"
     ]
    },
    {
     "name": "stdout",
     "output_type": "stream",
     "text": [
      "Classifier trained for option WEST_Hour_9\n"
     ]
    },
    {
     "name": "stderr",
     "output_type": "stream",
     "text": [
      "C:\\Users\\Katherine\\Anaconda3\\lib\\site-packages\\sklearn\\linear_model\\logistic.py:433: FutureWarning: Default solver will be changed to 'lbfgs' in 0.22. Specify a solver to silence this warning.\n",
      "  FutureWarning)\n"
     ]
    },
    {
     "name": "stdout",
     "output_type": "stream",
     "text": [
      "Classifier trained for option WEST_Hour_10\n"
     ]
    },
    {
     "name": "stderr",
     "output_type": "stream",
     "text": [
      "C:\\Users\\Katherine\\Anaconda3\\lib\\site-packages\\sklearn\\linear_model\\logistic.py:433: FutureWarning: Default solver will be changed to 'lbfgs' in 0.22. Specify a solver to silence this warning.\n",
      "  FutureWarning)\n"
     ]
    },
    {
     "name": "stdout",
     "output_type": "stream",
     "text": [
      "Classifier trained for option WEST_Hour_11\n"
     ]
    },
    {
     "name": "stderr",
     "output_type": "stream",
     "text": [
      "C:\\Users\\Katherine\\Anaconda3\\lib\\site-packages\\sklearn\\linear_model\\logistic.py:433: FutureWarning: Default solver will be changed to 'lbfgs' in 0.22. Specify a solver to silence this warning.\n",
      "  FutureWarning)\n"
     ]
    },
    {
     "name": "stdout",
     "output_type": "stream",
     "text": [
      "Classifier trained for option WEST_Hour_12\n"
     ]
    },
    {
     "name": "stderr",
     "output_type": "stream",
     "text": [
      "C:\\Users\\Katherine\\Anaconda3\\lib\\site-packages\\sklearn\\linear_model\\logistic.py:433: FutureWarning: Default solver will be changed to 'lbfgs' in 0.22. Specify a solver to silence this warning.\n",
      "  FutureWarning)\n"
     ]
    },
    {
     "name": "stdout",
     "output_type": "stream",
     "text": [
      "Classifier trained for option WEST_Hour_13\n"
     ]
    },
    {
     "name": "stderr",
     "output_type": "stream",
     "text": [
      "C:\\Users\\Katherine\\Anaconda3\\lib\\site-packages\\sklearn\\linear_model\\logistic.py:433: FutureWarning: Default solver will be changed to 'lbfgs' in 0.22. Specify a solver to silence this warning.\n",
      "  FutureWarning)\n"
     ]
    },
    {
     "name": "stdout",
     "output_type": "stream",
     "text": [
      "Classifier trained for option WEST_Hour_14\n"
     ]
    },
    {
     "name": "stderr",
     "output_type": "stream",
     "text": [
      "C:\\Users\\Katherine\\Anaconda3\\lib\\site-packages\\sklearn\\linear_model\\logistic.py:433: FutureWarning: Default solver will be changed to 'lbfgs' in 0.22. Specify a solver to silence this warning.\n",
      "  FutureWarning)\n"
     ]
    },
    {
     "name": "stdout",
     "output_type": "stream",
     "text": [
      "Classifier trained for option WEST_Hour_15\n"
     ]
    },
    {
     "name": "stderr",
     "output_type": "stream",
     "text": [
      "C:\\Users\\Katherine\\Anaconda3\\lib\\site-packages\\sklearn\\linear_model\\logistic.py:433: FutureWarning: Default solver will be changed to 'lbfgs' in 0.22. Specify a solver to silence this warning.\n",
      "  FutureWarning)\n"
     ]
    },
    {
     "name": "stdout",
     "output_type": "stream",
     "text": [
      "Classifier trained for option WEST_Hour_16\n"
     ]
    },
    {
     "name": "stderr",
     "output_type": "stream",
     "text": [
      "C:\\Users\\Katherine\\Anaconda3\\lib\\site-packages\\sklearn\\linear_model\\logistic.py:433: FutureWarning: Default solver will be changed to 'lbfgs' in 0.22. Specify a solver to silence this warning.\n",
      "  FutureWarning)\n"
     ]
    },
    {
     "name": "stdout",
     "output_type": "stream",
     "text": [
      "Classifier trained for option WEST_Hour_17\n"
     ]
    },
    {
     "name": "stderr",
     "output_type": "stream",
     "text": [
      "C:\\Users\\Katherine\\Anaconda3\\lib\\site-packages\\sklearn\\linear_model\\logistic.py:433: FutureWarning: Default solver will be changed to 'lbfgs' in 0.22. Specify a solver to silence this warning.\n",
      "  FutureWarning)\n"
     ]
    },
    {
     "name": "stdout",
     "output_type": "stream",
     "text": [
      "Classifier trained for option WEST_Hour_18\n"
     ]
    },
    {
     "name": "stderr",
     "output_type": "stream",
     "text": [
      "C:\\Users\\Katherine\\Anaconda3\\lib\\site-packages\\sklearn\\linear_model\\logistic.py:433: FutureWarning: Default solver will be changed to 'lbfgs' in 0.22. Specify a solver to silence this warning.\n",
      "  FutureWarning)\n"
     ]
    },
    {
     "name": "stdout",
     "output_type": "stream",
     "text": [
      "Classifier trained for option WEST_Hour_19\n"
     ]
    },
    {
     "name": "stderr",
     "output_type": "stream",
     "text": [
      "C:\\Users\\Katherine\\Anaconda3\\lib\\site-packages\\sklearn\\linear_model\\logistic.py:433: FutureWarning: Default solver will be changed to 'lbfgs' in 0.22. Specify a solver to silence this warning.\n",
      "  FutureWarning)\n"
     ]
    },
    {
     "name": "stdout",
     "output_type": "stream",
     "text": [
      "Classifier trained for option WEST_Hour_20\n"
     ]
    },
    {
     "name": "stderr",
     "output_type": "stream",
     "text": [
      "C:\\Users\\Katherine\\Anaconda3\\lib\\site-packages\\sklearn\\linear_model\\logistic.py:433: FutureWarning: Default solver will be changed to 'lbfgs' in 0.22. Specify a solver to silence this warning.\n",
      "  FutureWarning)\n"
     ]
    },
    {
     "name": "stdout",
     "output_type": "stream",
     "text": [
      "Classifier trained for option WEST_Hour_21\n"
     ]
    },
    {
     "name": "stderr",
     "output_type": "stream",
     "text": [
      "C:\\Users\\Katherine\\Anaconda3\\lib\\site-packages\\sklearn\\linear_model\\logistic.py:433: FutureWarning: Default solver will be changed to 'lbfgs' in 0.22. Specify a solver to silence this warning.\n",
      "  FutureWarning)\n"
     ]
    },
    {
     "name": "stdout",
     "output_type": "stream",
     "text": [
      "Classifier trained for option WEST_Hour_22\n"
     ]
    },
    {
     "name": "stderr",
     "output_type": "stream",
     "text": [
      "C:\\Users\\Katherine\\Anaconda3\\lib\\site-packages\\sklearn\\linear_model\\logistic.py:433: FutureWarning: Default solver will be changed to 'lbfgs' in 0.22. Specify a solver to silence this warning.\n",
      "  FutureWarning)\n"
     ]
    },
    {
     "name": "stdout",
     "output_type": "stream",
     "text": [
      "Classifier trained for option WEST_Hour_23\n",
      "\n",
      "Overall training accuracy = 98.88 percent.\n"
     ]
    }
   ],
   "source": [
    "classifiers = []\n",
    "\n",
    "# We have two options here. Use previous training experience, or learn anew.\n",
    "useSavedClassifiers = False\n",
    "\n",
    "if not useSavedClassifiers:\n",
    "\n",
    "    print(\"Starting training module...\\n\")\n",
    "    trainPriceDA, trainPriceDART, trainLoadDA = loadNYISOData(2015)\n",
    "\n",
    "    numberOfDays =  int(len(trainPriceDA.index))\n",
    "    print(\"Loaded hourly prices from 2015 for %d days.\" % numberOfDays)\n",
    "\n",
    "    # We will implement a trading strategy, where we bid a particular quantile of the past\n",
    "    # DA prices for an option. If you do not know what a quantile means, refer to the Wikipedia\n",
    "    # article on it. Essentially, a 95% quantile of the DA prices equals that value for which\n",
    "    # 95% of the DA prices are below it. Store all quantiles starting from 50% in steps of\n",
    "    # 5% in a dictionary. Store them in a pickle file.\n",
    "\n",
    "    quantilesToStore = [0.70, 0.75, 0.80, 0.85, 0.90, 0.95]\n",
    "    offerPrices = trainPriceDA.quantile(q=quantilesToStore).transpose().to_dict()\n",
    "    pickle.dump(offerPrices, open(\"./Training/OfferPrices\", 'wb'))\n",
    "\n",
    "    # Calculate the average price spread for each option over the entire year. This will guide\n",
    "    # us in choosing our portfolio. Store it as a dictionary. Our bid will choose those\n",
    "    # options that our classifier indicates that they will be profitable and historically they\n",
    "    # have higher average price differences, indicating that they have higher rate of return.\n",
    "    # Store them using pickle.\n",
    "\n",
    "    averagePriceSpread = trainPriceDART.mean(axis=0).transpose().to_dict()\n",
    "    pickle.dump(averagePriceSpread, open(\"./Training/AveragePriceSpread\", 'wb'))\n",
    "\n",
    "    # Create the training dataset using the function 'createClassifierIO' on the prices and\n",
    "    # loads, and store them in 'trainX', and 'trainY'.\n",
    "\n",
    "    trainX, trainY, _ = createClassifierIO(trainPriceDA, trainPriceDART, trainLoadDA)\n",
    "\n",
    "    # Define a collection of classifiers, one for each option. You can try different options, such\n",
    "    # as that based on an SVM, logistic regression, multilayer perceptron based, etc. We will\n",
    "    # measure training accuracy to indicate how well the classifier works on the training dataset.\n",
    "    # However, good training accuracy does not always indicate good test performance.\n",
    "    # Avoid over-fitting.\n",
    "\n",
    "\n",
    "    classifiers = [LogisticRegression()\n",
    "                   for _ in range(nOptions)]\n",
    "\n",
    "    trainingAccuracy = 0\n",
    "\n",
    "    for ii in range(nOptions):\n",
    "        classifiers[ii].fit(trainX, trainY[:, ii])\n",
    "        print(\"Classifier trained for option \" + optionNames[ii])\n",
    "        trainingAccuracy += classifiers[ii].score(trainX, trainY[:, ii])\n",
    "\n",
    "        # Store the classifier.\n",
    "        pickle.dump(classifiers[ii], open(\"./Training/Classifier_\" + optionNames[ii], 'wb'))\n",
    "\n",
    "    print(\"\\nOverall training accuracy = %1.2f percent.\" % (100 * trainingAccuracy/nOptions))\n",
    "\n",
    "    del numberOfDays, trainPriceDA, trainLoadDA, trainPriceDART, trainX, trainY\n",
    "else:\n",
    "\n",
    "    # Load the classifiers, the offer prices at various quantiles, and the average price spreads.\n",
    "\n",
    "    print(\"Loading previously trained variables...\\n\")\n",
    "    classifiers = [pickle.load(open(\"./Training/Classifier_\" + optionNames[ii], 'rb'))\n",
    "                   for ii in range(nOptions)]\n",
    "    offerPrices = pickle.load(open(\"./Training/OfferPrices\", 'rb'))\n",
    "    averagePriceSpread = pickle.load(open(\"./Training/AveragePriceSpread\", 'rb'))\n",
    "\n",
    "    print(\"All training variables were loaded successfully...\\n\")"
   ]
  },
  {
   "cell_type": "code",
   "execution_count": 51,
   "metadata": {},
   "outputs": [
    {
     "name": "stdout",
     "output_type": "stream",
     "text": [
      "Starting the testing module...\n",
      "\n",
      "Test Accuracy Stats: Min = 46.56%, Avg = 57.11%, Max = 66.94%\n"
     ]
    }
   ],
   "source": [
    "# First, load the test data from NYISO for the year 2016. Again, utilize our function\n",
    "# named 'loadNYISOData'.\n",
    "\n",
    "print(\"Starting the testing module...\\n\")\n",
    "testPriceDA, testPriceDART, testLoadDA = loadNYISOData(2016)\n",
    "\n",
    "# Create the data for the classifier using the function 'createClassifierIO'.\n",
    "testX, testY, rangeOfDays = createClassifierIO(testPriceDA, testPriceDART, testLoadDA)\n",
    "\n",
    "# The next step is not useful for implementing the trading strategy, but quickly check how accurate\n",
    "# your trained classifiers are for the test data. Training accuracy is not always indicative of\n",
    "# test accuracy.\n",
    "\n",
    "testingAccuracy = [classifiers[ii].score(testX, testY[:, ii]) for ii in range(nOptions)]\n",
    "print(\"Test Accuracy Stats: Min = %.2f%%, Avg = %.2f%%, Max = %.2f%%\" %\n",
    "      (100 * np.min(testingAccuracy),\n",
    "       100 * np.mean(testingAccuracy),\n",
    "       100 * np.max(testingAccuracy)))\n",
    "\n",
    "# Utilize the classifiers to predict the sign of DA - RT prices for each day in 'rangeOfDays' for\n",
    "# the test data. Store the result in a pandas data frame with columns as the option names and the\n",
    "# day in year as index.\n",
    "predictedY = pd.DataFrame(np.column_stack([classifiers[ii].predict(testX) for ii in range(nOptions)]),\n",
    "                          columns=optionNames, index=rangeOfDays)"
   ]
  },
  {
   "cell_type": "code",
   "execution_count": 54,
   "metadata": {},
   "outputs": [
    {
     "name": "stdout",
     "output_type": "stream",
     "text": [
      "Day 3: Reward (in $) = -68,526\n",
      "Day 4: Reward (in $) = 1,479,037\n",
      "Day 5: Reward (in $) = 26,671\n",
      "Day 6: Reward (in $) = -11,287\n",
      "Day 7: Reward (in $) = -33,478\n",
      "Day 8: Reward (in $) = -3\n",
      "Day 9: Reward (in $) = -41,039\n",
      "Day 10: Reward (in $) = -103,550\n",
      "Day 11: Reward (in $) = -66,561\n",
      "Day 12: Reward (in $) = -19,243\n",
      "Day 13: Reward (in $) = -29,134\n",
      "Day 14: Reward (in $) = -38,464\n",
      "Day 15: Reward (in $) = -1,356\n",
      "Day 16: Reward (in $) = 42,492\n",
      "Day 17: Reward (in $) = -68,046\n",
      "Day 18: Reward (in $) = -21,816\n",
      "Day 19: Reward (in $) = 15,207\n",
      "Day 20: Reward (in $) = -5,257\n",
      "Day 21: Reward (in $) = 30,907\n",
      "Day 22: Reward (in $) = 125,165\n",
      "Day 23: Reward (in $) = 28,234\n",
      "Day 24: Reward (in $) = -86,143\n",
      "Day 25: Reward (in $) = -88,304\n",
      "Day 26: Reward (in $) = -17,552\n",
      "Day 27: Reward (in $) = -7,409\n",
      "Day 28: Reward (in $) = -12,490\n",
      "Day 29: Reward (in $) = -22,572\n",
      "Day 30: Reward (in $) = -35,468\n",
      "Day 31: Reward (in $) = -47,171\n",
      "Day 32: Reward (in $) = -11,490\n",
      "Day 33: Reward (in $) = -57,629\n",
      "Day 34: Reward (in $) = 2,016\n",
      "Day 35: Reward (in $) = 14,229\n",
      "Day 36: Reward (in $) = -39,266\n",
      "Day 37: Reward (in $) = -41,965\n",
      "Day 38: Reward (in $) = 28,193\n",
      "Day 39: Reward (in $) = 20,808\n",
      "Day 40: Reward (in $) = -31,627\n",
      "Day 41: Reward (in $) = 10,059\n",
      "Day 42: Reward (in $) = -15,651\n",
      "Day 43: Reward (in $) = -31,727\n",
      "Day 44: Reward (in $) = -25,281\n",
      "Day 45: Reward (in $) = -17,742\n",
      "Day 46: Reward (in $) = 85,323\n",
      "Day 47: Reward (in $) = 54,494\n",
      "Day 48: Reward (in $) = -55,496\n",
      "Day 49: Reward (in $) = -46,193\n",
      "Day 50: Reward (in $) = -49,055\n",
      "Day 51: Reward (in $) = -954\n",
      "Day 52: Reward (in $) = -25,101\n",
      "Day 53: Reward (in $) = -14,415\n",
      "Day 54: Reward (in $) = -1,086\n",
      "Day 55: Reward (in $) = -5,130\n",
      "Day 56: Reward (in $) = -43,508\n",
      "Day 57: Reward (in $) = -28,344\n",
      "Day 58: Reward (in $) = -25,857\n",
      "Day 59: Reward (in $) = -16,443\n",
      "Day 60: Reward (in $) = -6,838\n",
      "Day 61: Reward (in $) = -119,099\n",
      "Day 62: Reward (in $) = -14,007\n",
      "Day 63: Reward (in $) = -18,916\n",
      "Day 64: Reward (in $) = -46,900\n",
      "Day 65: Reward (in $) = 38,285\n",
      "Day 66: Reward (in $) = 75,378\n",
      "Day 67: Reward (in $) = -51,055\n",
      "Day 68: Reward (in $) = -64,859\n",
      "Day 69: Reward (in $) = -29,324\n",
      "Day 70: Reward (in $) = 137,701\n",
      "Day 71: Reward (in $) = -5,956\n",
      "Day 72: Reward (in $) = -6,622\n",
      "Day 73: Reward (in $) = -54,379\n",
      "Day 74: Reward (in $) = -36,136\n",
      "Day 75: Reward (in $) = -4,004\n",
      "Day 76: Reward (in $) = -95,643\n",
      "Day 77: Reward (in $) = -15,444\n",
      "Day 78: Reward (in $) = -34,661\n",
      "Day 79: Reward (in $) = -40,625\n",
      "Day 80: Reward (in $) = -39,109\n",
      "Day 81: Reward (in $) = 112,383\n",
      "Day 82: Reward (in $) = 27,435\n",
      "Day 83: Reward (in $) = -10,997\n",
      "Day 84: Reward (in $) = -3,379\n",
      "Day 85: Reward (in $) = 21,879\n",
      "Day 86: Reward (in $) = -28,699\n",
      "Day 87: Reward (in $) = 2,622,213\n",
      "Day 88: Reward (in $) = 918,777\n",
      "Day 89: Reward (in $) = -24,244\n",
      "Day 90: Reward (in $) = -10,424\n",
      "Day 91: Reward (in $) = -112,403\n",
      "Day 92: Reward (in $) = 77,085\n",
      "Day 93: Reward (in $) = -1,178\n",
      "Day 94: Reward (in $) = 8,676\n",
      "Day 95: Reward (in $) = -22,533\n",
      "Day 96: Reward (in $) = 65,675\n",
      "Day 97: Reward (in $) = 24,100\n",
      "Day 98: Reward (in $) = -5,998\n",
      "Day 99: Reward (in $) = -24,169\n",
      "Day 100: Reward (in $) = -36,446\n",
      "Day 101: Reward (in $) = -20,791\n",
      "Day 102: Reward (in $) = -40,281\n",
      "Day 103: Reward (in $) = 75,255\n",
      "Day 104: Reward (in $) = -34,140\n",
      "Day 105: Reward (in $) = -72,275\n",
      "Day 106: Reward (in $) = -11,951\n",
      "Day 107: Reward (in $) = -24,972\n",
      "Day 108: Reward (in $) = 29,294\n",
      "Day 109: Reward (in $) = -2,954\n",
      "Day 110: Reward (in $) = -40,488\n",
      "Day 111: Reward (in $) = -31,812\n",
      "Day 112: Reward (in $) = 112,431\n",
      "Day 113: Reward (in $) = -49,112\n",
      "Day 114: Reward (in $) = -62,052\n",
      "Day 115: Reward (in $) = -117,809\n",
      "Day 116: Reward (in $) = 9,457\n",
      "Day 117: Reward (in $) = -17,811\n",
      "Day 118: Reward (in $) = 5,106\n",
      "Day 119: Reward (in $) = -8,943\n",
      "Day 120: Reward (in $) = 14,907\n",
      "Day 121: Reward (in $) = 52,642\n",
      "Day 122: Reward (in $) = -28,680\n",
      "Day 123: Reward (in $) = -17,087\n",
      "Day 124: Reward (in $) = -40,746\n",
      "Day 125: Reward (in $) = -31,364\n",
      "Day 126: Reward (in $) = -6,757\n",
      "Day 127: Reward (in $) = -38,792\n",
      "Day 128: Reward (in $) = -33,489\n",
      "Day 129: Reward (in $) = -39,282\n",
      "Day 130: Reward (in $) = -11,782\n",
      "Day 131: Reward (in $) = 13,640\n",
      "Day 132: Reward (in $) = 53,638\n",
      "Day 133: Reward (in $) = 58,726\n",
      "Day 134: Reward (in $) = -50,200\n",
      "Day 135: Reward (in $) = -16,646\n",
      "Day 136: Reward (in $) = -42,333\n",
      "Day 137: Reward (in $) = -47,401\n",
      "Day 138: Reward (in $) = -102,858\n",
      "Day 139: Reward (in $) = -1,775\n",
      "Day 140: Reward (in $) = -57,280\n",
      "Day 141: Reward (in $) = 26,828\n",
      "Day 142: Reward (in $) = 26,152\n",
      "Day 143: Reward (in $) = -12,190\n",
      "Day 144: Reward (in $) = -37,835\n",
      "Day 145: Reward (in $) = -46,473\n",
      "Day 146: Reward (in $) = -8,645\n",
      "Day 147: Reward (in $) = -69,030\n",
      "Day 148: Reward (in $) = -13,155\n",
      "Day 149: Reward (in $) = -7,017\n",
      "Day 150: Reward (in $) = 55,051\n",
      "Day 151: Reward (in $) = 553,804\n",
      "Day 152: Reward (in $) = 387,458\n",
      "Day 153: Reward (in $) = 120,794\n",
      "Day 154: Reward (in $) = 5,218\n",
      "Day 155: Reward (in $) = -43,379\n",
      "Day 156: Reward (in $) = -31,703\n",
      "Day 157: Reward (in $) = -129,106\n",
      "Day 158: Reward (in $) = -74,190\n",
      "Day 159: Reward (in $) = -36,227\n",
      "Day 160: Reward (in $) = -119,633\n",
      "Day 161: Reward (in $) = -45,459\n",
      "Day 162: Reward (in $) = 435,271\n",
      "Day 163: Reward (in $) = -14,597\n",
      "Day 164: Reward (in $) = -13,935\n",
      "Day 165: Reward (in $) = 598,138\n",
      "Day 166: Reward (in $) = -20,871\n",
      "Day 167: Reward (in $) = 8,435\n",
      "Day 168: Reward (in $) = 819\n",
      "Day 169: Reward (in $) = 7,597\n",
      "Day 170: Reward (in $) = -33,050\n",
      "Day 171: Reward (in $) = -3,833\n",
      "Day 172: Reward (in $) = -11,059\n",
      "Day 173: Reward (in $) = 21,529\n",
      "Day 174: Reward (in $) = 15,232\n",
      "Day 175: Reward (in $) = 18,164\n",
      "Day 176: Reward (in $) = -16,620\n",
      "Day 177: Reward (in $) = -28,395\n",
      "Day 178: Reward (in $) = -22,456\n",
      "Day 179: Reward (in $) = -16,176\n",
      "Day 180: Reward (in $) = -355\n",
      "Day 181: Reward (in $) = -20,498\n",
      "Day 182: Reward (in $) = -15,003\n",
      "Day 183: Reward (in $) = -70,327\n",
      "Day 184: Reward (in $) = -101,904\n",
      "Day 185: Reward (in $) = -32,956\n",
      "Day 186: Reward (in $) = 30,950\n",
      "Day 187: Reward (in $) = 14,445\n",
      "Day 188: Reward (in $) = 2,304\n",
      "Day 189: Reward (in $) = -5,270\n",
      "Day 190: Reward (in $) = -99,635\n",
      "Day 191: Reward (in $) = -23,670\n",
      "Day 192: Reward (in $) = -22,928\n",
      "Day 193: Reward (in $) = -61,704\n",
      "Day 194: Reward (in $) = -632\n",
      "Day 195: Reward (in $) = 6,079\n",
      "Day 196: Reward (in $) = 11,021\n",
      "Day 197: Reward (in $) = 12,115\n",
      "Day 198: Reward (in $) = 38,624\n",
      "Day 199: Reward (in $) = -4,892\n",
      "Day 200: Reward (in $) = -77,186\n",
      "Day 201: Reward (in $) = -7,681\n",
      "Day 202: Reward (in $) = -4,761\n",
      "Day 203: Reward (in $) = 13,892\n",
      "Day 204: Reward (in $) = 4,480\n",
      "Day 205: Reward (in $) = -25,724\n",
      "Day 206: Reward (in $) = -2,339\n",
      "Day 207: Reward (in $) = -4,325\n",
      "Day 208: Reward (in $) = 22,399\n",
      "Day 209: Reward (in $) = 22,894\n",
      "Day 210: Reward (in $) = 207,281\n",
      "Day 211: Reward (in $) = 46,728\n",
      "Day 212: Reward (in $) = 55,222\n",
      "Day 213: Reward (in $) = -6,571\n",
      "Day 214: Reward (in $) = -69,329\n",
      "Day 215: Reward (in $) = -70,183\n",
      "Day 216: Reward (in $) = 876\n",
      "Day 217: Reward (in $) = 1,842\n",
      "Day 218: Reward (in $) = 28,373\n",
      "Day 219: Reward (in $) = -29,751\n",
      "Day 220: Reward (in $) = -3,948\n",
      "Day 221: Reward (in $) = -29,463\n",
      "Day 222: Reward (in $) = 16,890\n",
      "Day 223: Reward (in $) = 5,675\n",
      "Day 224: Reward (in $) = -17\n",
      "Day 225: Reward (in $) = 956\n",
      "Day 226: Reward (in $) = -40,649\n",
      "Day 227: Reward (in $) = -1,587\n",
      "Day 228: Reward (in $) = 15,736\n",
      "Day 229: Reward (in $) = -5,818\n",
      "Day 230: Reward (in $) = -2,989\n",
      "Day 231: Reward (in $) = -1,685\n",
      "Day 232: Reward (in $) = -64,509\n",
      "Day 233: Reward (in $) = -51,393\n",
      "Day 234: Reward (in $) = -80,095\n",
      "Day 235: Reward (in $) = -130,960\n",
      "Day 236: Reward (in $) = 15,554\n",
      "Day 237: Reward (in $) = 53,546\n",
      "Day 238: Reward (in $) = -2,209\n",
      "Day 239: Reward (in $) = -40,583\n",
      "Day 240: Reward (in $) = -15,227\n",
      "Day 241: Reward (in $) = -639\n",
      "Day 242: Reward (in $) = 53,575\n",
      "Day 243: Reward (in $) = -1,504\n",
      "Day 244: Reward (in $) = 5,277\n",
      "Day 245: Reward (in $) = -67,887\n",
      "Day 246: Reward (in $) = -36,390\n",
      "Day 247: Reward (in $) = -5,299\n",
      "Day 248: Reward (in $) = -33,489\n",
      "Day 249: Reward (in $) = -833\n",
      "Day 250: Reward (in $) = -19,138\n",
      "Day 251: Reward (in $) = 380\n",
      "Day 252: Reward (in $) = -1,875\n",
      "Day 253: Reward (in $) = 139,183\n",
      "Day 254: Reward (in $) = -13,616\n",
      "Day 255: Reward (in $) = -58,976\n",
      "Day 256: Reward (in $) = -3,897\n",
      "Day 257: Reward (in $) = 38,407\n",
      "Day 258: Reward (in $) = -23,766\n"
     ]
    },
    {
     "name": "stdout",
     "output_type": "stream",
     "text": [
      "Day 259: Reward (in $) = -38,901\n",
      "Day 260: Reward (in $) = -30,983\n",
      "Day 261: Reward (in $) = 69,118\n",
      "Day 262: Reward (in $) = -9,698\n",
      "Day 263: Reward (in $) = -61,984\n",
      "Day 264: Reward (in $) = -40,200\n",
      "Day 265: Reward (in $) = -4,367\n",
      "Day 266: Reward (in $) = -86,427\n",
      "Day 267: Reward (in $) = -8,748\n",
      "Day 268: Reward (in $) = -22,424\n",
      "Day 269: Reward (in $) = -83,326\n",
      "Day 270: Reward (in $) = -71,025\n",
      "Day 271: Reward (in $) = -8,358\n",
      "Day 272: Reward (in $) = -25,295\n",
      "Day 273: Reward (in $) = -42,914\n",
      "Day 274: Reward (in $) = 22,657\n",
      "Day 275: Reward (in $) = 23,255\n",
      "Day 276: Reward (in $) = -21,963\n",
      "Day 277: Reward (in $) = 73,734\n",
      "Day 278: Reward (in $) = 140,182\n",
      "Day 279: Reward (in $) = 1,369\n",
      "Day 280: Reward (in $) = -26,492\n",
      "Day 281: Reward (in $) = -11,524\n",
      "Day 282: Reward (in $) = 12,380\n",
      "Day 283: Reward (in $) = -5,394\n",
      "Day 284: Reward (in $) = -31,806\n",
      "Day 285: Reward (in $) = 16,605\n",
      "Day 286: Reward (in $) = -53,484\n",
      "Day 287: Reward (in $) = -63,063\n",
      "Day 288: Reward (in $) = 4,230\n",
      "Day 289: Reward (in $) = 5,333\n",
      "Day 290: Reward (in $) = 8,664\n",
      "Day 291: Reward (in $) = -6,733\n",
      "Day 292: Reward (in $) = -1,829\n",
      "Day 293: Reward (in $) = 68,833\n",
      "Day 294: Reward (in $) = -11,456\n",
      "Day 295: Reward (in $) = 5,957\n",
      "Day 296: Reward (in $) = -49,534\n",
      "Day 297: Reward (in $) = -32,215\n",
      "Day 298: Reward (in $) = 133,122\n",
      "Day 299: Reward (in $) = -61,902\n",
      "Day 300: Reward (in $) = -15,481\n",
      "Day 301: Reward (in $) = -6,798\n",
      "Day 302: Reward (in $) = -21,973\n",
      "Day 303: Reward (in $) = 13,572\n",
      "Day 304: Reward (in $) = -54,061\n",
      "Day 305: Reward (in $) = -15,267\n",
      "Day 306: Reward (in $) = -17,325\n",
      "Day 307: Reward (in $) = -7,179\n",
      "Day 308: Reward (in $) = -44,715\n",
      "Day 309: Reward (in $) = 4,127\n",
      "Day 310: Reward (in $) = -5,664\n",
      "Day 311: Reward (in $) = -32,798\n",
      "Day 312: Reward (in $) = 42,535\n",
      "Day 313: Reward (in $) = -2,000\n",
      "Day 314: Reward (in $) = -59,422\n",
      "Day 315: Reward (in $) = -48,811\n",
      "Day 316: Reward (in $) = -11,827\n",
      "Day 317: Reward (in $) = -34,236\n",
      "Day 318: Reward (in $) = -17,434\n",
      "Day 319: Reward (in $) = 2,472\n",
      "Day 320: Reward (in $) = 16,166\n",
      "Day 321: Reward (in $) = 9,970\n",
      "Day 322: Reward (in $) = -4,924\n",
      "Day 323: Reward (in $) = 7,702\n",
      "Day 324: Reward (in $) = 15,150\n",
      "Day 325: Reward (in $) = -26,671\n",
      "Day 326: Reward (in $) = -10,291\n",
      "Day 327: Reward (in $) = -12,473\n",
      "Day 328: Reward (in $) = 57,850\n",
      "Day 329: Reward (in $) = 36,847\n",
      "Day 330: Reward (in $) = 5,670\n",
      "Day 331: Reward (in $) = -11,830\n",
      "Day 332: Reward (in $) = -45,514\n",
      "Day 333: Reward (in $) = -41,051\n",
      "Day 334: Reward (in $) = -2,695\n",
      "Day 335: Reward (in $) = -20,568\n",
      "Day 336: Reward (in $) = -17,566\n",
      "Day 337: Reward (in $) = 18,300\n",
      "Day 338: Reward (in $) = -8,968\n",
      "Day 339: Reward (in $) = -28,990\n",
      "Day 340: Reward (in $) = -29,440\n",
      "Day 341: Reward (in $) = -51,689\n",
      "Day 342: Reward (in $) = -108,033\n",
      "Day 343: Reward (in $) = -122,263\n",
      "Day 344: Reward (in $) = 170,817\n",
      "Day 345: Reward (in $) = 77,883\n",
      "Day 346: Reward (in $) = -24,381\n",
      "Day 347: Reward (in $) = 6,981\n",
      "Day 348: Reward (in $) = -35,808\n",
      "Day 349: Reward (in $) = 78,388\n",
      "Day 350: Reward (in $) = -4,116\n",
      "Day 351: Reward (in $) = 77,014\n",
      "Day 352: Reward (in $) = 44,413\n",
      "Day 353: Reward (in $) = 5,768\n",
      "Day 354: Reward (in $) = -44,529\n",
      "Day 355: Reward (in $) = -61,714\n",
      "Day 356: Reward (in $) = -24,214\n",
      "Day 357: Reward (in $) = -30,075\n",
      "Day 358: Reward (in $) = -11,595\n",
      "Day 359: Reward (in $) = -11,592\n",
      "Day 360: Reward (in $) = -32,641\n",
      "Day 361: Reward (in $) = -71,692\n",
      "Day 362: Reward (in $) = 25,730\n",
      "Day 363: Reward (in $) = 268,734\n",
      "Day 364: Reward (in $) = 852\n",
      "Day 365: Reward (in $) = -15,233\n",
      "Total money earned over the year (in $) = 3,191,665\n"
     ]
    }
   ],
   "source": [
    "dailyBudget = 250000\n",
    "quantileOffer =0.8\n",
    "\n",
    "# Keep track of your rewards in each day, a cumulative reward over the year, and a total reward over the\n",
    "# year. Also, keep track of the total reward from each option. Store them as dictionaries that are\n",
    "# indexed by day of the year.\n",
    "reward = {}\n",
    "cumulativeReward = {}\n",
    "totalReward = 0\n",
    "optionReturn = dict((option, 0) for option in optionNames)\n",
    "\n",
    "# Implement the trading strategy on each day!\n",
    "\n",
    "for day in rangeOfDays:\n",
    "\n",
    "    reward[day] = 0\n",
    "\n",
    "    # Find the options that your classifier says that should be profitable. Store the profitable option\n",
    "    # names in chosenOptions.\n",
    "    chosenOptionNumbers = np.ravel(list(np.nonzero(predictedY.loc[day].values)))\n",
    "    if np.size(chosenOptionNumbers) == 0:\n",
    "        continue\n",
    "    chosenOptions = [optionNames[i] for i in chosenOptionNumbers]\n",
    "\n",
    "    # Design the portfolio based on average price spreads. Our strategy is that as long as you have not\n",
    "    # exceeded your daily budget, pick an option from the list of 'chosenOptions' probabilistically, where\n",
    "    # the probability of choosing it is proportional to exponential(historical rewards of that option). That\n",
    "    # is, a historically profitable option is chosen more often than one that is not. Keep sampling and\n",
    "    # decreasing your budget with each bid.\n",
    "\n",
    "    # Start with an empty portfolio.\n",
    "\n",
    "    portfolio = dict((option, 0) for option in chosenOptions)\n",
    "\n",
    "    # Calculate the probabilities of choosing each option among the list 'chosenOptions'. Recall that\n",
    "    # 'chosenOptions' contains the options that your classifier indicates as being profitable.\n",
    "    priceSpreads = [1.0 * averagePriceSpread[option] for option in chosenOptions]\n",
    "    probabilityOptions = [np.exp(p) for p in priceSpreads]\n",
    "    probabilityOptions /= np.sum(probabilityOptions)\n",
    "\n",
    "    # Start with your daily budget.\n",
    "    budget = dailyBudget\n",
    "\n",
    "    # Sampling among the profitable options and bid based on them.\n",
    "    while budget > np.median([offerPrices[quantileOffer][option] for option in chosenOptions]):\n",
    "\n",
    "        optionToBuy = choice(chosenOptions, p=probabilityOptions)\n",
    "\n",
    "        if budget >= offerPrices[quantileOffer][optionToBuy]:\n",
    "            portfolio[optionToBuy] += 1\n",
    "            budget -= offerPrices[quantileOffer][optionToBuy]\n",
    "\n",
    "    # Compute the reward from the day. Go through each of the options you have decided to buy.\n",
    "    # If the DA price is lower than the bid price, then your bid is cleared. For each option you\n",
    "    # have bought, you get a reward equal to the DA - RT price.\n",
    "\n",
    "    for option in chosenOptions:\n",
    "        if testPriceDA.at[day, option] < offerPrices[quantileOffer][option]:\n",
    "            rewardOptionDay = testPriceDART.at[day, option] * portfolio[option]\n",
    "            optionReturn[option] += rewardOptionDay\n",
    "            reward[day] += rewardOptionDay\n",
    "\n",
    "    totalReward += reward[day]\n",
    "\n",
    "    # Calculate the cumulative reward in millions of dollars.\n",
    "    cumulativeReward[day] = totalReward/1000000\n",
    "\n",
    "    print(\"Day \" + str(day) + \": Reward (in $) = \" + \"{0:,.0f}\".format(reward[day]))\n",
    "\n",
    "print(\"Total money earned over the year (in $) = \" + \"{0:,.0f}\".format(totalReward))"
   ]
  },
  {
   "cell_type": "code",
   "execution_count": 55,
   "metadata": {},
   "outputs": [
    {
     "name": "stderr",
     "output_type": "stream",
     "text": [
      "C:\\Users\\Katherine\\Anaconda3\\lib\\site-packages\\matplotlib\\figure.py:2366: UserWarning: This figure includes Axes that are not compatible with tight_layout, so results might be incorrect.\n",
      "  warnings.warn(\"This figure includes Axes that are not compatible \"\n"
     ]
    },
    {
     "data": {
      "image/png": "[encoded data removed]",
      "text/plain": [
       "<Figure size 432x288 with 2 Axes>"
      ]
     },
     "metadata": {
      "needs_background": "light"
     },
     "output_type": "display_data"
    },
    {
     "data": {
      "image/png": "[encoded data removed]",
      "text/plain": [
       "<Figure size 432x288 with 2 Axes>"
      ]
     },
     "metadata": {
      "needs_background": "light"
     },
     "output_type": "display_data"
    }
   ],
   "source": [
    "# Plot the cumulative reward over the year 2016. Also, plot a heat map of the returns from\n",
    "# each option.\n",
    "\n",
    "fig, axs = plt.subplots(2, 1, tight_layout=True)\n",
    "axs = axs.ravel()\n",
    "\n",
    "\n",
    "## Enter code here where you plot in axs[0].\n",
    "rewards = sorted(cumulativeReward.items())\n",
    "x, y = zip(*rewards)\n",
    "axs[0] = plt.plot(x, y)\n",
    "plt.show()\n",
    "\n",
    "\n",
    "axs[1] = sns.heatmap(np.reshape(list(optionReturn.values()), (len(listOfZones), 24)),\n",
    "                     linewidth=0.5,\n",
    "                     cmap=\"YlGnBu\")\n",
    "axs[1].set_yticklabels(listOfZones, rotation=0)\n",
    "axs[1].set_xticklabels(range(24), rotation=90)\n",
    "axs[1].set_title('Returns on different options')\n",
    "plt.show()"
   ]
  },
  {
   "cell_type": "markdown",
   "metadata": {},
   "source": [
    "#### Answer:\n",
    "The SVM classifier yields 1,085,980 dollars profit while the Logistic Regression classifier yields 3,169,844 dollars profit. Thus, Logistic Regression classifier yields larger profit."
   ]
  },
  {
   "cell_type": "markdown",
   "metadata": {},
   "source": [
    "### Task 3: Quantile (25 points)\n",
    "\n",
    "For the best classifier, try different quanltile choices from the following list: 0.70, 0.75, 0.80, 0.85, 0.90, 0.95. Rank them in terms of profits (low to high). \n",
    "\n",
    "How do you expect the quantile to affect the portfolio? \n",
    "\n",
    "#### (comments here, add a new code cell below)"
   ]
  },
  {
   "cell_type": "code",
   "execution_count": 56,
   "metadata": {},
   "outputs": [
    {
     "name": "stdout",
     "output_type": "stream",
     "text": [
      "Starting training module...\n",
      "\n",
      "Loaded hourly prices from 2015 for 365 days.\n",
      "Classifier trained for option CAPITL_Hour_0\n",
      "Classifier trained for option CAPITL_Hour_1\n",
      "Classifier trained for option CAPITL_Hour_2\n",
      "Classifier trained for option CAPITL_Hour_3\n",
      "Classifier trained for option CAPITL_Hour_4\n",
      "Classifier trained for option CAPITL_Hour_5\n",
      "Classifier trained for option CAPITL_Hour_6\n",
      "Classifier trained for option CAPITL_Hour_7\n",
      "Classifier trained for option CAPITL_Hour_8\n",
      "Classifier trained for option CAPITL_Hour_9\n",
      "Classifier trained for option CAPITL_Hour_10\n",
      "Classifier trained for option CAPITL_Hour_11\n",
      "Classifier trained for option CAPITL_Hour_12\n",
      "Classifier trained for option CAPITL_Hour_13\n",
      "Classifier trained for option CAPITL_Hour_14\n",
      "Classifier trained for option CAPITL_Hour_15\n",
      "Classifier trained for option CAPITL_Hour_16\n",
      "Classifier trained for option CAPITL_Hour_17\n"
     ]
    },
    {
     "name": "stderr",
     "output_type": "stream",
     "text": [
      "C:\\Users\\Katherine\\Anaconda3\\lib\\site-packages\\sklearn\\neural_network\\multilayer_perceptron.py:562: ConvergenceWarning: Stochastic Optimizer: Maximum iterations (200) reached and the optimization hasn't converged yet.\n",
      "  % self.max_iter, ConvergenceWarning)\n"
     ]
    },
    {
     "name": "stdout",
     "output_type": "stream",
     "text": [
      "Classifier trained for option CAPITL_Hour_18\n",
      "Classifier trained for option CAPITL_Hour_19\n",
      "Classifier trained for option CAPITL_Hour_20\n",
      "Classifier trained for option CAPITL_Hour_21\n",
      "Classifier trained for option CAPITL_Hour_22\n"
     ]
    },
    {
     "name": "stderr",
     "output_type": "stream",
     "text": [
      "C:\\Users\\Katherine\\Anaconda3\\lib\\site-packages\\sklearn\\neural_network\\multilayer_perceptron.py:562: ConvergenceWarning: Stochastic Optimizer: Maximum iterations (200) reached and the optimization hasn't converged yet.\n",
      "  % self.max_iter, ConvergenceWarning)\n"
     ]
    },
    {
     "name": "stdout",
     "output_type": "stream",
     "text": [
      "Classifier trained for option CAPITL_Hour_23\n",
      "Classifier trained for option CENTRL_Hour_0\n",
      "Classifier trained for option CENTRL_Hour_1\n",
      "Classifier trained for option CENTRL_Hour_2\n",
      "Classifier trained for option CENTRL_Hour_3\n",
      "Classifier trained for option CENTRL_Hour_4\n"
     ]
    },
    {
     "name": "stderr",
     "output_type": "stream",
     "text": [
      "C:\\Users\\Katherine\\Anaconda3\\lib\\site-packages\\sklearn\\neural_network\\multilayer_perceptron.py:562: ConvergenceWarning: Stochastic Optimizer: Maximum iterations (200) reached and the optimization hasn't converged yet.\n",
      "  % self.max_iter, ConvergenceWarning)\n"
     ]
    },
    {
     "name": "stdout",
     "output_type": "stream",
     "text": [
      "Classifier trained for option CENTRL_Hour_5\n",
      "Classifier trained for option CENTRL_Hour_6\n",
      "Classifier trained for option CENTRL_Hour_7\n",
      "Classifier trained for option CENTRL_Hour_8\n",
      "Classifier trained for option CENTRL_Hour_9\n",
      "Classifier trained for option CENTRL_Hour_10\n",
      "Classifier trained for option CENTRL_Hour_11\n",
      "Classifier trained for option CENTRL_Hour_12\n",
      "Classifier trained for option CENTRL_Hour_13\n",
      "Classifier trained for option CENTRL_Hour_14\n",
      "Classifier trained for option CENTRL_Hour_15\n"
     ]
    },
    {
     "name": "stderr",
     "output_type": "stream",
     "text": [
      "C:\\Users\\Katherine\\Anaconda3\\lib\\site-packages\\sklearn\\neural_network\\multilayer_perceptron.py:562: ConvergenceWarning: Stochastic Optimizer: Maximum iterations (200) reached and the optimization hasn't converged yet.\n",
      "  % self.max_iter, ConvergenceWarning)\n"
     ]
    },
    {
     "name": "stdout",
     "output_type": "stream",
     "text": [
      "Classifier trained for option CENTRL_Hour_16\n",
      "Classifier trained for option CENTRL_Hour_17\n",
      "Classifier trained for option CENTRL_Hour_18\n",
      "Classifier trained for option CENTRL_Hour_19\n",
      "Classifier trained for option CENTRL_Hour_20\n",
      "Classifier trained for option CENTRL_Hour_21\n"
     ]
    },
    {
     "name": "stderr",
     "output_type": "stream",
     "text": [
      "C:\\Users\\Katherine\\Anaconda3\\lib\\site-packages\\sklearn\\neural_network\\multilayer_perceptron.py:562: ConvergenceWarning: Stochastic Optimizer: Maximum iterations (200) reached and the optimization hasn't converged yet.\n",
      "  % self.max_iter, ConvergenceWarning)\n"
     ]
    },
    {
     "name": "stdout",
     "output_type": "stream",
     "text": [
      "Classifier trained for option CENTRL_Hour_22\n"
     ]
    },
    {
     "name": "stderr",
     "output_type": "stream",
     "text": [
      "C:\\Users\\Katherine\\Anaconda3\\lib\\site-packages\\sklearn\\neural_network\\multilayer_perceptron.py:562: ConvergenceWarning: Stochastic Optimizer: Maximum iterations (200) reached and the optimization hasn't converged yet.\n",
      "  % self.max_iter, ConvergenceWarning)\n"
     ]
    },
    {
     "name": "stdout",
     "output_type": "stream",
     "text": [
      "Classifier trained for option CENTRL_Hour_23\n",
      "Classifier trained for option DUNWOD_Hour_0\n",
      "Classifier trained for option DUNWOD_Hour_1\n",
      "Classifier trained for option DUNWOD_Hour_2\n",
      "Classifier trained for option DUNWOD_Hour_3\n",
      "Classifier trained for option DUNWOD_Hour_4\n",
      "Classifier trained for option DUNWOD_Hour_5\n",
      "Classifier trained for option DUNWOD_Hour_6\n",
      "Classifier trained for option DUNWOD_Hour_7\n",
      "Classifier trained for option DUNWOD_Hour_8\n",
      "Classifier trained for option DUNWOD_Hour_9\n",
      "Classifier trained for option DUNWOD_Hour_10\n",
      "Classifier trained for option DUNWOD_Hour_11\n",
      "Classifier trained for option DUNWOD_Hour_12\n"
     ]
    },
    {
     "name": "stderr",
     "output_type": "stream",
     "text": [
      "C:\\Users\\Katherine\\Anaconda3\\lib\\site-packages\\sklearn\\neural_network\\multilayer_perceptron.py:562: ConvergenceWarning: Stochastic Optimizer: Maximum iterations (200) reached and the optimization hasn't converged yet.\n",
      "  % self.max_iter, ConvergenceWarning)\n"
     ]
    },
    {
     "name": "stdout",
     "output_type": "stream",
     "text": [
      "Classifier trained for option DUNWOD_Hour_13\n",
      "Classifier trained for option DUNWOD_Hour_14\n",
      "Classifier trained for option DUNWOD_Hour_15\n",
      "Classifier trained for option DUNWOD_Hour_16\n",
      "Classifier trained for option DUNWOD_Hour_17\n",
      "Classifier trained for option DUNWOD_Hour_18\n",
      "Classifier trained for option DUNWOD_Hour_19\n",
      "Classifier trained for option DUNWOD_Hour_20\n",
      "Classifier trained for option DUNWOD_Hour_21\n",
      "Classifier trained for option DUNWOD_Hour_22\n",
      "Classifier trained for option DUNWOD_Hour_23\n"
     ]
    },
    {
     "name": "stderr",
     "output_type": "stream",
     "text": [
      "C:\\Users\\Katherine\\Anaconda3\\lib\\site-packages\\sklearn\\neural_network\\multilayer_perceptron.py:562: ConvergenceWarning: Stochastic Optimizer: Maximum iterations (200) reached and the optimization hasn't converged yet.\n",
      "  % self.max_iter, ConvergenceWarning)\n"
     ]
    },
    {
     "name": "stdout",
     "output_type": "stream",
     "text": [
      "Classifier trained for option GENESE_Hour_0\n",
      "Classifier trained for option GENESE_Hour_1\n",
      "Classifier trained for option GENESE_Hour_2\n",
      "Classifier trained for option GENESE_Hour_3\n",
      "Classifier trained for option GENESE_Hour_4\n",
      "Classifier trained for option GENESE_Hour_5\n",
      "Classifier trained for option GENESE_Hour_6\n",
      "Classifier trained for option GENESE_Hour_7\n",
      "Classifier trained for option GENESE_Hour_8\n",
      "Classifier trained for option GENESE_Hour_9\n",
      "Classifier trained for option GENESE_Hour_10\n",
      "Classifier trained for option GENESE_Hour_11\n",
      "Classifier trained for option GENESE_Hour_12\n",
      "Classifier trained for option GENESE_Hour_13\n",
      "Classifier trained for option GENESE_Hour_14\n",
      "Classifier trained for option GENESE_Hour_15\n",
      "Classifier trained for option GENESE_Hour_16\n",
      "Classifier trained for option GENESE_Hour_17\n",
      "Classifier trained for option GENESE_Hour_18\n",
      "Classifier trained for option GENESE_Hour_19\n",
      "Classifier trained for option GENESE_Hour_20\n"
     ]
    },
    {
     "name": "stderr",
     "output_type": "stream",
     "text": [
      "C:\\Users\\Katherine\\Anaconda3\\lib\\site-packages\\sklearn\\neural_network\\multilayer_perceptron.py:562: ConvergenceWarning: Stochastic Optimizer: Maximum iterations (200) reached and the optimization hasn't converged yet.\n",
      "  % self.max_iter, ConvergenceWarning)\n"
     ]
    },
    {
     "name": "stdout",
     "output_type": "stream",
     "text": [
      "Classifier trained for option GENESE_Hour_21\n",
      "Classifier trained for option GENESE_Hour_22\n",
      "Classifier trained for option GENESE_Hour_23\n",
      "Classifier trained for option HUD VL_Hour_0\n",
      "Classifier trained for option HUD VL_Hour_1\n",
      "Classifier trained for option HUD VL_Hour_2\n",
      "Classifier trained for option HUD VL_Hour_3\n",
      "Classifier trained for option HUD VL_Hour_4\n",
      "Classifier trained for option HUD VL_Hour_5\n"
     ]
    },
    {
     "name": "stderr",
     "output_type": "stream",
     "text": [
      "C:\\Users\\Katherine\\Anaconda3\\lib\\site-packages\\sklearn\\neural_network\\multilayer_perceptron.py:562: ConvergenceWarning: Stochastic Optimizer: Maximum iterations (200) reached and the optimization hasn't converged yet.\n",
      "  % self.max_iter, ConvergenceWarning)\n"
     ]
    },
    {
     "name": "stdout",
     "output_type": "stream",
     "text": [
      "Classifier trained for option HUD VL_Hour_6\n",
      "Classifier trained for option HUD VL_Hour_7\n",
      "Classifier trained for option HUD VL_Hour_8\n",
      "Classifier trained for option HUD VL_Hour_9\n"
     ]
    },
    {
     "name": "stderr",
     "output_type": "stream",
     "text": [
      "C:\\Users\\Katherine\\Anaconda3\\lib\\site-packages\\sklearn\\neural_network\\multilayer_perceptron.py:562: ConvergenceWarning: Stochastic Optimizer: Maximum iterations (200) reached and the optimization hasn't converged yet.\n",
      "  % self.max_iter, ConvergenceWarning)\n"
     ]
    },
    {
     "name": "stdout",
     "output_type": "stream",
     "text": [
      "Classifier trained for option HUD VL_Hour_10\n",
      "Classifier trained for option HUD VL_Hour_11\n",
      "Classifier trained for option HUD VL_Hour_12\n"
     ]
    },
    {
     "name": "stderr",
     "output_type": "stream",
     "text": [
      "C:\\Users\\Katherine\\Anaconda3\\lib\\site-packages\\sklearn\\neural_network\\multilayer_perceptron.py:562: ConvergenceWarning: Stochastic Optimizer: Maximum iterations (200) reached and the optimization hasn't converged yet.\n",
      "  % self.max_iter, ConvergenceWarning)\n"
     ]
    },
    {
     "name": "stdout",
     "output_type": "stream",
     "text": [
      "Classifier trained for option HUD VL_Hour_13\n",
      "Classifier trained for option HUD VL_Hour_14\n",
      "Classifier trained for option HUD VL_Hour_15\n",
      "Classifier trained for option HUD VL_Hour_16\n"
     ]
    },
    {
     "name": "stderr",
     "output_type": "stream",
     "text": [
      "C:\\Users\\Katherine\\Anaconda3\\lib\\site-packages\\sklearn\\neural_network\\multilayer_perceptron.py:562: ConvergenceWarning: Stochastic Optimizer: Maximum iterations (200) reached and the optimization hasn't converged yet.\n",
      "  % self.max_iter, ConvergenceWarning)\n"
     ]
    },
    {
     "name": "stdout",
     "output_type": "stream",
     "text": [
      "Classifier trained for option HUD VL_Hour_17\n"
     ]
    },
    {
     "name": "stderr",
     "output_type": "stream",
     "text": [
      "C:\\Users\\Katherine\\Anaconda3\\lib\\site-packages\\sklearn\\neural_network\\multilayer_perceptron.py:562: ConvergenceWarning: Stochastic Optimizer: Maximum iterations (200) reached and the optimization hasn't converged yet.\n",
      "  % self.max_iter, ConvergenceWarning)\n"
     ]
    },
    {
     "name": "stdout",
     "output_type": "stream",
     "text": [
      "Classifier trained for option HUD VL_Hour_18\n",
      "Classifier trained for option HUD VL_Hour_19\n",
      "Classifier trained for option HUD VL_Hour_20\n",
      "Classifier trained for option HUD VL_Hour_21\n"
     ]
    },
    {
     "name": "stderr",
     "output_type": "stream",
     "text": [
      "C:\\Users\\Katherine\\Anaconda3\\lib\\site-packages\\sklearn\\neural_network\\multilayer_perceptron.py:562: ConvergenceWarning: Stochastic Optimizer: Maximum iterations (200) reached and the optimization hasn't converged yet.\n",
      "  % self.max_iter, ConvergenceWarning)\n"
     ]
    },
    {
     "name": "stdout",
     "output_type": "stream",
     "text": [
      "Classifier trained for option HUD VL_Hour_22\n"
     ]
    },
    {
     "name": "stderr",
     "output_type": "stream",
     "text": [
      "C:\\Users\\Katherine\\Anaconda3\\lib\\site-packages\\sklearn\\neural_network\\multilayer_perceptron.py:562: ConvergenceWarning: Stochastic Optimizer: Maximum iterations (200) reached and the optimization hasn't converged yet.\n",
      "  % self.max_iter, ConvergenceWarning)\n"
     ]
    },
    {
     "name": "stdout",
     "output_type": "stream",
     "text": [
      "Classifier trained for option HUD VL_Hour_23\n"
     ]
    },
    {
     "name": "stderr",
     "output_type": "stream",
     "text": [
      "C:\\Users\\Katherine\\Anaconda3\\lib\\site-packages\\sklearn\\neural_network\\multilayer_perceptron.py:562: ConvergenceWarning: Stochastic Optimizer: Maximum iterations (200) reached and the optimization hasn't converged yet.\n",
      "  % self.max_iter, ConvergenceWarning)\n"
     ]
    },
    {
     "name": "stdout",
     "output_type": "stream",
     "text": [
      "Classifier trained for option LONGIL_Hour_0\n",
      "Classifier trained for option LONGIL_Hour_1\n",
      "Classifier trained for option LONGIL_Hour_2\n",
      "Classifier trained for option LONGIL_Hour_3\n"
     ]
    },
    {
     "name": "stderr",
     "output_type": "stream",
     "text": [
      "C:\\Users\\Katherine\\Anaconda3\\lib\\site-packages\\sklearn\\neural_network\\multilayer_perceptron.py:562: ConvergenceWarning: Stochastic Optimizer: Maximum iterations (200) reached and the optimization hasn't converged yet.\n",
      "  % self.max_iter, ConvergenceWarning)\n"
     ]
    },
    {
     "name": "stdout",
     "output_type": "stream",
     "text": [
      "Classifier trained for option LONGIL_Hour_4\n",
      "Classifier trained for option LONGIL_Hour_5\n"
     ]
    },
    {
     "name": "stderr",
     "output_type": "stream",
     "text": [
      "C:\\Users\\Katherine\\Anaconda3\\lib\\site-packages\\sklearn\\neural_network\\multilayer_perceptron.py:562: ConvergenceWarning: Stochastic Optimizer: Maximum iterations (200) reached and the optimization hasn't converged yet.\n",
      "  % self.max_iter, ConvergenceWarning)\n"
     ]
    },
    {
     "name": "stdout",
     "output_type": "stream",
     "text": [
      "Classifier trained for option LONGIL_Hour_6\n",
      "Classifier trained for option LONGIL_Hour_7\n",
      "Classifier trained for option LONGIL_Hour_8\n",
      "Classifier trained for option LONGIL_Hour_9\n",
      "Classifier trained for option LONGIL_Hour_10\n"
     ]
    },
    {
     "name": "stderr",
     "output_type": "stream",
     "text": [
      "C:\\Users\\Katherine\\Anaconda3\\lib\\site-packages\\sklearn\\neural_network\\multilayer_perceptron.py:562: ConvergenceWarning: Stochastic Optimizer: Maximum iterations (200) reached and the optimization hasn't converged yet.\n",
      "  % self.max_iter, ConvergenceWarning)\n"
     ]
    },
    {
     "name": "stdout",
     "output_type": "stream",
     "text": [
      "Classifier trained for option LONGIL_Hour_11\n",
      "Classifier trained for option LONGIL_Hour_12\n",
      "Classifier trained for option LONGIL_Hour_13\n",
      "Classifier trained for option LONGIL_Hour_14\n",
      "Classifier trained for option LONGIL_Hour_15\n",
      "Classifier trained for option LONGIL_Hour_16\n",
      "Classifier trained for option LONGIL_Hour_17\n",
      "Classifier trained for option LONGIL_Hour_18\n",
      "Classifier trained for option LONGIL_Hour_19\n",
      "Classifier trained for option LONGIL_Hour_20\n",
      "Classifier trained for option LONGIL_Hour_21\n"
     ]
    },
    {
     "name": "stderr",
     "output_type": "stream",
     "text": [
      "C:\\Users\\Katherine\\Anaconda3\\lib\\site-packages\\sklearn\\neural_network\\multilayer_perceptron.py:562: ConvergenceWarning: Stochastic Optimizer: Maximum iterations (200) reached and the optimization hasn't converged yet.\n",
      "  % self.max_iter, ConvergenceWarning)\n"
     ]
    },
    {
     "name": "stdout",
     "output_type": "stream",
     "text": [
      "Classifier trained for option LONGIL_Hour_22\n"
     ]
    },
    {
     "name": "stderr",
     "output_type": "stream",
     "text": [
      "C:\\Users\\Katherine\\Anaconda3\\lib\\site-packages\\sklearn\\neural_network\\multilayer_perceptron.py:562: ConvergenceWarning: Stochastic Optimizer: Maximum iterations (200) reached and the optimization hasn't converged yet.\n",
      "  % self.max_iter, ConvergenceWarning)\n"
     ]
    },
    {
     "name": "stdout",
     "output_type": "stream",
     "text": [
      "Classifier trained for option LONGIL_Hour_23\n",
      "Classifier trained for option MHK VL_Hour_0\n"
     ]
    },
    {
     "name": "stderr",
     "output_type": "stream",
     "text": [
      "C:\\Users\\Katherine\\Anaconda3\\lib\\site-packages\\sklearn\\neural_network\\multilayer_perceptron.py:562: ConvergenceWarning: Stochastic Optimizer: Maximum iterations (200) reached and the optimization hasn't converged yet.\n",
      "  % self.max_iter, ConvergenceWarning)\n"
     ]
    },
    {
     "name": "stdout",
     "output_type": "stream",
     "text": [
      "Classifier trained for option MHK VL_Hour_1\n",
      "Classifier trained for option MHK VL_Hour_2\n",
      "Classifier trained for option MHK VL_Hour_3\n",
      "Classifier trained for option MHK VL_Hour_4\n",
      "Classifier trained for option MHK VL_Hour_5\n",
      "Classifier trained for option MHK VL_Hour_6\n",
      "Classifier trained for option MHK VL_Hour_7\n",
      "Classifier trained for option MHK VL_Hour_8\n"
     ]
    },
    {
     "name": "stderr",
     "output_type": "stream",
     "text": [
      "C:\\Users\\Katherine\\Anaconda3\\lib\\site-packages\\sklearn\\neural_network\\multilayer_perceptron.py:562: ConvergenceWarning: Stochastic Optimizer: Maximum iterations (200) reached and the optimization hasn't converged yet.\n",
      "  % self.max_iter, ConvergenceWarning)\n"
     ]
    },
    {
     "name": "stdout",
     "output_type": "stream",
     "text": [
      "Classifier trained for option MHK VL_Hour_9\n",
      "Classifier trained for option MHK VL_Hour_10\n",
      "Classifier trained for option MHK VL_Hour_11\n",
      "Classifier trained for option MHK VL_Hour_12\n",
      "Classifier trained for option MHK VL_Hour_13\n",
      "Classifier trained for option MHK VL_Hour_14\n",
      "Classifier trained for option MHK VL_Hour_15\n",
      "Classifier trained for option MHK VL_Hour_16\n",
      "Classifier trained for option MHK VL_Hour_17\n",
      "Classifier trained for option MHK VL_Hour_18\n",
      "Classifier trained for option MHK VL_Hour_19\n",
      "Classifier trained for option MHK VL_Hour_20\n"
     ]
    },
    {
     "name": "stderr",
     "output_type": "stream",
     "text": [
      "C:\\Users\\Katherine\\Anaconda3\\lib\\site-packages\\sklearn\\neural_network\\multilayer_perceptron.py:562: ConvergenceWarning: Stochastic Optimizer: Maximum iterations (200) reached and the optimization hasn't converged yet.\n",
      "  % self.max_iter, ConvergenceWarning)\n"
     ]
    },
    {
     "name": "stdout",
     "output_type": "stream",
     "text": [
      "Classifier trained for option MHK VL_Hour_21\n",
      "Classifier trained for option MHK VL_Hour_22\n",
      "Classifier trained for option MHK VL_Hour_23\n"
     ]
    },
    {
     "name": "stderr",
     "output_type": "stream",
     "text": [
      "C:\\Users\\Katherine\\Anaconda3\\lib\\site-packages\\sklearn\\neural_network\\multilayer_perceptron.py:562: ConvergenceWarning: Stochastic Optimizer: Maximum iterations (200) reached and the optimization hasn't converged yet.\n",
      "  % self.max_iter, ConvergenceWarning)\n"
     ]
    },
    {
     "name": "stdout",
     "output_type": "stream",
     "text": [
      "Classifier trained for option MILLWD_Hour_0\n"
     ]
    },
    {
     "name": "stderr",
     "output_type": "stream",
     "text": [
      "C:\\Users\\Katherine\\Anaconda3\\lib\\site-packages\\sklearn\\neural_network\\multilayer_perceptron.py:562: ConvergenceWarning: Stochastic Optimizer: Maximum iterations (200) reached and the optimization hasn't converged yet.\n",
      "  % self.max_iter, ConvergenceWarning)\n"
     ]
    },
    {
     "name": "stdout",
     "output_type": "stream",
     "text": [
      "Classifier trained for option MILLWD_Hour_1\n",
      "Classifier trained for option MILLWD_Hour_2\n",
      "Classifier trained for option MILLWD_Hour_3\n"
     ]
    },
    {
     "name": "stderr",
     "output_type": "stream",
     "text": [
      "C:\\Users\\Katherine\\Anaconda3\\lib\\site-packages\\sklearn\\neural_network\\multilayer_perceptron.py:562: ConvergenceWarning: Stochastic Optimizer: Maximum iterations (200) reached and the optimization hasn't converged yet.\n",
      "  % self.max_iter, ConvergenceWarning)\n"
     ]
    },
    {
     "name": "stdout",
     "output_type": "stream",
     "text": [
      "Classifier trained for option MILLWD_Hour_4\n",
      "Classifier trained for option MILLWD_Hour_5\n"
     ]
    },
    {
     "name": "stderr",
     "output_type": "stream",
     "text": [
      "C:\\Users\\Katherine\\Anaconda3\\lib\\site-packages\\sklearn\\neural_network\\multilayer_perceptron.py:562: ConvergenceWarning: Stochastic Optimizer: Maximum iterations (200) reached and the optimization hasn't converged yet.\n",
      "  % self.max_iter, ConvergenceWarning)\n"
     ]
    },
    {
     "name": "stdout",
     "output_type": "stream",
     "text": [
      "Classifier trained for option MILLWD_Hour_6\n",
      "Classifier trained for option MILLWD_Hour_7\n",
      "Classifier trained for option MILLWD_Hour_8\n",
      "Classifier trained for option MILLWD_Hour_9\n",
      "Classifier trained for option MILLWD_Hour_10\n"
     ]
    },
    {
     "name": "stderr",
     "output_type": "stream",
     "text": [
      "C:\\Users\\Katherine\\Anaconda3\\lib\\site-packages\\sklearn\\neural_network\\multilayer_perceptron.py:562: ConvergenceWarning: Stochastic Optimizer: Maximum iterations (200) reached and the optimization hasn't converged yet.\n",
      "  % self.max_iter, ConvergenceWarning)\n"
     ]
    },
    {
     "name": "stdout",
     "output_type": "stream",
     "text": [
      "Classifier trained for option MILLWD_Hour_11\n",
      "Classifier trained for option MILLWD_Hour_12\n"
     ]
    },
    {
     "name": "stderr",
     "output_type": "stream",
     "text": [
      "C:\\Users\\Katherine\\Anaconda3\\lib\\site-packages\\sklearn\\neural_network\\multilayer_perceptron.py:562: ConvergenceWarning: Stochastic Optimizer: Maximum iterations (200) reached and the optimization hasn't converged yet.\n",
      "  % self.max_iter, ConvergenceWarning)\n"
     ]
    },
    {
     "name": "stdout",
     "output_type": "stream",
     "text": [
      "Classifier trained for option MILLWD_Hour_13\n",
      "Classifier trained for option MILLWD_Hour_14\n",
      "Classifier trained for option MILLWD_Hour_15\n",
      "Classifier trained for option MILLWD_Hour_16\n"
     ]
    },
    {
     "name": "stderr",
     "output_type": "stream",
     "text": [
      "C:\\Users\\Katherine\\Anaconda3\\lib\\site-packages\\sklearn\\neural_network\\multilayer_perceptron.py:562: ConvergenceWarning: Stochastic Optimizer: Maximum iterations (200) reached and the optimization hasn't converged yet.\n",
      "  % self.max_iter, ConvergenceWarning)\n"
     ]
    },
    {
     "name": "stdout",
     "output_type": "stream",
     "text": [
      "Classifier trained for option MILLWD_Hour_17\n",
      "Classifier trained for option MILLWD_Hour_18\n"
     ]
    },
    {
     "name": "stderr",
     "output_type": "stream",
     "text": [
      "C:\\Users\\Katherine\\Anaconda3\\lib\\site-packages\\sklearn\\neural_network\\multilayer_perceptron.py:562: ConvergenceWarning: Stochastic Optimizer: Maximum iterations (200) reached and the optimization hasn't converged yet.\n",
      "  % self.max_iter, ConvergenceWarning)\n"
     ]
    },
    {
     "name": "stdout",
     "output_type": "stream",
     "text": [
      "Classifier trained for option MILLWD_Hour_19\n",
      "Classifier trained for option MILLWD_Hour_20\n",
      "Classifier trained for option MILLWD_Hour_21\n",
      "Classifier trained for option MILLWD_Hour_22\n",
      "Classifier trained for option MILLWD_Hour_23\n",
      "Classifier trained for option N.Y.C._Hour_0\n",
      "Classifier trained for option N.Y.C._Hour_1\n",
      "Classifier trained for option N.Y.C._Hour_2\n",
      "Classifier trained for option N.Y.C._Hour_3\n",
      "Classifier trained for option N.Y.C._Hour_4\n",
      "Classifier trained for option N.Y.C._Hour_5\n",
      "Classifier trained for option N.Y.C._Hour_6\n",
      "Classifier trained for option N.Y.C._Hour_7\n",
      "Classifier trained for option N.Y.C._Hour_8\n"
     ]
    },
    {
     "name": "stderr",
     "output_type": "stream",
     "text": [
      "C:\\Users\\Katherine\\Anaconda3\\lib\\site-packages\\sklearn\\neural_network\\multilayer_perceptron.py:562: ConvergenceWarning: Stochastic Optimizer: Maximum iterations (200) reached and the optimization hasn't converged yet.\n",
      "  % self.max_iter, ConvergenceWarning)\n"
     ]
    },
    {
     "name": "stdout",
     "output_type": "stream",
     "text": [
      "Classifier trained for option N.Y.C._Hour_9\n"
     ]
    },
    {
     "name": "stderr",
     "output_type": "stream",
     "text": [
      "C:\\Users\\Katherine\\Anaconda3\\lib\\site-packages\\sklearn\\neural_network\\multilayer_perceptron.py:562: ConvergenceWarning: Stochastic Optimizer: Maximum iterations (200) reached and the optimization hasn't converged yet.\n",
      "  % self.max_iter, ConvergenceWarning)\n"
     ]
    },
    {
     "name": "stdout",
     "output_type": "stream",
     "text": [
      "Classifier trained for option N.Y.C._Hour_10\n"
     ]
    },
    {
     "name": "stderr",
     "output_type": "stream",
     "text": [
      "C:\\Users\\Katherine\\Anaconda3\\lib\\site-packages\\sklearn\\neural_network\\multilayer_perceptron.py:562: ConvergenceWarning: Stochastic Optimizer: Maximum iterations (200) reached and the optimization hasn't converged yet.\n",
      "  % self.max_iter, ConvergenceWarning)\n"
     ]
    },
    {
     "name": "stdout",
     "output_type": "stream",
     "text": [
      "Classifier trained for option N.Y.C._Hour_11\n",
      "Classifier trained for option N.Y.C._Hour_12\n",
      "Classifier trained for option N.Y.C._Hour_13\n",
      "Classifier trained for option N.Y.C._Hour_14\n",
      "Classifier trained for option N.Y.C._Hour_15\n",
      "Classifier trained for option N.Y.C._Hour_16\n",
      "Classifier trained for option N.Y.C._Hour_17\n"
     ]
    },
    {
     "name": "stderr",
     "output_type": "stream",
     "text": [
      "C:\\Users\\Katherine\\Anaconda3\\lib\\site-packages\\sklearn\\neural_network\\multilayer_perceptron.py:562: ConvergenceWarning: Stochastic Optimizer: Maximum iterations (200) reached and the optimization hasn't converged yet.\n",
      "  % self.max_iter, ConvergenceWarning)\n"
     ]
    },
    {
     "name": "stdout",
     "output_type": "stream",
     "text": [
      "Classifier trained for option N.Y.C._Hour_18\n",
      "Classifier trained for option N.Y.C._Hour_19\n",
      "Classifier trained for option N.Y.C._Hour_20\n",
      "Classifier trained for option N.Y.C._Hour_21\n",
      "Classifier trained for option N.Y.C._Hour_22\n"
     ]
    },
    {
     "name": "stderr",
     "output_type": "stream",
     "text": [
      "C:\\Users\\Katherine\\Anaconda3\\lib\\site-packages\\sklearn\\neural_network\\multilayer_perceptron.py:562: ConvergenceWarning: Stochastic Optimizer: Maximum iterations (200) reached and the optimization hasn't converged yet.\n",
      "  % self.max_iter, ConvergenceWarning)\n"
     ]
    },
    {
     "name": "stdout",
     "output_type": "stream",
     "text": [
      "Classifier trained for option N.Y.C._Hour_23\n",
      "Classifier trained for option NORTH_Hour_0\n",
      "Classifier trained for option NORTH_Hour_1\n",
      "Classifier trained for option NORTH_Hour_2\n",
      "Classifier trained for option NORTH_Hour_3\n",
      "Classifier trained for option NORTH_Hour_4\n"
     ]
    },
    {
     "name": "stderr",
     "output_type": "stream",
     "text": [
      "C:\\Users\\Katherine\\Anaconda3\\lib\\site-packages\\sklearn\\neural_network\\multilayer_perceptron.py:562: ConvergenceWarning: Stochastic Optimizer: Maximum iterations (200) reached and the optimization hasn't converged yet.\n",
      "  % self.max_iter, ConvergenceWarning)\n"
     ]
    },
    {
     "name": "stdout",
     "output_type": "stream",
     "text": [
      "Classifier trained for option NORTH_Hour_5\n",
      "Classifier trained for option NORTH_Hour_6\n"
     ]
    },
    {
     "name": "stderr",
     "output_type": "stream",
     "text": [
      "C:\\Users\\Katherine\\Anaconda3\\lib\\site-packages\\sklearn\\neural_network\\multilayer_perceptron.py:562: ConvergenceWarning: Stochastic Optimizer: Maximum iterations (200) reached and the optimization hasn't converged yet.\n",
      "  % self.max_iter, ConvergenceWarning)\n"
     ]
    },
    {
     "name": "stdout",
     "output_type": "stream",
     "text": [
      "Classifier trained for option NORTH_Hour_7\n"
     ]
    },
    {
     "name": "stderr",
     "output_type": "stream",
     "text": [
      "C:\\Users\\Katherine\\Anaconda3\\lib\\site-packages\\sklearn\\neural_network\\multilayer_perceptron.py:562: ConvergenceWarning: Stochastic Optimizer: Maximum iterations (200) reached and the optimization hasn't converged yet.\n",
      "  % self.max_iter, ConvergenceWarning)\n"
     ]
    },
    {
     "name": "stdout",
     "output_type": "stream",
     "text": [
      "Classifier trained for option NORTH_Hour_8\n"
     ]
    },
    {
     "name": "stderr",
     "output_type": "stream",
     "text": [
      "C:\\Users\\Katherine\\Anaconda3\\lib\\site-packages\\sklearn\\neural_network\\multilayer_perceptron.py:562: ConvergenceWarning: Stochastic Optimizer: Maximum iterations (200) reached and the optimization hasn't converged yet.\n",
      "  % self.max_iter, ConvergenceWarning)\n"
     ]
    },
    {
     "name": "stdout",
     "output_type": "stream",
     "text": [
      "Classifier trained for option NORTH_Hour_9\n",
      "Classifier trained for option NORTH_Hour_10\n",
      "Classifier trained for option NORTH_Hour_11\n",
      "Classifier trained for option NORTH_Hour_12\n",
      "Classifier trained for option NORTH_Hour_13\n",
      "Classifier trained for option NORTH_Hour_14\n",
      "Classifier trained for option NORTH_Hour_15\n",
      "Classifier trained for option NORTH_Hour_16\n",
      "Classifier trained for option NORTH_Hour_17\n",
      "Classifier trained for option NORTH_Hour_18\n",
      "Classifier trained for option NORTH_Hour_19\n"
     ]
    },
    {
     "name": "stderr",
     "output_type": "stream",
     "text": [
      "C:\\Users\\Katherine\\Anaconda3\\lib\\site-packages\\sklearn\\neural_network\\multilayer_perceptron.py:562: ConvergenceWarning: Stochastic Optimizer: Maximum iterations (200) reached and the optimization hasn't converged yet.\n",
      "  % self.max_iter, ConvergenceWarning)\n"
     ]
    },
    {
     "name": "stdout",
     "output_type": "stream",
     "text": [
      "Classifier trained for option NORTH_Hour_20\n",
      "Classifier trained for option NORTH_Hour_21\n",
      "Classifier trained for option NORTH_Hour_22\n",
      "Classifier trained for option NORTH_Hour_23\n"
     ]
    },
    {
     "name": "stderr",
     "output_type": "stream",
     "text": [
      "C:\\Users\\Katherine\\Anaconda3\\lib\\site-packages\\sklearn\\neural_network\\multilayer_perceptron.py:562: ConvergenceWarning: Stochastic Optimizer: Maximum iterations (200) reached and the optimization hasn't converged yet.\n",
      "  % self.max_iter, ConvergenceWarning)\n"
     ]
    },
    {
     "name": "stdout",
     "output_type": "stream",
     "text": [
      "Classifier trained for option WEST_Hour_0\n",
      "Classifier trained for option WEST_Hour_1\n",
      "Classifier trained for option WEST_Hour_2\n",
      "Classifier trained for option WEST_Hour_3\n",
      "Classifier trained for option WEST_Hour_4\n",
      "Classifier trained for option WEST_Hour_5\n",
      "Classifier trained for option WEST_Hour_6\n",
      "Classifier trained for option WEST_Hour_7\n",
      "Classifier trained for option WEST_Hour_8\n",
      "Classifier trained for option WEST_Hour_9\n",
      "Classifier trained for option WEST_Hour_10\n",
      "Classifier trained for option WEST_Hour_11\n"
     ]
    },
    {
     "name": "stderr",
     "output_type": "stream",
     "text": [
      "C:\\Users\\Katherine\\Anaconda3\\lib\\site-packages\\sklearn\\neural_network\\multilayer_perceptron.py:562: ConvergenceWarning: Stochastic Optimizer: Maximum iterations (200) reached and the optimization hasn't converged yet.\n",
      "  % self.max_iter, ConvergenceWarning)\n"
     ]
    },
    {
     "name": "stdout",
     "output_type": "stream",
     "text": [
      "Classifier trained for option WEST_Hour_12\n",
      "Classifier trained for option WEST_Hour_13\n",
      "Classifier trained for option WEST_Hour_14\n",
      "Classifier trained for option WEST_Hour_15\n",
      "Classifier trained for option WEST_Hour_16\n",
      "Classifier trained for option WEST_Hour_17\n"
     ]
    },
    {
     "name": "stderr",
     "output_type": "stream",
     "text": [
      "C:\\Users\\Katherine\\Anaconda3\\lib\\site-packages\\sklearn\\neural_network\\multilayer_perceptron.py:562: ConvergenceWarning: Stochastic Optimizer: Maximum iterations (200) reached and the optimization hasn't converged yet.\n",
      "  % self.max_iter, ConvergenceWarning)\n"
     ]
    },
    {
     "name": "stdout",
     "output_type": "stream",
     "text": [
      "Classifier trained for option WEST_Hour_18\n",
      "Classifier trained for option WEST_Hour_19\n",
      "Classifier trained for option WEST_Hour_20\n",
      "Classifier trained for option WEST_Hour_21\n",
      "Classifier trained for option WEST_Hour_22\n",
      "Classifier trained for option WEST_Hour_23\n",
      "\n",
      "Overall training accuracy = 99.97 percent.\n"
     ]
    }
   ],
   "source": [
    "classifiers = []\n",
    "\n",
    "# We have two options here. Use previous training experience, or learn anew.\n",
    "useSavedClassifiers = False\n",
    "\n",
    "if not useSavedClassifiers:\n",
    "\n",
    "    print(\"Starting training module...\\n\")\n",
    "    trainPriceDA, trainPriceDART, trainLoadDA = loadNYISOData(2015)\n",
    "\n",
    "    numberOfDays =  int(len(trainPriceDA.index))\n",
    "    print(\"Loaded hourly prices from 2015 for %d days.\" % numberOfDays)\n",
    "\n",
    "    # We will implement a trading strategy, where we bid a particular quantile of the past\n",
    "    # DA prices for an option. If you do not know what a quantile means, refer to the Wikipedia\n",
    "    # article on it. Essentially, a 95% quantile of the DA prices equals that value for which\n",
    "    # 95% of the DA prices are below it. Store all quantiles starting from 50% in steps of\n",
    "    # 5% in a dictionary. Store them in a pickle file.\n",
    "\n",
    "    quantilesToStore = [0.70, 0.75, 0.80, 0.85, 0.90, 0.95]\n",
    "    offerPrices = trainPriceDA.quantile(q=quantilesToStore).transpose().to_dict()\n",
    "    pickle.dump(offerPrices, open(\"./Training/OfferPrices\", 'wb'))\n",
    "\n",
    "    # Calculate the average price spread for each option over the entire year. This will guide\n",
    "    # us in choosing our portfolio. Store it as a dictionary. Our bid will choose those\n",
    "    # options that our classifier indicates that they will be profitable and historically they\n",
    "    # have higher average price differences, indicating that they have higher rate of return.\n",
    "    # Store them using pickle.\n",
    "\n",
    "    averagePriceSpread = trainPriceDART.mean(axis=0).transpose().to_dict()\n",
    "    pickle.dump(averagePriceSpread, open(\"./Training/AveragePriceSpread\", 'wb'))\n",
    "\n",
    "    # Create the training dataset using the function 'createClassifierIO' on the prices and\n",
    "    # loads, and store them in 'trainX', and 'trainY'.\n",
    "\n",
    "    trainX, trainY, _ = createClassifierIO(trainPriceDA, trainPriceDART, trainLoadDA)\n",
    "\n",
    "    # Define a collection of classifiers, one for each option. You can try different options, such\n",
    "    # as that based on an SVM, logistic regression, multilayer perceptron based, etc. We will\n",
    "    # measure training accuracy to indicate how well the classifier works on the training dataset.\n",
    "    # However, good training accuracy does not always indicate good test performance.\n",
    "    # Avoid over-fitting.\n",
    "\n",
    "\n",
    "    classifiers = [MLPClassifier(hidden_layer_sizes=(20, 10), max_iter=200)\n",
    "                   for _ in range(nOptions)]\n",
    "\n",
    "    trainingAccuracy = 0\n",
    "\n",
    "    for ii in range(nOptions):\n",
    "        classifiers[ii].fit(trainX, trainY[:, ii])\n",
    "        print(\"Classifier trained for option \" + optionNames[ii])\n",
    "        trainingAccuracy += classifiers[ii].score(trainX, trainY[:, ii])\n",
    "\n",
    "        # Store the classifier.\n",
    "        pickle.dump(classifiers[ii], open(\"./Training/Classifier_\" + optionNames[ii], 'wb'))\n",
    "\n",
    "    print(\"\\nOverall training accuracy = %1.2f percent.\" % (100 * trainingAccuracy/nOptions))\n",
    "\n",
    "    del numberOfDays, trainPriceDA, trainLoadDA, trainPriceDART, trainX, trainY\n",
    "else:\n",
    "\n",
    "    # Load the classifiers, the offer prices at various quantiles, and the average price spreads.\n",
    "\n",
    "    print(\"Loading previously trained variables...\\n\")\n",
    "    classifiers = [pickle.load(open(\"./Training/Classifier_\" + optionNames[ii], 'rb'))\n",
    "                   for ii in range(nOptions)]\n",
    "    offerPrices = pickle.load(open(\"./Training/OfferPrices\", 'rb'))\n",
    "    averagePriceSpread = pickle.load(open(\"./Training/AveragePriceSpread\", 'rb'))\n",
    "\n",
    "    print(\"All training variables were loaded successfully...\\n\")"
   ]
  },
  {
   "cell_type": "code",
   "execution_count": 57,
   "metadata": {},
   "outputs": [
    {
     "name": "stdout",
     "output_type": "stream",
     "text": [
      "Starting the testing module...\n",
      "\n",
      "Test Accuracy Stats: Min = 49.04%, Avg = 59.05%, Max = 68.60%\n"
     ]
    }
   ],
   "source": [
    "# First, load the test data from NYISO for the year 2016. Again, utilize our function\n",
    "# named 'loadNYISOData'.\n",
    "\n",
    "print(\"Starting the testing module...\\n\")\n",
    "testPriceDA, testPriceDART, testLoadDA = loadNYISOData(2016)\n",
    "\n",
    "# Create the data for the classifier using the function 'createClassifierIO'.\n",
    "testX, testY, rangeOfDays = createClassifierIO(testPriceDA, testPriceDART, testLoadDA)\n",
    "\n",
    "# The next step is not useful for implementing the trading strategy, but quickly check how accurate\n",
    "# your trained classifiers are for the test data. Training accuracy is not always indicative of\n",
    "# test accuracy.\n",
    "\n",
    "testingAccuracy = [classifiers[ii].score(testX, testY[:, ii]) for ii in range(nOptions)]\n",
    "print(\"Test Accuracy Stats: Min = %.2f%%, Avg = %.2f%%, Max = %.2f%%\" %\n",
    "      (100 * np.min(testingAccuracy),\n",
    "       100 * np.mean(testingAccuracy),\n",
    "       100 * np.max(testingAccuracy)))\n",
    "\n",
    "# Utilize the classifiers to predict the sign of DA - RT prices for each day in 'rangeOfDays' for\n",
    "# the test data. Store the result in a pandas data frame with columns as the option names and the\n",
    "# day in year as index.\n",
    "predictedY = pd.DataFrame(np.column_stack([classifiers[ii].predict(testX) for ii in range(nOptions)]),\n",
    "                          columns=optionNames, index=rangeOfDays)"
   ]
  },
  {
   "cell_type": "code",
   "execution_count": 58,
   "metadata": {},
   "outputs": [
    {
     "name": "stdout",
     "output_type": "stream",
     "text": [
      "Day 3: Reward (in $) = 3,826\n",
      "Day 4: Reward (in $) = 530,490\n",
      "Day 5: Reward (in $) = 14,484\n",
      "Day 6: Reward (in $) = -31,308\n",
      "Day 7: Reward (in $) = -8,843\n",
      "Day 8: Reward (in $) = 8,886\n",
      "Day 9: Reward (in $) = -23,235\n",
      "Day 10: Reward (in $) = -67,160\n",
      "Day 11: Reward (in $) = -50,925\n",
      "Day 12: Reward (in $) = -37,475\n",
      "Day 13: Reward (in $) = -34,596\n",
      "Day 14: Reward (in $) = -34,869\n",
      "Day 15: Reward (in $) = -1,134\n",
      "Day 16: Reward (in $) = 23,061\n",
      "Day 17: Reward (in $) = -38,671\n",
      "Day 18: Reward (in $) = -17,131\n",
      "Day 19: Reward (in $) = 6,081\n",
      "Day 20: Reward (in $) = -7,799\n",
      "Day 21: Reward (in $) = 12,008\n",
      "Day 22: Reward (in $) = 54,445\n",
      "Day 23: Reward (in $) = 24,169\n",
      "Day 24: Reward (in $) = -25,555\n",
      "Day 25: Reward (in $) = -16,022\n",
      "Day 26: Reward (in $) = -11,588\n",
      "Day 27: Reward (in $) = -4,892\n",
      "Day 28: Reward (in $) = -9,129\n",
      "Day 29: Reward (in $) = -16,388\n",
      "Day 30: Reward (in $) = -20,651\n",
      "Day 31: Reward (in $) = -24,973\n",
      "Day 32: Reward (in $) = -5,645\n",
      "Day 33: Reward (in $) = -35,363\n",
      "Day 34: Reward (in $) = -4,280\n",
      "Day 35: Reward (in $) = 27,916\n",
      "Day 36: Reward (in $) = -21,184\n",
      "Day 37: Reward (in $) = -25,893\n",
      "Day 38: Reward (in $) = -4,268\n",
      "Day 39: Reward (in $) = 10,244\n",
      "Day 40: Reward (in $) = -16,533\n",
      "Day 41: Reward (in $) = -30,334\n",
      "Day 42: Reward (in $) = -6,462\n",
      "Day 43: Reward (in $) = -41,499\n",
      "Day 44: Reward (in $) = -29,235\n",
      "Day 45: Reward (in $) = -4,251\n",
      "Day 46: Reward (in $) = 51,554\n",
      "Day 47: Reward (in $) = 16,399\n",
      "Day 48: Reward (in $) = -40,213\n",
      "Day 49: Reward (in $) = -34,440\n",
      "Day 50: Reward (in $) = -20,606\n",
      "Day 51: Reward (in $) = 7,447\n",
      "Day 52: Reward (in $) = -15,071\n",
      "Day 53: Reward (in $) = -8,828\n",
      "Day 54: Reward (in $) = -313\n",
      "Day 55: Reward (in $) = -3,095\n",
      "Day 56: Reward (in $) = -27,023\n",
      "Day 57: Reward (in $) = -17,679\n",
      "Day 58: Reward (in $) = -12,231\n",
      "Day 59: Reward (in $) = -9,558\n",
      "Day 60: Reward (in $) = -42,772\n",
      "Day 61: Reward (in $) = 14,004\n",
      "Day 62: Reward (in $) = -69,753\n",
      "Day 63: Reward (in $) = -87,807\n",
      "Day 64: Reward (in $) = -24,538\n",
      "Day 65: Reward (in $) = 25,378\n",
      "Day 66: Reward (in $) = 38,016\n",
      "Day 67: Reward (in $) = -7,125\n",
      "Day 68: Reward (in $) = -18,012\n",
      "Day 69: Reward (in $) = -16,200\n",
      "Day 70: Reward (in $) = 21,161\n",
      "Day 71: Reward (in $) = -2,338\n",
      "Day 72: Reward (in $) = -7,533\n",
      "Day 73: Reward (in $) = -42,186\n",
      "Day 74: Reward (in $) = 541,404\n",
      "Day 75: Reward (in $) = -25,293\n",
      "Day 76: Reward (in $) = -56,657\n",
      "Day 77: Reward (in $) = -8,181\n",
      "Day 78: Reward (in $) = -11,404\n",
      "Day 79: Reward (in $) = 31,137\n",
      "Day 80: Reward (in $) = -26,474\n",
      "Day 81: Reward (in $) = 20,944\n",
      "Day 82: Reward (in $) = 18,778\n",
      "Day 83: Reward (in $) = -6,419\n",
      "Day 84: Reward (in $) = -2,087\n",
      "Day 85: Reward (in $) = 3,850\n",
      "Day 86: Reward (in $) = -21,127\n",
      "Day 87: Reward (in $) = 1,636,665\n",
      "Day 88: Reward (in $) = 587,326\n",
      "Day 89: Reward (in $) = -49,279\n",
      "Day 90: Reward (in $) = 17,307\n",
      "Day 91: Reward (in $) = -10,555\n",
      "Day 92: Reward (in $) = -10,722\n",
      "Day 93: Reward (in $) = 157\n",
      "Day 94: Reward (in $) = -39,740\n",
      "Day 95: Reward (in $) = -68,983\n",
      "Day 96: Reward (in $) = 54,688\n",
      "Day 97: Reward (in $) = -8,374\n",
      "Day 98: Reward (in $) = -45,028\n",
      "Day 99: Reward (in $) = -66,487\n",
      "Day 100: Reward (in $) = 3,832\n",
      "Day 101: Reward (in $) = -5,990\n",
      "Day 102: Reward (in $) = -12,327\n",
      "Day 103: Reward (in $) = 11,577\n",
      "Day 104: Reward (in $) = -37,322\n",
      "Day 105: Reward (in $) = -47,498\n",
      "Day 106: Reward (in $) = -63,988\n",
      "Day 107: Reward (in $) = -20,424\n",
      "Day 108: Reward (in $) = -9,360\n",
      "Day 109: Reward (in $) = -57,990\n",
      "Day 110: Reward (in $) = -81,202\n",
      "Day 111: Reward (in $) = 14,748\n",
      "Day 112: Reward (in $) = 63,117\n",
      "Day 113: Reward (in $) = -20,322\n",
      "Day 114: Reward (in $) = -33,469\n",
      "Day 115: Reward (in $) = -68,881\n",
      "Day 116: Reward (in $) = -104,713\n",
      "Day 117: Reward (in $) = -15,708\n",
      "Day 118: Reward (in $) = -35,247\n",
      "Day 119: Reward (in $) = -7,350\n",
      "Day 120: Reward (in $) = 2,435\n",
      "Day 121: Reward (in $) = 35,689\n",
      "Day 122: Reward (in $) = -33,763\n",
      "Day 123: Reward (in $) = -35,071\n",
      "Day 124: Reward (in $) = -23,201\n",
      "Day 125: Reward (in $) = -17,856\n",
      "Day 126: Reward (in $) = -50,659\n",
      "Day 127: Reward (in $) = -11,835\n",
      "Day 128: Reward (in $) = -34,355\n",
      "Day 129: Reward (in $) = -46,486\n",
      "Day 130: Reward (in $) = -15,577\n",
      "Day 131: Reward (in $) = 10,303\n",
      "Day 132: Reward (in $) = 16,149\n",
      "Day 133: Reward (in $) = -67,567\n",
      "Day 134: Reward (in $) = -28,397\n",
      "Day 135: Reward (in $) = -11,596\n",
      "Day 136: Reward (in $) = -11,207\n",
      "Day 137: Reward (in $) = -32,895\n",
      "Day 138: Reward (in $) = -47,403\n",
      "Day 139: Reward (in $) = 938\n",
      "Day 140: Reward (in $) = -15,929\n",
      "Day 141: Reward (in $) = -5,996\n",
      "Day 142: Reward (in $) = 14,987\n",
      "Day 143: Reward (in $) = -49,669\n",
      "Day 144: Reward (in $) = -26,742\n",
      "Day 145: Reward (in $) = -20,474\n",
      "Day 146: Reward (in $) = -4,131\n",
      "Day 147: Reward (in $) = 69,036\n",
      "Day 148: Reward (in $) = 231,986\n",
      "Day 149: Reward (in $) = 44,723\n",
      "Day 150: Reward (in $) = 35,686\n",
      "Day 151: Reward (in $) = 539,385\n",
      "Day 152: Reward (in $) = 305,976\n",
      "Day 153: Reward (in $) = 48,755\n",
      "Day 154: Reward (in $) = 8,214\n",
      "Day 155: Reward (in $) = -26,465\n",
      "Day 156: Reward (in $) = -21,844\n",
      "Day 157: Reward (in $) = -103,365\n",
      "Day 158: Reward (in $) = -32,307\n",
      "Day 159: Reward (in $) = -15,315\n",
      "Day 160: Reward (in $) = -87,320\n",
      "Day 161: Reward (in $) = 2,041\n",
      "Day 162: Reward (in $) = 54,187\n",
      "Day 163: Reward (in $) = -3,754\n",
      "Day 164: Reward (in $) = -6,499\n",
      "Day 165: Reward (in $) = 294,443\n",
      "Day 166: Reward (in $) = 330,389\n",
      "Day 167: Reward (in $) = -44,983\n",
      "Day 168: Reward (in $) = -68,199\n",
      "Day 169: Reward (in $) = 4,982\n",
      "Day 170: Reward (in $) = -23,483\n",
      "Day 171: Reward (in $) = -5,891\n",
      "Day 172: Reward (in $) = -19,972\n",
      "Day 173: Reward (in $) = 92,172\n",
      "Day 174: Reward (in $) = -40,665\n",
      "Day 175: Reward (in $) = -8,415\n",
      "Day 176: Reward (in $) = -14,970\n",
      "Day 177: Reward (in $) = -42,919\n",
      "Day 178: Reward (in $) = -70,857\n",
      "Day 179: Reward (in $) = -87,963\n",
      "Day 180: Reward (in $) = -52,413\n",
      "Day 181: Reward (in $) = -92,089\n",
      "Day 182: Reward (in $) = -54,536\n",
      "Day 183: Reward (in $) = -52,856\n",
      "Day 184: Reward (in $) = -38,080\n",
      "Day 185: Reward (in $) = -13,937\n",
      "Day 186: Reward (in $) = 31,891\n",
      "Day 187: Reward (in $) = -5,298\n",
      "Day 188: Reward (in $) = -5,292\n",
      "Day 189: Reward (in $) = -5,583\n",
      "Day 190: Reward (in $) = -62,710\n",
      "Day 191: Reward (in $) = -12,199\n",
      "Day 192: Reward (in $) = -18,072\n",
      "Day 193: Reward (in $) = -28,704\n",
      "Day 194: Reward (in $) = -4,169\n",
      "Day 195: Reward (in $) = -22,784\n",
      "Day 196: Reward (in $) = 801\n",
      "Day 197: Reward (in $) = 6,017\n",
      "Day 198: Reward (in $) = 6,601\n",
      "Day 199: Reward (in $) = -13,982\n",
      "Day 200: Reward (in $) = -42,818\n",
      "Day 201: Reward (in $) = -56,443\n",
      "Day 202: Reward (in $) = -15,028\n",
      "Day 203: Reward (in $) = 5,621\n",
      "Day 204: Reward (in $) = 3,501\n",
      "Day 205: Reward (in $) = -45,708\n",
      "Day 206: Reward (in $) = -3,633\n",
      "Day 207: Reward (in $) = 54,201\n",
      "Day 208: Reward (in $) = 6,081\n",
      "Day 209: Reward (in $) = -5,719\n",
      "Day 210: Reward (in $) = 61,685\n",
      "Day 211: Reward (in $) = 21,397\n",
      "Day 212: Reward (in $) = 13,404\n",
      "Day 213: Reward (in $) = -113,369\n",
      "Day 214: Reward (in $) = -37,354\n",
      "Day 215: Reward (in $) = -28,205\n",
      "Day 216: Reward (in $) = 2,539\n",
      "Day 217: Reward (in $) = 3,551\n",
      "Day 218: Reward (in $) = 18,951\n",
      "Day 219: Reward (in $) = -15,669\n",
      "Day 220: Reward (in $) = -51,552\n",
      "Day 221: Reward (in $) = -6,848\n",
      "Day 222: Reward (in $) = 31,731\n",
      "Day 223: Reward (in $) = 51,952\n",
      "Day 224: Reward (in $) = 36,021\n",
      "Day 225: Reward (in $) = 138,782\n",
      "Day 226: Reward (in $) = -32,452\n",
      "Day 227: Reward (in $) = 81,761\n",
      "Day 228: Reward (in $) = 222,868\n",
      "Day 229: Reward (in $) = -21,973\n",
      "Day 230: Reward (in $) = -44,068\n",
      "Day 231: Reward (in $) = 1,234\n",
      "Day 232: Reward (in $) = -25,160\n",
      "Day 233: Reward (in $) = -53,345\n",
      "Day 234: Reward (in $) = -63,716\n",
      "Day 235: Reward (in $) = -32,333\n",
      "Day 236: Reward (in $) = 10,520\n",
      "Day 237: Reward (in $) = -33,560\n",
      "Day 238: Reward (in $) = -5,033\n",
      "Day 239: Reward (in $) = -26,397\n",
      "Day 240: Reward (in $) = -39,215\n",
      "Day 241: Reward (in $) = -27,268\n",
      "Day 242: Reward (in $) = -62,679\n",
      "Day 243: Reward (in $) = -56,008\n",
      "Day 244: Reward (in $) = -1,507\n",
      "Day 245: Reward (in $) = -52,198\n",
      "Day 246: Reward (in $) = -29,477\n",
      "Day 247: Reward (in $) = -9,600\n",
      "Day 248: Reward (in $) = -17,945\n",
      "Day 249: Reward (in $) = -12,455\n",
      "Day 250: Reward (in $) = -35,011\n",
      "Day 251: Reward (in $) = 314,267\n",
      "Day 252: Reward (in $) = -14,133\n",
      "Day 253: Reward (in $) = 76,097\n",
      "Day 254: Reward (in $) = -9,491\n",
      "Day 255: Reward (in $) = -90,937\n",
      "Day 256: Reward (in $) = -99,382\n",
      "Day 257: Reward (in $) = 49,977\n",
      "Day 258: Reward (in $) = -14,626\n"
     ]
    },
    {
     "name": "stdout",
     "output_type": "stream",
     "text": [
      "Day 259: Reward (in $) = -20,600\n",
      "Day 260: Reward (in $) = -25,212\n",
      "Day 261: Reward (in $) = 16,372\n",
      "Day 262: Reward (in $) = -7,367\n",
      "Day 263: Reward (in $) = 43,781\n",
      "Day 264: Reward (in $) = -63,952\n",
      "Day 265: Reward (in $) = -30,794\n",
      "Day 266: Reward (in $) = -52,462\n",
      "Day 267: Reward (in $) = -9,552\n",
      "Day 268: Reward (in $) = -12,584\n",
      "Day 269: Reward (in $) = -41,517\n",
      "Day 270: Reward (in $) = -42,053\n",
      "Day 271: Reward (in $) = -6,442\n",
      "Day 272: Reward (in $) = -8,914\n",
      "Day 273: Reward (in $) = -16,048\n",
      "Day 274: Reward (in $) = 6,030\n",
      "Day 275: Reward (in $) = 17,478\n",
      "Day 276: Reward (in $) = 4,354\n",
      "Day 277: Reward (in $) = 64,190\n",
      "Day 278: Reward (in $) = 187,022\n",
      "Day 279: Reward (in $) = 45,070\n",
      "Day 280: Reward (in $) = 7,331\n",
      "Day 281: Reward (in $) = -6,245\n",
      "Day 282: Reward (in $) = 652\n",
      "Day 283: Reward (in $) = -10,964\n",
      "Day 284: Reward (in $) = 8,161\n",
      "Day 285: Reward (in $) = 6,846\n",
      "Day 286: Reward (in $) = -36,652\n",
      "Day 287: Reward (in $) = -23,604\n",
      "Day 288: Reward (in $) = 8,103\n",
      "Day 289: Reward (in $) = 10,496\n",
      "Day 290: Reward (in $) = -33,260\n",
      "Day 291: Reward (in $) = -78,201\n",
      "Day 292: Reward (in $) = 137,902\n",
      "Day 293: Reward (in $) = -18,772\n",
      "Day 294: Reward (in $) = 16,640\n",
      "Day 295: Reward (in $) = -3,834\n",
      "Day 296: Reward (in $) = -15,676\n",
      "Day 297: Reward (in $) = -19,748\n",
      "Day 298: Reward (in $) = -3,894\n",
      "Day 299: Reward (in $) = -32,258\n",
      "Day 300: Reward (in $) = -15,827\n",
      "Day 301: Reward (in $) = -5,658\n",
      "Day 302: Reward (in $) = -11,018\n",
      "Day 303: Reward (in $) = 3,211\n",
      "Day 304: Reward (in $) = -58,022\n",
      "Day 305: Reward (in $) = -11,243\n",
      "Day 306: Reward (in $) = -6,045\n",
      "Day 307: Reward (in $) = 2,825\n",
      "Day 308: Reward (in $) = -27,540\n",
      "Day 309: Reward (in $) = -4,459\n",
      "Day 310: Reward (in $) = -2,892\n",
      "Day 311: Reward (in $) = 15,321\n",
      "Day 312: Reward (in $) = 85,720\n",
      "Day 313: Reward (in $) = -1,419\n",
      "Day 314: Reward (in $) = -38,367\n",
      "Day 315: Reward (in $) = -30,080\n",
      "Day 316: Reward (in $) = -5,488\n",
      "Day 317: Reward (in $) = -17,547\n",
      "Day 318: Reward (in $) = -8,394\n",
      "Day 319: Reward (in $) = 501\n",
      "Day 320: Reward (in $) = 8,190\n",
      "Day 321: Reward (in $) = 8,464\n",
      "Day 322: Reward (in $) = -3,038\n",
      "Day 323: Reward (in $) = 4,347\n",
      "Day 324: Reward (in $) = 7,461\n",
      "Day 325: Reward (in $) = -15,355\n",
      "Day 326: Reward (in $) = 4,231\n",
      "Day 327: Reward (in $) = 3,797\n",
      "Day 328: Reward (in $) = 81,419\n",
      "Day 329: Reward (in $) = 25,848\n",
      "Day 330: Reward (in $) = 12,782\n",
      "Day 331: Reward (in $) = -6,824\n",
      "Day 332: Reward (in $) = -29,378\n",
      "Day 333: Reward (in $) = -41,863\n",
      "Day 334: Reward (in $) = -10,085\n",
      "Day 335: Reward (in $) = -9,000\n",
      "Day 336: Reward (in $) = -14,291\n",
      "Day 337: Reward (in $) = 6,771\n",
      "Day 338: Reward (in $) = -6,921\n",
      "Day 339: Reward (in $) = -15,748\n",
      "Day 340: Reward (in $) = -9,678\n",
      "Day 341: Reward (in $) = -3,614\n",
      "Day 342: Reward (in $) = 28,374\n",
      "Day 343: Reward (in $) = 4,109\n",
      "Day 344: Reward (in $) = 98,238\n",
      "Day 345: Reward (in $) = 54,813\n",
      "Day 346: Reward (in $) = -13,003\n",
      "Day 347: Reward (in $) = -2,878\n",
      "Day 348: Reward (in $) = -30,616\n",
      "Day 349: Reward (in $) = 22,403\n",
      "Day 350: Reward (in $) = 11,441\n",
      "Day 351: Reward (in $) = 151,644\n",
      "Day 352: Reward (in $) = 8,782\n",
      "Day 353: Reward (in $) = -20,534\n",
      "Day 354: Reward (in $) = -32,738\n",
      "Day 355: Reward (in $) = 4,549\n",
      "Day 356: Reward (in $) = -6,641\n",
      "Day 357: Reward (in $) = -36,184\n",
      "Day 358: Reward (in $) = -27,304\n",
      "Day 359: Reward (in $) = -4,775\n",
      "Day 360: Reward (in $) = -19,317\n",
      "Day 361: Reward (in $) = -46,563\n",
      "Day 362: Reward (in $) = 105,397\n",
      "Day 363: Reward (in $) = -29,224\n",
      "Day 364: Reward (in $) = -3,622\n",
      "Day 365: Reward (in $) = -16,357\n",
      "Total money earned over the year (in $) = 1,885,709\n"
     ]
    }
   ],
   "source": [
    "dailyBudget = 250000\n",
    "quantileOffer =0.95\n",
    "\n",
    "# Keep track of your rewards in each day, a cumulative reward over the year, and a total reward over the\n",
    "# year. Also, keep track of the total reward from each option. Store them as dictionaries that are\n",
    "# indexed by day of the year.\n",
    "reward = {}\n",
    "cumulativeReward = {}\n",
    "totalReward = 0\n",
    "optionReturn = dict((option, 0) for option in optionNames)\n",
    "\n",
    "# Implement the trading strategy on each day!\n",
    "\n",
    "for day in rangeOfDays:\n",
    "\n",
    "    reward[day] = 0\n",
    "\n",
    "    # Find the options that your classifier says that should be profitable. Store the profitable option\n",
    "    # names in chosenOptions.\n",
    "    chosenOptionNumbers = np.ravel(list(np.nonzero(predictedY.loc[day].values)))\n",
    "    if np.size(chosenOptionNumbers) == 0:\n",
    "        continue\n",
    "    chosenOptions = [optionNames[i] for i in chosenOptionNumbers]\n",
    "\n",
    "    # Design the portfolio based on average price spreads. Our strategy is that as long as you have not\n",
    "    # exceeded your daily budget, pick an option from the list of 'chosenOptions' probabilistically, where\n",
    "    # the probability of choosing it is proportional to exponential(historical rewards of that option). That\n",
    "    # is, a historically profitable option is chosen more often than one that is not. Keep sampling and\n",
    "    # decreasing your budget with each bid.\n",
    "\n",
    "    # Start with an empty portfolio.\n",
    "\n",
    "    portfolio = dict((option, 0) for option in chosenOptions)\n",
    "\n",
    "    # Calculate the probabilities of choosing each option among the list 'chosenOptions'. Recall that\n",
    "    # 'chosenOptions' contains the options that your classifier indicates as being profitable.\n",
    "    priceSpreads = [1.0 * averagePriceSpread[option] for option in chosenOptions]\n",
    "    probabilityOptions = [np.exp(p) for p in priceSpreads]\n",
    "    probabilityOptions /= np.sum(probabilityOptions)\n",
    "\n",
    "    # Start with your daily budget.\n",
    "    budget = dailyBudget\n",
    "\n",
    "    # Sampling among the profitable options and bid based on them.\n",
    "    while budget > np.median([offerPrices[quantileOffer][option] for option in chosenOptions]):\n",
    "\n",
    "        optionToBuy = choice(chosenOptions, p=probabilityOptions)\n",
    "\n",
    "        if budget >= offerPrices[quantileOffer][optionToBuy]:\n",
    "            portfolio[optionToBuy] += 1\n",
    "            budget -= offerPrices[quantileOffer][optionToBuy]\n",
    "\n",
    "    # Compute the reward from the day. Go through each of the options you have decided to buy.\n",
    "    # If the DA price is lower than the bid price, then your bid is cleared. For each option you\n",
    "    # have bought, you get a reward equal to the DA - RT price.\n",
    "\n",
    "    for option in chosenOptions:\n",
    "        if testPriceDA.at[day, option] < offerPrices[quantileOffer][option]:\n",
    "            rewardOptionDay = testPriceDART.at[day, option] * portfolio[option]\n",
    "            optionReturn[option] += rewardOptionDay\n",
    "            reward[day] += rewardOptionDay\n",
    "\n",
    "    totalReward += reward[day]\n",
    "\n",
    "    # Calculate the cumulative reward in millions of dollars.\n",
    "    cumulativeReward[day] = totalReward/1000000\n",
    "\n",
    "    print(\"Day \" + str(day) + \": Reward (in $) = \" + \"{0:,.0f}\".format(reward[day]))\n",
    "\n",
    "print(\"Total money earned over the year (in $) = \" + \"{0:,.0f}\".format(totalReward))"
   ]
  },
  {
   "cell_type": "markdown",
   "metadata": {},
   "source": [
    "### Task 4: Daily budget (25 points)\n",
    "\n",
    "We used a daily budget of 250,000. Try different budgets, let's say, 100,000, 150,000, 200,000, and 300,000. Rank them in terms of profits (low to high). Fix the quantile to the one that led to maximum profits in the previous task. \n",
    "\n",
    "#### (comments here, add a new code cell below)"
   ]
  },
  {
   "cell_type": "code",
   "execution_count": 59,
   "metadata": {},
   "outputs": [
    {
     "name": "stdout",
     "output_type": "stream",
     "text": [
      "Day 3: Reward (in $) = -79,584\n",
      "Day 4: Reward (in $) = 1,188,800\n",
      "Day 5: Reward (in $) = 34,280\n",
      "Day 6: Reward (in $) = -21,752\n",
      "Day 7: Reward (in $) = -12,560\n",
      "Day 8: Reward (in $) = 27,097\n",
      "Day 9: Reward (in $) = -54,827\n",
      "Day 10: Reward (in $) = -139,145\n",
      "Day 11: Reward (in $) = -106,674\n",
      "Day 12: Reward (in $) = -76,502\n",
      "Day 13: Reward (in $) = -67,128\n",
      "Day 14: Reward (in $) = -81,447\n",
      "Day 15: Reward (in $) = -3,819\n",
      "Day 16: Reward (in $) = 51,060\n",
      "Day 17: Reward (in $) = -87,604\n",
      "Day 18: Reward (in $) = -35,478\n",
      "Day 19: Reward (in $) = 10,289\n",
      "Day 20: Reward (in $) = -16,209\n",
      "Day 21: Reward (in $) = 38,944\n",
      "Day 22: Reward (in $) = 112,048\n",
      "Day 23: Reward (in $) = 41,399\n",
      "Day 24: Reward (in $) = -57,823\n",
      "Day 25: Reward (in $) = -27,434\n",
      "Day 26: Reward (in $) = -34,337\n",
      "Day 27: Reward (in $) = -14,392\n",
      "Day 28: Reward (in $) = -20,167\n",
      "Day 29: Reward (in $) = -38,483\n",
      "Day 30: Reward (in $) = -42,560\n",
      "Day 31: Reward (in $) = -49,481\n",
      "Day 32: Reward (in $) = -12,259\n",
      "Day 33: Reward (in $) = -75,618\n",
      "Day 34: Reward (in $) = -8,651\n",
      "Day 35: Reward (in $) = 64,678\n",
      "Day 36: Reward (in $) = -45,894\n",
      "Day 37: Reward (in $) = -52,024\n",
      "Day 38: Reward (in $) = -7,540\n",
      "Day 39: Reward (in $) = 19,919\n",
      "Day 40: Reward (in $) = -34,498\n",
      "Day 41: Reward (in $) = -67,019\n",
      "Day 42: Reward (in $) = -14,591\n",
      "Day 43: Reward (in $) = -62,003\n",
      "Day 44: Reward (in $) = -34,140\n",
      "Day 45: Reward (in $) = -23,187\n",
      "Day 46: Reward (in $) = 103,934\n",
      "Day 47: Reward (in $) = 36,479\n",
      "Day 48: Reward (in $) = -81,509\n",
      "Day 49: Reward (in $) = -72,833\n",
      "Day 50: Reward (in $) = -45,081\n",
      "Day 51: Reward (in $) = 19,201\n",
      "Day 52: Reward (in $) = -34,293\n",
      "Day 53: Reward (in $) = -18,580\n",
      "Day 54: Reward (in $) = -201\n",
      "Day 55: Reward (in $) = -5,333\n",
      "Day 56: Reward (in $) = -58,564\n",
      "Day 57: Reward (in $) = -37,803\n",
      "Day 58: Reward (in $) = -25,984\n",
      "Day 59: Reward (in $) = -20,364\n",
      "Day 60: Reward (in $) = -92,051\n",
      "Day 61: Reward (in $) = 52,747\n",
      "Day 62: Reward (in $) = -1,341\n",
      "Day 63: Reward (in $) = 2,122\n",
      "Day 64: Reward (in $) = -14,683\n",
      "Day 65: Reward (in $) = 52,724\n",
      "Day 66: Reward (in $) = 82,582\n",
      "Day 67: Reward (in $) = -16,551\n",
      "Day 68: Reward (in $) = -63,446\n",
      "Day 69: Reward (in $) = -60,496\n",
      "Day 70: Reward (in $) = 59,291\n",
      "Day 71: Reward (in $) = -5,543\n",
      "Day 72: Reward (in $) = -16,030\n",
      "Day 73: Reward (in $) = -90,046\n",
      "Day 74: Reward (in $) = 1,208,877\n",
      "Day 75: Reward (in $) = -51,391\n",
      "Day 76: Reward (in $) = -119,493\n",
      "Day 77: Reward (in $) = -26,303\n",
      "Day 78: Reward (in $) = -38,260\n",
      "Day 79: Reward (in $) = 71,548\n",
      "Day 80: Reward (in $) = -53,932\n",
      "Day 81: Reward (in $) = 43,755\n",
      "Day 82: Reward (in $) = 38,177\n",
      "Day 83: Reward (in $) = -20,650\n",
      "Day 84: Reward (in $) = -6,343\n",
      "Day 85: Reward (in $) = 13,247\n",
      "Day 86: Reward (in $) = -50,772\n",
      "Day 87: Reward (in $) = 3,564,109\n",
      "Day 88: Reward (in $) = 1,233,478\n",
      "Day 89: Reward (in $) = -110,772\n",
      "Day 90: Reward (in $) = -47,662\n",
      "Day 91: Reward (in $) = -30,977\n",
      "Day 92: Reward (in $) = -40,272\n",
      "Day 93: Reward (in $) = 1,279\n",
      "Day 94: Reward (in $) = 17,097\n",
      "Day 95: Reward (in $) = -4,574\n",
      "Day 96: Reward (in $) = 91,401\n",
      "Day 97: Reward (in $) = 15,211\n",
      "Day 98: Reward (in $) = -5,272\n",
      "Day 99: Reward (in $) = -32,490\n",
      "Day 100: Reward (in $) = 18,791\n",
      "Day 101: Reward (in $) = -12,261\n",
      "Day 102: Reward (in $) = 113\n",
      "Day 103: Reward (in $) = 30,974\n",
      "Day 104: Reward (in $) = -33,643\n",
      "Day 105: Reward (in $) = -97,333\n",
      "Day 106: Reward (in $) = -239,444\n",
      "Day 107: Reward (in $) = -44,838\n",
      "Day 108: Reward (in $) = 40,175\n",
      "Day 109: Reward (in $) = 5,059\n",
      "Day 110: Reward (in $) = -16,225\n",
      "Day 111: Reward (in $) = 46,930\n",
      "Day 112: Reward (in $) = 133,677\n",
      "Day 113: Reward (in $) = -42,902\n",
      "Day 114: Reward (in $) = -69,085\n",
      "Day 115: Reward (in $) = -156,957\n",
      "Day 116: Reward (in $) = 1,289\n",
      "Day 117: Reward (in $) = -34,307\n",
      "Day 118: Reward (in $) = -80,775\n",
      "Day 119: Reward (in $) = 231\n",
      "Day 120: Reward (in $) = 8,200\n",
      "Day 121: Reward (in $) = 77,331\n",
      "Day 122: Reward (in $) = 4,981\n",
      "Day 123: Reward (in $) = -88,536\n",
      "Day 124: Reward (in $) = -60,388\n",
      "Day 125: Reward (in $) = -43,627\n",
      "Day 126: Reward (in $) = -120,612\n",
      "Day 127: Reward (in $) = -44,935\n",
      "Day 128: Reward (in $) = -74,576\n",
      "Day 129: Reward (in $) = -119,929\n",
      "Day 130: Reward (in $) = -43,141\n",
      "Day 131: Reward (in $) = 35,803\n",
      "Day 132: Reward (in $) = 58,392\n",
      "Day 133: Reward (in $) = -139,185\n",
      "Day 134: Reward (in $) = -65,033\n",
      "Day 135: Reward (in $) = -26,389\n",
      "Day 136: Reward (in $) = -30,261\n",
      "Day 137: Reward (in $) = -68,253\n",
      "Day 138: Reward (in $) = -96,777\n",
      "Day 139: Reward (in $) = 3,137\n",
      "Day 140: Reward (in $) = -63,461\n",
      "Day 141: Reward (in $) = -20,484\n",
      "Day 142: Reward (in $) = 32,435\n",
      "Day 143: Reward (in $) = -110,946\n",
      "Day 144: Reward (in $) = -58,080\n",
      "Day 145: Reward (in $) = -73,103\n",
      "Day 146: Reward (in $) = -4,248\n",
      "Day 147: Reward (in $) = 1,188\n",
      "Day 148: Reward (in $) = 498,011\n",
      "Day 149: Reward (in $) = 87,491\n",
      "Day 150: Reward (in $) = 74,392\n",
      "Day 151: Reward (in $) = 729,398\n",
      "Day 152: Reward (in $) = 672,394\n",
      "Day 153: Reward (in $) = 160,743\n",
      "Day 154: Reward (in $) = 27,273\n",
      "Day 155: Reward (in $) = -58,622\n",
      "Day 156: Reward (in $) = -47,583\n",
      "Day 157: Reward (in $) = -48,512\n",
      "Day 158: Reward (in $) = -109,811\n",
      "Day 159: Reward (in $) = -54,272\n",
      "Day 160: Reward (in $) = -149,989\n",
      "Day 161: Reward (in $) = 6,876\n",
      "Day 162: Reward (in $) = 201,880\n",
      "Day 163: Reward (in $) = -11,223\n",
      "Day 164: Reward (in $) = -13,475\n",
      "Day 165: Reward (in $) = 211,479\n",
      "Day 166: Reward (in $) = 6,712\n",
      "Day 167: Reward (in $) = 11,419\n",
      "Day 168: Reward (in $) = 1,983\n",
      "Day 169: Reward (in $) = 20,293\n",
      "Day 170: Reward (in $) = -60,183\n",
      "Day 171: Reward (in $) = -7,717\n",
      "Day 172: Reward (in $) = -3,244\n",
      "Day 173: Reward (in $) = 258,419\n",
      "Day 174: Reward (in $) = 11,850\n",
      "Day 175: Reward (in $) = 48,095\n",
      "Day 176: Reward (in $) = -19,139\n",
      "Day 177: Reward (in $) = -33,925\n",
      "Day 178: Reward (in $) = -1,940\n",
      "Day 179: Reward (in $) = -7,026\n",
      "Day 180: Reward (in $) = -19,613\n",
      "Day 181: Reward (in $) = -29,577\n",
      "Day 182: Reward (in $) = -1,925\n",
      "Day 183: Reward (in $) = -107,696\n",
      "Day 184: Reward (in $) = -75,827\n",
      "Day 185: Reward (in $) = -30,446\n",
      "Day 186: Reward (in $) = 50,694\n",
      "Day 187: Reward (in $) = 1,481\n",
      "Day 188: Reward (in $) = 11\n",
      "Day 189: Reward (in $) = -68\n",
      "Day 190: Reward (in $) = -124,050\n",
      "Day 191: Reward (in $) = -38,158\n",
      "Day 192: Reward (in $) = -43,195\n",
      "Day 193: Reward (in $) = -39,637\n",
      "Day 194: Reward (in $) = 1,473\n",
      "Day 195: Reward (in $) = 3,722\n",
      "Day 196: Reward (in $) = 11,591\n",
      "Day 197: Reward (in $) = 16,941\n",
      "Day 198: Reward (in $) = 18,794\n",
      "Day 199: Reward (in $) = 1,528\n",
      "Day 200: Reward (in $) = -87,753\n",
      "Day 201: Reward (in $) = -17,335\n",
      "Day 202: Reward (in $) = 468\n",
      "Day 203: Reward (in $) = 1,258\n",
      "Day 204: Reward (in $) = 358\n",
      "Day 205: Reward (in $) = -85,446\n",
      "Day 206: Reward (in $) = -205\n",
      "Day 207: Reward (in $) = -351\n",
      "Day 208: Reward (in $) = -944\n",
      "Day 209: Reward (in $) = 6,617\n",
      "Day 210: Reward (in $) = 10,897\n",
      "Day 211: Reward (in $) = 46,529\n",
      "Day 212: Reward (in $) = 34,751\n",
      "Day 213: Reward (in $) = 259\n",
      "Day 214: Reward (in $) = -2,169\n",
      "Day 215: Reward (in $) = -64,341\n",
      "Day 216: Reward (in $) = 1,866\n",
      "Day 217: Reward (in $) = 10,869\n",
      "Day 218: Reward (in $) = 48,113\n",
      "Day 219: Reward (in $) = -33,900\n",
      "Day 220: Reward (in $) = -1,142\n",
      "Day 221: Reward (in $) = -28,265\n",
      "Day 222: Reward (in $) = 43,209\n",
      "Day 223: Reward (in $) = 140\n",
      "Day 224: Reward (in $) = 0\n",
      "Day 225: Reward (in $) = 452\n",
      "Day 226: Reward (in $) = -58,942\n",
      "Day 227: Reward (in $) = -1,955\n",
      "Day 228: Reward (in $) = 1,500\n",
      "Day 229: Reward (in $) = 661\n",
      "Day 230: Reward (in $) = -1,763\n",
      "Day 231: Reward (in $) = -3\n",
      "Day 232: Reward (in $) = -47,770\n",
      "Day 233: Reward (in $) = -113,237\n",
      "Day 234: Reward (in $) = -100,687\n",
      "Day 235: Reward (in $) = -90,154\n",
      "Day 236: Reward (in $) = 30,982\n",
      "Day 237: Reward (in $) = 20,005\n",
      "Day 238: Reward (in $) = 2,501\n",
      "Day 239: Reward (in $) = -20,499\n",
      "Day 240: Reward (in $) = -11,541\n",
      "Day 241: Reward (in $) = 354\n",
      "Day 242: Reward (in $) = -124,409\n",
      "Day 243: Reward (in $) = -55,341\n",
      "Day 244: Reward (in $) = -2,534\n",
      "Day 245: Reward (in $) = -109,328\n",
      "Day 246: Reward (in $) = -69,939\n",
      "Day 247: Reward (in $) = -21,716\n",
      "Day 248: Reward (in $) = -40,236\n",
      "Day 249: Reward (in $) = -26,253\n",
      "Day 250: Reward (in $) = 428\n",
      "Day 251: Reward (in $) = -153\n",
      "Day 252: Reward (in $) = 499\n",
      "Day 253: Reward (in $) = 156,383\n",
      "Day 254: Reward (in $) = -15,601\n",
      "Day 255: Reward (in $) = -2,030\n",
      "Day 256: Reward (in $) = -3,625\n",
      "Day 257: Reward (in $) = -8,186\n",
      "Day 258: Reward (in $) = -36,774\n",
      "Day 259: Reward (in $) = -61,012\n"
     ]
    },
    {
     "name": "stdout",
     "output_type": "stream",
     "text": [
      "Day 260: Reward (in $) = -64,495\n",
      "Day 261: Reward (in $) = 44,279\n",
      "Day 262: Reward (in $) = 19,946\n",
      "Day 263: Reward (in $) = -152\n",
      "Day 264: Reward (in $) = -4,893\n",
      "Day 265: Reward (in $) = -2,015\n",
      "Day 266: Reward (in $) = -12,814\n",
      "Day 267: Reward (in $) = -22,507\n",
      "Day 268: Reward (in $) = -27,318\n",
      "Day 269: Reward (in $) = -93,556\n",
      "Day 270: Reward (in $) = -98,009\n",
      "Day 271: Reward (in $) = -14,672\n",
      "Day 272: Reward (in $) = -23,711\n",
      "Day 273: Reward (in $) = -50,162\n",
      "Day 274: Reward (in $) = 19,060\n",
      "Day 275: Reward (in $) = 53,799\n",
      "Day 276: Reward (in $) = 12,985\n",
      "Day 277: Reward (in $) = 144,409\n",
      "Day 278: Reward (in $) = 406,958\n",
      "Day 279: Reward (in $) = 28,204\n",
      "Day 280: Reward (in $) = 24,938\n",
      "Day 281: Reward (in $) = -14,631\n",
      "Day 282: Reward (in $) = 2,577\n",
      "Day 283: Reward (in $) = -7,341\n",
      "Day 284: Reward (in $) = 33,173\n",
      "Day 285: Reward (in $) = 24,357\n",
      "Day 286: Reward (in $) = -89,581\n",
      "Day 287: Reward (in $) = -57,173\n",
      "Day 288: Reward (in $) = 26,588\n",
      "Day 289: Reward (in $) = 24,620\n",
      "Day 290: Reward (in $) = 12,064\n",
      "Day 291: Reward (in $) = -13,393\n",
      "Day 292: Reward (in $) = -1,618\n",
      "Day 293: Reward (in $) = -39,741\n",
      "Day 294: Reward (in $) = 39,527\n",
      "Day 295: Reward (in $) = -14,113\n",
      "Day 296: Reward (in $) = -54,359\n",
      "Day 297: Reward (in $) = -46,888\n",
      "Day 298: Reward (in $) = -14,547\n",
      "Day 299: Reward (in $) = -73,730\n",
      "Day 300: Reward (in $) = -37,711\n",
      "Day 301: Reward (in $) = -13,929\n",
      "Day 302: Reward (in $) = -25,841\n",
      "Day 303: Reward (in $) = 12,310\n",
      "Day 304: Reward (in $) = -30,415\n",
      "Day 305: Reward (in $) = -26,727\n",
      "Day 306: Reward (in $) = -11,398\n",
      "Day 307: Reward (in $) = 9,284\n",
      "Day 308: Reward (in $) = -55,216\n",
      "Day 309: Reward (in $) = -8,690\n",
      "Day 310: Reward (in $) = -6,223\n",
      "Day 311: Reward (in $) = 44,742\n",
      "Day 312: Reward (in $) = 195,944\n",
      "Day 313: Reward (in $) = -4,563\n",
      "Day 314: Reward (in $) = -79,369\n",
      "Day 315: Reward (in $) = -63,257\n",
      "Day 316: Reward (in $) = -11,962\n",
      "Day 317: Reward (in $) = -39,980\n",
      "Day 318: Reward (in $) = -16,204\n",
      "Day 319: Reward (in $) = 1,394\n",
      "Day 320: Reward (in $) = 22,954\n",
      "Day 321: Reward (in $) = 19,554\n",
      "Day 322: Reward (in $) = -6,319\n",
      "Day 323: Reward (in $) = 9,752\n",
      "Day 324: Reward (in $) = 15,846\n",
      "Day 325: Reward (in $) = -36,086\n",
      "Day 326: Reward (in $) = 18,114\n",
      "Day 327: Reward (in $) = 7,511\n",
      "Day 328: Reward (in $) = 171,623\n",
      "Day 329: Reward (in $) = 53,094\n",
      "Day 330: Reward (in $) = 25,732\n",
      "Day 331: Reward (in $) = -18,101\n",
      "Day 332: Reward (in $) = -59,809\n",
      "Day 333: Reward (in $) = -89,210\n",
      "Day 334: Reward (in $) = -23,512\n",
      "Day 335: Reward (in $) = -19,603\n",
      "Day 336: Reward (in $) = -30,716\n",
      "Day 337: Reward (in $) = 12,450\n",
      "Day 338: Reward (in $) = -13,769\n",
      "Day 339: Reward (in $) = -19,236\n",
      "Day 340: Reward (in $) = -8,966\n",
      "Day 341: Reward (in $) = -3,949\n",
      "Day 342: Reward (in $) = 9,821\n",
      "Day 343: Reward (in $) = -69,275\n",
      "Day 344: Reward (in $) = 230,890\n",
      "Day 345: Reward (in $) = 123,292\n",
      "Day 346: Reward (in $) = -36,736\n",
      "Day 347: Reward (in $) = -1,964\n",
      "Day 348: Reward (in $) = -56,172\n",
      "Day 349: Reward (in $) = 54,131\n",
      "Day 350: Reward (in $) = 2\n",
      "Day 351: Reward (in $) = 314,461\n",
      "Day 352: Reward (in $) = 11,146\n",
      "Day 353: Reward (in $) = -11,685\n",
      "Day 354: Reward (in $) = -63,841\n",
      "Day 355: Reward (in $) = 14,592\n",
      "Day 356: Reward (in $) = -6,066\n",
      "Day 357: Reward (in $) = -70,611\n",
      "Day 358: Reward (in $) = -54,437\n",
      "Day 359: Reward (in $) = -13,713\n",
      "Day 360: Reward (in $) = -40,988\n",
      "Day 361: Reward (in $) = -113,788\n",
      "Day 362: Reward (in $) = 229,341\n",
      "Day 363: Reward (in $) = -62,137\n",
      "Day 364: Reward (in $) = -1,170\n",
      "Day 365: Reward (in $) = -36,095\n",
      "Total money earned over the year (in $) = 5,066,262\n"
     ]
    }
   ],
   "source": [
    "dailyBudget = 300000\n",
    "quantileOffer =0.7\n",
    "\n",
    "# Keep track of your rewards in each day, a cumulative reward over the year, and a total reward over the\n",
    "# year. Also, keep track of the total reward from each option. Store them as dictionaries that are\n",
    "# indexed by day of the year.\n",
    "reward = {}\n",
    "cumulativeReward = {}\n",
    "totalReward = 0\n",
    "optionReturn = dict((option, 0) for option in optionNames)\n",
    "\n",
    "# Implement the trading strategy on each day!\n",
    "\n",
    "for day in rangeOfDays:\n",
    "\n",
    "    reward[day] = 0\n",
    "\n",
    "    # Find the options that your classifier says that should be profitable. Store the profitable option\n",
    "    # names in chosenOptions.\n",
    "    chosenOptionNumbers = np.ravel(list(np.nonzero(predictedY.loc[day].values)))\n",
    "    if np.size(chosenOptionNumbers) == 0:\n",
    "        continue\n",
    "    chosenOptions = [optionNames[i] for i in chosenOptionNumbers]\n",
    "\n",
    "    # Design the portfolio based on average price spreads. Our strategy is that as long as you have not\n",
    "    # exceeded your daily budget, pick an option from the list of 'chosenOptions' probabilistically, where\n",
    "    # the probability of choosing it is proportional to exponential(historical rewards of that option). That\n",
    "    # is, a historically profitable option is chosen more often than one that is not. Keep sampling and\n",
    "    # decreasing your budget with each bid.\n",
    "\n",
    "    # Start with an empty portfolio.\n",
    "\n",
    "    portfolio = dict((option, 0) for option in chosenOptions)\n",
    "\n",
    "    # Calculate the probabilities of choosing each option among the list 'chosenOptions'. Recall that\n",
    "    # 'chosenOptions' contains the options that your classifier indicates as being profitable.\n",
    "    priceSpreads = [1.0 * averagePriceSpread[option] for option in chosenOptions]\n",
    "    probabilityOptions = [np.exp(p) for p in priceSpreads]\n",
    "    probabilityOptions /= np.sum(probabilityOptions)\n",
    "\n",
    "    # Start with your daily budget.\n",
    "    budget = dailyBudget\n",
    "\n",
    "    # Sampling among the profitable options and bid based on them.\n",
    "    while budget > np.median([offerPrices[quantileOffer][option] for option in chosenOptions]):\n",
    "\n",
    "        optionToBuy = choice(chosenOptions, p=probabilityOptions)\n",
    "\n",
    "        if budget >= offerPrices[quantileOffer][optionToBuy]:\n",
    "            portfolio[optionToBuy] += 1\n",
    "            budget -= offerPrices[quantileOffer][optionToBuy]\n",
    "\n",
    "    # Compute the reward from the day. Go through each of the options you have decided to buy.\n",
    "    # If the DA price is lower than the bid price, then your bid is cleared. For each option you\n",
    "    # have bought, you get a reward equal to the DA - RT price.\n",
    "\n",
    "    for option in chosenOptions:\n",
    "        if testPriceDA.at[day, option] < offerPrices[quantileOffer][option]:\n",
    "            rewardOptionDay = testPriceDART.at[day, option] * portfolio[option]\n",
    "            optionReturn[option] += rewardOptionDay\n",
    "            reward[day] += rewardOptionDay\n",
    "\n",
    "    totalReward += reward[day]\n",
    "\n",
    "    # Calculate the cumulative reward in millions of dollars.\n",
    "    cumulativeReward[day] = totalReward/1000000\n",
    "\n",
    "    print(\"Day \" + str(day) + \": Reward (in $) = \" + \"{0:,.0f}\".format(reward[day]))\n",
    "\n",
    "print(\"Total money earned over the year (in $) = \" + \"{0:,.0f}\".format(totalReward))"
   ]
  },
  {
   "cell_type": "markdown",
   "metadata": {},
   "source": [
    "#### Answer:\n",
    "Profit for dailyBudget = 100000: 2,045,769 Profit for dailyBudget = 150000: 3,120,598 Profit for dailyBudget = 200000: 4,060,875 Profit for dailyBudget = 300000: 6,075,765. To rank from low profit to hight profit: 100000<150000<200000<300000 Thus as dailyBudget gets increases, the corresponding profit also gets larger."
   ]
  },
  {
   "cell_type": "markdown",
   "metadata": {},
   "source": [
    "### Task 6: Beat the algorithm! (25 points, bonus) \n",
    "\n",
    "Make changes to increase the profits further! The people with the top 20 total profits will get additional points. Exaplain what did for improvement and how much profits you made. Do not exceed the 250,000 budget!\n",
    "\n",
    "#### (comments here, add a new code cell below)"
   ]
  },
  {
   "cell_type": "code",
   "execution_count": 60,
   "metadata": {},
   "outputs": [
    {
     "name": "stdout",
     "output_type": "stream",
     "text": [
      "Starting training module...\n",
      "\n",
      "Loaded hourly prices from 2015 for 365 days.\n",
      "Classifier trained for option CAPITL_Hour_0\n",
      "Classifier trained for option CAPITL_Hour_1\n",
      "Classifier trained for option CAPITL_Hour_2\n",
      "Classifier trained for option CAPITL_Hour_3\n",
      "Classifier trained for option CAPITL_Hour_4\n",
      "Classifier trained for option CAPITL_Hour_5\n",
      "Classifier trained for option CAPITL_Hour_6\n",
      "Classifier trained for option CAPITL_Hour_7\n",
      "Classifier trained for option CAPITL_Hour_8\n",
      "Classifier trained for option CAPITL_Hour_9\n",
      "Classifier trained for option CAPITL_Hour_10\n",
      "Classifier trained for option CAPITL_Hour_11\n",
      "Classifier trained for option CAPITL_Hour_12\n",
      "Classifier trained for option CAPITL_Hour_13\n",
      "Classifier trained for option CAPITL_Hour_14\n",
      "Classifier trained for option CAPITL_Hour_15\n",
      "Classifier trained for option CAPITL_Hour_16\n",
      "Classifier trained for option CAPITL_Hour_17\n",
      "Classifier trained for option CAPITL_Hour_18\n",
      "Classifier trained for option CAPITL_Hour_19\n",
      "Classifier trained for option CAPITL_Hour_20\n",
      "Classifier trained for option CAPITL_Hour_21\n",
      "Classifier trained for option CAPITL_Hour_22\n",
      "Classifier trained for option CAPITL_Hour_23\n",
      "Classifier trained for option CENTRL_Hour_0\n",
      "Classifier trained for option CENTRL_Hour_1\n",
      "Classifier trained for option CENTRL_Hour_2\n",
      "Classifier trained for option CENTRL_Hour_3\n",
      "Classifier trained for option CENTRL_Hour_4\n",
      "Classifier trained for option CENTRL_Hour_5\n",
      "Classifier trained for option CENTRL_Hour_6\n",
      "Classifier trained for option CENTRL_Hour_7\n",
      "Classifier trained for option CENTRL_Hour_8\n",
      "Classifier trained for option CENTRL_Hour_9\n",
      "Classifier trained for option CENTRL_Hour_10\n",
      "Classifier trained for option CENTRL_Hour_11\n",
      "Classifier trained for option CENTRL_Hour_12\n",
      "Classifier trained for option CENTRL_Hour_13\n",
      "Classifier trained for option CENTRL_Hour_14\n",
      "Classifier trained for option CENTRL_Hour_15\n",
      "Classifier trained for option CENTRL_Hour_16\n",
      "Classifier trained for option CENTRL_Hour_17\n",
      "Classifier trained for option CENTRL_Hour_18\n",
      "Classifier trained for option CENTRL_Hour_19\n",
      "Classifier trained for option CENTRL_Hour_20\n",
      "Classifier trained for option CENTRL_Hour_21\n",
      "Classifier trained for option CENTRL_Hour_22\n",
      "Classifier trained for option CENTRL_Hour_23\n",
      "Classifier trained for option DUNWOD_Hour_0\n",
      "Classifier trained for option DUNWOD_Hour_1\n",
      "Classifier trained for option DUNWOD_Hour_2\n",
      "Classifier trained for option DUNWOD_Hour_3\n",
      "Classifier trained for option DUNWOD_Hour_4\n",
      "Classifier trained for option DUNWOD_Hour_5\n",
      "Classifier trained for option DUNWOD_Hour_6\n",
      "Classifier trained for option DUNWOD_Hour_7\n",
      "Classifier trained for option DUNWOD_Hour_8\n",
      "Classifier trained for option DUNWOD_Hour_9\n",
      "Classifier trained for option DUNWOD_Hour_10\n",
      "Classifier trained for option DUNWOD_Hour_11\n",
      "Classifier trained for option DUNWOD_Hour_12\n",
      "Classifier trained for option DUNWOD_Hour_13\n",
      "Classifier trained for option DUNWOD_Hour_14\n",
      "Classifier trained for option DUNWOD_Hour_15\n",
      "Classifier trained for option DUNWOD_Hour_16\n",
      "Classifier trained for option DUNWOD_Hour_17\n",
      "Classifier trained for option DUNWOD_Hour_18\n",
      "Classifier trained for option DUNWOD_Hour_19\n",
      "Classifier trained for option DUNWOD_Hour_20\n",
      "Classifier trained for option DUNWOD_Hour_21\n",
      "Classifier trained for option DUNWOD_Hour_22\n",
      "Classifier trained for option DUNWOD_Hour_23\n",
      "Classifier trained for option GENESE_Hour_0\n",
      "Classifier trained for option GENESE_Hour_1\n",
      "Classifier trained for option GENESE_Hour_2\n",
      "Classifier trained for option GENESE_Hour_3\n",
      "Classifier trained for option GENESE_Hour_4\n",
      "Classifier trained for option GENESE_Hour_5\n",
      "Classifier trained for option GENESE_Hour_6\n",
      "Classifier trained for option GENESE_Hour_7\n",
      "Classifier trained for option GENESE_Hour_8\n",
      "Classifier trained for option GENESE_Hour_9\n",
      "Classifier trained for option GENESE_Hour_10\n",
      "Classifier trained for option GENESE_Hour_11\n",
      "Classifier trained for option GENESE_Hour_12\n",
      "Classifier trained for option GENESE_Hour_13\n",
      "Classifier trained for option GENESE_Hour_14\n",
      "Classifier trained for option GENESE_Hour_15\n",
      "Classifier trained for option GENESE_Hour_16\n",
      "Classifier trained for option GENESE_Hour_17\n",
      "Classifier trained for option GENESE_Hour_18\n",
      "Classifier trained for option GENESE_Hour_19\n",
      "Classifier trained for option GENESE_Hour_20\n",
      "Classifier trained for option GENESE_Hour_21\n",
      "Classifier trained for option GENESE_Hour_22\n",
      "Classifier trained for option GENESE_Hour_23\n",
      "Classifier trained for option HUD VL_Hour_0\n",
      "Classifier trained for option HUD VL_Hour_1\n",
      "Classifier trained for option HUD VL_Hour_2\n",
      "Classifier trained for option HUD VL_Hour_3\n",
      "Classifier trained for option HUD VL_Hour_4\n",
      "Classifier trained for option HUD VL_Hour_5\n",
      "Classifier trained for option HUD VL_Hour_6\n",
      "Classifier trained for option HUD VL_Hour_7\n",
      "Classifier trained for option HUD VL_Hour_8\n",
      "Classifier trained for option HUD VL_Hour_9\n",
      "Classifier trained for option HUD VL_Hour_10\n",
      "Classifier trained for option HUD VL_Hour_11\n",
      "Classifier trained for option HUD VL_Hour_12\n",
      "Classifier trained for option HUD VL_Hour_13\n",
      "Classifier trained for option HUD VL_Hour_14\n",
      "Classifier trained for option HUD VL_Hour_15\n",
      "Classifier trained for option HUD VL_Hour_16\n",
      "Classifier trained for option HUD VL_Hour_17\n",
      "Classifier trained for option HUD VL_Hour_18\n",
      "Classifier trained for option HUD VL_Hour_19\n",
      "Classifier trained for option HUD VL_Hour_20\n",
      "Classifier trained for option HUD VL_Hour_21\n",
      "Classifier trained for option HUD VL_Hour_22\n",
      "Classifier trained for option HUD VL_Hour_23\n",
      "Classifier trained for option LONGIL_Hour_0\n",
      "Classifier trained for option LONGIL_Hour_1\n",
      "Classifier trained for option LONGIL_Hour_2\n",
      "Classifier trained for option LONGIL_Hour_3\n",
      "Classifier trained for option LONGIL_Hour_4\n",
      "Classifier trained for option LONGIL_Hour_5\n",
      "Classifier trained for option LONGIL_Hour_6\n",
      "Classifier trained for option LONGIL_Hour_7\n",
      "Classifier trained for option LONGIL_Hour_8\n",
      "Classifier trained for option LONGIL_Hour_9\n",
      "Classifier trained for option LONGIL_Hour_10\n",
      "Classifier trained for option LONGIL_Hour_11\n",
      "Classifier trained for option LONGIL_Hour_12\n",
      "Classifier trained for option LONGIL_Hour_13\n",
      "Classifier trained for option LONGIL_Hour_14\n",
      "Classifier trained for option LONGIL_Hour_15\n",
      "Classifier trained for option LONGIL_Hour_16\n",
      "Classifier trained for option LONGIL_Hour_17\n",
      "Classifier trained for option LONGIL_Hour_18\n",
      "Classifier trained for option LONGIL_Hour_19\n",
      "Classifier trained for option LONGIL_Hour_20\n",
      "Classifier trained for option LONGIL_Hour_21\n",
      "Classifier trained for option LONGIL_Hour_22\n",
      "Classifier trained for option LONGIL_Hour_23\n",
      "Classifier trained for option MHK VL_Hour_0\n",
      "Classifier trained for option MHK VL_Hour_1\n",
      "Classifier trained for option MHK VL_Hour_2\n",
      "Classifier trained for option MHK VL_Hour_3\n",
      "Classifier trained for option MHK VL_Hour_4\n",
      "Classifier trained for option MHK VL_Hour_5\n",
      "Classifier trained for option MHK VL_Hour_6\n",
      "Classifier trained for option MHK VL_Hour_7\n",
      "Classifier trained for option MHK VL_Hour_8\n",
      "Classifier trained for option MHK VL_Hour_9\n",
      "Classifier trained for option MHK VL_Hour_10\n",
      "Classifier trained for option MHK VL_Hour_11\n",
      "Classifier trained for option MHK VL_Hour_12\n",
      "Classifier trained for option MHK VL_Hour_13\n",
      "Classifier trained for option MHK VL_Hour_14\n",
      "Classifier trained for option MHK VL_Hour_15\n",
      "Classifier trained for option MHK VL_Hour_16\n",
      "Classifier trained for option MHK VL_Hour_17\n",
      "Classifier trained for option MHK VL_Hour_18\n",
      "Classifier trained for option MHK VL_Hour_19\n",
      "Classifier trained for option MHK VL_Hour_20\n",
      "Classifier trained for option MHK VL_Hour_21\n",
      "Classifier trained for option MHK VL_Hour_22\n",
      "Classifier trained for option MHK VL_Hour_23\n",
      "Classifier trained for option MILLWD_Hour_0\n",
      "Classifier trained for option MILLWD_Hour_1\n",
      "Classifier trained for option MILLWD_Hour_2\n",
      "Classifier trained for option MILLWD_Hour_3\n",
      "Classifier trained for option MILLWD_Hour_4\n",
      "Classifier trained for option MILLWD_Hour_5\n",
      "Classifier trained for option MILLWD_Hour_6\n",
      "Classifier trained for option MILLWD_Hour_7\n",
      "Classifier trained for option MILLWD_Hour_8\n",
      "Classifier trained for option MILLWD_Hour_9\n",
      "Classifier trained for option MILLWD_Hour_10\n",
      "Classifier trained for option MILLWD_Hour_11\n",
      "Classifier trained for option MILLWD_Hour_12\n",
      "Classifier trained for option MILLWD_Hour_13\n",
      "Classifier trained for option MILLWD_Hour_14\n"
     ]
    },
    {
     "name": "stdout",
     "output_type": "stream",
     "text": [
      "Classifier trained for option MILLWD_Hour_15\n",
      "Classifier trained for option MILLWD_Hour_16\n",
      "Classifier trained for option MILLWD_Hour_17\n",
      "Classifier trained for option MILLWD_Hour_18\n",
      "Classifier trained for option MILLWD_Hour_19\n",
      "Classifier trained for option MILLWD_Hour_20\n",
      "Classifier trained for option MILLWD_Hour_21\n",
      "Classifier trained for option MILLWD_Hour_22\n",
      "Classifier trained for option MILLWD_Hour_23\n",
      "Classifier trained for option N.Y.C._Hour_0\n",
      "Classifier trained for option N.Y.C._Hour_1\n",
      "Classifier trained for option N.Y.C._Hour_2\n",
      "Classifier trained for option N.Y.C._Hour_3\n",
      "Classifier trained for option N.Y.C._Hour_4\n",
      "Classifier trained for option N.Y.C._Hour_5\n",
      "Classifier trained for option N.Y.C._Hour_6\n",
      "Classifier trained for option N.Y.C._Hour_7\n",
      "Classifier trained for option N.Y.C._Hour_8\n",
      "Classifier trained for option N.Y.C._Hour_9\n",
      "Classifier trained for option N.Y.C._Hour_10\n",
      "Classifier trained for option N.Y.C._Hour_11\n",
      "Classifier trained for option N.Y.C._Hour_12\n",
      "Classifier trained for option N.Y.C._Hour_13\n",
      "Classifier trained for option N.Y.C._Hour_14\n",
      "Classifier trained for option N.Y.C._Hour_15\n",
      "Classifier trained for option N.Y.C._Hour_16\n",
      "Classifier trained for option N.Y.C._Hour_17\n",
      "Classifier trained for option N.Y.C._Hour_18\n",
      "Classifier trained for option N.Y.C._Hour_19\n",
      "Classifier trained for option N.Y.C._Hour_20\n",
      "Classifier trained for option N.Y.C._Hour_21\n",
      "Classifier trained for option N.Y.C._Hour_22\n",
      "Classifier trained for option N.Y.C._Hour_23\n",
      "Classifier trained for option NORTH_Hour_0\n",
      "Classifier trained for option NORTH_Hour_1\n",
      "Classifier trained for option NORTH_Hour_2\n",
      "Classifier trained for option NORTH_Hour_3\n",
      "Classifier trained for option NORTH_Hour_4\n",
      "Classifier trained for option NORTH_Hour_5\n",
      "Classifier trained for option NORTH_Hour_6\n",
      "Classifier trained for option NORTH_Hour_7\n",
      "Classifier trained for option NORTH_Hour_8\n",
      "Classifier trained for option NORTH_Hour_9\n",
      "Classifier trained for option NORTH_Hour_10\n",
      "Classifier trained for option NORTH_Hour_11\n",
      "Classifier trained for option NORTH_Hour_12\n",
      "Classifier trained for option NORTH_Hour_13\n",
      "Classifier trained for option NORTH_Hour_14\n",
      "Classifier trained for option NORTH_Hour_15\n",
      "Classifier trained for option NORTH_Hour_16\n",
      "Classifier trained for option NORTH_Hour_17\n",
      "Classifier trained for option NORTH_Hour_18\n",
      "Classifier trained for option NORTH_Hour_19\n",
      "Classifier trained for option NORTH_Hour_20\n",
      "Classifier trained for option NORTH_Hour_21\n",
      "Classifier trained for option NORTH_Hour_22\n",
      "Classifier trained for option NORTH_Hour_23\n",
      "Classifier trained for option WEST_Hour_0\n",
      "Classifier trained for option WEST_Hour_1\n",
      "Classifier trained for option WEST_Hour_2\n",
      "Classifier trained for option WEST_Hour_3\n",
      "Classifier trained for option WEST_Hour_4\n",
      "Classifier trained for option WEST_Hour_5\n",
      "Classifier trained for option WEST_Hour_6\n",
      "Classifier trained for option WEST_Hour_7\n",
      "Classifier trained for option WEST_Hour_8\n",
      "Classifier trained for option WEST_Hour_9\n",
      "Classifier trained for option WEST_Hour_10\n",
      "Classifier trained for option WEST_Hour_11\n",
      "Classifier trained for option WEST_Hour_12\n",
      "Classifier trained for option WEST_Hour_13\n",
      "Classifier trained for option WEST_Hour_14\n",
      "Classifier trained for option WEST_Hour_15\n",
      "Classifier trained for option WEST_Hour_16\n",
      "Classifier trained for option WEST_Hour_17\n",
      "Classifier trained for option WEST_Hour_18\n",
      "Classifier trained for option WEST_Hour_19\n",
      "Classifier trained for option WEST_Hour_20\n",
      "Classifier trained for option WEST_Hour_21\n",
      "Classifier trained for option WEST_Hour_22\n",
      "Classifier trained for option WEST_Hour_23\n",
      "\n",
      "Overall training accuracy = 100.00 percent.\n"
     ]
    }
   ],
   "source": [
    "classifiers = []\n",
    "\n",
    "# We have two options here. Use previous training experience, or learn anew.\n",
    "useSavedClassifiers = False\n",
    "\n",
    "if not useSavedClassifiers:\n",
    "\n",
    "    print(\"Starting training module...\\n\")\n",
    "    trainPriceDA, trainPriceDART, trainLoadDA = loadNYISOData(2015)\n",
    "\n",
    "    numberOfDays =  int(len(trainPriceDA.index))\n",
    "    print(\"Loaded hourly prices from 2015 for %d days.\" % numberOfDays)\n",
    "\n",
    "    # We will implement a trading strategy, where we bid a particular quantile of the past\n",
    "    # DA prices for an option. If you do not know what a quantile means, refer to the Wikipedia\n",
    "    # article on it. Essentially, a 95% quantile of the DA prices equals that value for which\n",
    "    # 95% of the DA prices are below it. Store all quantiles starting from 50% in steps of\n",
    "    # 5% in a dictionary. Store them in a pickle file.\n",
    "\n",
    "    quantilesToStore = [0.70, 0.75, 0.80, 0.85, 0.90, 0.95]\n",
    "    offerPrices = trainPriceDA.quantile(q=quantilesToStore).transpose().to_dict()\n",
    "    pickle.dump(offerPrices, open(\"./Training/OfferPrices\", 'wb'))\n",
    "\n",
    "    # Calculate the average price spread for each option over the entire year. This will guide\n",
    "    # us in choosing our portfolio. Store it as a dictionary. Our bid will choose those\n",
    "    # options that our classifier indicates that they will be profitable and historically they\n",
    "    # have higher average price differences, indicating that they have higher rate of return.\n",
    "    # Store them using pickle.\n",
    "\n",
    "    averagePriceSpread = trainPriceDART.mean(axis=0).transpose().to_dict()\n",
    "    pickle.dump(averagePriceSpread, open(\"./Training/AveragePriceSpread\", 'wb'))\n",
    "\n",
    "    # Create the training dataset using the function 'createClassifierIO' on the prices and\n",
    "    # loads, and store them in 'trainX', and 'trainY'.\n",
    "\n",
    "    trainX, trainY, _ = createClassifierIO(trainPriceDA, trainPriceDART, trainLoadDA)\n",
    "\n",
    "    # Define a collection of classifiers, one for each option. You can try different options, such\n",
    "    # as that based on an SVM, logistic regression, multilayer perceptron based, etc. We will\n",
    "    # measure training accuracy to indicate how well the classifier works on the training dataset.\n",
    "    # However, good training accuracy does not always indicate good test performance.\n",
    "    # Avoid over-fitting.\n",
    "\n",
    "\n",
    "    classifiers = [MLPClassifier(hidden_layer_sizes=(40, 20), max_iter=300)\n",
    "                   for _ in range(nOptions)]\n",
    "\n",
    "    trainingAccuracy = 0\n",
    "\n",
    "    for ii in range(nOptions):\n",
    "        classifiers[ii].fit(trainX, trainY[:, ii])\n",
    "        print(\"Classifier trained for option \" + optionNames[ii])\n",
    "        trainingAccuracy += classifiers[ii].score(trainX, trainY[:, ii])\n",
    "\n",
    "        # Store the classifier.\n",
    "        pickle.dump(classifiers[ii], open(\"./Training/Classifier_\" + optionNames[ii], 'wb'))\n",
    "\n",
    "    print(\"\\nOverall training accuracy = %1.2f percent.\" % (100 * trainingAccuracy/nOptions))\n",
    "\n",
    "    del numberOfDays, trainPriceDA, trainLoadDA, trainPriceDART, trainX, trainY\n",
    "else:\n",
    "\n",
    "    # Load the classifiers, the offer prices at various quantiles, and the average price spreads.\n",
    "\n",
    "    print(\"Loading previously trained variables...\\n\")\n",
    "    classifiers = [pickle.load(open(\"./Training/Classifier_\" + optionNames[ii], 'rb'))\n",
    "                   for ii in range(nOptions)]\n",
    "    offerPrices = pickle.load(open(\"./Training/OfferPrices\", 'rb'))\n",
    "    averagePriceSpread = pickle.load(open(\"./Training/AveragePriceSpread\", 'rb'))\n",
    "\n",
    "    print(\"All training variables were loaded successfully...\\n\")"
   ]
  },
  {
   "cell_type": "code",
   "execution_count": 61,
   "metadata": {},
   "outputs": [
    {
     "name": "stdout",
     "output_type": "stream",
     "text": [
      "Starting the testing module...\n",
      "\n",
      "Test Accuracy Stats: Min = 47.38%, Avg = 59.63%, Max = 70.80%\n"
     ]
    }
   ],
   "source": [
    "# First, load the test data from NYISO for the year 2016. Again, utilize our function\n",
    "# named 'loadNYISOData'.\n",
    "\n",
    "print(\"Starting the testing module...\\n\")\n",
    "testPriceDA, testPriceDART, testLoadDA = loadNYISOData(2016)\n",
    "\n",
    "# Create the data for the classifier using the function 'createClassifierIO'.\n",
    "testX, testY, rangeOfDays = createClassifierIO(testPriceDA, testPriceDART, testLoadDA)\n",
    "\n",
    "# The next step is not useful for implementing the trading strategy, but quickly check how accurate\n",
    "# your trained classifiers are for the test data. Training accuracy is not always indicative of\n",
    "# test accuracy.\n",
    "\n",
    "testingAccuracy = [classifiers[ii].score(testX, testY[:, ii]) for ii in range(nOptions)]\n",
    "print(\"Test Accuracy Stats: Min = %.2f%%, Avg = %.2f%%, Max = %.2f%%\" %\n",
    "      (100 * np.min(testingAccuracy),\n",
    "       100 * np.mean(testingAccuracy),\n",
    "       100 * np.max(testingAccuracy)))\n",
    "\n",
    "# Utilize the classifiers to predict the sign of DA - RT prices for each day in 'rangeOfDays' for\n",
    "# the test data. Store the result in a pandas data frame with columns as the option names and the\n",
    "# day in year as index.\n",
    "predictedY = pd.DataFrame(np.column_stack([classifiers[ii].predict(testX) for ii in range(nOptions)]),\n",
    "                          columns=optionNames, index=rangeOfDays)"
   ]
  },
  {
   "cell_type": "code",
   "execution_count": 62,
   "metadata": {},
   "outputs": [
    {
     "name": "stdout",
     "output_type": "stream",
     "text": [
      "Day 3: Reward (in $) = -67,642\n",
      "Day 4: Reward (in $) = 1,296,088\n",
      "Day 5: Reward (in $) = 58,248\n",
      "Day 6: Reward (in $) = -19,891\n",
      "Day 7: Reward (in $) = -4,183\n",
      "Day 8: Reward (in $) = 32,022\n",
      "Day 9: Reward (in $) = -42,820\n",
      "Day 10: Reward (in $) = -120,605\n",
      "Day 11: Reward (in $) = -38,585\n",
      "Day 12: Reward (in $) = -19,766\n",
      "Day 13: Reward (in $) = -14,818\n",
      "Day 14: Reward (in $) = -22,586\n",
      "Day 15: Reward (in $) = 10,781\n",
      "Day 16: Reward (in $) = 29,843\n",
      "Day 17: Reward (in $) = -76,047\n",
      "Day 18: Reward (in $) = -37,590\n",
      "Day 19: Reward (in $) = 35,637\n",
      "Day 20: Reward (in $) = 8,628\n",
      "Day 21: Reward (in $) = 47,122\n",
      "Day 22: Reward (in $) = 95,669\n",
      "Day 23: Reward (in $) = 32,979\n",
      "Day 24: Reward (in $) = -94,371\n",
      "Day 25: Reward (in $) = -99,973\n",
      "Day 26: Reward (in $) = -26,411\n",
      "Day 27: Reward (in $) = -11,177\n",
      "Day 28: Reward (in $) = -18,002\n",
      "Day 29: Reward (in $) = -31,653\n",
      "Day 30: Reward (in $) = -77,141\n",
      "Day 31: Reward (in $) = -47,192\n",
      "Day 32: Reward (in $) = -9,567\n",
      "Day 33: Reward (in $) = -105,190\n",
      "Day 34: Reward (in $) = -25,949\n",
      "Day 35: Reward (in $) = 62,474\n",
      "Day 36: Reward (in $) = -37,988\n",
      "Day 37: Reward (in $) = -41,821\n",
      "Day 38: Reward (in $) = 44,585\n",
      "Day 39: Reward (in $) = 24,299\n",
      "Day 40: Reward (in $) = -34,691\n",
      "Day 41: Reward (in $) = -37,386\n",
      "Day 42: Reward (in $) = -16,809\n",
      "Day 43: Reward (in $) = -61,977\n",
      "Day 44: Reward (in $) = -23,032\n",
      "Day 45: Reward (in $) = 90,635\n",
      "Day 46: Reward (in $) = 92,432\n",
      "Day 47: Reward (in $) = 66,300\n",
      "Day 48: Reward (in $) = -66,306\n",
      "Day 49: Reward (in $) = -65,186\n",
      "Day 50: Reward (in $) = -60,287\n",
      "Day 51: Reward (in $) = 16,001\n",
      "Day 52: Reward (in $) = -23,026\n",
      "Day 53: Reward (in $) = -13,262\n",
      "Day 54: Reward (in $) = 7,539\n",
      "Day 55: Reward (in $) = 64,713\n",
      "Day 56: Reward (in $) = -43,619\n",
      "Day 57: Reward (in $) = -31,650\n",
      "Day 58: Reward (in $) = -21,103\n",
      "Day 59: Reward (in $) = -14,571\n",
      "Day 60: Reward (in $) = -36,604\n",
      "Day 61: Reward (in $) = -57,898\n",
      "Day 62: Reward (in $) = -5,484\n",
      "Day 63: Reward (in $) = 4,480\n",
      "Day 64: Reward (in $) = -8,427\n",
      "Day 65: Reward (in $) = 22,748\n",
      "Day 66: Reward (in $) = 161,482\n",
      "Day 67: Reward (in $) = -7,434\n",
      "Day 68: Reward (in $) = -55,489\n",
      "Day 69: Reward (in $) = -53,706\n",
      "Day 70: Reward (in $) = 61,001\n",
      "Day 71: Reward (in $) = -9,877\n",
      "Day 72: Reward (in $) = -27,978\n",
      "Day 73: Reward (in $) = -125,618\n",
      "Day 74: Reward (in $) = 880,087\n",
      "Day 75: Reward (in $) = -27,487\n",
      "Day 76: Reward (in $) = -130,332\n",
      "Day 77: Reward (in $) = -73,593\n",
      "Day 78: Reward (in $) = -30,267\n",
      "Day 79: Reward (in $) = -30,293\n",
      "Day 80: Reward (in $) = -47,754\n",
      "Day 81: Reward (in $) = 139,052\n",
      "Day 82: Reward (in $) = 35,903\n",
      "Day 83: Reward (in $) = 15,272\n",
      "Day 84: Reward (in $) = -7,165\n",
      "Day 85: Reward (in $) = 75,119\n",
      "Day 86: Reward (in $) = -35,268\n",
      "Day 87: Reward (in $) = 3,397,665\n",
      "Day 88: Reward (in $) = 54,477\n",
      "Day 89: Reward (in $) = -60,810\n",
      "Day 90: Reward (in $) = -26,796\n",
      "Day 91: Reward (in $) = -45,773\n",
      "Day 92: Reward (in $) = -39,146\n",
      "Day 93: Reward (in $) = 16,540\n",
      "Day 94: Reward (in $) = 16,996\n",
      "Day 95: Reward (in $) = -8,309\n",
      "Day 96: Reward (in $) = 78,503\n",
      "Day 97: Reward (in $) = -12,661\n",
      "Day 98: Reward (in $) = 959\n",
      "Day 99: Reward (in $) = -13,380\n",
      "Day 100: Reward (in $) = 23,123\n",
      "Day 101: Reward (in $) = -2,524\n",
      "Day 102: Reward (in $) = 15,647\n",
      "Day 103: Reward (in $) = 17,161\n",
      "Day 104: Reward (in $) = -17,051\n",
      "Day 105: Reward (in $) = -23,890\n",
      "Day 106: Reward (in $) = 20,693\n",
      "Day 107: Reward (in $) = -1,174\n",
      "Day 108: Reward (in $) = 31,742\n",
      "Day 109: Reward (in $) = 1,223\n",
      "Day 110: Reward (in $) = -34,878\n",
      "Day 111: Reward (in $) = 39,646\n",
      "Day 112: Reward (in $) = 190,039\n",
      "Day 113: Reward (in $) = -52,466\n",
      "Day 114: Reward (in $) = -56,807\n",
      "Day 115: Reward (in $) = -62,517\n",
      "Day 116: Reward (in $) = 1,046\n",
      "Day 117: Reward (in $) = -13,843\n",
      "Day 118: Reward (in $) = -5,133\n",
      "Day 119: Reward (in $) = -3,716\n",
      "Day 120: Reward (in $) = 1,144\n",
      "Day 121: Reward (in $) = 62,821\n",
      "Day 122: Reward (in $) = 884\n",
      "Day 123: Reward (in $) = -2,271\n",
      "Day 124: Reward (in $) = 100\n",
      "Day 125: Reward (in $) = -40,026\n",
      "Day 126: Reward (in $) = -80,607\n",
      "Day 127: Reward (in $) = -10,278\n",
      "Day 128: Reward (in $) = -58,363\n",
      "Day 129: Reward (in $) = -289,574\n",
      "Day 130: Reward (in $) = -25,561\n",
      "Day 131: Reward (in $) = 21,722\n",
      "Day 132: Reward (in $) = 202,392\n",
      "Day 133: Reward (in $) = 29,347\n",
      "Day 134: Reward (in $) = -56,774\n",
      "Day 135: Reward (in $) = -24,615\n",
      "Day 136: Reward (in $) = -48,498\n",
      "Day 137: Reward (in $) = -56,097\n",
      "Day 138: Reward (in $) = -94,574\n",
      "Day 139: Reward (in $) = 6,287\n",
      "Day 140: Reward (in $) = -66,672\n",
      "Day 141: Reward (in $) = 22,123\n",
      "Day 142: Reward (in $) = 33,650\n",
      "Day 143: Reward (in $) = -92,681\n",
      "Day 144: Reward (in $) = -66,215\n",
      "Day 145: Reward (in $) = -125,428\n",
      "Day 146: Reward (in $) = -15,080\n",
      "Day 147: Reward (in $) = 3,147\n",
      "Day 148: Reward (in $) = 247,760\n",
      "Day 149: Reward (in $) = 79,431\n",
      "Day 150: Reward (in $) = 56,286\n",
      "Day 151: Reward (in $) = 1,706,208\n",
      "Day 152: Reward (in $) = 434,416\n",
      "Day 153: Reward (in $) = 208,530\n",
      "Day 154: Reward (in $) = 36,530\n",
      "Day 155: Reward (in $) = -23,360\n",
      "Day 156: Reward (in $) = -42,831\n",
      "Day 157: Reward (in $) = -143,536\n",
      "Day 158: Reward (in $) = -14,552\n",
      "Day 159: Reward (in $) = -48,830\n",
      "Day 160: Reward (in $) = -137,578\n",
      "Day 161: Reward (in $) = 515\n",
      "Day 162: Reward (in $) = 187,018\n",
      "Day 163: Reward (in $) = 30,439\n",
      "Day 164: Reward (in $) = -74,830\n",
      "Day 165: Reward (in $) = 69,705\n",
      "Day 166: Reward (in $) = 6,930\n",
      "Day 167: Reward (in $) = 14,466\n",
      "Day 168: Reward (in $) = 2,131\n",
      "Day 169: Reward (in $) = 7,893\n",
      "Day 170: Reward (in $) = -55,824\n",
      "Day 171: Reward (in $) = -3,412\n",
      "Day 172: Reward (in $) = -3,323\n",
      "Day 173: Reward (in $) = -7,857\n",
      "Day 174: Reward (in $) = -12,337\n",
      "Day 175: Reward (in $) = 45,259\n",
      "Day 176: Reward (in $) = -17,221\n",
      "Day 177: Reward (in $) = -57,464\n",
      "Day 178: Reward (in $) = -3,807\n",
      "Day 179: Reward (in $) = -63,285\n",
      "Day 180: Reward (in $) = -27,518\n",
      "Day 181: Reward (in $) = -23,653\n",
      "Day 182: Reward (in $) = 2,069\n",
      "Day 183: Reward (in $) = -92,912\n",
      "Day 184: Reward (in $) = -76,202\n",
      "Day 185: Reward (in $) = -37,456\n",
      "Day 186: Reward (in $) = 88,267\n",
      "Day 187: Reward (in $) = 3,014\n",
      "Day 188: Reward (in $) = 23\n",
      "Day 189: Reward (in $) = 0\n",
      "Day 190: Reward (in $) = -107,270\n",
      "Day 191: Reward (in $) = -30,127\n",
      "Day 192: Reward (in $) = -27,371\n",
      "Day 193: Reward (in $) = -11,124\n",
      "Day 194: Reward (in $) = 633\n",
      "Day 195: Reward (in $) = 2,575\n",
      "Day 196: Reward (in $) = 9,305\n",
      "Day 197: Reward (in $) = 13,604\n",
      "Day 198: Reward (in $) = 14,156\n",
      "Day 199: Reward (in $) = 1,411\n",
      "Day 200: Reward (in $) = -161\n",
      "Day 201: Reward (in $) = -14,212\n",
      "Day 202: Reward (in $) = 412\n",
      "Day 203: Reward (in $) = 1,702\n",
      "Day 204: Reward (in $) = 387\n",
      "Day 205: Reward (in $) = -77,963\n",
      "Day 206: Reward (in $) = -121\n",
      "Day 207: Reward (in $) = -2,312\n",
      "Day 208: Reward (in $) = -722\n",
      "Day 209: Reward (in $) = 5,306\n",
      "Day 210: Reward (in $) = 7,351\n",
      "Day 211: Reward (in $) = 49,955\n",
      "Day 212: Reward (in $) = 110,881\n",
      "Day 213: Reward (in $) = -607\n",
      "Day 214: Reward (in $) = -3,470\n",
      "Day 215: Reward (in $) = -23,114\n",
      "Day 216: Reward (in $) = 287\n",
      "Day 217: Reward (in $) = 8,063\n",
      "Day 218: Reward (in $) = 23,888\n",
      "Day 219: Reward (in $) = -28,724\n",
      "Day 220: Reward (in $) = -1,237\n",
      "Day 221: Reward (in $) = -14,319\n",
      "Day 222: Reward (in $) = 15,043\n",
      "Day 223: Reward (in $) = 144\n",
      "Day 224: Reward (in $) = 0\n",
      "Day 225: Reward (in $) = 105\n",
      "Day 226: Reward (in $) = -4,138\n",
      "Day 227: Reward (in $) = -140\n",
      "Day 228: Reward (in $) = 610\n",
      "Day 229: Reward (in $) = 520\n",
      "Day 230: Reward (in $) = -607\n",
      "Day 231: Reward (in $) = 38\n",
      "Day 232: Reward (in $) = -51,999\n",
      "Day 233: Reward (in $) = -53,791\n",
      "Day 234: Reward (in $) = -109,617\n",
      "Day 235: Reward (in $) = -77,528\n",
      "Day 236: Reward (in $) = -33,341\n",
      "Day 237: Reward (in $) = 38,909\n",
      "Day 238: Reward (in $) = -3,341\n",
      "Day 239: Reward (in $) = -19,803\n",
      "Day 240: Reward (in $) = -13,144\n",
      "Day 241: Reward (in $) = -343\n",
      "Day 242: Reward (in $) = -102,295\n",
      "Day 243: Reward (in $) = -26,228\n",
      "Day 244: Reward (in $) = 295\n",
      "Day 245: Reward (in $) = -92,523\n",
      "Day 246: Reward (in $) = -54,015\n",
      "Day 247: Reward (in $) = -2,526\n",
      "Day 248: Reward (in $) = -37,711\n",
      "Day 249: Reward (in $) = -6,782\n",
      "Day 250: Reward (in $) = 570\n",
      "Day 251: Reward (in $) = -157\n",
      "Day 252: Reward (in $) = 314\n",
      "Day 253: Reward (in $) = 132,943\n",
      "Day 254: Reward (in $) = -14,999\n",
      "Day 255: Reward (in $) = -5,005\n",
      "Day 256: Reward (in $) = -3,357\n",
      "Day 257: Reward (in $) = -4,020\n",
      "Day 258: Reward (in $) = 463\n",
      "Day 259: Reward (in $) = -52,501\n",
      "Day 260: Reward (in $) = -36,417\n"
     ]
    },
    {
     "name": "stdout",
     "output_type": "stream",
     "text": [
      "Day 261: Reward (in $) = 25,637\n",
      "Day 262: Reward (in $) = 12,157\n",
      "Day 263: Reward (in $) = -33,185\n",
      "Day 264: Reward (in $) = -4,001\n",
      "Day 265: Reward (in $) = -4,262\n",
      "Day 266: Reward (in $) = -10,537\n",
      "Day 267: Reward (in $) = -19,027\n",
      "Day 268: Reward (in $) = -23,916\n",
      "Day 269: Reward (in $) = -93,422\n",
      "Day 270: Reward (in $) = -80,300\n",
      "Day 271: Reward (in $) = -61,188\n",
      "Day 272: Reward (in $) = -35,018\n",
      "Day 273: Reward (in $) = -50,417\n",
      "Day 274: Reward (in $) = 14,055\n",
      "Day 275: Reward (in $) = 31,941\n",
      "Day 276: Reward (in $) = 5,650\n",
      "Day 277: Reward (in $) = 68,605\n",
      "Day 278: Reward (in $) = 155,111\n",
      "Day 279: Reward (in $) = 8,284\n",
      "Day 280: Reward (in $) = 16,845\n",
      "Day 281: Reward (in $) = -13,693\n",
      "Day 282: Reward (in $) = 1,351\n",
      "Day 283: Reward (in $) = -7,364\n",
      "Day 284: Reward (in $) = 27,460\n",
      "Day 285: Reward (in $) = -69,664\n",
      "Day 286: Reward (in $) = -62,155\n",
      "Day 287: Reward (in $) = -55,178\n",
      "Day 288: Reward (in $) = 14,273\n",
      "Day 289: Reward (in $) = 20,095\n",
      "Day 290: Reward (in $) = 6,774\n",
      "Day 291: Reward (in $) = -12,709\n",
      "Day 292: Reward (in $) = -1,491\n",
      "Day 293: Reward (in $) = 41,883\n",
      "Day 294: Reward (in $) = -36,773\n",
      "Day 295: Reward (in $) = -8,428\n",
      "Day 296: Reward (in $) = -40,202\n",
      "Day 297: Reward (in $) = -43,918\n",
      "Day 298: Reward (in $) = -29,397\n",
      "Day 299: Reward (in $) = -61,542\n",
      "Day 300: Reward (in $) = -33,174\n",
      "Day 301: Reward (in $) = -10,488\n",
      "Day 302: Reward (in $) = -19,720\n",
      "Day 303: Reward (in $) = 9,274\n",
      "Day 304: Reward (in $) = -26,025\n",
      "Day 305: Reward (in $) = -12,109\n",
      "Day 306: Reward (in $) = -18,270\n",
      "Day 307: Reward (in $) = 4,134\n",
      "Day 308: Reward (in $) = -44,576\n",
      "Day 309: Reward (in $) = -20,832\n",
      "Day 310: Reward (in $) = -4,711\n",
      "Day 311: Reward (in $) = -32,423\n",
      "Day 312: Reward (in $) = 157,577\n",
      "Day 313: Reward (in $) = -1,780\n",
      "Day 314: Reward (in $) = -23,912\n",
      "Day 315: Reward (in $) = -62,329\n",
      "Day 316: Reward (in $) = -5,551\n",
      "Day 317: Reward (in $) = -38,389\n",
      "Day 318: Reward (in $) = -10,980\n",
      "Day 319: Reward (in $) = 2,919\n",
      "Day 320: Reward (in $) = 19,606\n",
      "Day 321: Reward (in $) = 12,427\n",
      "Day 322: Reward (in $) = -5,231\n",
      "Day 323: Reward (in $) = 9,334\n",
      "Day 324: Reward (in $) = 19,179\n",
      "Day 325: Reward (in $) = -30,525\n",
      "Day 326: Reward (in $) = -5,833\n",
      "Day 327: Reward (in $) = 31,309\n",
      "Day 328: Reward (in $) = 114,206\n",
      "Day 329: Reward (in $) = 46,437\n",
      "Day 330: Reward (in $) = 3,599\n",
      "Day 331: Reward (in $) = -12,894\n",
      "Day 332: Reward (in $) = -59,227\n",
      "Day 333: Reward (in $) = -85,378\n",
      "Day 334: Reward (in $) = -21,650\n",
      "Day 335: Reward (in $) = -25,534\n",
      "Day 336: Reward (in $) = -26,851\n",
      "Day 337: Reward (in $) = 11,349\n",
      "Day 338: Reward (in $) = -10,243\n",
      "Day 339: Reward (in $) = -9,732\n",
      "Day 340: Reward (in $) = -1,413\n",
      "Day 341: Reward (in $) = -55,127\n",
      "Day 342: Reward (in $) = -105,534\n",
      "Day 343: Reward (in $) = -14,884\n",
      "Day 344: Reward (in $) = 85,431\n",
      "Day 345: Reward (in $) = 88,998\n",
      "Day 346: Reward (in $) = -6,566\n",
      "Day 347: Reward (in $) = 27,448\n",
      "Day 348: Reward (in $) = -30,469\n",
      "Day 349: Reward (in $) = 68,912\n",
      "Day 350: Reward (in $) = 3\n",
      "Day 351: Reward (in $) = 156,443\n",
      "Day 352: Reward (in $) = 12,659\n",
      "Day 353: Reward (in $) = -10,489\n",
      "Day 354: Reward (in $) = -49,858\n",
      "Day 355: Reward (in $) = -91,490\n",
      "Day 356: Reward (in $) = 1,514\n",
      "Day 357: Reward (in $) = -95,342\n",
      "Day 358: Reward (in $) = -8,509\n",
      "Day 359: Reward (in $) = -16,770\n",
      "Day 360: Reward (in $) = -53,735\n",
      "Day 361: Reward (in $) = -92,795\n",
      "Day 362: Reward (in $) = 19,913\n",
      "Day 363: Reward (in $) = 303,480\n",
      "Day 364: Reward (in $) = 565\n",
      "Day 365: Reward (in $) = -29,834\n",
      "Total money earned over the year (in $) = 4,819,133\n"
     ]
    }
   ],
   "source": [
    "dailyBudget = 250000\n",
    "quantileOffer =0.7\n",
    "\n",
    "# Keep track of your rewards in each day, a cumulative reward over the year, and a total reward over the\n",
    "# year. Also, keep track of the total reward from each option. Store them as dictionaries that are\n",
    "# indexed by day of the year.\n",
    "reward = {}\n",
    "cumulativeReward = {}\n",
    "totalReward = 0\n",
    "optionReturn = dict((option, 0) for option in optionNames)\n",
    "\n",
    "# Implement the trading strategy on each day!\n",
    "\n",
    "for day in rangeOfDays:\n",
    "\n",
    "    reward[day] = 0\n",
    "\n",
    "    # Find the options that your classifier says that should be profitable. Store the profitable option\n",
    "    # names in chosenOptions.\n",
    "    chosenOptionNumbers = np.ravel(list(np.nonzero(predictedY.loc[day].values)))\n",
    "    if np.size(chosenOptionNumbers) == 0:\n",
    "        continue\n",
    "    chosenOptions = [optionNames[i] for i in chosenOptionNumbers]\n",
    "\n",
    "    # Design the portfolio based on average price spreads. Our strategy is that as long as you have not\n",
    "    # exceeded your daily budget, pick an option from the list of 'chosenOptions' probabilistically, where\n",
    "    # the probability of choosing it is proportional to exponential(historical rewards of that option). That\n",
    "    # is, a historically profitable option is chosen more often than one that is not. Keep sampling and\n",
    "    # decreasing your budget with each bid.\n",
    "\n",
    "    # Start with an empty portfolio.\n",
    "\n",
    "    portfolio = dict((option, 0) for option in chosenOptions)\n",
    "\n",
    "    # Calculate the probabilities of choosing each option among the list 'chosenOptions'. Recall that\n",
    "    # 'chosenOptions' contains the options that your classifier indicates as being profitable.\n",
    "    priceSpreads = [1.0 * averagePriceSpread[option] for option in chosenOptions]\n",
    "    probabilityOptions = [np.exp(p) for p in priceSpreads]\n",
    "    probabilityOptions /= np.sum(probabilityOptions)\n",
    "\n",
    "    # Start with your daily budget.\n",
    "    budget = dailyBudget\n",
    "\n",
    "    # Sampling among the profitable options and bid based on them.\n",
    "    while budget > np.median([offerPrices[quantileOffer][option] for option in chosenOptions]):\n",
    "\n",
    "        optionToBuy = choice(chosenOptions, p=probabilityOptions)\n",
    "\n",
    "        if budget >= offerPrices[quantileOffer][optionToBuy]:\n",
    "            portfolio[optionToBuy] += 1\n",
    "            budget -= offerPrices[quantileOffer][optionToBuy]\n",
    "\n",
    "    # Compute the reward from the day. Go through each of the options you have decided to buy.\n",
    "    # If the DA price is lower than the bid price, then your bid is cleared. For each option you\n",
    "    # have bought, you get a reward equal to the DA - RT price.\n",
    "\n",
    "    for option in chosenOptions:\n",
    "        if testPriceDA.at[day, option] < offerPrices[quantileOffer][option]:\n",
    "            rewardOptionDay = testPriceDART.at[day, option] * portfolio[option]\n",
    "            optionReturn[option] += rewardOptionDay\n",
    "            reward[day] += rewardOptionDay\n",
    "\n",
    "    totalReward += reward[day]\n",
    "\n",
    "    # Calculate the cumulative reward in millions of dollars.\n",
    "    cumulativeReward[day] = totalReward/1000000\n",
    "\n",
    "    print(\"Day \" + str(day) + \": Reward (in $) = \" + \"{0:,.0f}\".format(reward[day]))\n",
    "\n",
    "print(\"Total money earned over the year (in $) = \" + \"{0:,.0f}\".format(totalReward))"
   ]
  },
  {
   "cell_type": "markdown",
   "metadata": {},
   "source": [
    "#### Answer:\n",
    "I tried to increase the number of network layers"
   ]
  },
  {
   "cell_type": "markdown",
   "metadata": {},
   "source": [
    "### Task 7: Implement a different trading strategy (25 points, bonus) \n",
    "\n",
    "Implement a different trading strategy, explain it and report its outcomes. If the rewards are comparable to the one discussed in class, and you can clearly explain the logic behind you strategy, you get additional 25 points. If your strategy leads to having profits among the top 20, then you automatically completed Task 6 too! \n",
    "\n",
    "#### (comments here, add a new code cell below)"
   ]
  },
  {
   "cell_type": "code",
   "execution_count": null,
   "metadata": {},
   "outputs": [],
   "source": []
  }
 ],
 "metadata": {
  "kernelspec": {
   "display_name": "Python 3",
   "language": "python",
   "name": "python3"
  },
  "language_info": {
   "codemirror_mode": {
    "name": "ipython",
    "version": 3
   },
   "file_extension": ".py",
   "mimetype": "text/x-python",
   "name": "python",
   "nbconvert_exporter": "python",
   "pygments_lexer": "ipython3",
   "version": "3.7.1"
  }
 },
 "nbformat": 4,
 "nbformat_minor": 2
}
